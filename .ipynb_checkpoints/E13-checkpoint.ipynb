{
 "cells": [
  {
   "cell_type": "markdown",
   "metadata": {},
   "source": [
    "## E13 - Face2Emoji 모바일 웹앱 만들기"
   ]
  },
  {
   "cell_type": "code",
   "execution_count": 1,
   "metadata": {},
   "outputs": [
    {
     "name": "stderr",
     "output_type": "stream",
     "text": [
      "100%|██████████| 35887/35887 [00:23<00:00, 1507.41it/s]"
     ]
    },
    {
     "name": "stdout",
     "output_type": "stream",
     "text": [
      "train : 32298, eval :3589\n"
     ]
    },
    {
     "name": "stderr",
     "output_type": "stream",
     "text": [
      "\n"
     ]
    }
   ],
   "source": [
    "import numpy as np\n",
    "import tqdm\n",
    "import os\n",
    "\n",
    "train_x = []\n",
    "train_y = []\n",
    "eval_x = []\n",
    "eval_y = []\n",
    "\n",
    "csv_path = os.getenv('HOME')+'/aiffel/tfjs_mobile/data/fer2013.csv'\n",
    "\n",
    "# training, publictest, privatetest(80%, 10%, 10%)\n",
    "# privatetest만 evaluation데이터로 사용, 나머지는 학습데이터로 사용\n",
    "# X: 얼굴 흑백 픽셀값(pixels), y: 감정 번호(emotion)\n",
    "with open(csv_path) as f:\n",
    "    for line in tqdm.tqdm(f.read().splitlines()[1:]):\n",
    "        emotion, pixels, usage = line.split(',')\n",
    "    \n",
    "        x = np.array(pixels.split(' ')).astype(float).reshape(48, 48, 1) / 255\n",
    "        y = int(emotion)\n",
    "\n",
    "        if usage == 'PrivateTest':\n",
    "            eval_x.append(x)\n",
    "            eval_y.append(y)\n",
    "        else:\n",
    "            train_x.append(x)\n",
    "            train_y.append(y)\n",
    "\n",
    "print('train : {}, eval :{}'.format(len(train_x), len(eval_x)))"
   ]
  },
  {
   "cell_type": "code",
   "execution_count": 2,
   "metadata": {},
   "outputs": [
    {
     "name": "stdout",
     "output_type": "stream",
     "text": [
      "Angry\n"
     ]
    },
    {
     "data": {
      "text/plain": [
       "<matplotlib.image.AxesImage at 0x7f5b054a3a90>"
      ]
     },
     "execution_count": 2,
     "metadata": {},
     "output_type": "execute_result"
    },
    {
     "data": {
      "image/png": "[encoded data removed]",
      "text/plain": [
       "<Figure size 432x288 with 1 Axes>"
      ]
     },
     "metadata": {
      "needs_background": "light"
     },
     "output_type": "display_data"
    }
   ],
   "source": [
    "# 데이터 분리 확인\n",
    "\n",
    "from matplotlib import pyplot as plt\n",
    "\n",
    "LABELS = ['Angry', 'Disgust', 'Fear', 'Happy', 'Sad', 'Surprise', 'Neutral']\n",
    "\n",
    "print(LABELS[train_y[0]])\n",
    "plt.imshow(train_x[0].reshape([48, 48]), cmap='gray')"
   ]
  },
  {
   "cell_type": "code",
   "execution_count": 3,
   "metadata": {
    "scrolled": true
   },
   "outputs": [
    {
     "name": "stdout",
     "output_type": "stream",
     "text": [
      "Epoch 1/100\n",
      "64/64 [==============================] - 69s 1s/step - loss: 1.8326 - categorical_accuracy: 0.2413 - val_loss: 1.9324 - val_categorical_accuracy: 0.2449\n",
      "Epoch 2/100\n",
      "64/64 [==============================] - 6s 89ms/step - loss: 1.7002 - categorical_accuracy: 0.3206 - val_loss: 1.9200 - val_categorical_accuracy: 0.2449\n",
      "Epoch 3/100\n",
      "64/64 [==============================] - 6s 89ms/step - loss: 1.5871 - categorical_accuracy: 0.3809 - val_loss: 1.9136 - val_categorical_accuracy: 0.2449\n",
      "Epoch 4/100\n",
      "64/64 [==============================] - 6s 90ms/step - loss: 1.4839 - categorical_accuracy: 0.4309 - val_loss: 1.9128 - val_categorical_accuracy: 0.1655\n",
      "Epoch 5/100\n",
      "64/64 [==============================] - 6s 90ms/step - loss: 1.4003 - categorical_accuracy: 0.4666 - val_loss: 1.9129 - val_categorical_accuracy: 0.1655\n",
      "Epoch 6/100\n",
      "64/64 [==============================] - 6s 90ms/step - loss: 1.3368 - categorical_accuracy: 0.4902 - val_loss: 1.9087 - val_categorical_accuracy: 0.1655\n",
      "Epoch 7/100\n",
      "64/64 [==============================] - 6s 90ms/step - loss: 1.2930 - categorical_accuracy: 0.5094 - val_loss: 1.9122 - val_categorical_accuracy: 0.1655\n",
      "Epoch 8/100\n",
      "64/64 [==============================] - 6s 90ms/step - loss: 1.2048 - categorical_accuracy: 0.5507 - val_loss: 1.9087 - val_categorical_accuracy: 0.1655\n",
      "Epoch 9/100\n",
      "64/64 [==============================] - 6s 90ms/step - loss: 1.1527 - categorical_accuracy: 0.5702 - val_loss: 1.9133 - val_categorical_accuracy: 0.1655\n",
      "Epoch 10/100\n",
      "64/64 [==============================] - 6s 90ms/step - loss: 1.0877 - categorical_accuracy: 0.5935 - val_loss: 1.9117 - val_categorical_accuracy: 0.1655\n",
      "Epoch 11/100\n",
      "64/64 [==============================] - 6s 90ms/step - loss: 1.0481 - categorical_accuracy: 0.6111 - val_loss: 1.9069 - val_categorical_accuracy: 0.1655\n",
      "Epoch 12/100\n",
      "64/64 [==============================] - 6s 90ms/step - loss: 0.9915 - categorical_accuracy: 0.6317 - val_loss: 1.9124 - val_categorical_accuracy: 0.1655\n",
      "Epoch 13/100\n",
      "64/64 [==============================] - 6s 91ms/step - loss: 0.9200 - categorical_accuracy: 0.6648 - val_loss: 1.9106 - val_categorical_accuracy: 0.1655\n",
      "Epoch 14/100\n",
      "64/64 [==============================] - 6s 90ms/step - loss: 0.8616 - categorical_accuracy: 0.6817 - val_loss: 1.9183 - val_categorical_accuracy: 0.1655\n",
      "Epoch 15/100\n",
      "64/64 [==============================] - 6s 91ms/step - loss: 0.8488 - categorical_accuracy: 0.6887 - val_loss: 1.9248 - val_categorical_accuracy: 0.1655\n",
      "Epoch 16/100\n",
      "64/64 [==============================] - 6s 90ms/step - loss: 0.7573 - categorical_accuracy: 0.7236 - val_loss: 1.9292 - val_categorical_accuracy: 0.1655\n",
      "Epoch 17/100\n",
      "64/64 [==============================] - 6s 90ms/step - loss: 0.7521 - categorical_accuracy: 0.7261 - val_loss: 1.9307 - val_categorical_accuracy: 0.1655\n",
      "Epoch 18/100\n",
      "64/64 [==============================] - 6s 90ms/step - loss: 0.7039 - categorical_accuracy: 0.7430 - val_loss: 1.9233 - val_categorical_accuracy: 0.1655\n",
      "Epoch 19/100\n",
      "64/64 [==============================] - 6s 91ms/step - loss: 0.6427 - categorical_accuracy: 0.7658 - val_loss: 1.9562 - val_categorical_accuracy: 0.1655\n",
      "Epoch 20/100\n",
      "64/64 [==============================] - 6s 90ms/step - loss: 0.6236 - categorical_accuracy: 0.7732 - val_loss: 1.9561 - val_categorical_accuracy: 0.1655\n",
      "Epoch 21/100\n",
      "64/64 [==============================] - 6s 90ms/step - loss: 0.5820 - categorical_accuracy: 0.7919 - val_loss: 1.9657 - val_categorical_accuracy: 0.1655\n",
      "Epoch 22/100\n",
      "64/64 [==============================] - 6s 90ms/step - loss: 0.5665 - categorical_accuracy: 0.7955 - val_loss: 1.9817 - val_categorical_accuracy: 0.1655\n",
      "Epoch 23/100\n",
      "64/64 [==============================] - 6s 90ms/step - loss: 0.4766 - categorical_accuracy: 0.8263 - val_loss: 1.9944 - val_categorical_accuracy: 0.1655\n",
      "Epoch 24/100\n",
      "64/64 [==============================] - 6s 91ms/step - loss: 0.5039 - categorical_accuracy: 0.8204 - val_loss: 1.9903 - val_categorical_accuracy: 0.1655\n",
      "Epoch 25/100\n",
      "64/64 [==============================] - 6s 91ms/step - loss: 0.4446 - categorical_accuracy: 0.8404 - val_loss: 1.9862 - val_categorical_accuracy: 0.1655\n",
      "Epoch 26/100\n",
      "64/64 [==============================] - 6s 90ms/step - loss: 0.3793 - categorical_accuracy: 0.8653 - val_loss: 1.9982 - val_categorical_accuracy: 0.1655\n",
      "Epoch 27/100\n",
      "64/64 [==============================] - 6s 90ms/step - loss: 0.3607 - categorical_accuracy: 0.8708 - val_loss: 2.0167 - val_categorical_accuracy: 0.1655\n",
      "Epoch 28/100\n",
      "64/64 [==============================] - 6s 90ms/step - loss: 0.3421 - categorical_accuracy: 0.8772 - val_loss: 2.0255 - val_categorical_accuracy: 0.1655\n",
      "Epoch 29/100\n",
      "64/64 [==============================] - 6s 91ms/step - loss: 0.2990 - categorical_accuracy: 0.8946 - val_loss: 2.0266 - val_categorical_accuracy: 0.1655\n",
      "Epoch 30/100\n",
      "64/64 [==============================] - 6s 91ms/step - loss: 0.3184 - categorical_accuracy: 0.8871 - val_loss: 2.0153 - val_categorical_accuracy: 0.1655\n",
      "Epoch 31/100\n",
      "64/64 [==============================] - 6s 91ms/step - loss: 0.2624 - categorical_accuracy: 0.9080 - val_loss: 2.0575 - val_categorical_accuracy: 0.1655\n",
      "Epoch 32/100\n",
      "64/64 [==============================] - 6s 90ms/step - loss: 0.2679 - categorical_accuracy: 0.9057 - val_loss: 2.0430 - val_categorical_accuracy: 0.1655\n",
      "Epoch 33/100\n",
      "64/64 [==============================] - 6s 90ms/step - loss: 0.2616 - categorical_accuracy: 0.9078 - val_loss: 2.0529 - val_categorical_accuracy: 0.1655\n",
      "Epoch 34/100\n",
      "64/64 [==============================] - 6s 90ms/step - loss: 0.2550 - categorical_accuracy: 0.9111 - val_loss: 2.0642 - val_categorical_accuracy: 0.1655\n",
      "Epoch 35/100\n",
      "64/64 [==============================] - 6s 91ms/step - loss: 0.2058 - categorical_accuracy: 0.9279 - val_loss: 2.0887 - val_categorical_accuracy: 0.1655\n",
      "Epoch 36/100\n",
      "64/64 [==============================] - 6s 90ms/step - loss: 0.2620 - categorical_accuracy: 0.9080 - val_loss: 2.0910 - val_categorical_accuracy: 0.1655\n",
      "Epoch 37/100\n",
      "64/64 [==============================] - 6s 90ms/step - loss: 0.2736 - categorical_accuracy: 0.9046 - val_loss: 2.1082 - val_categorical_accuracy: 0.1655\n",
      "Epoch 38/100\n",
      "64/64 [==============================] - 6s 90ms/step - loss: 0.2211 - categorical_accuracy: 0.9233 - val_loss: 2.1215 - val_categorical_accuracy: 0.1655\n",
      "Epoch 39/100\n",
      "64/64 [==============================] - 6s 90ms/step - loss: 0.2269 - categorical_accuracy: 0.9200 - val_loss: 2.1016 - val_categorical_accuracy: 0.1655\n",
      "Epoch 40/100\n",
      "64/64 [==============================] - 6s 90ms/step - loss: 0.2297 - categorical_accuracy: 0.9193 - val_loss: 2.1292 - val_categorical_accuracy: 0.1655\n",
      "Epoch 41/100\n",
      "64/64 [==============================] - 6s 90ms/step - loss: 0.1476 - categorical_accuracy: 0.9482 - val_loss: 2.1649 - val_categorical_accuracy: 0.1655\n",
      "Epoch 42/100\n",
      "64/64 [==============================] - 6s 91ms/step - loss: 0.2105 - categorical_accuracy: 0.9273 - val_loss: 2.1355 - val_categorical_accuracy: 0.1655\n",
      "Epoch 43/100\n",
      "64/64 [==============================] - 6s 90ms/step - loss: 0.1816 - categorical_accuracy: 0.9383 - val_loss: 2.2000 - val_categorical_accuracy: 0.1655\n",
      "Epoch 44/100\n",
      "64/64 [==============================] - 6s 91ms/step - loss: 0.2247 - categorical_accuracy: 0.9225 - val_loss: 2.1428 - val_categorical_accuracy: 0.1655\n",
      "Epoch 45/100\n",
      "64/64 [==============================] - 6s 91ms/step - loss: 0.1259 - categorical_accuracy: 0.9573 - val_loss: 2.1975 - val_categorical_accuracy: 0.1655\n",
      "Epoch 46/100\n",
      "64/64 [==============================] - 6s 90ms/step - loss: 0.2483 - categorical_accuracy: 0.9139 - val_loss: 2.1861 - val_categorical_accuracy: 0.1655\n",
      "Epoch 47/100\n",
      "64/64 [==============================] - 6s 90ms/step - loss: 0.2767 - categorical_accuracy: 0.9012 - val_loss: 2.1475 - val_categorical_accuracy: 0.1655\n",
      "Epoch 48/100\n",
      "64/64 [==============================] - 6s 90ms/step - loss: 0.1352 - categorical_accuracy: 0.9528 - val_loss: 2.1626 - val_categorical_accuracy: 0.1655\n",
      "Epoch 49/100\n",
      "64/64 [==============================] - 6s 91ms/step - loss: 0.2550 - categorical_accuracy: 0.9099 - val_loss: 2.1899 - val_categorical_accuracy: 0.1655\n",
      "Epoch 50/100\n"
     ]
    },
    {
     "name": "stdout",
     "output_type": "stream",
     "text": [
      "64/64 [==============================] - 6s 90ms/step - loss: 0.1871 - categorical_accuracy: 0.9349 - val_loss: 2.2157 - val_categorical_accuracy: 0.1655\n",
      "Epoch 51/100\n",
      "64/64 [==============================] - 6s 90ms/step - loss: 0.1668 - categorical_accuracy: 0.9423 - val_loss: 2.2776 - val_categorical_accuracy: 0.1655\n",
      "Epoch 52/100\n",
      "64/64 [==============================] - 6s 90ms/step - loss: 0.1727 - categorical_accuracy: 0.9408 - val_loss: 2.1655 - val_categorical_accuracy: 0.1658\n",
      "Epoch 53/100\n",
      "64/64 [==============================] - 6s 90ms/step - loss: 0.1199 - categorical_accuracy: 0.9591 - val_loss: 2.2982 - val_categorical_accuracy: 0.1655\n",
      "Epoch 54/100\n",
      "64/64 [==============================] - 6s 90ms/step - loss: 0.1306 - categorical_accuracy: 0.9545 - val_loss: 2.3399 - val_categorical_accuracy: 0.1655\n",
      "Epoch 55/100\n",
      "64/64 [==============================] - 6s 90ms/step - loss: 0.1106 - categorical_accuracy: 0.9620 - val_loss: 2.3934 - val_categorical_accuracy: 0.1655\n",
      "Epoch 56/100\n",
      "64/64 [==============================] - 6s 91ms/step - loss: 0.1406 - categorical_accuracy: 0.9507 - val_loss: 2.2933 - val_categorical_accuracy: 0.1655\n",
      "Epoch 57/100\n",
      "64/64 [==============================] - 6s 91ms/step - loss: 0.0885 - categorical_accuracy: 0.9697 - val_loss: 2.5472 - val_categorical_accuracy: 0.1655\n",
      "Epoch 58/100\n",
      "64/64 [==============================] - 6s 89ms/step - loss: 0.1482 - categorical_accuracy: 0.9496 - val_loss: 2.3430 - val_categorical_accuracy: 0.1666\n",
      "Epoch 59/100\n",
      "64/64 [==============================] - 6s 87ms/step - loss: 0.1017 - categorical_accuracy: 0.9645 - val_loss: 2.4511 - val_categorical_accuracy: 0.1700\n",
      "Epoch 60/100\n",
      "64/64 [==============================] - 6s 87ms/step - loss: 0.1168 - categorical_accuracy: 0.9591 - val_loss: 2.3949 - val_categorical_accuracy: 0.1658\n",
      "Epoch 61/100\n",
      "64/64 [==============================] - 6s 88ms/step - loss: 0.1856 - categorical_accuracy: 0.9358 - val_loss: 2.3694 - val_categorical_accuracy: 0.2073\n",
      "Epoch 62/100\n",
      "64/64 [==============================] - 6s 87ms/step - loss: 0.2311 - categorical_accuracy: 0.9192 - val_loss: 2.4199 - val_categorical_accuracy: 0.2251\n",
      "Epoch 63/100\n",
      "64/64 [==============================] - 6s 88ms/step - loss: 0.1397 - categorical_accuracy: 0.9526 - val_loss: 2.4434 - val_categorical_accuracy: 0.2120\n",
      "Epoch 64/100\n",
      "64/64 [==============================] - 6s 87ms/step - loss: 0.1788 - categorical_accuracy: 0.9384 - val_loss: 2.4943 - val_categorical_accuracy: 0.2020\n",
      "Epoch 65/100\n",
      "64/64 [==============================] - 6s 88ms/step - loss: 0.0915 - categorical_accuracy: 0.9686 - val_loss: 2.5412 - val_categorical_accuracy: 0.2229\n",
      "Epoch 66/100\n",
      "64/64 [==============================] - 6s 87ms/step - loss: 0.0905 - categorical_accuracy: 0.9680 - val_loss: 2.5003 - val_categorical_accuracy: 0.2410\n",
      "Epoch 67/100\n",
      "64/64 [==============================] - 6s 87ms/step - loss: 0.1305 - categorical_accuracy: 0.9556 - val_loss: 2.5741 - val_categorical_accuracy: 0.2733\n",
      "Epoch 68/100\n",
      "64/64 [==============================] - 6s 88ms/step - loss: 0.1489 - categorical_accuracy: 0.9488 - val_loss: 2.5353 - val_categorical_accuracy: 0.3020\n",
      "Epoch 69/100\n",
      "64/64 [==============================] - 6s 88ms/step - loss: 0.0903 - categorical_accuracy: 0.9690 - val_loss: 2.6981 - val_categorical_accuracy: 0.2597\n",
      "Epoch 70/100\n",
      "64/64 [==============================] - 6s 88ms/step - loss: 0.0924 - categorical_accuracy: 0.9677 - val_loss: 2.8581 - val_categorical_accuracy: 0.2555\n",
      "Epoch 71/100\n",
      "64/64 [==============================] - 6s 88ms/step - loss: 0.0981 - categorical_accuracy: 0.9645 - val_loss: 2.6662 - val_categorical_accuracy: 0.3059\n",
      "Epoch 72/100\n",
      "64/64 [==============================] - 6s 87ms/step - loss: 0.1177 - categorical_accuracy: 0.9593 - val_loss: 3.0085 - val_categorical_accuracy: 0.2825\n",
      "Epoch 73/100\n",
      "64/64 [==============================] - 6s 87ms/step - loss: 0.1105 - categorical_accuracy: 0.9606 - val_loss: 2.8111 - val_categorical_accuracy: 0.3204\n",
      "Epoch 74/100\n",
      "64/64 [==============================] - 6s 88ms/step - loss: 0.1209 - categorical_accuracy: 0.9589 - val_loss: 2.9179 - val_categorical_accuracy: 0.3410\n",
      "Epoch 75/100\n",
      "64/64 [==============================] - 6s 87ms/step - loss: 0.1439 - categorical_accuracy: 0.9499 - val_loss: 3.1581 - val_categorical_accuracy: 0.3279\n",
      "Epoch 76/100\n",
      "64/64 [==============================] - 6s 87ms/step - loss: 0.1366 - categorical_accuracy: 0.9524 - val_loss: 2.7874 - val_categorical_accuracy: 0.3539\n",
      "Epoch 77/100\n",
      "64/64 [==============================] - 6s 87ms/step - loss: 0.0745 - categorical_accuracy: 0.9749 - val_loss: 2.9123 - val_categorical_accuracy: 0.3527\n",
      "Epoch 78/100\n",
      "64/64 [==============================] - 6s 87ms/step - loss: 0.1109 - categorical_accuracy: 0.9619 - val_loss: 3.0961 - val_categorical_accuracy: 0.3480\n",
      "Epoch 79/100\n",
      "64/64 [==============================] - 6s 87ms/step - loss: 0.1539 - categorical_accuracy: 0.9474 - val_loss: 2.8515 - val_categorical_accuracy: 0.3731\n",
      "Epoch 80/100\n",
      "64/64 [==============================] - 6s 87ms/step - loss: 0.1317 - categorical_accuracy: 0.9550 - val_loss: 3.1083 - val_categorical_accuracy: 0.3945\n",
      "Epoch 81/100\n",
      "64/64 [==============================] - 6s 87ms/step - loss: 0.1204 - categorical_accuracy: 0.9586 - val_loss: 3.2661 - val_categorical_accuracy: 0.3993\n",
      "Epoch 82/100\n",
      "64/64 [==============================] - 6s 87ms/step - loss: 0.1363 - categorical_accuracy: 0.9529 - val_loss: 3.2018 - val_categorical_accuracy: 0.4188\n",
      "Epoch 83/100\n",
      "64/64 [==============================] - 6s 87ms/step - loss: 0.0650 - categorical_accuracy: 0.9779 - val_loss: 3.2377 - val_categorical_accuracy: 0.4374\n",
      "Epoch 84/100\n",
      "64/64 [==============================] - 6s 87ms/step - loss: 0.1329 - categorical_accuracy: 0.9542 - val_loss: 3.3628 - val_categorical_accuracy: 0.4227\n",
      "Epoch 85/100\n",
      "64/64 [==============================] - 6s 87ms/step - loss: 0.1115 - categorical_accuracy: 0.9610 - val_loss: 3.4030 - val_categorical_accuracy: 0.4386\n",
      "Epoch 86/100\n",
      "64/64 [==============================] - 6s 87ms/step - loss: 0.1402 - categorical_accuracy: 0.9519 - val_loss: 3.6944 - val_categorical_accuracy: 0.4514\n",
      "Epoch 87/100\n",
      "64/64 [==============================] - 6s 87ms/step - loss: 0.1110 - categorical_accuracy: 0.9600 - val_loss: 3.7429 - val_categorical_accuracy: 0.4486\n",
      "Epoch 88/100\n",
      "64/64 [==============================] - 6s 87ms/step - loss: 0.1075 - categorical_accuracy: 0.9632 - val_loss: 4.0800 - val_categorical_accuracy: 0.4439\n",
      "Epoch 89/100\n",
      "64/64 [==============================] - 6s 88ms/step - loss: 0.0581 - categorical_accuracy: 0.9804 - val_loss: 4.0631 - val_categorical_accuracy: 0.4661\n",
      "Epoch 90/100\n",
      "64/64 [==============================] - 6s 88ms/step - loss: 0.0829 - categorical_accuracy: 0.9714 - val_loss: 4.0239 - val_categorical_accuracy: 0.4313\n",
      "Epoch 91/100\n",
      "64/64 [==============================] - 6s 88ms/step - loss: 0.1197 - categorical_accuracy: 0.9584 - val_loss: 4.0544 - val_categorical_accuracy: 0.4583\n",
      "Epoch 92/100\n",
      "64/64 [==============================] - 6s 87ms/step - loss: 0.0695 - categorical_accuracy: 0.9762 - val_loss: 4.4157 - val_categorical_accuracy: 0.4622\n",
      "Epoch 93/100\n",
      "64/64 [==============================] - 6s 87ms/step - loss: 0.1002 - categorical_accuracy: 0.9645 - val_loss: 4.7596 - val_categorical_accuracy: 0.4544\n",
      "Epoch 94/100\n",
      "64/64 [==============================] - 6s 88ms/step - loss: 0.1305 - categorical_accuracy: 0.9546 - val_loss: 5.4050 - val_categorical_accuracy: 0.4425\n",
      "Epoch 95/100\n",
      "64/64 [==============================] - 6s 87ms/step - loss: 0.1225 - categorical_accuracy: 0.9580 - val_loss: 4.6298 - val_categorical_accuracy: 0.4433\n",
      "Epoch 96/100\n",
      "64/64 [==============================] - 6s 88ms/step - loss: 0.0647 - categorical_accuracy: 0.9770 - val_loss: 4.3807 - val_categorical_accuracy: 0.4583\n",
      "Epoch 97/100\n",
      "64/64 [==============================] - 6s 87ms/step - loss: 0.0525 - categorical_accuracy: 0.9816 - val_loss: 4.9000 - val_categorical_accuracy: 0.4583\n",
      "Epoch 98/100\n",
      "64/64 [==============================] - 6s 87ms/step - loss: 0.1255 - categorical_accuracy: 0.9572 - val_loss: 5.8713 - val_categorical_accuracy: 0.4146\n",
      "Epoch 99/100\n"
     ]
    },
    {
     "name": "stdout",
     "output_type": "stream",
     "text": [
      "64/64 [==============================] - 6s 87ms/step - loss: 0.1200 - categorical_accuracy: 0.9572 - val_loss: 5.4931 - val_categorical_accuracy: 0.4358\n",
      "Epoch 100/100\n",
      "64/64 [==============================] - 6s 87ms/step - loss: 0.0692 - categorical_accuracy: 0.9764 - val_loss: 4.9349 - val_categorical_accuracy: 0.4361\n"
     ]
    },
    {
     "data": {
      "text/plain": [
       "<tensorflow.python.keras.callbacks.History at 0x7f5a34249d00>"
      ]
     },
     "execution_count": 3,
     "metadata": {},
     "output_type": "execute_result"
    }
   ],
   "source": [
    "# 모델 학습하기\n",
    "import tensorflow as tf\n",
    "\n",
    "# model 선언 \n",
    "model = tf.keras.applications.MobileNetV2(input_shape=(48, 48, 1), weights=None, classes=7)\n",
    "\n",
    "# model.compile\n",
    "model.compile(optimizer=tf.keras.optimizers.Adam(),\n",
    "              loss=tf.keras.losses.CategoricalCrossentropy(),\n",
    "              metrics=[tf.keras.metrics.CategoricalAccuracy()])\n",
    "\n",
    "#model.fit\n",
    "model.fit(np.stack(train_x),\n",
    "          tf.keras.utils.to_categorical(train_y),\n",
    "          epochs=100,\n",
    "          batch_size=512,\n",
    "          validation_data=(np.stack(eval_x),\n",
    "                           tf.keras.utils.to_categorical(eval_y)))"
   ]
  },
  {
   "cell_type": "code",
   "execution_count": 4,
   "metadata": {},
   "outputs": [],
   "source": [
    "import os\n",
    "model_path = os.getenv('HOME')+'/aiffel/tfjs_mobile/model.h5'\n",
    "model.save(model_path)"
   ]
  },
  {
   "cell_type": "code",
   "execution_count": null,
   "metadata": {},
   "outputs": [],
   "source": [
    "# 저장한 모델을 tensorflow.js가 활용할 수 있는 형태로 변환해주는 작업\n",
    "# pip install tensorflowjs\n",
    "# tensorflowjs_converter 활용\n",
    "\n",
    "# cd ~/aiffel/tfjs_mobile\n",
    "# tensorflowjs_converter --input_format=keras model.h5 model\n",
    "# model 폴더 내에 확인 가능"
   ]
  }
 ],
 "metadata": {
  "kernelspec": {
   "display_name": "datascience",
   "language": "python",
   "name": "datascience"
  },
  "language_info": {
   "codemirror_mode": {
    "name": "ipython",
    "version": 3
   },
   "file_extension": ".py",
   "mimetype": "text/x-python",
   "name": "python",
   "nbconvert_exporter": "python",
   "pygments_lexer": "ipython3",
   "version": "3.8.3"
  }
 },
 "nbformat": 4,
 "nbformat_minor": 4
}
