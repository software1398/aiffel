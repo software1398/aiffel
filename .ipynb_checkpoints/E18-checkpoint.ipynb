{
 "cells": [
  {
   "cell_type": "markdown",
   "metadata": {},
   "source": [
    "## E18 - 뉴스기사 요약해보기"
   ]
  },
  {
   "cell_type": "markdown",
   "metadata": {},
   "source": [
    "### Step 1. 데이터 수집하기"
   ]
  },
  {
   "cell_type": "code",
   "execution_count": 1,
   "metadata": {},
   "outputs": [
    {
     "name": "stderr",
     "output_type": "stream",
     "text": [
      "[nltk_data] Downloading package stopwords to\n",
      "[nltk_data]     /home/aiffel0042/nltk_data...\n",
      "[nltk_data]   Package stopwords is already up-to-date!\n"
     ]
    }
   ],
   "source": [
    "import nltk\n",
    "nltk.download('stopwords')\n",
    "\n",
    "import numpy as np\n",
    "import pandas as pd\n",
    "import os\n",
    "import re\n",
    "import matplotlib.pyplot as plt\n",
    "from nltk.corpus import stopwords\n",
    "from bs4 import BeautifulSoup \n",
    "from tensorflow.keras.preprocessing.text import Tokenizer \n",
    "from tensorflow.keras.preprocessing.sequence import pad_sequences\n",
    "import urllib.request"
   ]
  },
  {
   "cell_type": "code",
   "execution_count": 2,
   "metadata": {},
   "outputs": [],
   "source": [
    "import urllib.request\n",
    "urllib.request.urlretrieve(\"https://raw.githubusercontent.com/sunnysai12345/News_Summary/master/news_summary_more.csv\", filename=\"news_summary_more.csv\")\n",
    "data = pd.read_csv('news_summary_more.csv', encoding='iso-8859-1')"
   ]
  },
  {
   "cell_type": "code",
   "execution_count": 3,
   "metadata": {},
   "outputs": [
    {
     "data": {
      "text/html": [
       "<div>\n",
       "<style scoped>\n",
       "    .dataframe tbody tr th:only-of-type {\n",
       "        vertical-align: middle;\n",
       "    }\n",
       "\n",
       "    .dataframe tbody tr th {\n",
       "        vertical-align: top;\n",
       "    }\n",
       "\n",
       "    .dataframe thead th {\n",
       "        text-align: right;\n",
       "    }\n",
       "</style>\n",
       "<table border=\"1\" class=\"dataframe\">\n",
       "  <thead>\n",
       "    <tr style=\"text-align: right;\">\n",
       "      <th></th>\n",
       "      <th>headlines</th>\n",
       "      <th>text</th>\n",
       "    </tr>\n",
       "  </thead>\n",
       "  <tbody>\n",
       "    <tr>\n",
       "      <th>59383</th>\n",
       "      <td>TIME rejects Trump's claim it offered him Pers...</td>\n",
       "      <td>The TIME magazine has rejected US President Do...</td>\n",
       "    </tr>\n",
       "    <tr>\n",
       "      <th>29025</th>\n",
       "      <td>I once slapped a man who tried to touch me: Ya...</td>\n",
       "      <td>Yami Gautam revealed that she slapped a man wh...</td>\n",
       "    </tr>\n",
       "    <tr>\n",
       "      <th>13238</th>\n",
       "      <td>4-yr-old girl dies after being attacked by str...</td>\n",
       "      <td>A four-year-old girl died after being attacked...</td>\n",
       "    </tr>\n",
       "    <tr>\n",
       "      <th>2420</th>\n",
       "      <td>Saif Ali Khan to join the 'Race' franchise aga...</td>\n",
       "      <td>Saif Ali Khan will reportedly make a comeback ...</td>\n",
       "    </tr>\n",
       "    <tr>\n",
       "      <th>81737</th>\n",
       "      <td>I'd jump off a cliff for Mani Ratnam: Aditi Ra...</td>\n",
       "      <td>Actress Aditi Rao Hydari, in a Twitter chat, h...</td>\n",
       "    </tr>\n",
       "    <tr>\n",
       "      <th>57432</th>\n",
       "      <td>Ã¢ÂÂ¹26,000 'marijuana wreath' being sold</td>\n",
       "      <td>US-based Cannabis company Henry's Originals ha...</td>\n",
       "    </tr>\n",
       "    <tr>\n",
       "      <th>85798</th>\n",
       "      <td>Japan passes landmark bill to allow Emperor to...</td>\n",
       "      <td>The upper house of the Japanese parliament on ...</td>\n",
       "    </tr>\n",
       "    <tr>\n",
       "      <th>36011</th>\n",
       "      <td>11L ineligible voters in MP to be removed from...</td>\n",
       "      <td>Around 11 lakh ineligible voters in Madhya Pra...</td>\n",
       "    </tr>\n",
       "    <tr>\n",
       "      <th>59349</th>\n",
       "      <td>Russian govt approves Uber merger with Yandex</td>\n",
       "      <td>The Russian government has given an approval t...</td>\n",
       "    </tr>\n",
       "    <tr>\n",
       "      <th>80429</th>\n",
       "      <td>How much do CEOs of India's biggest FMCG compa...</td>\n",
       "      <td>Saugata Gupta of Marico, which owns brands lik...</td>\n",
       "    </tr>\n",
       "  </tbody>\n",
       "</table>\n",
       "</div>"
      ],
      "text/plain": [
       "                                               headlines  \\\n",
       "59383  TIME rejects Trump's claim it offered him Pers...   \n",
       "29025  I once slapped a man who tried to touch me: Ya...   \n",
       "13238  4-yr-old girl dies after being attacked by str...   \n",
       "2420   Saif Ali Khan to join the 'Race' franchise aga...   \n",
       "81737  I'd jump off a cliff for Mani Ratnam: Aditi Ra...   \n",
       "57432         Ã¢ÂÂ¹26,000 'marijuana wreath' being sold   \n",
       "85798  Japan passes landmark bill to allow Emperor to...   \n",
       "36011  11L ineligible voters in MP to be removed from...   \n",
       "59349      Russian govt approves Uber merger with Yandex   \n",
       "80429  How much do CEOs of India's biggest FMCG compa...   \n",
       "\n",
       "                                                    text  \n",
       "59383  The TIME magazine has rejected US President Do...  \n",
       "29025  Yami Gautam revealed that she slapped a man wh...  \n",
       "13238  A four-year-old girl died after being attacked...  \n",
       "2420   Saif Ali Khan will reportedly make a comeback ...  \n",
       "81737  Actress Aditi Rao Hydari, in a Twitter chat, h...  \n",
       "57432  US-based Cannabis company Henry's Originals ha...  \n",
       "85798  The upper house of the Japanese parliament on ...  \n",
       "36011  Around 11 lakh ineligible voters in Madhya Pra...  \n",
       "59349  The Russian government has given an approval t...  \n",
       "80429  Saugata Gupta of Marico, which owns brands lik...  "
      ]
     },
     "execution_count": 3,
     "metadata": {},
     "output_type": "execute_result"
    }
   ],
   "source": [
    "data.sample(10)"
   ]
  },
  {
   "cell_type": "markdown",
   "metadata": {},
   "source": [
    "### Step 2. 데이터 전처리하기 (추상적 요약)"
   ]
  },
  {
   "cell_type": "code",
   "execution_count": 4,
   "metadata": {},
   "outputs": [
    {
     "name": "stdout",
     "output_type": "stream",
     "text": [
      "text 열에서 중복을 배제한 유일한 샘플의 수 : 98360\n",
      "headlines 열에서 중복을 배제한 유일한 샘플의 수 : 98280\n"
     ]
    }
   ],
   "source": [
    "# 유니크한 샘플 갯수 확인\n",
    "\n",
    "print('text 열에서 중복을 배제한 유일한 샘플의 수 :', data['text'].nunique())\n",
    "print('headlines 열에서 중복을 배제한 유일한 샘플의 수 :', data['headlines'].nunique())"
   ]
  },
  {
   "cell_type": "code",
   "execution_count": 5,
   "metadata": {},
   "outputs": [
    {
     "name": "stdout",
     "output_type": "stream",
     "text": [
      "전체 샘플수 : 98360\n"
     ]
    }
   ],
   "source": [
    "# 중복 샘플 제거하기\n",
    "\n",
    "data.drop_duplicates(subset = ['text'], inplace = True)\n",
    "print('전체 샘플수 :',(len(data)))"
   ]
  },
  {
   "cell_type": "code",
   "execution_count": 6,
   "metadata": {},
   "outputs": [
    {
     "name": "stdout",
     "output_type": "stream",
     "text": [
      "headlines    0\n",
      "text         0\n",
      "dtype: int64\n"
     ]
    }
   ],
   "source": [
    "# Null값 확인하기\n",
    "\n",
    "print(data.isnull().sum())"
   ]
  },
  {
   "cell_type": "code",
   "execution_count": 7,
   "metadata": {},
   "outputs": [
    {
     "name": "stdout",
     "output_type": "stream",
     "text": [
      "정규화 사전의 수:  120\n"
     ]
    }
   ],
   "source": [
    "# 텍스트 정규화\n",
    "# https://stackoverflow.com/questions/19790188/expanding-english-language-contractions-in-python\n",
    "\n",
    "contractions = {\"ain't\": \"is not\", \"aren't\": \"are not\",\"can't\": \"cannot\", \"'cause\": \"because\", \"could've\": \"could have\", \"couldn't\": \"could not\",\n",
    "                        \"didn't\": \"did not\",  \"doesn't\": \"does not\", \"don't\": \"do not\", \"hadn't\": \"had not\", \"hasn't\": \"has not\", \"haven't\": \"have not\",\n",
    "                        \"he'd\": \"he would\",\"he'll\": \"he will\", \"he's\": \"he is\", \"how'd\": \"how did\", \"how'd'y\": \"how do you\", \"how'll\": \"how will\", \"how's\": \"how is\",\n",
    "                        \"I'd\": \"I would\", \"I'd've\": \"I would have\", \"I'll\": \"I will\", \"I'll've\": \"I will have\",\"I'm\": \"I am\", \"I've\": \"I have\", \"i'd\": \"i would\",\n",
    "                        \"i'd've\": \"i would have\", \"i'll\": \"i will\",  \"i'll've\": \"i will have\",\"i'm\": \"i am\", \"i've\": \"i have\", \"isn't\": \"is not\", \"it'd\": \"it would\",\n",
    "                        \"it'd've\": \"it would have\", \"it'll\": \"it will\", \"it'll've\": \"it will have\",\"it's\": \"it is\", \"let's\": \"let us\", \"ma'am\": \"madam\",\n",
    "                        \"mayn't\": \"may not\", \"might've\": \"might have\",\"mightn't\": \"might not\",\"mightn't've\": \"might not have\", \"must've\": \"must have\",\n",
    "                        \"mustn't\": \"must not\", \"mustn't've\": \"must not have\", \"needn't\": \"need not\", \"needn't've\": \"need not have\",\"o'clock\": \"of the clock\",\n",
    "                        \"oughtn't\": \"ought not\", \"oughtn't've\": \"ought not have\", \"shan't\": \"shall not\", \"sha'n't\": \"shall not\", \"shan't've\": \"shall not have\",\n",
    "                        \"she'd\": \"she would\", \"she'd've\": \"she would have\", \"she'll\": \"she will\", \"she'll've\": \"she will have\", \"she's\": \"she is\",\n",
    "                        \"should've\": \"should have\", \"shouldn't\": \"should not\", \"shouldn't've\": \"should not have\", \"so've\": \"so have\",\"so's\": \"so as\",\n",
    "                        \"this's\": \"this is\",\"that'd\": \"that would\", \"that'd've\": \"that would have\", \"that's\": \"that is\", \"there'd\": \"there would\",\n",
    "                        \"there'd've\": \"there would have\", \"there's\": \"there is\", \"here's\": \"here is\",\"they'd\": \"they would\", \"they'd've\": \"they would have\",\n",
    "                        \"they'll\": \"they will\", \"they'll've\": \"they will have\", \"they're\": \"they are\", \"they've\": \"they have\", \"to've\": \"to have\",\n",
    "                        \"wasn't\": \"was not\", \"we'd\": \"we would\", \"we'd've\": \"we would have\", \"we'll\": \"we will\", \"we'll've\": \"we will have\", \"we're\": \"we are\",\n",
    "                        \"we've\": \"we have\", \"weren't\": \"were not\", \"what'll\": \"what will\", \"what'll've\": \"what will have\", \"what're\": \"what are\",\n",
    "                        \"what's\": \"what is\", \"what've\": \"what have\", \"when's\": \"when is\", \"when've\": \"when have\", \"where'd\": \"where did\", \"where's\": \"where is\",\n",
    "                        \"where've\": \"where have\", \"who'll\": \"who will\", \"who'll've\": \"who will have\", \"who's\": \"who is\", \"who've\": \"who have\",\n",
    "                        \"why's\": \"why is\", \"why've\": \"why have\", \"will've\": \"will have\", \"won't\": \"will not\", \"won't've\": \"will not have\",\n",
    "                        \"would've\": \"would have\", \"wouldn't\": \"would not\", \"wouldn't've\": \"would not have\", \"y'all\": \"you all\",\n",
    "                        \"y'all'd\": \"you all would\",\"y'all'd've\": \"you all would have\",\"y'all're\": \"you all are\",\"y'all've\": \"you all have\",\n",
    "                        \"you'd\": \"you would\", \"you'd've\": \"you would have\", \"you'll\": \"you will\", \"you'll've\": \"you will have\",\n",
    "                        \"you're\": \"you are\", \"you've\": \"you have\"}\n",
    "\n",
    "print(\"정규화 사전의 수: \",len(contractions))"
   ]
  },
  {
   "cell_type": "code",
   "execution_count": 8,
   "metadata": {},
   "outputs": [
    {
     "name": "stdout",
     "output_type": "stream",
     "text": [
      "불용어 개수 : 179\n",
      "['i', 'me', 'my', 'myself', 'we', 'our', 'ours', 'ourselves', 'you', \"you're\", \"you've\", \"you'll\", \"you'd\", 'your', 'yours', 'yourself', 'yourselves', 'he', 'him', 'his', 'himself', 'she', \"she's\", 'her', 'hers', 'herself', 'it', \"it's\", 'its', 'itself', 'they', 'them', 'their', 'theirs', 'themselves', 'what', 'which', 'who', 'whom', 'this', 'that', \"that'll\", 'these', 'those', 'am', 'is', 'are', 'was', 'were', 'be', 'been', 'being', 'have', 'has', 'had', 'having', 'do', 'does', 'did', 'doing', 'a', 'an', 'the', 'and', 'but', 'if', 'or', 'because', 'as', 'until', 'while', 'of', 'at', 'by', 'for', 'with', 'about', 'against', 'between', 'into', 'through', 'during', 'before', 'after', 'above', 'below', 'to', 'from', 'up', 'down', 'in', 'out', 'on', 'off', 'over', 'under', 'again', 'further', 'then', 'once', 'here', 'there', 'when', 'where', 'why', 'how', 'all', 'any', 'both', 'each', 'few', 'more', 'most', 'other', 'some', 'such', 'no', 'nor', 'not', 'only', 'own', 'same', 'so', 'than', 'too', 'very', 's', 't', 'can', 'will', 'just', 'don', \"don't\", 'should', \"should've\", 'now', 'd', 'll', 'm', 'o', 're', 've', 'y', 'ain', 'aren', \"aren't\", 'couldn', \"couldn't\", 'didn', \"didn't\", 'doesn', \"doesn't\", 'hadn', \"hadn't\", 'hasn', \"hasn't\", 'haven', \"haven't\", 'isn', \"isn't\", 'ma', 'mightn', \"mightn't\", 'mustn', \"mustn't\", 'needn', \"needn't\", 'shan', \"shan't\", 'shouldn', \"shouldn't\", 'wasn', \"wasn't\", 'weren', \"weren't\", 'won', \"won't\", 'wouldn', \"wouldn't\"]\n"
     ]
    }
   ],
   "source": [
    "# 불용어 제거하기\n",
    "\n",
    "print('불용어 개수 :', len(stopwords.words('english')))\n",
    "print(stopwords.words('english'))"
   ]
  },
  {
   "cell_type": "code",
   "execution_count": 9,
   "metadata": {},
   "outputs": [],
   "source": [
    "# 데이터 전처리 함수\n",
    "\n",
    "def preprocess_sentence(sentence, remove_stopwords=True):\n",
    "    sentence = sentence.lower() # 텍스트 소문자화\n",
    "    sentence = BeautifulSoup(sentence, \"lxml\").text # <br />, <a href = ...> 등의 html 태그 제거\n",
    "    sentence = re.sub(r'\\([^)]*\\)', '', sentence) # 괄호로 닫힌 문자열 (...) 제거 Ex) my husband (and myself!) for => my husband for\n",
    "    sentence = re.sub('\"', '', sentence) # 쌍따옴표 \" 제거\n",
    "    sentence = ' '.join([contractions[t] if t in contractions else t for t in sentence.split(\" \")]) # 약어 정규화\n",
    "    sentence = re.sub(r\"'s\\b\", \"\",sentence) # 소유격 제거. Ex) roland's -> roland\n",
    "    sentence = re.sub(\"[^a-zA-Z]\", \" \", sentence) # 영어 외 문자(숫자, 특수문자 등) 공백으로 변환\n",
    "    sentence = re.sub('[m]{2,}', 'mm', sentence) # m이 3개 이상이면 2개로 변경. Ex) ummmmmmm yeah -> umm yeah\n",
    "    \n",
    "    # 불용어 제거\n",
    "    if remove_stopwords:\n",
    "        tokens = ' '.join(word for word in sentence.split() if not word in stopwords.words('english') if len(word) > 1)\n",
    "    # 불용어 미제거\n",
    "    else:\n",
    "        tokens = ' '.join(word for word in sentence.split() if len(word) > 1)\n",
    "    return tokens"
   ]
  },
  {
   "cell_type": "code",
   "execution_count": 10,
   "metadata": {},
   "outputs": [
    {
     "data": {
      "text/plain": [
       "['saurav kant alumnus upgrad iiit pg program machine learning artificial intelligence sr systems engineer infosys almost years work experience program upgrad degree career support helped transition data scientist tech mahindra salary hike upgrad online power learning powered lakh careers',\n",
       " 'kunal shah credit card bill payment platform cred gave users chance win free food swiggy one year pranav kaushik delhi techie bagged reward spending cred coins users get one cred coin per rupee bill paid used avail rewards brands like ixigo bookmyshow ubereats cult fit',\n",
       " 'new zealand defeated india wickets fourth odi hamilton thursday win first match five match odi series india lost international match rohit sharma captaincy consecutive victories dating back march match witnessed india getting seventh lowest total odi cricket history',\n",
       " 'aegon life iterm insurance plan customers enjoy tax benefits premiums paid save taxes plan provides life cover age years also customers options insure critical illnesses disability accidental death benefit rider life cover age years',\n",
       " 'speaking sexual harassment allegations rajkumar hirani sonam kapoor said known hirani many years true metoo movement get derailed metoo movement always believe woman case need reserve judgment added hirani accused assistant worked sanju']"
      ]
     },
     "execution_count": 10,
     "metadata": {},
     "output_type": "execute_result"
    }
   ],
   "source": [
    "clean_text = []\n",
    " \n",
    "for s in data['text']:\n",
    "    clean_text.append(preprocess_sentence(s))\n",
    "\n",
    "# 전처리 후 출력\n",
    "clean_text[:5]"
   ]
  },
  {
   "cell_type": "code",
   "execution_count": 11,
   "metadata": {},
   "outputs": [
    {
     "data": {
      "text/plain": [
       "['upgrad learner switches career ml al salary hike',\n",
       " 'delhi techie wins free food swiggy one year cred',\n",
       " 'new zealand end rohit sharma led india match winning streak',\n",
       " 'aegon life iterm insurance plan helps customers save tax',\n",
       " 'known hirani yrs metoo claims true sonam']"
      ]
     },
     "execution_count": 11,
     "metadata": {},
     "output_type": "execute_result"
    }
   ],
   "source": [
    "clean_headlines = []\n",
    "\n",
    "for s in data['headlines']:\n",
    "    clean_headlines.append(preprocess_sentence(s))\n",
    "\n",
    "clean_headlines[:5]"
   ]
  },
  {
   "cell_type": "code",
   "execution_count": 12,
   "metadata": {},
   "outputs": [],
   "source": [
    "# 불용어 제거 후 빈 샘플 확인하기, 만약 있다면 Null값으로 대체하기\n",
    "\n",
    "data['text'] = clean_text\n",
    "data['headlines'] = clean_headlines\n",
    "\n",
    "# 빈 값을 Null 값으로 변환\n",
    "data.replace('', np.nan, inplace=True)"
   ]
  },
  {
   "cell_type": "code",
   "execution_count": 13,
   "metadata": {},
   "outputs": [
    {
     "data": {
      "text/plain": [
       "headlines    0\n",
       "text         0\n",
       "dtype: int64"
      ]
     },
     "execution_count": 13,
     "metadata": {},
     "output_type": "execute_result"
    }
   ],
   "source": [
    "data.isnull().sum()"
   ]
  },
  {
   "cell_type": "code",
   "execution_count": 14,
   "metadata": {},
   "outputs": [
    {
     "name": "stdout",
     "output_type": "stream",
     "text": [
      "텍스트의 최소 길이 : 1\n",
      "텍스트의 최대 길이 : 60\n",
      "텍스트의 평균 길이 : 35.09968483123221\n",
      "헤드라인의 최소 길이 : 1\n",
      "헤드라인의 최대 길이 : 13\n",
      "헤드라인의 평균 길이 : 7.136183407889386\n"
     ]
    },
    {
     "data": {
      "image/png": "[encoded data removed]",
      "text/plain": [
       "<Figure size 432x288 with 2 Axes>"
      ]
     },
     "metadata": {
      "needs_background": "light"
     },
     "output_type": "display_data"
    },
    {
     "data": {
      "image/png": "[encoded data removed]",
      "text/plain": [
       "<Figure size 432x288 with 1 Axes>"
      ]
     },
     "metadata": {
      "needs_background": "light"
     },
     "output_type": "display_data"
    },
    {
     "data": {
      "image/png": "[encoded data removed]",
      "text/plain": [
       "<Figure size 432x288 with 1 Axes>"
      ]
     },
     "metadata": {
      "needs_background": "light"
     },
     "output_type": "display_data"
    }
   ],
   "source": [
    "# 샘플의 최소, 최대, 평균을 구하고 길이 분포 시각화하기\n",
    "\n",
    "# 길이 분포 출력\n",
    "import matplotlib.pyplot as plt\n",
    "\n",
    "text_len = [len(s.split()) for s in data['text']]\n",
    "headlines_len = [len(s.split()) for s in data['headlines']]\n",
    "\n",
    "print('텍스트의 최소 길이 : {}'.format(np.min(text_len)))\n",
    "print('텍스트의 최대 길이 : {}'.format(np.max(text_len)))\n",
    "print('텍스트의 평균 길이 : {}'.format(np.mean(text_len)))\n",
    "print('헤드라인의 최소 길이 : {}'.format(np.min(headlines_len)))\n",
    "print('헤드라인의 최대 길이 : {}'.format(np.max(headlines_len)))\n",
    "print('헤드라인의 평균 길이 : {}'.format(np.mean(headlines_len)))\n",
    "\n",
    "plt.subplot(1,2,1)\n",
    "plt.boxplot(headlines_len)\n",
    "plt.title('headlines')\n",
    "plt.subplot(1,2,2)\n",
    "plt.boxplot(text_len)\n",
    "plt.title('text')\n",
    "plt.tight_layout()\n",
    "plt.show()\n",
    "\n",
    "plt.title('headlines')\n",
    "plt.hist(headlines_len, bins = 40)\n",
    "plt.xlabel('length of samples')\n",
    "plt.ylabel('number of samples')\n",
    "plt.show()\n",
    "\n",
    "plt.title('text')\n",
    "plt.hist(text_len, bins = 40)\n",
    "plt.xlabel('length of samples')\n",
    "plt.ylabel('number of samples')\n",
    "plt.show()"
   ]
  },
  {
   "cell_type": "code",
   "execution_count": 15,
   "metadata": {},
   "outputs": [],
   "source": [
    "# 적절한 최대 길이 정하기\n",
    "\n",
    "text_max_len = 50\n",
    "headlines_max_len = 10"
   ]
  },
  {
   "cell_type": "code",
   "execution_count": 16,
   "metadata": {},
   "outputs": [],
   "source": [
    "# 최대 길이에 속한 데이터를 전체 데이터의 몇%에 해당할까?\n",
    "\n",
    "def below_threshold_len(max_len, nested_list):\n",
    "    cnt = 0\n",
    "    for s in nested_list:\n",
    "        if(len(s.split()) <= max_len):\n",
    "            cnt = cnt + 1\n",
    "    print('전체 샘플 중 길이가 %s 이하인 샘플의 비율: %s'%(max_len, (cnt / len(nested_list))))"
   ]
  },
  {
   "cell_type": "code",
   "execution_count": 17,
   "metadata": {},
   "outputs": [
    {
     "name": "stdout",
     "output_type": "stream",
     "text": [
      "전체 샘플 중 길이가 50 이하인 샘플의 비율: 0.9998576657177715\n",
      "전체 샘플 중 길이가 10 이하인 샘플의 비율: 0.9978344855632371\n"
     ]
    }
   ],
   "source": [
    "below_threshold_len(text_max_len, data['text'])\n",
    "below_threshold_len(headlines_max_len,  data['headlines'])"
   ]
  },
  {
   "cell_type": "code",
   "execution_count": 18,
   "metadata": {},
   "outputs": [
    {
     "name": "stdout",
     "output_type": "stream",
     "text": [
      "전체 샘플수 : 98134\n"
     ]
    }
   ],
   "source": [
    "# 최대 길이보다 긴 데이터는 자르지 않고 제외시키는 방법으로 전처리 하기\n",
    "\n",
    "data = data[data['text'].apply(lambda x: len(x.split()) <= text_max_len)]\n",
    "data = data[data['headlines'].apply(lambda x: len(x.split()) <= headlines_max_len)]\n",
    "print('전체 샘플수 :',(len(data)))"
   ]
  },
  {
   "cell_type": "code",
   "execution_count": 19,
   "metadata": {},
   "outputs": [
    {
     "data": {
      "text/html": [
       "<div>\n",
       "<style scoped>\n",
       "    .dataframe tbody tr th:only-of-type {\n",
       "        vertical-align: middle;\n",
       "    }\n",
       "\n",
       "    .dataframe tbody tr th {\n",
       "        vertical-align: top;\n",
       "    }\n",
       "\n",
       "    .dataframe thead th {\n",
       "        text-align: right;\n",
       "    }\n",
       "</style>\n",
       "<table border=\"1\" class=\"dataframe\">\n",
       "  <thead>\n",
       "    <tr style=\"text-align: right;\">\n",
       "      <th></th>\n",
       "      <th>headlines</th>\n",
       "      <th>text</th>\n",
       "      <th>decoder_input</th>\n",
       "      <th>decoder_target</th>\n",
       "    </tr>\n",
       "  </thead>\n",
       "  <tbody>\n",
       "    <tr>\n",
       "      <th>0</th>\n",
       "      <td>upgrad learner switches career ml al salary hike</td>\n",
       "      <td>saurav kant alumnus upgrad iiit pg program mac...</td>\n",
       "      <td>sostoken upgrad learner switches career ml al ...</td>\n",
       "      <td>upgrad learner switches career ml al salary hi...</td>\n",
       "    </tr>\n",
       "    <tr>\n",
       "      <th>1</th>\n",
       "      <td>delhi techie wins free food swiggy one year cred</td>\n",
       "      <td>kunal shah credit card bill payment platform c...</td>\n",
       "      <td>sostoken delhi techie wins free food swiggy on...</td>\n",
       "      <td>delhi techie wins free food swiggy one year cr...</td>\n",
       "    </tr>\n",
       "    <tr>\n",
       "      <th>2</th>\n",
       "      <td>new zealand end rohit sharma led india match w...</td>\n",
       "      <td>new zealand defeated india wickets fourth odi ...</td>\n",
       "      <td>sostoken new zealand end rohit sharma led indi...</td>\n",
       "      <td>new zealand end rohit sharma led india match w...</td>\n",
       "    </tr>\n",
       "    <tr>\n",
       "      <th>3</th>\n",
       "      <td>aegon life iterm insurance plan helps customer...</td>\n",
       "      <td>aegon life iterm insurance plan customers enjo...</td>\n",
       "      <td>sostoken aegon life iterm insurance plan helps...</td>\n",
       "      <td>aegon life iterm insurance plan helps customer...</td>\n",
       "    </tr>\n",
       "    <tr>\n",
       "      <th>4</th>\n",
       "      <td>known hirani yrs metoo claims true sonam</td>\n",
       "      <td>speaking sexual harassment allegations rajkuma...</td>\n",
       "      <td>sostoken known hirani yrs metoo claims true sonam</td>\n",
       "      <td>known hirani yrs metoo claims true sonam eostoken</td>\n",
       "    </tr>\n",
       "  </tbody>\n",
       "</table>\n",
       "</div>"
      ],
      "text/plain": [
       "                                           headlines  \\\n",
       "0   upgrad learner switches career ml al salary hike   \n",
       "1   delhi techie wins free food swiggy one year cred   \n",
       "2  new zealand end rohit sharma led india match w...   \n",
       "3  aegon life iterm insurance plan helps customer...   \n",
       "4           known hirani yrs metoo claims true sonam   \n",
       "\n",
       "                                                text  \\\n",
       "0  saurav kant alumnus upgrad iiit pg program mac...   \n",
       "1  kunal shah credit card bill payment platform c...   \n",
       "2  new zealand defeated india wickets fourth odi ...   \n",
       "3  aegon life iterm insurance plan customers enjo...   \n",
       "4  speaking sexual harassment allegations rajkuma...   \n",
       "\n",
       "                                       decoder_input  \\\n",
       "0  sostoken upgrad learner switches career ml al ...   \n",
       "1  sostoken delhi techie wins free food swiggy on...   \n",
       "2  sostoken new zealand end rohit sharma led indi...   \n",
       "3  sostoken aegon life iterm insurance plan helps...   \n",
       "4  sostoken known hirani yrs metoo claims true sonam   \n",
       "\n",
       "                                      decoder_target  \n",
       "0  upgrad learner switches career ml al salary hi...  \n",
       "1  delhi techie wins free food swiggy one year cr...  \n",
       "2  new zealand end rohit sharma led india match w...  \n",
       "3  aegon life iterm insurance plan helps customer...  \n",
       "4  known hirani yrs metoo claims true sonam eostoken  "
      ]
     },
     "execution_count": 19,
     "metadata": {},
     "output_type": "execute_result"
    }
   ],
   "source": [
    "# headlines 데이터에 시작 토큰과 종료 토큰을 추가한다.\n",
    "\n",
    "data['decoder_input'] = data['headlines'].apply(lambda x : 'sostoken '+ x)\n",
    "data['decoder_target'] = data['headlines'].apply(lambda x : x + ' eostoken')\n",
    "data.head()"
   ]
  },
  {
   "cell_type": "code",
   "execution_count": 20,
   "metadata": {},
   "outputs": [],
   "source": [
    "# 인코더의 입력, 디코더의 입력과 레이블을 numpy 타입으로 변경 저장\n",
    "\n",
    "encoder_input = np.array(data['text']) # 인코더의 입력\n",
    "decoder_input = np.array(data['decoder_input']) # 디코더의 입력\n",
    "decoder_target = np.array(data['decoder_target']) # 디코더의 레이블"
   ]
  },
  {
   "cell_type": "code",
   "execution_count": 21,
   "metadata": {},
   "outputs": [
    {
     "name": "stdout",
     "output_type": "stream",
     "text": [
      "[64897 80536 94022 ... 31954  4629 17068]\n"
     ]
    }
   ],
   "source": [
    "# 데이터 섞기\n",
    "\n",
    "indices = np.arange(encoder_input.shape[0])\n",
    "np.random.shuffle(indices)\n",
    "print(indices)"
   ]
  },
  {
   "cell_type": "code",
   "execution_count": 22,
   "metadata": {},
   "outputs": [],
   "source": [
    "encoder_input = encoder_input[indices]\n",
    "decoder_input = decoder_input[indices]\n",
    "decoder_target = decoder_target[indices]"
   ]
  },
  {
   "cell_type": "code",
   "execution_count": 23,
   "metadata": {},
   "outputs": [
    {
     "name": "stdout",
     "output_type": "stream",
     "text": [
      "테스트 데이터의 수 : 19626\n"
     ]
    }
   ],
   "source": [
    "# 훈련 데이터와 테스트 데이터 분리하기 8:2\n",
    "\n",
    "n_of_val = int(len(encoder_input)*0.2)\n",
    "print('테스트 데이터의 수 :',n_of_val)"
   ]
  },
  {
   "cell_type": "code",
   "execution_count": 24,
   "metadata": {},
   "outputs": [
    {
     "name": "stdout",
     "output_type": "stream",
     "text": [
      "훈련 데이터의 개수 : 78508\n",
      "훈련 레이블의 개수 : 78508\n",
      "테스트 데이터의 개수 : 19626\n",
      "테스트 레이블의 개수 : 19626\n"
     ]
    }
   ],
   "source": [
    "encoder_input_train = encoder_input[:-n_of_val]\n",
    "decoder_input_train = decoder_input[:-n_of_val]\n",
    "decoder_target_train = decoder_target[:-n_of_val]\n",
    "\n",
    "encoder_input_test = encoder_input[-n_of_val:]\n",
    "decoder_input_test = decoder_input[-n_of_val:]\n",
    "decoder_target_test = decoder_target[-n_of_val:]\n",
    "\n",
    "print('훈련 데이터의 개수 :', len(encoder_input_train))\n",
    "print('훈련 레이블의 개수 :',len(decoder_input_train))\n",
    "print('테스트 데이터의 개수 :',len(encoder_input_test))\n",
    "print('테스트 레이블의 개수 :',len(decoder_input_test))"
   ]
  },
  {
   "cell_type": "code",
   "execution_count": 25,
   "metadata": {},
   "outputs": [],
   "source": [
    "# 단어 집합(vocaburary) 만들기\n",
    "\n",
    "src_tokenizer = Tokenizer() # 토크나이저 정의\n",
    "src_tokenizer.fit_on_texts(encoder_input_train) # 입력된 데이터로부터 단어 집합 생성"
   ]
  },
  {
   "cell_type": "code",
   "execution_count": 26,
   "metadata": {},
   "outputs": [
    {
     "name": "stdout",
     "output_type": "stream",
     "text": [
      "단어 집합(vocabulary)의 크기 : 69550\n",
      "등장 빈도가 10번 이하인 희귀 단어의 수: 52089\n",
      "단어 집합에서 희귀 단어를 제외시킬 경우의 단어 집합의 크기 17461\n",
      "단어 집합에서 희귀 단어의 비율: 74.89432063263838\n",
      "전체 등장 빈도에서 희귀 단어 등장 빈도 비율: 4.890531538003847\n"
     ]
    }
   ],
   "source": [
    "# 등장 빈도수가 10회 이하인 단어는 제거하기\n",
    "\n",
    "threshold = 10\n",
    "total_cnt = len(src_tokenizer.word_index) # 단어의 수\n",
    "rare_cnt = 0 # 등장 빈도수가 threshold보다 이하인 단어의 개수를 카운트\n",
    "total_freq = 0 # 훈련 데이터의 전체 단어 빈도수 총 합\n",
    "rare_freq = 0 # 등장 빈도수가 threshold보다 이하인 단어의 등장 빈도수의 총 합\n",
    "\n",
    "# 단어와 빈도수의 쌍(pair)을 key와 value로 받는다.\n",
    "for key, value in src_tokenizer.word_counts.items():\n",
    "    total_freq = total_freq + value\n",
    "\n",
    "    # 단어의 등장 빈도수가 threshold보다 이하면\n",
    "    if(value <= threshold):\n",
    "        rare_cnt = rare_cnt + 1\n",
    "        rare_freq = rare_freq + value\n",
    "\n",
    "print('단어 집합(vocabulary)의 크기 :',total_cnt)\n",
    "print('등장 빈도가 %s번 이하인 희귀 단어의 수: %s'%(threshold, rare_cnt))\n",
    "print('단어 집합에서 희귀 단어를 제외시킬 경우의 단어 집합의 크기 %s'%(total_cnt - rare_cnt))\n",
    "print(\"단어 집합에서 희귀 단어의 비율:\", (rare_cnt / total_cnt)*100)\n",
    "print(\"전체 등장 빈도에서 희귀 단어 등장 빈도 비율:\", (rare_freq / total_freq)*100)"
   ]
  },
  {
   "cell_type": "code",
   "execution_count": 27,
   "metadata": {},
   "outputs": [],
   "source": [
    "# 빈도수가 10회 이하인 단어는 제외하고 단어 집합 크기를 17000으로 제한\n",
    "\n",
    "src_vocab = 17000\n",
    "src_tokenizer = Tokenizer(num_words = src_vocab) # 단어 집합의 크기를 17,000으로 제한\n",
    "src_tokenizer.fit_on_texts(encoder_input_train)  # 단어 집합 재생성."
   ]
  },
  {
   "cell_type": "code",
   "execution_count": 28,
   "metadata": {},
   "outputs": [
    {
     "name": "stdout",
     "output_type": "stream",
     "text": [
      "[[569, 58, 45, 14, 3494, 48, 2775, 60, 95, 2073, 2167, 10688, 402, 1463, 1074, 7995, 5405, 4220, 1920, 4699, 1184, 2775, 4, 23, 611, 10228, 6, 5305, 7221, 21, 191, 565, 232, 96, 4220], [731, 33, 852, 1009, 715, 9463, 11856, 1621, 731, 1217, 2234, 7538, 2243, 1041, 70, 55, 3663, 3148, 6379, 656, 24, 146, 6138, 1417, 1040, 1036, 70, 947, 1520, 824, 630], [3964, 1486, 1723, 5935, 102, 53, 9464, 64, 2804, 1010, 9, 464, 5935, 5099, 521, 2043, 2091, 508, 1680, 6182, 9, 464, 90, 301, 816, 9, 319, 1]]\n"
     ]
    }
   ],
   "source": [
    "# 텍스트 시퀀스를 정수 시퀀스로 변환\n",
    "encoder_input_train = src_tokenizer.texts_to_sequences(encoder_input_train) \n",
    "encoder_input_test = src_tokenizer.texts_to_sequences(encoder_input_test)\n",
    "\n",
    "#잘 진행되었는지 샘플 출력\n",
    "print(encoder_input_train[:3])"
   ]
  },
  {
   "cell_type": "code",
   "execution_count": 29,
   "metadata": {},
   "outputs": [],
   "source": [
    "# headlines 데이터도 동일하게 진행\n",
    "\n",
    "tar_tokenizer = Tokenizer()\n",
    "tar_tokenizer.fit_on_texts(decoder_input_train)"
   ]
  },
  {
   "cell_type": "code",
   "execution_count": 30,
   "metadata": {},
   "outputs": [
    {
     "name": "stdout",
     "output_type": "stream",
     "text": [
      "단어 집합(vocabulary)의 크기 : 29898\n",
      "등장 빈도가 6번 이하인 희귀 단어의 수: 20495\n",
      "단어 집합에서 희귀 단어를 제외시킬 경우의 단어 집합의 크기 9403\n",
      "단어 집합에서 희귀 단어의 비율: 68.54973576827882\n",
      "전체 등장 빈도에서 희귀 단어 등장 빈도 비율: 6.69168573129838\n"
     ]
    }
   ],
   "source": [
    "threshold = 6\n",
    "total_cnt = len(tar_tokenizer.word_index) # 단어의 수\n",
    "rare_cnt = 0 # 등장 빈도수가 threshold보다 이하인 단어의 개수를 카운트\n",
    "total_freq = 0 # 훈련 데이터의 전체 단어 빈도수 총 합\n",
    "rare_freq = 0 # 등장 빈도수가 threshold보다 이하인 단어의 등장 빈도수의 총 합\n",
    "\n",
    "# 단어와 빈도수의 쌍(pair)을 key와 value로 받는다.\n",
    "for key, value in tar_tokenizer.word_counts.items():\n",
    "    total_freq = total_freq + value\n",
    "\n",
    "    # 단어의 등장 빈도수가 threshold보다 이하면\n",
    "    if(value <= threshold):\n",
    "        rare_cnt = rare_cnt + 1\n",
    "        rare_freq = rare_freq + value\n",
    "\n",
    "print('단어 집합(vocabulary)의 크기 :',total_cnt)\n",
    "print('등장 빈도가 %s번 이하인 희귀 단어의 수: %s'%(threshold, rare_cnt))\n",
    "print('단어 집합에서 희귀 단어를 제외시킬 경우의 단어 집합의 크기 %s'%(total_cnt - rare_cnt))\n",
    "print(\"단어 집합에서 희귀 단어의 비율:\", (rare_cnt / total_cnt)*100)\n",
    "print(\"전체 등장 빈도에서 희귀 단어 등장 빈도 비율:\", (rare_freq / total_freq)*100)"
   ]
  },
  {
   "cell_type": "code",
   "execution_count": 31,
   "metadata": {},
   "outputs": [],
   "source": [
    "# 빈도수가 6회 이하인 단어는 제외하고 단어 집합 크기를 9000으로 제한\n",
    "\n",
    "tar_vocab = 9000\n",
    "tar_tokenizer = Tokenizer(num_words = tar_vocab) \n",
    "tar_tokenizer.fit_on_texts(decoder_input_train)\n",
    "tar_tokenizer.fit_on_texts(decoder_target_train)"
   ]
  },
  {
   "cell_type": "code",
   "execution_count": 32,
   "metadata": {},
   "outputs": [
    {
     "name": "stdout",
     "output_type": "stream",
     "text": [
      "input  [[1, 2916, 1800, 59, 16, 3773], [1, 574, 1355, 5757, 6009, 659, 522, 14], [1, 2517, 226, 33, 433, 1132, 352], [1, 1735, 1736, 20, 373, 120, 3887, 21], [1, 3139, 707, 1469, 280, 56, 707, 363]]\n",
      "target  [[2916, 1800, 59, 16, 3773, 2], [574, 1355, 5757, 6009, 659, 522, 14, 2], [2517, 226, 33, 433, 1132, 352, 2], [1735, 1736, 20, 373, 120, 3887, 21, 2], [3139, 707, 1469, 280, 56, 707, 363, 2]]\n"
     ]
    }
   ],
   "source": [
    "# 텍스트 시퀀스를 정수 시퀀스로 변환\n",
    "decoder_input_train = tar_tokenizer.texts_to_sequences(decoder_input_train) \n",
    "decoder_target_train = tar_tokenizer.texts_to_sequences(decoder_target_train)\n",
    "decoder_input_test = tar_tokenizer.texts_to_sequences(decoder_input_test)\n",
    "decoder_target_test = tar_tokenizer.texts_to_sequences(decoder_target_test)\n",
    "\n",
    "#잘 변환되었는지 확인\n",
    "print('input ',decoder_input_train[:5])\n",
    "print('target ',decoder_target_train[:5])"
   ]
  },
  {
   "cell_type": "code",
   "execution_count": 33,
   "metadata": {},
   "outputs": [
    {
     "name": "stdout",
     "output_type": "stream",
     "text": [
      "삭제할 훈련 데이터의 개수 : 3\n",
      "삭제할 테스트 데이터의 개수 : 1\n",
      "훈련 데이터의 개수 : 78505\n",
      "훈련 레이블의 개수 : 78505\n",
      "테스트 데이터의 개수 : 19625\n",
      "테스트 레이블의 개수 : 19625\n"
     ]
    }
   ],
   "source": [
    "# 단어 집합 갯수로 각각 17000, 9000개로 제한하면서 빈 데이터가 발생할 수 있으므로 확인하여 제거하기\n",
    "\n",
    "drop_train = [index for index, sentence in enumerate(decoder_input_train) if len(sentence) == 1]\n",
    "drop_test = [index for index, sentence in enumerate(decoder_input_test) if len(sentence) == 1]\n",
    "\n",
    "print('삭제할 훈련 데이터의 개수 :',len(drop_train))\n",
    "print('삭제할 테스트 데이터의 개수 :',len(drop_test))\n",
    "\n",
    "encoder_input_train = np.delete(encoder_input_train, drop_train, axis=0)\n",
    "decoder_input_train = np.delete(decoder_input_train, drop_train, axis=0)\n",
    "decoder_target_train = np.delete(decoder_target_train, drop_train, axis=0)\n",
    "\n",
    "encoder_input_test = np.delete(encoder_input_test, drop_test, axis=0)\n",
    "decoder_input_test = np.delete(decoder_input_test, drop_test, axis=0)\n",
    "decoder_target_test = np.delete(decoder_target_test, drop_test, axis=0)\n",
    "\n",
    "print('훈련 데이터의 개수 :', len(encoder_input_train))\n",
    "print('훈련 레이블의 개수 :',len(decoder_input_train))\n",
    "print('테스트 데이터의 개수 :',len(encoder_input_test))\n",
    "print('테스트 레이블의 개수 :',len(decoder_input_test))"
   ]
  },
  {
   "cell_type": "code",
   "execution_count": 36,
   "metadata": {},
   "outputs": [],
   "source": [
    "# 패딩처리하기\n",
    "\n",
    "encoder_input_train = pad_sequences(encoder_input_train, maxlen = text_max_len, padding='post')\n",
    "encoder_input_test = pad_sequences(encoder_input_test, maxlen = text_max_len, padding='post')\n",
    "decoder_input_train = pad_sequences(decoder_input_train, maxlen = headlines_max_len, padding='post')\n",
    "decoder_target_train = pad_sequences(decoder_target_train, maxlen = headlines_max_len, padding='post')\n",
    "decoder_input_test = pad_sequences(decoder_input_test, maxlen = headlines_max_len, padding='post')\n",
    "decoder_target_test = pad_sequences(decoder_target_test, maxlen = headlines_max_len, padding='post')"
   ]
  },
  {
   "cell_type": "markdown",
   "metadata": {},
   "source": [
    "### Step 3. 어텐션 메커니즘 사용하기 (추상적 요약)"
   ]
  },
  {
   "cell_type": "code",
   "execution_count": 37,
   "metadata": {},
   "outputs": [],
   "source": [
    "# 모델 설계하기\n",
    "\n",
    "from tensorflow.keras.layers import Input, LSTM, Embedding, Dense, Concatenate\n",
    "from tensorflow.keras.models import Model\n",
    "from tensorflow.keras.callbacks import EarlyStopping, ModelCheckpoint\n",
    "\n",
    "\n",
    "# 인코더 설계 시작\n",
    "embedding_dim = 128\n",
    "hidden_size = 256\n",
    "\n",
    "# 인코더\n",
    "encoder_inputs = Input(shape=(text_max_len,))\n",
    "\n",
    "# 인코더의 임베딩 층\n",
    "enc_emb = Embedding(src_vocab, embedding_dim)(encoder_inputs)\n",
    "\n",
    "# 인코더의 LSTM 1\n",
    "encoder_lstm1 = LSTM(hidden_size, return_sequences=True, return_state=True ,dropout = 0.4, recurrent_dropout = 0.4)\n",
    "encoder_output1, state_h1, state_c1 = encoder_lstm1(enc_emb)\n",
    "\n",
    "# 인코더의 LSTM 2\n",
    "encoder_lstm2 = LSTM(hidden_size, return_sequences=True, return_state=True, dropout=0.4, recurrent_dropout=0.4)\n",
    "encoder_output2, state_h2, state_c2 = encoder_lstm2(encoder_output1)\n",
    "\n",
    "# 인코더의 LSTM 3\n",
    "encoder_lstm3 = LSTM(hidden_size, return_state=True, return_sequences=True, dropout=0.4, recurrent_dropout=0.4)\n",
    "encoder_outputs, state_h, state_c= encoder_lstm3(encoder_output2)\n"
   ]
  },
  {
   "cell_type": "code",
   "execution_count": 38,
   "metadata": {},
   "outputs": [],
   "source": [
    "# 디코더 설계\n",
    "\n",
    "decoder_inputs = Input(shape=(None,))\n",
    "\n",
    "# 디코더의 임베딩 층\n",
    "dec_emb_layer = Embedding(tar_vocab, embedding_dim)\n",
    "dec_emb = dec_emb_layer(decoder_inputs)\n",
    "\n",
    "# 디코더의 LSTM\n",
    "decoder_lstm = LSTM(hidden_size, return_sequences = True, return_state = True, dropout = 0.4, recurrent_dropout=0.2)\n",
    "decoder_outputs, _, _ = decoder_lstm(dec_emb, initial_state = [state_h, state_c])"
   ]
  },
  {
   "cell_type": "code",
   "execution_count": 39,
   "metadata": {},
   "outputs": [
    {
     "name": "stdout",
     "output_type": "stream",
     "text": [
      "Model: \"model\"\n",
      "__________________________________________________________________________________________________\n",
      "Layer (type)                    Output Shape         Param #     Connected to                     \n",
      "==================================================================================================\n",
      "input_1 (InputLayer)            [(None, 50)]         0                                            \n",
      "__________________________________________________________________________________________________\n",
      "embedding (Embedding)           (None, 50, 128)      2176000     input_1[0][0]                    \n",
      "__________________________________________________________________________________________________\n",
      "lstm (LSTM)                     [(None, 50, 256), (N 394240      embedding[0][0]                  \n",
      "__________________________________________________________________________________________________\n",
      "input_2 (InputLayer)            [(None, None)]       0                                            \n",
      "__________________________________________________________________________________________________\n",
      "lstm_1 (LSTM)                   [(None, 50, 256), (N 525312      lstm[0][0]                       \n",
      "__________________________________________________________________________________________________\n",
      "embedding_1 (Embedding)         (None, None, 128)    1152000     input_2[0][0]                    \n",
      "__________________________________________________________________________________________________\n",
      "lstm_2 (LSTM)                   [(None, 50, 256), (N 525312      lstm_1[0][0]                     \n",
      "__________________________________________________________________________________________________\n",
      "lstm_3 (LSTM)                   [(None, None, 256),  394240      embedding_1[0][0]                \n",
      "                                                                 lstm_2[0][1]                     \n",
      "                                                                 lstm_2[0][2]                     \n",
      "__________________________________________________________________________________________________\n",
      "dense (Dense)                   (None, None, 9000)   2313000     lstm_3[0][0]                     \n",
      "==================================================================================================\n",
      "Total params: 7,480,104\n",
      "Trainable params: 7,480,104\n",
      "Non-trainable params: 0\n",
      "__________________________________________________________________________________________________\n"
     ]
    }
   ],
   "source": [
    "# 디코더의 출력층\n",
    "decoder_softmax_layer = Dense(tar_vocab, activation = 'softmax')\n",
    "decoder_softmax_outputs = decoder_softmax_layer(decoder_outputs)\n",
    "\n",
    "# 모델 정의\n",
    "model = Model([encoder_inputs, decoder_inputs], decoder_softmax_outputs)\n",
    "model.summary()"
   ]
  },
  {
   "cell_type": "code",
   "execution_count": 40,
   "metadata": {},
   "outputs": [],
   "source": [
    "# 어텐션 메커니즘 적용하기\n",
    "\n",
    "urllib.request.urlretrieve(\"https://raw.githubusercontent.com/thushv89/attention_keras/master/src/layers/attention.py\", filename=\"attention.py\")\n",
    "from attention import AttentionLayer"
   ]
  },
  {
   "cell_type": "code",
   "execution_count": 41,
   "metadata": {},
   "outputs": [
    {
     "name": "stdout",
     "output_type": "stream",
     "text": [
      "Model: \"model_1\"\n",
      "__________________________________________________________________________________________________\n",
      "Layer (type)                    Output Shape         Param #     Connected to                     \n",
      "==================================================================================================\n",
      "input_1 (InputLayer)            [(None, 50)]         0                                            \n",
      "__________________________________________________________________________________________________\n",
      "embedding (Embedding)           (None, 50, 128)      2176000     input_1[0][0]                    \n",
      "__________________________________________________________________________________________________\n",
      "lstm (LSTM)                     [(None, 50, 256), (N 394240      embedding[0][0]                  \n",
      "__________________________________________________________________________________________________\n",
      "input_2 (InputLayer)            [(None, None)]       0                                            \n",
      "__________________________________________________________________________________________________\n",
      "lstm_1 (LSTM)                   [(None, 50, 256), (N 525312      lstm[0][0]                       \n",
      "__________________________________________________________________________________________________\n",
      "embedding_1 (Embedding)         (None, None, 128)    1152000     input_2[0][0]                    \n",
      "__________________________________________________________________________________________________\n",
      "lstm_2 (LSTM)                   [(None, 50, 256), (N 525312      lstm_1[0][0]                     \n",
      "__________________________________________________________________________________________________\n",
      "lstm_3 (LSTM)                   [(None, None, 256),  394240      embedding_1[0][0]                \n",
      "                                                                 lstm_2[0][1]                     \n",
      "                                                                 lstm_2[0][2]                     \n",
      "__________________________________________________________________________________________________\n",
      "attention_layer (AttentionLayer ((None, None, 256),  131328      lstm_2[0][0]                     \n",
      "                                                                 lstm_3[0][0]                     \n",
      "__________________________________________________________________________________________________\n",
      "concat_layer (Concatenate)      (None, None, 512)    0           lstm_3[0][0]                     \n",
      "                                                                 attention_layer[0][0]            \n",
      "__________________________________________________________________________________________________\n",
      "dense_1 (Dense)                 (None, None, 9000)   4617000     concat_layer[0][0]               \n",
      "==================================================================================================\n",
      "Total params: 9,915,432\n",
      "Trainable params: 9,915,432\n",
      "Non-trainable params: 0\n",
      "__________________________________________________________________________________________________\n"
     ]
    }
   ],
   "source": [
    "# 디코더의 출력층 수정하기\n",
    "\n",
    "# 어텐션 층(어텐션 함수)\n",
    "attn_layer = AttentionLayer(name='attention_layer')\n",
    "# 인코더와 디코더의 모든 time step의 hidden state를 어텐션 층에 전달하고 결과를 리턴\n",
    "attn_out, attn_states = attn_layer([encoder_outputs, decoder_outputs])\n",
    "\n",
    "# 어텐션의 결과와 디코더의 hidden state들을 연결\n",
    "decoder_concat_input = Concatenate(axis = -1, name='concat_layer')([decoder_outputs, attn_out])\n",
    "\n",
    "# 디코더의 출력층\n",
    "decoder_softmax_layer = Dense(tar_vocab, activation='softmax')\n",
    "decoder_softmax_outputs = decoder_softmax_layer(decoder_concat_input)\n",
    "\n",
    "# 모델 정의\n",
    "model = Model([encoder_inputs, decoder_inputs], decoder_softmax_outputs)\n",
    "model.summary()"
   ]
  },
  {
   "cell_type": "code",
   "execution_count": 42,
   "metadata": {},
   "outputs": [
    {
     "name": "stdout",
     "output_type": "stream",
     "text": [
      "Epoch 1/50\n",
      "307/307 [==============================] - 447s 1s/step - loss: 5.4703 - val_loss: 5.0399\n",
      "Epoch 2/50\n",
      "307/307 [==============================] - 435s 1s/step - loss: 4.9150 - val_loss: 4.7124\n",
      "Epoch 3/50\n",
      "307/307 [==============================] - 434s 1s/step - loss: 4.6148 - val_loss: 4.4686\n",
      "Epoch 4/50\n",
      "307/307 [==============================] - 433s 1s/step - loss: 4.3757 - val_loss: 4.2926\n",
      "Epoch 5/50\n",
      "307/307 [==============================] - 434s 1s/step - loss: 4.1764 - val_loss: 4.1566\n",
      "Epoch 6/50\n",
      "307/307 [==============================] - 430s 1s/step - loss: 4.0070 - val_loss: 4.0476\n",
      "Epoch 7/50\n",
      "307/307 [==============================] - 427s 1s/step - loss: 3.8647 - val_loss: 3.9712\n",
      "Epoch 8/50\n",
      "307/307 [==============================] - 430s 1s/step - loss: 3.7396 - val_loss: 3.9115\n",
      "Epoch 9/50\n",
      "307/307 [==============================] - 430s 1s/step - loss: 3.6272 - val_loss: 3.8341\n",
      "Epoch 10/50\n",
      "307/307 [==============================] - 428s 1s/step - loss: 3.5247 - val_loss: 3.7869\n",
      "Epoch 11/50\n",
      "307/307 [==============================] - 428s 1s/step - loss: 3.4334 - val_loss: 3.7542\n",
      "Epoch 12/50\n",
      "307/307 [==============================] - 432s 1s/step - loss: 3.3507 - val_loss: 3.7148\n",
      "Epoch 13/50\n",
      "307/307 [==============================] - 427s 1s/step - loss: 3.2754 - val_loss: 3.6869\n",
      "Epoch 14/50\n",
      "307/307 [==============================] - 426s 1s/step - loss: 3.2070 - val_loss: 3.6591\n",
      "Epoch 15/50\n",
      "307/307 [==============================] - 428s 1s/step - loss: 3.1398 - val_loss: 3.6429\n",
      "Epoch 16/50\n",
      "307/307 [==============================] - 429s 1s/step - loss: 3.0800 - val_loss: 3.6218\n",
      "Epoch 17/50\n",
      "307/307 [==============================] - 425s 1s/step - loss: 3.0233 - val_loss: 3.6048\n",
      "Epoch 18/50\n",
      "307/307 [==============================] - 428s 1s/step - loss: 2.9709 - val_loss: 3.5943\n",
      "Epoch 19/50\n",
      "307/307 [==============================] - 428s 1s/step - loss: 2.9199 - val_loss: 3.5845\n",
      "Epoch 20/50\n",
      "307/307 [==============================] - 428s 1s/step - loss: 2.8723 - val_loss: 3.5753\n",
      "Epoch 21/50\n",
      "307/307 [==============================] - 425s 1s/step - loss: 2.8244 - val_loss: 3.5734\n",
      "Epoch 22/50\n",
      "307/307 [==============================] - 427s 1s/step - loss: 2.7804 - val_loss: 3.5616\n",
      "Epoch 23/50\n",
      "307/307 [==============================] - 430s 1s/step - loss: 2.7359 - val_loss: 3.5538\n",
      "Epoch 24/50\n",
      "307/307 [==============================] - 433s 1s/step - loss: 2.6979 - val_loss: 3.5461\n",
      "Epoch 25/50\n",
      "307/307 [==============================] - 432s 1s/step - loss: 2.6637 - val_loss: 3.5464\n",
      "Epoch 26/50\n",
      "307/307 [==============================] - 434s 1s/step - loss: 2.6281 - val_loss: 3.5411\n",
      "Epoch 27/50\n",
      "307/307 [==============================] - 417s 1s/step - loss: 2.5952 - val_loss: 3.5363\n",
      "Epoch 28/50\n",
      "307/307 [==============================] - 425s 1s/step - loss: 2.5636 - val_loss: 3.5270\n",
      "Epoch 29/50\n",
      "307/307 [==============================] - 435s 1s/step - loss: 2.5312 - val_loss: 3.5371\n",
      "Epoch 30/50\n",
      "307/307 [==============================] - 448s 1s/step - loss: 2.4982 - val_loss: 3.5300\n",
      "Epoch 00030: early stopping\n"
     ]
    }
   ],
   "source": [
    "# 모델 훈련하기\n",
    "\n",
    "model.compile(optimizer='rmsprop', loss='sparse_categorical_crossentropy')\n",
    "es = EarlyStopping(monitor='val_loss', mode='min', verbose=1, patience = 2)\n",
    "history = model.fit(x = [encoder_input_train, decoder_input_train], y = decoder_target_train, \\\n",
    "          validation_data = ([encoder_input_test, decoder_input_test], decoder_target_test),\n",
    "          batch_size = 256, callbacks=[es], epochs = 50)"
   ]
  },
  {
   "cell_type": "code",
   "execution_count": 43,
   "metadata": {},
   "outputs": [
    {
     "data": {
      "image/png": "[encoded data removed]",
      "text/plain": [
       "<Figure size 432x288 with 1 Axes>"
      ]
     },
     "metadata": {
      "needs_background": "light"
     },
     "output_type": "display_data"
    }
   ],
   "source": [
    "# 손실 과정을 시각화하기\n",
    "\n",
    "plt.plot(history.history['loss'], label='train')\n",
    "plt.plot(history.history['val_loss'], label='test')\n",
    "plt.legend()\n",
    "plt.show()"
   ]
  },
  {
   "cell_type": "markdown",
   "metadata": {},
   "source": [
    "### Step 4. 실제 결과와 요약문 비교하기 (추상적 요약)"
   ]
  },
  {
   "cell_type": "code",
   "execution_count": 44,
   "metadata": {},
   "outputs": [],
   "source": [
    "# 인퍼런스 모델 구현하기\n",
    "\n",
    "src_index_to_word = src_tokenizer.index_word # 원문 단어 집합에서 정수 -> 단어를 얻음\n",
    "tar_word_to_index = tar_tokenizer.word_index # 요약 단어 집합에서 단어 -> 정수를 얻음\n",
    "tar_index_to_word = tar_tokenizer.index_word # 요약 단어 집합에서 정수 -> 단어를 얻음"
   ]
  },
  {
   "cell_type": "code",
   "execution_count": 45,
   "metadata": {},
   "outputs": [],
   "source": [
    "# 인코더 설계\n",
    "encoder_model = Model(inputs=encoder_inputs, outputs=[encoder_outputs, state_h, state_c])\n",
    "\n",
    "# 이전 시점의 상태들을 저장하는 텐서\n",
    "decoder_state_input_h = Input(shape=(hidden_size,))\n",
    "decoder_state_input_c = Input(shape=(hidden_size,))\n",
    "\n",
    "dec_emb2 = dec_emb_layer(decoder_inputs)\n",
    "# 문장의 다음 단어를 예측하기 위해서 초기 상태(initial_state)를 이전 시점의 상태로 사용. 이는 뒤의 함수 decode_sequence()에 구현\n",
    "# 훈련 과정에서와 달리 LSTM의 리턴하는 은닉 상태와 셀 상태인 state_h와 state_c를 버리지 않음.\n",
    "decoder_outputs2, state_h2, state_c2 = decoder_lstm(dec_emb2, initial_state=[decoder_state_input_h, decoder_state_input_c])"
   ]
  },
  {
   "cell_type": "code",
   "execution_count": 46,
   "metadata": {},
   "outputs": [],
   "source": [
    "# 어텐션 매커니즘을 사용한 출력층 설계\n",
    "\n",
    "# 어텐션 함수\n",
    "decoder_hidden_state_input = Input(shape=(text_max_len, hidden_size))\n",
    "attn_out_inf, attn_states_inf = attn_layer([decoder_hidden_state_input, decoder_outputs2])\n",
    "decoder_inf_concat = Concatenate(axis=-1, name='concat')([decoder_outputs2, attn_out_inf])\n",
    "\n",
    "# 디코더의 출력층\n",
    "decoder_outputs2 = decoder_softmax_layer(decoder_inf_concat) \n",
    "\n",
    "# 최종 디코더 모델\n",
    "decoder_model = Model(\n",
    "    [decoder_inputs] + [decoder_hidden_state_input,decoder_state_input_h, decoder_state_input_c],\n",
    "    [decoder_outputs2] + [state_h2, state_c2])"
   ]
  },
  {
   "cell_type": "code",
   "execution_count": 50,
   "metadata": {},
   "outputs": [],
   "source": [
    "# 단어 시퀀스를 생성하는 함수\n",
    "\n",
    "def decode_sequence(input_seq):\n",
    "    # 입력으로부터 인코더의 상태를 얻음\n",
    "    e_out, e_h, e_c = encoder_model.predict(input_seq)\n",
    "\n",
    "     # <SOS>에 해당하는 토큰 생성\n",
    "    target_seq = np.zeros((1,1))\n",
    "    target_seq[0, 0] = tar_word_to_index['sostoken']\n",
    "\n",
    "    stop_condition = False\n",
    "    decoded_sentence = ''\n",
    "    while not stop_condition: # stop_condition이 True가 될 때까지 루프 반복\n",
    "\n",
    "        output_tokens, h, c = decoder_model.predict([target_seq] + [e_out, e_h, e_c])\n",
    "        sampled_token_index = np.argmax(output_tokens[0, -1, :])\n",
    "        sampled_token = tar_index_to_word[sampled_token_index]\n",
    "\n",
    "        if(sampled_token!='eostoken'):\n",
    "            decoded_sentence += ' '+sampled_token\n",
    "\n",
    "        #  <eos>에 도달하거나 최대 길이를 넘으면 중단.\n",
    "        if (sampled_token == 'eostoken'  or len(decoded_sentence.split()) >= (headlines_max_len-1)):\n",
    "            stop_condition = True\n",
    "\n",
    "        # 길이가 1인 타겟 시퀀스를 업데이트\n",
    "        target_seq = np.zeros((1,1))\n",
    "        target_seq[0, 0] = sampled_token_index\n",
    "\n",
    "        # 상태를 업데이트 합니다.\n",
    "        e_h, e_c = h, c\n",
    "\n",
    "    return decoded_sentence"
   ]
  },
  {
   "cell_type": "code",
   "execution_count": 51,
   "metadata": {},
   "outputs": [],
   "source": [
    "# 원문의 정수 시퀀스를 텍스트 시퀀스로 변환\n",
    "def seq2text(input_seq):\n",
    "    temp=''\n",
    "    for i in input_seq:\n",
    "        if(i!=0):\n",
    "            temp = temp + src_index_to_word[i]+' '\n",
    "    return temp\n",
    "\n",
    "# 헤드라인의 정수 시퀀스를 텍스트 시퀀스로 변환\n",
    "def seq2headlines(input_seq):\n",
    "    temp=''\n",
    "    for i in input_seq:\n",
    "        if((i!=0 and i!=tar_word_to_index['sostoken']) and i!=tar_word_to_index['eostoken']):\n",
    "            temp = temp + tar_index_to_word[i] + ' '\n",
    "    return temp"
   ]
  },
  {
   "cell_type": "code",
   "execution_count": 52,
   "metadata": {},
   "outputs": [
    {
     "name": "stdout",
     "output_type": "stream",
     "text": [
      "원문 : three indo tibetan border force constables arrested allegedly molesting three minor national level table tennis players chhattisgarh constables asked players phone numbers made derogatory remarks returning training session attempted force girls go nearby camp fled called relative \n",
      "실제 헤드라인 : constables held molesting minor national level players \n",
      "예측 헤드라인 :  bsf jawan arrested assaulting year old boy\n",
      "\n",
      "\n",
      "원문 : paytm acquired majority stake merged entity deal discovery startups little internet company announced wednesday help strengthen offerings offline merchants enabling acquire customers deals paytm said merged entity reportedly expected valued million funding paytm \n",
      "실제 헤드라인 : little merge paytm acquires majority stake \n",
      "예측 헤드라인 :  paytm may buy stake alibaba backed firm\n",
      "\n",
      "\n",
      "원문 : accounting total crimes committed country uttar pradesh recorded highest number violent crimes murder crimes women according national crime records bureau state reported highest number murders registered total cases crimes women \n",
      "실제 헤드라인 : uttar pradesh records highest number crimes \n",
      "예측 헤드라인 :  migrants get highest ever crimes yrs\n",
      "\n",
      "\n",
      "원문 : fan priyanka chopra got tattoo shows actress statue liberty tattoo fan created new york based tattoo artiste shared picture tattoo instagram captioned liberty thanks brother \n",
      "실제 헤드라인 : priyanka fan gets tattoo showing statue \n",
      "예측 헤드라인 :  priyanka chopra fan gives birth house\n",
      "\n",
      "\n",
      "원문 : filmmaker sanjay leela bhansali said always stories honour great rajput warriors film padmaavat homage stories added padmaavat dream come true also thanked entire film fraternity supporting film team throughout \n",
      "실제 헤드라인 : padmaavat homage rajput bhansali \n",
      "예측 헤드라인 :  bhansali make film bhansali\n",
      "\n",
      "\n",
      "원문 : indian shuttlers pv sindhu saina nehwal respective round matches india open thursday set quarter final match world number five sindhu defeated year old japanese world number eight saina nehwal eased past thailand quarter final held friday \n",
      "실제 헤드라인 : pv sindhu saina nehwal clash india open quarters \n",
      "예측 헤드라인 :  sindhu saina reaches world number final indonesia\n",
      "\n",
      "\n",
      "원문 : first speech nation sworn prime minister cricketer turned politician imran khan said need servants prime minister house keep two stressing cutting government expenses said keep two vehicles assigned prime minister \n",
      "실제 헤드라인 : need servants keep pakistan pm \n",
      "예측 헤드라인 :  pm modi calls st vajpayee\n",
      "\n",
      "\n",
      "원문 : australian vice captain david warner said punch incident joe root helped transform cricketer man today learning said warner altercation two happened birmingham bar england defeated australia champions trophy following warner suspended fined \n",
      "실제 헤드라인 : punching joe root turning point pitch warner \n",
      "예측 헤드라인 :  warner breaks australian kock incident\n",
      "\n",
      "\n",
      "원문 : many eight people died ten injured van fell gorge uttarakhand sunday deceased taking body woman cremation accident happened police official said injured rushed nearby hospital three critically injured airlifted hospital \n",
      "실제 헤드라인 : van headed funeral falls uttarakhand gorge dead \n",
      "예측 헤드라인 :  dead falls gorge uttarakhand\n",
      "\n",
      "\n",
      "원문 : germany based airline said starting domestic airline india high taxes operation costs go make business business plans give hope successful official said hear domestic airline india making lot profit added \n",
      "실제 헤드라인 : starting local airline india \n",
      "예측 헤드라인 :  airline cuts two indian bank cut\n",
      "\n",
      "\n",
      "원문 : japan based robotic startup ceo said startup would like spacex founder elon musk know exists came startup put billboard outside spacex los angeles headquarters reading dear elon ambition another tokyo founded develops household robots \n",
      "실제 헤드라인 : would like elon musk know exist japan robotic startup \n",
      "예측 헤드라인 :  elon musk startup ceo elon musk\n",
      "\n",
      "\n",
      "원문 : uk government confirmed pnb fraud accused nirav modi presence country mos home affairs kiren rijiju said uk viewed safe wanted criminals countries raising issue like nirav liquor baron vijay mallya rijiju said india expects uk cooperation bringing back wanted men \n",
      "실제 헤드라인 : india tells uk provide safe wanted criminals \n",
      "예측 헤드라인 :  nirav modi us request india\n",
      "\n",
      "\n",
      "원문 : japan softbank group year old billionaire ceo masayoshi son wednesday said stepping anytime soon spend next decade identifying successor feel could possibly retire added son said successor would likely come company management ranks son left without successor since coo nikesh arora quit last year \n",
      "실제 헤드라인 : spend next years finding successor son \n",
      "예측 헤드라인 :  softbank softbank ceo satya softbank ceo\n",
      "\n",
      "\n",
      "원문 : late bollywood singer kishore kumar song pal ke liye movie mera naam featured episode american sitcom episode sitcom th season titled kiss kiss bang bangalore showed characters including simpson dancing song today marks legendary singer th birth anniversary \n",
      "실제 헤드라인 : kishore kumar pal ke song featured \n",
      "예측 헤드라인 :  sonakshi sinha star remake\n",
      "\n",
      "\n",
      "원문 : indian captain virat kohli ending year top ranked test cricketer icc test rankings kohli attained highest rating points ever india batsman year scored runs kohli overtook steve smith august held top position days \n",
      "실제 헤드라인 : virat kohli ends year top ranked test player \n",
      "예측 헤드라인 :  kohli top batsman spot test rankings\n",
      "\n",
      "\n",
      "원문 : election commission announced voters per polling stations paper roll attached paper trail machine cannot print slips explained process replacing paper roll polling polling stations upcoming himachal pradesh assembly polls paper trail machines \n",
      "실제 헤드라인 : voters per polling station election commission \n",
      "예측 헤드라인 :  ec bans polling polling stations vvpat paper vvpat machines\n",
      "\n",
      "\n",
      "원문 : mumbai first air conditioned suburban local train start operations january railway minister piyush goyal said wednesday officials said fares around times cost first class tickets existing local trains train reportedly scheduled run month delayed due operational issues \n",
      "실제 헤드라인 : mumbai first ac local train run january \n",
      "예측 헤드라인 :  mumbai st ac local train mumbai\n",
      "\n",
      "\n",
      "원문 : indian air force dismissed pilot sentenced two years imprisonment assaulting senior refusing eat stealing officers mess officer suffered knee injury following declared unfit fly transport aircraft previously claimed harassed following injury \n",
      "실제 헤드라인 : iaf pilot gets jail stealing refusing eat \n",
      "예측 헤드라인 :  iaf pilot jailed yrs assaulting drunk man\n",
      "\n",
      "\n",
      "원문 : single edition wimbledon kilograms litres cream consumed kg consumed event last year wimbledon british tradition eating cream thought begun victorian times sold wimbledon small boxes called \n",
      "실제 헤드라인 : kg cream used last wimbledon \n",
      "예측 헤드라인 :  ice cream kg cream wimbledon\n",
      "\n",
      "\n",
      "원문 : teenage couple trying murdered family members using electric shocks case honour killing pakistan karachi police said innocent tied given electric shocks police added tribal council reportedly ordered couple killing bringing community \n",
      "실제 헤드라인 : pak teen couple electrocuted honour killing \n",
      "예측 헤드라인 :  couple killed family honour killing\n",
      "\n",
      "\n",
      "원문 : union sports minister vijay goel written delhi lieutenant governor anil baijal state chandni chowk goel two time mp chandni chowk reportedly requested initiate action restoration development also urged implementation board suggestions preserve restore chandni chowk heritage \n",
      "실제 헤드라인 : sports minister complains chowk poor state \n",
      "예측 헤드라인 :  delhi minister gets full night office office\n",
      "\n",
      "\n",
      "원문 : joe rooney year old golfer scored two holes one single round odds happening million one rooney achieved feat third seventh holes county golf club england later revealed first time ever hit hole one let alone two \n",
      "실제 헤드라인 : yr old golfer hits holes one one round \n",
      "예측 헤드라인 :  yr old scores mn one one year\n",
      "\n",
      "\n",
      "원문 : year old house moved nearly metres degree make room commercial building china shanghai displacement process began april parts building ensure survived relocation contractor revealed building moved computer controlled machines along guide rail \n",
      "실제 헤드라인 : video year old china house moved degrees \n",
      "예측 헤드라인 :  man spends china building china weeks\n",
      "\n",
      "\n",
      "원문 : maharashtra minister vinod monday announced precautionary holiday schools colleges mumbai metropolitan region safety students added heavy rains predicted advised everyone stay safe south mumbai recorded mm rain suburbs recorded mm \n",
      "실제 헤드라인 : holiday declared mumbai schools colleges due rains \n"
     ]
    },
    {
     "name": "stdout",
     "output_type": "stream",
     "text": [
      "예측 헤드라인 :  maharashtra students get free wifi colleges\n",
      "\n",
      "\n",
      "원문 : indian football fan russia fifa world cup died car crash saturday near venue city sochi taxi driver fan died spot vehicle wrong side road crashed bus another indian hospitalised \n",
      "실제 헤드라인 : indian fan dies car crash russia near world cup venue \n",
      "예측 헤드라인 :  russian fan wc final shot dead fifa world cup\n",
      "\n",
      "\n",
      "원문 : london headquartered startup teamed harry potter franchise coding app help teach basic coding skills equipped motion sensor connects pc tablet via bluetooth produce complete challenges launched developed computer kits help people assemble computers scratch \n",
      "실제 헤드라인 : startup makes harry potter app teach coding via \n",
      "예측 헤드라인 :  startup offers lakh help find mobile phones\n",
      "\n",
      "\n",
      "원문 : official teaser dharmendra sunny deol bobby deol starrer yamla pagla deewana phir se released third film yamla pagla deewana film series directed singh also starring kriti yamla pagla deewana phir se scheduled release august \n",
      "실제 헤드라인 : teaser yamla pagla deewana phir se released \n",
      "예측 헤드라인 :  teaser sushant kriti sanon starrer raabta\n",
      "\n",
      "\n",
      "원문 : year old us shot live video instagram succumbed injuries police said another incident video showing us based man shot head two passengers car gun streamed live facebook \n",
      "실제 헤드라인 : year old death us instagram \n",
      "예측 헤드라인 :  video shows gun gun accidentally shoots video\n",
      "\n",
      "\n",
      "원문 : nearly three policemen average india deployed protect one vip one cop every common citizens according bureau police research development report data states lakh police officers protecting vips also revealed national capital policemen vips \n",
      "실제 헤드라인 : cops protect vip common people \n",
      "예측 헤드라인 :  noida police report reported india\n",
      "\n",
      "\n",
      "원문 : microsoft co founder bill gates thursday said indian education system biggest disappointment country adding wanted create higher expectations speaking collaboration indian government build toilets part swachh bharat abhiyan gates said real challenge get people use facilities available \n",
      "실제 헤드라인 : india education system biggest gates \n",
      "예측 헤드라인 :  bill gates praises economy privatisation swachh bharat\n",
      "\n",
      "\n",
      "원문 : dairy cooperative amul released new poster wedding cricketer virat kohli actress anushka sharma poster captioned kohli mehndi reads amul vi rush sharing poster amul official twitter handle wrote amul much awaited indian cricket captain bollywood actress marriage \n",
      "실제 헤드라인 : amul releases poster virat kohli anushka wedding \n",
      "예측 헤드라인 :  amul anushka anushka sharma pari parineeti chopra\n",
      "\n",
      "\n",
      "원문 : tripura police arrested prime suspect seven others connection murder man appointed state government run anti rumour campaign police said prime suspect present spot incident beginning end video shows beating victim \n",
      "실제 헤드라인 : prime suspect held tripura anti rumour activist murder \n",
      "예측 헤드라인 :  hafiz saeed held plot tripura\n",
      "\n",
      "\n",
      "원문 : commerce giant amazon briefly crossed billion market cap first time history wednesday becoming second company apple achieve milestone comes amazon announced sold million products prime day sale apple currently world valuable company market cap billion \n",
      "실제 헤드라인 : amazon nd company hit billion valuation apple \n",
      "예측 헤드라인 :  amazon amazon becomes world valuable company\n",
      "\n",
      "\n",
      "원문 : actress priyanka chopra talking revealed posted picture dog diana got comments like going nowhere like dog told look like tomato selfie added priyanka said comments affect even strongest people affect \n",
      "실제 헤드라인 : troll going like dog priyanka \n",
      "예측 헤드라인 :  priyanka fan us met\n",
      "\n",
      "\n",
      "원문 : flipkart co founder former group ceo binny bansal may invest million mumbai based online insurance startup per reports investment reportedly part larger funding round million binny largest one till date founded varun dua amazon backed raised around million total \n",
      "실제 헤드라인 : flipkart binny may invest mn mumbai startup reports \n",
      "예측 헤드라인 :  flipkart co founder bansal may invest mn report\n",
      "\n",
      "\n",
      "원문 : us based researchers developed smartphone controlled diagnostic device detect zika dengue chikungunya within minutes device weighs less half kg costs around device blood sample repeatedly causes rapid dna followed image analysis app giving quick diagnosis mosquito caused disease \n",
      "실제 헤드라인 : new device created detect zika dengue min \n",
      "예측 헤드라인 :  smart detects cancer developed\n",
      "\n",
      "\n",
      "원문 : asserting saving farmers government priority karnataka chief minister hd kumaraswamy promised waive farm loans within days insisted going back getting calculated whatever thousand crore rupees saving government responsibility told gathering farmers \n",
      "실제 헤드라인 : taka cm kumaraswamy promises farm loan waiver days \n",
      "예측 헤드라인 :  karnataka cm calls farm loan waiver\n",
      "\n",
      "\n",
      "원문 : nearly employees jaguar land rover castle plant england move three day work week move aimed reducing production amid adverse automotive industry environment caused brexit decrease sales diesel cars expected work reduced hours least christmas \n",
      "실제 헤드라인 : employees adopt day work week england \n",
      "예측 헤드라인 :  australia cuts record oil field\n",
      "\n",
      "\n",
      "원문 : man detained mumbai police tuesday allegedly carrying kg meat suspected beef seized meat handed municipal authorities disposal police official said police trying find ordered consignment \n",
      "실제 헤드라인 : man detained carrying kg beef mumbai \n",
      "예측 헤드라인 :  man held smuggling beef mumbai airport\n",
      "\n",
      "\n",
      "원문 : icc issued apology retweeting old video pm narendra modi jailed self styled godman asaram caption narayan narayan adding non cricket related tweet feed icc said launched investigation happened asaram wednesday sentenced life imprisonment raping minor \n",
      "실제 헤드라인 : icc apologises sharing pm modi asaram video twitter \n",
      "예측 헤드라인 :  icc apologises pm modi tweet rape row\n",
      "\n",
      "\n",
      "원문 : actor michael said though loved filmmaker woody allen thought great guy stunned child abuse allegations greatest crime child abuse ill treated evacuated recipient child abuse added \n",
      "실제 헤드라인 : loved allen child abuse row \n",
      "예측 헤드라인 :  would love rape would would alive would actor\n",
      "\n",
      "\n",
      "원문 : railways started installing wires seal illegal entry exit points railway premises across mumbai stop people crossing tracks decision taken found around commuters die local railway network annually deaths take place commuters cross tracks \n",
      "실제 헤드라인 : mumbai stations get stop track crossing \n",
      "예측 헤드라인 :  railways coaches trains cancelled\n",
      "\n",
      "\n",
      "원문 : police arrested people charged murder inciting violence series mob attacks killed around seven people suspicion attacks started last month rumours blood incidents country police said robbers taking advantage situation setting harass people \n",
      "실제 헤드라인 : cops arrest crackdown attacks \n",
      "예측 헤드라인 :  arrested attack murder case\n",
      "\n",
      "\n",
      "원문 : rahul dravid coached india team world cup saturday cricketer turned commentator virender sehwag tweeted every indian delighted credit rahul dravid committing young kids legend like deserves lay hands wc fitting added india boys hands dravid \n",
      "실제 헤드라인 : legend like dravid deserves lay hands wc sehwag \n",
      "예측 헤드라인 :  dravid rahul dravid tweet dravid\n",
      "\n",
      "\n",
      "원문 : amidst prolonged border standoff doklam chinese people liberation army asked indian army withdraw chinese territory avoid confrontation message delivered visit indian journalists sponsored chinese government troops also demonstrated sharp shooting combat skills front indian media \n",
      "실제 헤드라인 : withdraw doklam avoid india \n",
      "예측 헤드라인 :  chinese army chief asks doklam chinese army\n",
      "\n",
      "\n",
      "원문 : farewell message fast bowler praveen kumar team india opener rohit sharma wrote cannot forget praveen magical spell australia series second final kumar registered figures help india win series year old pacer announced retirement forms cricket october \n",
      "실제 헤드라인 : cannot forget spell vs aus rohit \n",
      "예측 헤드라인 :  rohit shetty stand gavaskar maxwell\n",
      "\n",
      "\n",
      "원문 : live video facebook claiming show super blue blood moon greece used nine year old still image moon according reports image current sound wind added video garnered million views facebook said video removed violating policies \n",
      "실제 헤드라인 : fb video showing old pic gets million views \n",
      "예측 헤드라인 :  facebook tests video showing humans moon\n",
      "\n",
      "\n",
      "원문 : us industrial conglomerate general electric lost nearly billion market capitalisation since peak years ago ge shares fallen since record august year old company worth around billion surprise announcement monday ge said replacing ceo john months \n",
      "실제 헤드라인 : general electric lost billion market cap since \n",
      "예측 헤드라인 :  us net worth first time since\n",
      "\n",
      "\n",
      "원문 : pakistan national counter terrorism authority called enhanced security mumbai attack mastermind hafiz saeed claiming foreign intelligence agency planning kill anti terror body claimed foreign agency paid rs million two activists saeed assassination saeed house arrest since january law order fears \n",
      "실제 헤드라인 : foreign agency planning kill attack mastermind pak \n"
     ]
    },
    {
     "name": "stdout",
     "output_type": "stream",
     "text": [
      "예측 헤드라인 :  pak isi mastermind hafiz saeed\n",
      "\n",
      "\n",
      "원문 : uk based study revealed freezing temperatures deep waters could hamper oil bacteria ability help oceans recover researchers found compared bacteria believed played important role oil horizon disaster due favourable temperatures \n",
      "실제 헤드라인 : freezing waters barrier oil spill recovery study \n",
      "예측 헤드라인 :  antarctica climate change study\n",
      "\n",
      "\n"
     ]
    }
   ],
   "source": [
    "# 테스트 데이터 50개 샘플에 대해 실제 데이터와 예측된 데이터를 비교하기\n",
    "\n",
    "for i in range(50, 100):\n",
    "    print(\"원문 :\", seq2text(encoder_input_test[i]))\n",
    "    print(\"실제 헤드라인 :\", seq2headlines(decoder_input_test[i]))\n",
    "    print(\"예측 헤드라인 :\", decode_sequence(encoder_input_test[i].reshape(1, text_max_len)))\n",
    "    print(\"\\n\")"
   ]
  },
  {
   "cell_type": "markdown",
   "metadata": {},
   "source": [
    "### Step 5. Summa을 이용해서 추출적 요약해보기"
   ]
  },
  {
   "cell_type": "code",
   "execution_count": 53,
   "metadata": {},
   "outputs": [],
   "source": [
    "import requests\n",
    "from summa.summarizer import summarize"
   ]
  },
  {
   "cell_type": "code",
   "execution_count": 83,
   "metadata": {},
   "outputs": [],
   "source": [
    "urllib.request.urlretrieve(\"https://raw.githubusercontent.com/sunnysai12345/News_Summary/master/news_summary_more.csv\", filename=\"news_summary_more.csv\")\n",
    "data = pd.read_csv('news_summary_more.csv', encoding='iso-8859-1')"
   ]
  },
  {
   "cell_type": "code",
   "execution_count": 88,
   "metadata": {},
   "outputs": [
    {
     "name": "stdout",
     "output_type": "stream",
     "text": [
      "원문 : German multinational engineering and electronics firm Bosch has made its first investment in India in Bengaluru-based deep-tech startup SimYog. SimYog has raised about Ã¢ÂÂ¹6.3 crore in the funding round, with participation from early-stage venture capital firm Ideaspring Capital. Incubated at the Indian Institute of Science (IISc), it provides design and sign-off tools for automotive electronics.\n",
      "실제 헤드라인 : Bosch makes its 1st India investment in IISc spinoff SimYog\n",
      "예측 헤드라인 : \n",
      "\n",
      "\n",
      "원문 : Mumbai-headquartered talent technology startup Shortlist has raised $2 million in a Series A round of funding. The round was led by Blue Haven Initiative, with participation from Compass Venture Capital, Zephyr Acorn among others. Founded by Simon Desjardins, Paul Breloff and Matt Schnuck, Shortlist screens candidates using predictive chat-based interviews and online competency-based assessments.\n",
      "실제 헤드라인 : Mumbai's talent tech startup Shortlist raises $2 million\n",
      "예측 헤드라인 : Mumbai-headquartered talent technology startup Shortlist has raised $2 million in a Series A round of funding.\n",
      "\n",
      "\n",
      "원문 : MIT engineers have developed a jelly-like ingestible pill that expands inside the stomach and can be used to monitor conditions like cancers and ulcers for up to a month. The pill, made using two types of hydrogels, is embedded with a sensor that continuously tracks the stomach's temperature. It can be removed by drinking a calcium-ion solution that shrinks it.\n",
      "실제 헤드라인 : MIT makes pill that expands in stomach to track cancer, ulcer\n",
      "예측 헤드라인 : MIT engineers have developed a jelly-like ingestible pill that expands inside the stomach and can be used to monitor conditions like cancers and ulcers for up to a month.\n",
      "\n",
      "\n",
      "원문 : New York's Columbia University neuro-engineers claim to have developed a system that can convert human brain signals directly into speech using artificial intelligence. Researchers revealed a computer algorithm 'vocoder' was used. \"This is the same technology used by Amazon Echo and Apple Siri to give verbal responses to our questions,\" senior author of the study Nima Mesgarani said.\n",
      "실제 헤드라인 : Brain signals converted directly into speech using AI: Study\n",
      "예측 헤드라인 : New York's Columbia University neuro-engineers claim to have developed a system that can convert human brain signals directly into speech using artificial intelligence.\n",
      "\n",
      "\n",
      "원문 : A team of IIT-Roorkee scientists is testing a floating device that can generate electricity from flowing surface water of rivers. Instead of using water falling from height to turn turbines like in traditional dams, the prototype uses velocity of flowing river, professor RP Saini said. \"Flowing water can generate hundred times more power than wind of same velocity,\" Saini added.\n",
      "실제 헤드라인 : IIT Roorkee tests device to generate electricity from river flow\n",
      "예측 헤드라인 : \"Flowing water can generate hundred times more power than wind of same velocity,\" Saini added.\n",
      "\n",
      "\n",
      "원문 : A 22-year-old woman died after she fell down a flight of stairs in a New York City subway station while carrying her one-year-old baby in a pram. The station where she died didn't have elevators. Only about a quarter of New York City's 472 subway stations have elevators, making the rest inaccessible to people in wheelchairs and parents carrying prams.\n",
      "실제 헤드라인 : US woman carrying baby dies after falling down stairs in subway\n",
      "예측 헤드라인 : Only about a quarter of New York City's 472 subway stations have elevators, making the rest inaccessible to people in wheelchairs and parents carrying prams.\n",
      "\n",
      "\n",
      "원문 : The country's largest fuel retailer Indian Oil Corporation on Wednesday reported a 91% year-on-year decline in its net profit at Ã¢ÂÂ¹717 crore for the December quarter. The fall in profit came amid increased expenses which stood at Ã¢ÂÂ¹1.6 lakh crore and rise in foreign exchange loss. The company's domestic sales increased 2.8% from the year-ago period to 21.545 million tonnes.\n",
      "실제 헤드라인 : Indian Oil third-quarter profit plunges 91% to Ã¢ÂÂ¹717 crore\n",
      "예측 헤드라인 : The fall in profit came amid increased expenses which stood at Ã¢ÂÂ¹1.6 lakh crore and rise in foreign exchange loss.\n",
      "\n",
      "\n",
      "원문 : Speaking about the incident when her private pictures were leaked online, actress Hansika Motwani said, \"Certain people [said] since I anyway did bikini shoots...what's the big deal if such pictures are leaked?\" \"When I do...bikini shoot, I'm doing it out of my own choice. Here it's being circulated without...consent,\" she added. Hansika said some of the leaked pictures were morphed.\n",
      "실제 헤드라인 : People said I did bikini shoots anyway: Hansika on private pics leak\n",
      "예측 헤드라인 : Speaking about the incident when her private pictures were leaked online, actress Hansika Motwani said, \"Certain people [said] since I anyway did bikini shoots...what's the big deal if such pictures are leaked?\" \"When I do...bikini shoot, I'm doing it out of my own choice.\n",
      "\n",
      "\n",
      "원문 : Pakistan captain Sarfaraz Ahmed has said that former fast bowler Shoaib Akhtar was not criticising but personally attacking him over the four-match ban handed to him by the ICC over his 'Abey Kaale' remark on South Africa's Andile Phehlukwayo. Akhtar had said that Sarfaraz's comments were unacceptable and that he had gotten off easily with a four-match suspension.\n",
      "실제 헤드라인 : Akhtar not criticising but personally attacking me: Sarfaraz Ahmed\n",
      "예측 헤드라인 : \n",
      "\n",
      "\n",
      "원문 : Apple on Tuesday said its sales in China fell 27% in the December quarter, representing nearly $5 billion of lost revenue. Apple's overall revenue fell 4.5% to $84.3 billion during the quarter while profit fell slightly to $19.97 billion. Notably, the iPhone maker reported a decline in both revenue and profits for the first time in more than 10 years.\n",
      "실제 헤드라인 : Apple loses $5 billion in revenue from China last quarter\n",
      "예측 헤드라인 : Apple's overall revenue fell 4.5% to $84.3 billion during the quarter while profit fell slightly to $19.97 billion.\n",
      "\n",
      "\n",
      "원문 : After Congress President Rahul Gandhi's recent poll promises like Minimum Income Guarantee and women's reservation, scholar and activist Madhu Kishwar tweeted, \"Wait till Rahul Gandhi also promises free sex for every adult male for a certain number of days every year!\" Several people criticised her for the remark, with one saying, \"I can't believe you have written it. Stumped. Sad.\"\n",
      "실제 헤드라인 : Activist says 'Wait till Rahul also promises free sex', criticised\n",
      "예측 헤드라인 : After Congress President Rahul Gandhi's recent poll promises like Minimum Income Guarantee and women's reservation, scholar and activist Madhu Kishwar tweeted, \"Wait till Rahul Gandhi also promises free sex for every adult male for a certain number of days every year!\" Several people criticised her for the remark, with one saying, \"I can't believe you have written it.\n",
      "\n",
      "\n",
      "원문 : After Congress chief Rahul Gandhi claimed Goa CM Manohar Parrikar told him he had \"nothing to do with the new Rafale deal,\" BJP minister Mauvin Godinho asked Rahul \"not to politicise a courtesy visit.\" Godinho added, \"It wasn't the right thing for Rahul Gandhi to do...When you come to enquire about a person's health, it should be limited to that.\" \n",
      "실제 헤드라인 : Don't politicise visit to Parrikar, BJP minister tells Rahul\n",
      "예측 헤드라인 : \n",
      "\n",
      "\n",
      "원문 : BJP MLA Surendra Singh on Wednesday compared Congress President Rahul Gandhi and his sister, Priyanka Gandhi, to 'Ravana' and 'Surpanakha' from Ramayana. \"Just how Ravana pushed his sister Surpanakha in the war ahead of him, Rahul Gandhi has pushed his sister (Priyanka) in the fray...We are blessed with a leader like (PM) Narendra Modi,\" Singh said.\n",
      "실제 헤드라인 : Ravana pushed sister Surpanakha into war, Rahul did same: BJP MLA\n",
      "예측 헤드라인 : \n",
      "\n",
      "\n",
      "원문 : All India Anna Dravida Munnetra Kazhagam (AIADMK) has told party leaders who want to contest the upcoming Lok Sabha polls to pay Ã¢ÂÂ¹25,000 while submitting their application forms. The fee is applicable for a total of 40 seats in Tamil Nadu and Puducherry. AIADMK had issued a similar notification for party ticket aspirants ahead of the 2014 Lok Sabha polls. \n",
      "실제 헤드라인 : Pay Ã¢ÂÂ¹25,000 to contest LS polls: AIADMK to ticket seekers\n",
      "예측 헤드라인 : All India Anna Dravida Munnetra Kazhagam (AIADMK) has told party leaders who want to contest the upcoming Lok Sabha polls to pay Ã¢ÂÂ¹25,000 while submitting their application forms.\n",
      "\n",
      "\n",
      "원문 : A special CBI court in Guwahati has awarded life sentence to National Democratic Front of Bodoland founder and chief Ranjan Daimary and nine others in connection with the 2008 Assam serial blasts, which killed 88 people. Around 11 bombs went off across Assam in the attacks that took place almost a month before 26/11 Mumbai attack.\n",
      "실제 헤드라인 : Bodo outfit head gets life term for 2008 Assam blasts that killed 88\n",
      "예측 헤드라인 : \n",
      "\n",
      "\n",
      "원문 : The Supreme Court today allowed former Finance Minister P Chidambaram's son Karti Chidambaram to travel abroad but warned him, \"You can go wherever you want...but don't play around with the law.\" The court also directed Karti, an accused in the Aircel-Maxis case, to deposit Ã¢ÂÂ¹10 crore as surety and warned him of action in case of \"an iota of non-cooperation.\"\n",
      "실제 헤드라인 : Don't play around with the law, SC warns Karti Chidambaram\n",
      "예측 헤드라인 : \n",
      "\n",
      "\n",
      "원문 : Wayanad District Congress Committee member OM George has been booked for allegedly sexually assaulting a minor tribal girl for one and a half years in Kerala. George, who is currently absconding, was suspended from the primary membership of the party. Meanwhile, the girl has been shifted to a government-run shelter home. \n",
      "실제 헤드라인 : Kerala Congress leader charged for raping girl for 1.5 years\n",
      "예측 헤드라인 : Wayanad District Congress Committee member OM George has been booked for allegedly sexually assaulting a minor tribal girl for one and a half years in Kerala.\n",
      "\n",
      "\n",
      "원문 : Goa CM Manohar Parrikar, who is also the state Finance Minister, presented the annual budget in the state Assembly on Wednesday with a tube in his nose. Suffering from a pancreatic ailment for months, Parrikar said he was in full 'hosh' (consciousness) after Goa Congress chief Girish Chodankar said the CM should come back to 'hosh' before speaking about 'josh'. \n",
      "실제 헤드라인 : I'm in full hosh: CM Parrikar presents Goa budget with tube in nose\n",
      "예측 헤드라인 : \n",
      "\n",
      "\n",
      "원문 : The Delhi Police has registered an FIR against SpiceJet Chairman and MD Ajay Singh and seven other directors in a cheating case. A Delhi-based private consultant alleged that they used his services in the aviation sector, but did not pay his fees. \"The complainant has defrauded the company and is now filing frivolous complaints to extract money,\" SpiceJet said.\n",
      "실제 헤드라인 : Delhi consultant accuses SpiceJet MD of cheating, police file FIR\n",
      "예측 헤드라인 : The Delhi Police has registered an FIR against SpiceJet Chairman and MD Ajay Singh and seven other directors in a cheating case.\n",
      "\n",
      "\n",
      "원문 : Mahindra Group's Chairman Anand Mahindra took to Twitter to share the picture of a menu featuring a dish named 'Delicious roasted husband'. He captioned it, \"I'm certainly going to think twice about visiting this restaurant with my wife. Don't want her getting any creative ideas....!\" Reacting to his tweet, a user commented, \"Doesn't the wife roast the husband daily?\"\n",
      "실제 헤드라인 : Anand Mahindra shares menu with dish 'delicious roasted husband'\n",
      "예측 헤드라인 : Don't want her getting any creative ideas....!\" Reacting to his tweet, a user commented, \"Doesn't the wife roast the husband daily?\"\n",
      "\n",
      "\n",
      "원문 : Deepika Padukone has taken over as chairperson of Mumbai Academy of Moving Image (MAMI), replacing filmmaker Kiran Rao, who served as chairperson for four years. \"I believe in MAMIÃ¢ÂÂs vision and we are committed towards creating a community that cinema lovers and creators...truly deserve,Ã¢ÂÂ Deepika said. Kiran Rao reportedly stepped down as chairperson to focus on a film project.\n",
      "실제 헤드라인 : Deepika Padukone replaces Kiran Rao as chairperson of MAMI\n",
      "예측 헤드라인 : Deepika Padukone has taken over as chairperson of Mumbai Academy of Moving Image (MAMI), replacing filmmaker Kiran Rao, who served as chairperson for four years.\n",
      "\n",
      "\n",
      "원문 : A 14-year-old US boy's mother claims he found Apple's Group FaceTime call bug over a week before it went viral while setting up call to play Fortnite with his friends. Grant Thompson's mother said she tweeted about the bug on January 21 but didn't receive a response from Apple. FaceTime Group calls were disabled by Apple pending a software update.\n",
      "실제 헤드라인 : 14-year-old son found FaceTime bug a week ago, claims mother\n",
      "예측 헤드라인 : A 14-year-old US boy's mother claims he found Apple's Group FaceTime call bug over a week before it went viral while setting up call to play Fortnite with his friends.\n",
      "\n",
      "\n",
      "원문 : Facebook has been paying some users up to $20 a month since 2016 to install VPN app 'Facebook Research' to access their private data, according to a TechCrunch report. The program, that targets users aged 13-35 years through ads, reportedly accessed private messages, search history, and Amazon order history. Facebook said it'll remove the app's iOS version, the report added.\n",
      "실제 헤드라인 : FB paid some users $20 a month to access their data: Report\n",
      "예측 헤드라인 : Facebook has been paying some users up to $20 a month since 2016 to install VPN app 'Facebook Research' to access their private data, according to a TechCrunch report.\n",
      "\n",
      "\n",
      "원문 : Chhattisgarh Chief Minister Bhupesh Baghel has said that Maintenance of Internal Security Act (MISA) detainees are \"not freedom fighters\" and they should not get a pension. The state government on Tuesday ordered all Commissioners and District Collectors to put on hold disbursement of pension for MISA detainees from February onwards. The government also ordered their physical verification.\n",
      "실제 헤드라인 : MISA detainees are not freedom fighters: Chhattisgarh CM\n",
      "예측 헤드라인 : The state government on Tuesday ordered all Commissioners and District Collectors to put on hold disbursement of pension for MISA detainees from February onwards.\n",
      "\n",
      "\n",
      "원문 : After Congress President Rahul Gandhi claimed Goa CM Manohar Parrikar had told him he had nothing to do with the new Rafale deal, OSD (Officer on Special Duty) to Parrikar, Prasanna Karthik called Rahul \"a compulsive liar.\" Karthik accused Rahul of \"shamelessly\" lying about Parrikar after claiming he wanted to meet the CM to wish the latter a speedy recovery.\n",
      "실제 헤드라인 : Rahul Gandhi is a compulsive liar, says Goa CM's OSD\n",
      "예측 헤드라인 : \n",
      "\n",
      "\n",
      "원문 : Uttar Pradesh minister Om Prakash Rajbhar on Wednesday took a dig at the state cabinet ministers who had gone to take a holy dip in the Sangam, saying that they were washing off their sins in the river. Rajbhar alleged that corruption in the present government was four times more than what it was during the SP and BSP governments.\n",
      "실제 헤드라인 : UP ministers took dip in Sangam to wash their sins: Rajbhar\n",
      "예측 헤드라인 : \n",
      "\n",
      "\n",
      "원문 : After Congress leader Shashi Tharoor took a jibe at UP CM Yogi Adityanath's holy dip in the Ganga, BJP spokesman Nalin Kohli said, \"This is very unfortunate.\" Nalin added, \"An extremely educated and respected person like Tharoor always comes up with such kind of comments related to practices of the Hindu religion... Tharoor must show respect for other people too.\"\n",
      "실제 헤드라인 : BJP calls Tharoor's jibe at Yogi's holy dip 'unfortunate'\n",
      "예측 헤드라인 : \n",
      "\n",
      "\n",
      "원문 : The Gujarat government has asked ride-hailing services like Ola and Uber to start electric vehicle services. The state energy department, led by Gujarat's Energy Minister Saurabh Patel, is working on creating a policy to provide required infrastructure to mass-run electric vehicles. Patel said recharge stations with charged batteries will be available in a manner similar to existing petrol pumps.\n",
      "실제 헤드라인 : Gujarat govt asks Ola, Uber to start electric taxi services\n",
      "예측 헤드라인 : The state energy department, led by Gujarat's Energy Minister Saurabh Patel, is working on creating a policy to provide required infrastructure to mass-run electric vehicles.\n",
      "\n",
      "\n",
      "원문 : NASA's OSIRIS-REx spacecraft has sent the most detailed images of asteroid Bennu, which has a one-in-2,700 chance of hitting Earth in the next century as per NASA. The two images of the potentially Earth-bound asteroid's south pole were clicked from a distance of around 1.6 kilometres on January 17, NASA said. OSIRIS-REx has travelled around 2.2 billion km till date.\n",
      "실제 헤드라인 : Pics of asteroid that may hit Earth in next century released\n",
      "예측 헤드라인 : NASA's OSIRIS-REx spacecraft has sent the most detailed images of asteroid Bennu, which has a one-in-2,700 chance of hitting Earth in the next century as per NASA.\n",
      "\n",
      "\n",
      "원문 : Prime Minister Narendra Modi on Wednesday paid tribute to Mahatma Gandhi on his 71st death anniversary at his Samadhi in Rajghat, New Delhi. \"On Martyrs' Day, we gratefully remember Mahatma Gandhi and the countless freedom fighters who sacrificed their all for our Independence,\" President Ram Nath Kovind tweeted. Congress President Rahul Gandhi also paid his tribute to Mahatma Gandhi.\n",
      "실제 헤드라인 : PM pays tribute to Mahatma Gandhi on 71st death anniversary\n",
      "예측 헤드라인 : Congress President Rahul Gandhi also paid his tribute to Mahatma Gandhi.\n",
      "\n",
      "\n",
      "원문 : Venezuela has barred Juan GuaidÃÂ³, who declared himself the interim President, from leaving the country and froze his bank accounts. He's prohibited from leaving for having \"caused harm to peace in the republic\", President of Venezuela's Supreme Tribunal of Justice, Maikel Moreno, said. This came after the US gave GuaidÃÂ³ the right to control Venezuela's bank accounts in the US.\n",
      "실제 헤드라인 : Venezuela bars self-declared President from leaving country\n",
      "예측 헤드라인 : Venezuela has barred Juan GuaidÃÂ³, who declared himself the interim President, from leaving the country and froze his bank accounts.\n",
      "\n",
      "\n",
      "원문 : At least two people were killed and four others were injured on Wednesday after a grenade was thrown into a mosque in Zamboanga, Philippines, authorities said. An unidentified assailant reportedly threw a grenade when about 10 people were sleeping. This comes days after explosions at a Roman Catholic cathedral left 21 people dead and over 100 injured in the Philippines.\n",
      "실제 헤드라인 : Grenade thrown into mosque in Philippines; 2 killed\n",
      "예측 헤드라인 : At least two people were killed and four others were injured on Wednesday after a grenade was thrown into a mosque in Zamboanga, Philippines, authorities said.\n",
      "\n",
      "\n",
      "원문 : A serial killer in Canada has pleaded guilty to killing eight men, most of whom were linked to Toronto's Gay Village neighbourhood. Police had found the remains of seven men in planters at a property where 67-year-old Bruce McArthur worked as a landscaper. The cases allegedly involved sexual assault or forcible confinement and the bodies were dismembered.\n",
      "실제 헤드라인 : Canada serial killer admits to murdering 8 men\n",
      "예측 헤드라인 : A serial killer in Canada has pleaded guilty to killing eight men, most of whom were linked to Toronto's Gay Village neighbourhood.\n",
      "\n",
      "\n",
      "원문 : The Supreme Court on Wednesday asked Karti Chidambaram to deposit Ã¢ÂÂ¹10 crore with the court registry as a precondition to his travelling abroad in February and March. The apex court further asked him to appear before the Enforcement Directorate in March regarding the Aircel-Maxis and INX Media cases. Karti had sought permission to travel abroad for various tennis tournaments.\n",
      "실제 헤드라인 : Deposit Ã¢ÂÂ¹10 crore, then go abroad: SC to Karti Chidambaram\n",
      "예측 헤드라인 : The Supreme Court on Wednesday asked Karti Chidambaram to deposit Ã¢ÂÂ¹10 crore with the court registry as a precondition to his travelling abroad in February and March.\n",
      "\n",
      "\n",
      "원문 : Pakistani singer Rahat Fateh Ali Khan has been issued a show cause notice by the Enforcement Directorate (ED) for allegedly smuggling illegal foreign currency out of India for three years. Khan got $340,000 (Ã¢ÂÂ¹2.42 crore) through illegal means, of which he reportedly smuggled $225,000 (Ã¢ÂÂ¹1.6 crore). The ED has sought the singer's response within 45 days.\n",
      "실제 헤드라인 : Rahat Fateh Ali Khan gets notice for smuggling currency out of India\n",
      "예측 헤드라인 : Pakistani singer Rahat Fateh Ali Khan has been issued a show cause notice by the Enforcement Directorate (ED) for allegedly smuggling illegal foreign currency out of India for three years.\n",
      "\n",
      "\n",
      "원문 : Arka Patra, a 30-year-old groom from West Bengal, arrived for his wedding ceremony in a road roller on Sunday. \"I wanted to make my wedding ceremony memorable and unique. I could take a vintage car, but that would not be new,\" he said. Patra said his wife also agreed to his idea when he had discussed it with her.\n",
      "실제 헤드라인 : West Bengal groom arrives in road roller for his wedding ceremony\n",
      "예측 헤드라인 : Arka Patra, a 30-year-old groom from West Bengal, arrived for his wedding ceremony in a road roller on Sunday.\n",
      "\n",
      "\n",
      "원문 : Actress Mishti, who has featured in 'Manikarnika: The Queen of Jhansi', has said she's really upset about some of her scenes being removed from the film. \"After the movie, I didn't...speak to anyone. I just walked out of the theatre,\" she added. \"[From] a selfish perspective, as an artiste I think my character has turned into a caricature,\" said Mishti.\n",
      "실제 헤드라인 : Upset about my 'Manikarnika' scenes being removed: Actress Mishti\n",
      "예측 헤드라인 : Actress Mishti, who has featured in 'Manikarnika: The Queen of Jhansi', has said she's really upset about some of her scenes being removed from the film.\n",
      "\n",
      "\n",
      "원문 : Actor Kartik Aaryan, while speaking about the tweet in which he shared a 'backfie' taken by Imtiaz Ali showing PM Narendra Modi from behind, said, \"We were...worried [it would backfire].\" \"We were calling ourselves losers but agar wo galat le liya hota toh backfire ho jata,\" he added. Speaking about the PM's reply, Kartik said, \"Bahut hi...sweet sa tweet tha.\"\n",
      "실제 헤드라인 : We were worried it'd backfire: Kartik on 'backfie' tweet on PM Modi\n",
      "예측 헤드라인 : \n",
      "\n",
      "\n",
      "원문 : Shraddha Kapoor has been criticised over cultural appropriation for wearing a Native American headdress in a shoot by Dabboo Ratnani. The shoot is part of Ratnani's 2019 calendar launched on Monday. Calling out Shraddha, Instagram page Diet Sabya wrote, \"The 'controversy' is part of a wider effort by Native American activists to highlight the ongoing cultural genocide against indigenous peoples.\"\n",
      "실제 헤드라인 : Shraddha criticised for cultural appropriation in Ratnani's shoot\n",
      "예측 헤드라인 : Shraddha Kapoor has been criticised over cultural appropriation for wearing a Native American headdress in a shoot by Dabboo Ratnani.\n",
      "\n",
      "\n",
      "원문 : After Congress President Rahul Gandhi met Goa CM Manohar Parrikar, BJP MLA Michael Lobo said, \"His simplicity, his humbleness has to be really admired by all the Indians and the Goans.\" Lobo added, \"These types of leaders are required in Goa and India.\" Rahul had said he made a personal visit to Parrikar's office to wish him a speedy recovery.\n",
      "실제 헤드라인 : Rahul's simplicity, humbleness should be admired: BJP MLA\n",
      "예측 헤드라인 : \n",
      "\n",
      "\n",
      "원문 : MP CM Kamal Nath has ordered the reinstatement of a government school teacher suspended for an objectionable online post on Congress President Rahul Gandhi. Stating the suspension was \"contrary to his (Rahul's) way of thinking\" and \"to my way of thinking as well,\" Nath advised the teacher to read about the sacrifice of the Gandhi family to \"dispel any prejudice\".\n",
      "실제 헤드라인 : MP CM reinstates teacher suspended for objectionable post on Rahul\n",
      "예측 헤드라인 : \n",
      "\n",
      "\n",
      "원문 : Congress President Rahul Gandhi on Tuesday said, \"Friends...(Goa CM and former Defence Minister) Manohar Parrikar clearly stated he has nothing to do with the new (Rafale) deal that was orchestrated by PM Narendra Modi to benefit Anil Ambani.\" The remarks comes after Rahul's meeting with Parrikar at the CM's office, which the Congress chief claimed was a \"personal visit\".\n",
      "실제 헤드라인 : Parrikar said he has nothing to do with new Rafale deal: Rahul\n",
      "예측 헤드라인 : \n",
      "\n",
      "\n",
      "원문 : Congress MP Shashi Tharoor has shared an image of Uttar Pradesh CM Yogi Adityanath taking a holy dip at Kumbh Mela along with his Cabinet ministers. \"You want to keep the Ganga clean and also wash your sins in it. Everyone is naked in this Sangam. Jai Ganga Maiya ki,\" Tharoor's caption on the picture read.\n",
      "실제 헤드라인 : You want Ganga clean & also wash sins in it: Tharoor on UP CM's pic\n",
      "예측 헤드라인 : Jai Ganga Maiya ki,\" Tharoor's caption on the picture read.\n",
      "\n",
      "\n",
      "원문 : Three women were arrested on Tuesday in connection with the poisoning of prasad at a temple in Chikkaballapur district, Karnataka. Two women had died while several other people were hospitalised with complaints of vomiting and loose motions. The police had earlier said the temple management was not responsible as the women had brought the prasad themselves and were distributing it. \n",
      "실제 헤드라인 : 3 women arrested in Karnataka temple prasad poisoning case\n",
      "예측 헤드라인 : Three women were arrested on Tuesday in connection with the poisoning of prasad at a temple in Chikkaballapur district, Karnataka.\n",
      "\n",
      "\n",
      "원문 : The US intelligence's worldwide threat assessment report has stated terror groups supported by Pakistan will continue to conduct terrorist attacks in India and Afghanistan. It also warned of communal violence in India in view of the upcoming General polls. The report claimed communal clashes \"could alienate Indian Muslims and allow Islamist terrorist groups in India to expand their influence.\"\n",
      "실제 헤드라인 : Pak-based terror groups will continue attacks in India: US intel\n",
      "예측 헤드라인 : The report claimed communal clashes \"could alienate Indian Muslims and allow Islamist terrorist groups in India to expand their influence.\"\n",
      "\n",
      "\n",
      "원문 : Padma Vibhushan awardee and retired non-executive chairman of L&T Group, Anil Manibhai Naik, received at least Ã¢ÂÂ¹19 crore after encashing his accumulated leaves of over 50 years. The company also revealed Naik got Ã¢ÂÂ¹55.038 crore as gratuity and Ã¢ÂÂ¹1.50 crore as pension that is a part of his retirement benefit. Naik had joined L&T in 1965 as a junior engineer.\n",
      "실제 헤드라인 : L&T's retired Chairman encashes unused leaves of 50yrs, gets Ã¢ÂÂ¹19 cr\n",
      "예측 헤드라인 : Padma Vibhushan awardee and retired non-executive chairman of L&T Group, Anil Manibhai Naik, received at least Ã¢ÂÂ¹19 crore after encashing his accumulated leaves of over 50 years.\n",
      "\n",
      "\n",
      "원문 : A video of a mother removing black jacket of her three-year-old child on orders of security personnel before entering an event addressed by CM Sarbananda Sonowal in Assam has surfaced online. A policeman said they had been asked to not allow anyone to carry black items inside the venue. A probe has been ordered into the incident by CM Sonowal.\n",
      "실제 헤드라인 : 3-yr-old's black jacket removed for Assam CM's event, probe ordered\n",
      "예측 헤드라인 : A video of a mother removing black jacket of her three-year-old child on orders of security personnel before entering an event addressed by CM Sarbananda Sonowal in Assam has surfaced online.\n",
      "\n",
      "\n",
      "원문 : A two-year-old toddler was allegedly kidnapped by a woman while playing outside his house with his 11-year-old sister in Gurugram on Tuesday morning. The woman took the toddler to her home after lying to his sister that someone was calling her inside the house. Meanwhile, the police rescued the toddler within five hours and arrested the woman. \n",
      "실제 헤드라인 : 2-yr-old kidnapped by woman in Gurugram, rescued within 5 hrs\n",
      "예측 헤드라인 : The woman took the toddler to her home after lying to his sister that someone was calling her inside the house.\n",
      "\n",
      "\n",
      "원문 : A 53-year-old priest in Namakkal Anjaneyar temple in Tamil Nadu died after he slipped and fell down from an 11-foot-high platform after garlanding 18-foot-high Lord Anjaneyar statue, officials said. The priest was critically injured and was hospitalised on Sunday but he succumbed to his injuries on Tuesday. An official claimed such an incident has not happened in the temple's history.\n",
      "실제 헤드라인 : Priest falls after garlanding 18-foot Lord Anjaneyar idol, dies\n",
      "예측 헤드라인 : A 53-year-old priest in Namakkal Anjaneyar temple in Tamil Nadu died after he slipped and fell down from an 11-foot-high platform after garlanding 18-foot-high Lord Anjaneyar statue, officials said.\n",
      "\n",
      "\n",
      "원문 : The Madhya Pradesh government will open 1,000 cow shelters to provide shelter to one lakh cows by May, a senior official revealed. The official added, \"The capacity of 614 private cow shelters would be increased to 60,000.\" The scheme is the first of its kind in the state and is expected to cost Ã¢ÂÂ¹450 crore, he further said.\n",
      "실제 헤드라인 : MP to get 1,000 cow shelters to house 1 lakh cows by May\n",
      "예측 헤드라인 : \n",
      "\n",
      "\n"
     ]
    }
   ],
   "source": [
    "for i in range(100, 150):\n",
    "    print(\"원문 :\", data.text[i])\n",
    "    print(\"실제 헤드라인 :\", data.headlines[i])\n",
    "    print(\"예측 헤드라인 :\", summarize(data.text[i], ratio=0.4))\n",
    "    print(\"\\n\")"
   ]
  },
  {
   "cell_type": "markdown",
   "metadata": {},
   "source": [
    "기사의 첫 문장을 가지고 추상적 방법과 추출적 방법으로 헤드라인을 요약해보는 실험이다.   \n",
    "파라미터가 잘못 되었는지 전처리에서 잘못 했는지 모델의 학습이 제대로 안 된 것 같다.   \n",
    "실제 헤드라인과 제대로 예측된 문장은 거의 없고 부분적으로 단어만 나온 것 같다.   \n",
    "단어들을 나열만 한 느낌이며 문장으로 이루어지지 않았다.   \n",
    "추출적 방법은 비율을 40%이하로 낮추면 잘 추출이 되지 않고 문장도 길어지지만 문장이 의미가 있고   \n",
    "원문을 어느 정도 표현하고 있다.   \n",
    "5문장 내외의 문장에서는 추출적 방법도 괜찮은 것 같다.   "
   ]
  }
 ],
 "metadata": {
  "kernelspec": {
   "display_name": "aiffel",
   "language": "python",
   "name": "aiffel"
  },
  "language_info": {
   "codemirror_mode": {
    "name": "ipython",
    "version": 3
   },
   "file_extension": ".py",
   "mimetype": "text/x-python",
   "name": "python",
   "nbconvert_exporter": "python",
   "pygments_lexer": "ipython3",
   "version": "3.7.6"
  }
 },
 "nbformat": 4,
 "nbformat_minor": 4
}
