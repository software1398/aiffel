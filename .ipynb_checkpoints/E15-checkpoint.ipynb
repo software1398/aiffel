{
 "cells": [
  {
   "cell_type": "markdown",
   "metadata": {},
   "source": [
    "## E15 - 단어 수준의 번역기 만들기"
   ]
  },
  {
   "cell_type": "code",
   "execution_count": 1,
   "metadata": {},
   "outputs": [
    {
     "name": "stdout",
     "output_type": "stream",
     "text": [
      "전체 샘플의 수 : 178009\n"
     ]
    },
    {
     "data": {
      "text/html": [
       "<div>\n",
       "<style scoped>\n",
       "    .dataframe tbody tr th:only-of-type {\n",
       "        vertical-align: middle;\n",
       "    }\n",
       "\n",
       "    .dataframe tbody tr th {\n",
       "        vertical-align: top;\n",
       "    }\n",
       "\n",
       "    .dataframe thead th {\n",
       "        text-align: right;\n",
       "    }\n",
       "</style>\n",
       "<table border=\"1\" class=\"dataframe\">\n",
       "  <thead>\n",
       "    <tr style=\"text-align: right;\">\n",
       "      <th></th>\n",
       "      <th>eng</th>\n",
       "      <th>fra</th>\n",
       "      <th>cc</th>\n",
       "    </tr>\n",
       "  </thead>\n",
       "  <tbody>\n",
       "    <tr>\n",
       "      <th>40260</th>\n",
       "      <td>At last, my turn came.</td>\n",
       "      <td>Enfin mon tour est venu.</td>\n",
       "      <td>CC-BY 2.0 (France) Attribution: tatoeba.org #3...</td>\n",
       "    </tr>\n",
       "    <tr>\n",
       "      <th>73590</th>\n",
       "      <td>We'll know in the morning.</td>\n",
       "      <td>Nous le saurons dans la matinée.</td>\n",
       "      <td>CC-BY 2.0 (France) Attribution: tatoeba.org #5...</td>\n",
       "    </tr>\n",
       "    <tr>\n",
       "      <th>21164</th>\n",
       "      <td>The joke's on you.</td>\n",
       "      <td>C'est de vous qu'on se moque.</td>\n",
       "      <td>CC-BY 2.0 (France) Attribution: tatoeba.org #2...</td>\n",
       "    </tr>\n",
       "    <tr>\n",
       "      <th>115550</th>\n",
       "      <td>He raised his hat when he saw me.</td>\n",
       "      <td>Il leva son chapeau quand il me vit.</td>\n",
       "      <td>CC-BY 2.0 (France) Attribution: tatoeba.org #2...</td>\n",
       "    </tr>\n",
       "    <tr>\n",
       "      <th>160337</th>\n",
       "      <td>That twenty-kilometer run really wiped me out.</td>\n",
       "      <td>Cette course de vingt kilomètres m'a vraiment ...</td>\n",
       "      <td>CC-BY 2.0 (France) Attribution: tatoeba.org #6...</td>\n",
       "    </tr>\n",
       "  </tbody>\n",
       "</table>\n",
       "</div>"
      ],
      "text/plain": [
       "                                                   eng  \\\n",
       "40260                           At last, my turn came.   \n",
       "73590                       We'll know in the morning.   \n",
       "21164                               The joke's on you.   \n",
       "115550               He raised his hat when he saw me.   \n",
       "160337  That twenty-kilometer run really wiped me out.   \n",
       "\n",
       "                                                      fra  \\\n",
       "40260                            Enfin mon tour est venu.   \n",
       "73590                    Nous le saurons dans la matinée.   \n",
       "21164                       C'est de vous qu'on se moque.   \n",
       "115550               Il leva son chapeau quand il me vit.   \n",
       "160337  Cette course de vingt kilomètres m'a vraiment ...   \n",
       "\n",
       "                                                       cc  \n",
       "40260   CC-BY 2.0 (France) Attribution: tatoeba.org #3...  \n",
       "73590   CC-BY 2.0 (France) Attribution: tatoeba.org #5...  \n",
       "21164   CC-BY 2.0 (France) Attribution: tatoeba.org #2...  \n",
       "115550  CC-BY 2.0 (France) Attribution: tatoeba.org #2...  \n",
       "160337  CC-BY 2.0 (France) Attribution: tatoeba.org #6...  "
      ]
     },
     "execution_count": 1,
     "metadata": {},
     "output_type": "execute_result"
    }
   ],
   "source": [
    "import pandas as pd\n",
    "from tensorflow.keras.preprocessing.text import Tokenizer\n",
    "from tensorflow.keras.preprocessing.sequence import pad_sequences\n",
    "import numpy as np\n",
    "\n",
    "import os\n",
    "file_path = os.getenv('HOME')+'/aiffel/translator_seq2seq/data/fra.txt'\n",
    "lines = pd.read_csv(file_path, names=['eng', 'fra', 'cc'], sep='\\t')\n",
    "print('전체 샘플의 수 :',len(lines))\n",
    "lines.sample(5) #샘플 5개 출력"
   ]
  },
  {
   "cell_type": "code",
   "execution_count": 2,
   "metadata": {
    "scrolled": true
   },
   "outputs": [
    {
     "data": {
      "text/html": [
       "<div>\n",
       "<style scoped>\n",
       "    .dataframe tbody tr th:only-of-type {\n",
       "        vertical-align: middle;\n",
       "    }\n",
       "\n",
       "    .dataframe tbody tr th {\n",
       "        vertical-align: top;\n",
       "    }\n",
       "\n",
       "    .dataframe thead th {\n",
       "        text-align: right;\n",
       "    }\n",
       "</style>\n",
       "<table border=\"1\" class=\"dataframe\">\n",
       "  <thead>\n",
       "    <tr style=\"text-align: right;\">\n",
       "      <th></th>\n",
       "      <th>eng</th>\n",
       "      <th>fra</th>\n",
       "    </tr>\n",
       "  </thead>\n",
       "  <tbody>\n",
       "    <tr>\n",
       "      <th>37666</th>\n",
       "      <td>She told him to stop.</td>\n",
       "      <td>Elle lui a dit de cesser.</td>\n",
       "    </tr>\n",
       "    <tr>\n",
       "      <th>49825</th>\n",
       "      <td>It is not his business.</td>\n",
       "      <td>Ce n'est pas son affaire.</td>\n",
       "    </tr>\n",
       "    <tr>\n",
       "      <th>34704</th>\n",
       "      <td>He has no girlfriend.</td>\n",
       "      <td>Il n'a pas de petite amie.</td>\n",
       "    </tr>\n",
       "    <tr>\n",
       "      <th>47103</th>\n",
       "      <td>Do you like my T-shirt?</td>\n",
       "      <td>Mon maillot te plaît-il ?</td>\n",
       "    </tr>\n",
       "    <tr>\n",
       "      <th>24397</th>\n",
       "      <td>I know his address.</td>\n",
       "      <td>Je connais son adresse.</td>\n",
       "    </tr>\n",
       "  </tbody>\n",
       "</table>\n",
       "</div>"
      ],
      "text/plain": [
       "                           eng                         fra\n",
       "37666    She told him to stop.   Elle lui a dit de cesser.\n",
       "49825  It is not his business.   Ce n'est pas son affaire.\n",
       "34704    He has no girlfriend.  Il n'a pas de petite amie.\n",
       "47103  Do you like my T-shirt?   Mon maillot te plaît-il ?\n",
       "24397      I know his address.     Je connais son adresse."
      ]
     },
     "execution_count": 2,
     "metadata": {},
     "output_type": "execute_result"
    }
   ],
   "source": [
    "lines = lines[['eng', 'fra']][20000:53000] # 3만3천개의 샘플 사용, 세 번째 열은 제외\n",
    "lines.sample(5)"
   ]
  },
  {
   "cell_type": "code",
   "execution_count": 3,
   "metadata": {},
   "outputs": [],
   "source": [
    "# 전처리 함수 구현\n",
    "import re\n",
    "\n",
    "# 시작 토큰과 종료 토큰 추가\n",
    "sos_token = '<start> '\n",
    "eos_token = ' <end>'\n",
    "\n",
    "def preprocess(cols, sentence):\n",
    "    sentence = sentence.lower().strip()\n",
    "    \n",
    "    sentence = re.sub(r\"([?.!,¿,'-])\", r\" \\1 \", sentence)\n",
    "    sentence = re.sub(r\"\\s+\", r\" \", sentence)\n",
    "    sentence = sentence.strip()\n",
    "    \n",
    "    if cols == 'fra':\n",
    "        sentence = sos_token + sentence + eos_token\n",
    "            \n",
    "    return sentence"
   ]
  },
  {
   "cell_type": "code",
   "execution_count": 4,
   "metadata": {},
   "outputs": [
    {
     "name": "stdout",
     "output_type": "stream",
     "text": [
      "전체 샘플의 수 : 33000\n"
     ]
    },
    {
     "data": {
      "text/html": [
       "<div>\n",
       "<style scoped>\n",
       "    .dataframe tbody tr th:only-of-type {\n",
       "        vertical-align: middle;\n",
       "    }\n",
       "\n",
       "    .dataframe tbody tr th {\n",
       "        vertical-align: top;\n",
       "    }\n",
       "\n",
       "    .dataframe thead th {\n",
       "        text-align: right;\n",
       "    }\n",
       "</style>\n",
       "<table border=\"1\" class=\"dataframe\">\n",
       "  <thead>\n",
       "    <tr style=\"text-align: right;\">\n",
       "      <th></th>\n",
       "      <th>eng</th>\n",
       "      <th>fra</th>\n",
       "    </tr>\n",
       "  </thead>\n",
       "  <tbody>\n",
       "    <tr>\n",
       "      <th>39389</th>\n",
       "      <td>which book is better ?</td>\n",
       "      <td>&lt;start&gt; quel livre est le meilleur ? &lt;end&gt;</td>\n",
       "    </tr>\n",
       "    <tr>\n",
       "      <th>34587</th>\n",
       "      <td>have you seen my pen ?</td>\n",
       "      <td>&lt;start&gt; avez - vous vu mon stylo ? &lt;end&gt;</td>\n",
       "    </tr>\n",
       "    <tr>\n",
       "      <th>27821</th>\n",
       "      <td>you may use my car .</td>\n",
       "      <td>&lt;start&gt; tu peux prendre ma voiture . &lt;end&gt;</td>\n",
       "    </tr>\n",
       "    <tr>\n",
       "      <th>30668</th>\n",
       "      <td>i ' m very busy today .</td>\n",
       "      <td>&lt;start&gt; je suis très occupé aujourd ' hui . &lt;end&gt;</td>\n",
       "    </tr>\n",
       "    <tr>\n",
       "      <th>40224</th>\n",
       "      <td>are you seeing anyone ?</td>\n",
       "      <td>&lt;start&gt; vois - tu qui que ce soit ? &lt;end&gt;</td>\n",
       "    </tr>\n",
       "    <tr>\n",
       "      <th>31220</th>\n",
       "      <td>my whole body hurts .</td>\n",
       "      <td>&lt;start&gt; tout mon corps me fait mal . &lt;end&gt;</td>\n",
       "    </tr>\n",
       "    <tr>\n",
       "      <th>36879</th>\n",
       "      <td>is that your bicycle ?</td>\n",
       "      <td>&lt;start&gt; est - ce que c ' est ta bicyclette ? &lt;...</td>\n",
       "    </tr>\n",
       "    <tr>\n",
       "      <th>35147</th>\n",
       "      <td>i always feel sleepy .</td>\n",
       "      <td>&lt;start&gt; j ' ai toujours sommeil . &lt;end&gt;</td>\n",
       "    </tr>\n",
       "    <tr>\n",
       "      <th>33884</th>\n",
       "      <td>ask them to help you .</td>\n",
       "      <td>&lt;start&gt; demande - leur de t ' aider . &lt;end&gt;</td>\n",
       "    </tr>\n",
       "    <tr>\n",
       "      <th>20307</th>\n",
       "      <td>it ' s a no - brainer .</td>\n",
       "      <td>&lt;start&gt; c ' est simple comme bonjour . &lt;end&gt;</td>\n",
       "    </tr>\n",
       "  </tbody>\n",
       "</table>\n",
       "</div>"
      ],
      "text/plain": [
       "                           eng  \\\n",
       "39389   which book is better ?   \n",
       "34587   have you seen my pen ?   \n",
       "27821     you may use my car .   \n",
       "30668  i ' m very busy today .   \n",
       "40224  are you seeing anyone ?   \n",
       "31220    my whole body hurts .   \n",
       "36879   is that your bicycle ?   \n",
       "35147   i always feel sleepy .   \n",
       "33884   ask them to help you .   \n",
       "20307  it ' s a no - brainer .   \n",
       "\n",
       "                                                     fra  \n",
       "39389         <start> quel livre est le meilleur ? <end>  \n",
       "34587           <start> avez - vous vu mon stylo ? <end>  \n",
       "27821         <start> tu peux prendre ma voiture . <end>  \n",
       "30668  <start> je suis très occupé aujourd ' hui . <end>  \n",
       "40224          <start> vois - tu qui que ce soit ? <end>  \n",
       "31220         <start> tout mon corps me fait mal . <end>  \n",
       "36879  <start> est - ce que c ' est ta bicyclette ? <...  \n",
       "35147            <start> j ' ai toujours sommeil . <end>  \n",
       "33884        <start> demande - leur de t ' aider . <end>  \n",
       "20307       <start> c ' est simple comme bonjour . <end>  "
      ]
     },
     "execution_count": 4,
     "metadata": {},
     "output_type": "execute_result"
    }
   ],
   "source": [
    "lines.eng = lines.eng.apply(lambda x: preprocess('eng', x))\n",
    "lines.fra = lines.fra.apply(lambda x: preprocess('fra', x))\n",
    "print('전체 샘플의 수 :',len(lines))\n",
    "lines.sample(10)"
   ]
  },
  {
   "cell_type": "code",
   "execution_count": 5,
   "metadata": {
    "scrolled": false
   },
   "outputs": [],
   "source": [
    "# 단어장을 만들기, 영어와 프랑스어별로\n",
    "\n",
    "def tokenize(corpus):\n",
    "    tokenizer = Tokenizer(filters=' ')            # 단어 단위로 Tokenizer를 생성합니다.\n",
    "    tokenizer.fit_on_texts(corpus)                # 33000개의 행을 가진 eng의 각 행에 토큰화를 수행\n",
    "    tensor = tokenizer.texts_to_sequences(corpus) # 단어를 숫자값 인덱스로 변환하여 저장\n",
    "\n",
    "    return tensor, tokenizer"
   ]
  },
  {
   "cell_type": "code",
   "execution_count": 6,
   "metadata": {},
   "outputs": [
    {
     "data": {
      "text/plain": [
       "[[3, 2, 22, 70, 30, 174, 1],\n",
       " [3, 2, 22, 70, 30, 174, 1],\n",
       " [3, 2, 22, 70, 509, 1]]"
      ]
     },
     "execution_count": 6,
     "metadata": {},
     "output_type": "execute_result"
    }
   ],
   "source": [
    "input_text, eng_tokenizer = tokenize(lines.eng)\n",
    "input_text[:3]"
   ]
  },
  {
   "cell_type": "code",
   "execution_count": 7,
   "metadata": {},
   "outputs": [
    {
     "data": {
      "text/plain": [
       "[[1, 6, 20, 4, 29, 31, 202, 10, 318, 3, 2],\n",
       " [1, 6, 20, 4, 29, 31, 202, 10, 634, 3, 2],\n",
       " [1, 6, 13, 130, 21, 436, 3, 2]]"
      ]
     },
     "execution_count": 7,
     "metadata": {},
     "output_type": "execute_result"
    }
   ],
   "source": [
    "target_text, fra_tokenizer = tokenize(lines.fra)\n",
    "target_text[:3]"
   ]
  },
  {
   "cell_type": "code",
   "execution_count": 8,
   "metadata": {},
   "outputs": [
    {
     "name": "stdout",
     "output_type": "stream",
     "text": [
      "영어 단어장의 크기 : 5211\n",
      "프랑스어 단어장의 크기 : 9021\n"
     ]
    }
   ],
   "source": [
    "eng_vocab_size = len(eng_tokenizer.word_index) + 1\n",
    "fra_vocab_size = len(fra_tokenizer.word_index) + 1\n",
    "print('영어 단어장의 크기 :', eng_vocab_size)\n",
    "print('프랑스어 단어장의 크기 :', fra_vocab_size)"
   ]
  },
  {
   "cell_type": "code",
   "execution_count": 9,
   "metadata": {},
   "outputs": [
    {
     "name": "stdout",
     "output_type": "stream",
     "text": [
      "영어 시퀀스의 최대 길이 11\n",
      "프랑스어 시퀀스의 최대 길이 20\n"
     ]
    }
   ],
   "source": [
    "max_eng_seq_len = max([len(line) for line in input_text])\n",
    "max_fra_seq_len = max([len(line) for line in target_text])\n",
    "print('영어 시퀀스의 최대 길이', max_eng_seq_len)\n",
    "print('프랑스어 시퀀스의 최대 길이', max_fra_seq_len)\n",
    "# 패딩처리하기 위해"
   ]
  },
  {
   "cell_type": "code",
   "execution_count": 10,
   "metadata": {
    "scrolled": true
   },
   "outputs": [
    {
     "name": "stdout",
     "output_type": "stream",
     "text": [
      "전체 샘플의 수 : 33000\n",
      "영어 단어장의 크기 : 5211\n",
      "프랑스어 단어장의 크기 : 9021\n",
      "영어 시퀀스의 최대 길이 11\n",
      "프랑스어 시퀀스의 최대 길이 20\n"
     ]
    }
   ],
   "source": [
    "print('전체 샘플의 수 :',len(lines))\n",
    "print('영어 단어장의 크기 :', eng_vocab_size)\n",
    "print('프랑스어 단어장의 크기 :', fra_vocab_size)\n",
    "print('영어 시퀀스의 최대 길이', max_eng_seq_len)\n",
    "print('프랑스어 시퀀스의 최대 길이', max_fra_seq_len)"
   ]
  },
  {
   "cell_type": "code",
   "execution_count": 11,
   "metadata": {},
   "outputs": [],
   "source": [
    "encoder_input = input_text\n",
    "# 종료 토큰 제거\n",
    "decoder_input = [x[:-1] for x in target_text]\n",
    "# 시작 토큰 제거\n",
    "decoder_target = [x[1:] for x in target_text]"
   ]
  },
  {
   "cell_type": "code",
   "execution_count": 12,
   "metadata": {},
   "outputs": [
    {
     "name": "stdout",
     "output_type": "stream",
     "text": [
      "[[1, 6, 20, 4, 29, 31, 202, 10, 318, 3], [1, 6, 20, 4, 29, 31, 202, 10, 634, 3], [1, 6, 13, 130, 21, 436, 3]]\n",
      "[[6, 20, 4, 29, 31, 202, 10, 318, 3, 2], [6, 20, 4, 29, 31, 202, 10, 634, 3, 2], [6, 13, 130, 21, 436, 3, 2]]\n"
     ]
    }
   ],
   "source": [
    "print(decoder_input[:3])\n",
    "print(decoder_target[:3])"
   ]
  },
  {
   "cell_type": "code",
   "execution_count": 13,
   "metadata": {},
   "outputs": [],
   "source": [
    "# for sent in decoder_target:\n",
    "#     print(' '.join(list(map(lambda x: fra_tokenizer.index_word[x], sent))))"
   ]
  },
  {
   "cell_type": "code",
   "execution_count": 14,
   "metadata": {},
   "outputs": [
    {
     "name": "stdout",
     "output_type": "stream",
     "text": [
      "영어 데이터의 크기(shape) : (33000, 11)\n",
      "프랑스어 입력데이터의 크기(shape) : (33000, 20)\n",
      "프랑스어 출력데이터의 크기(shape) : (33000, 20)\n"
     ]
    }
   ],
   "source": [
    "# 패딩 처리하기\n",
    "encoder_input = pad_sequences(encoder_input, maxlen = max_eng_seq_len, padding='post')\n",
    "decoder_input = pad_sequences(decoder_input, maxlen = max_fra_seq_len, padding='post')\n",
    "decoder_target = pad_sequences(decoder_target, maxlen = max_fra_seq_len, padding='post')\n",
    "print('영어 데이터의 크기(shape) :',np.shape(encoder_input))\n",
    "print('프랑스어 입력데이터의 크기(shape) :',np.shape(decoder_input))\n",
    "print('프랑스어 출력데이터의 크기(shape) :',np.shape(decoder_target))"
   ]
  },
  {
   "cell_type": "code",
   "execution_count": 15,
   "metadata": {},
   "outputs": [
    {
     "name": "stdout",
     "output_type": "stream",
     "text": [
      "영어 학습데이터의 크기(shape) : (30000, 11)\n",
      "프랑스어 학습 입력데이터의 크기(shape) : (30000, 20)\n",
      "프랑스어 학습 출력데이터의 크기(shape) : (30000, 20)\n"
     ]
    }
   ],
   "source": [
    "# 학습데이터와 검증데이터 분리하기\n",
    "\n",
    "n_of_val = 3000\n",
    "\n",
    "encoder_input_train = encoder_input[:-n_of_val]\n",
    "decoder_input_train = decoder_input[:-n_of_val]\n",
    "decoder_target_train = decoder_target[:-n_of_val]\n",
    "\n",
    "encoder_input_test = encoder_input[-n_of_val:]\n",
    "decoder_input_test = decoder_input[-n_of_val:]\n",
    "decoder_target_test = decoder_target[-n_of_val:]\n",
    "\n",
    "print('영어 학습데이터의 크기(shape) :',np.shape(encoder_input_train))\n",
    "print('프랑스어 학습 입력데이터의 크기(shape) :',np.shape(decoder_input_train))\n",
    "print('프랑스어 학습 출력데이터의 크기(shape) :',np.shape(decoder_target_train))"
   ]
  },
  {
   "cell_type": "code",
   "execution_count": 16,
   "metadata": {},
   "outputs": [],
   "source": [
    "from tensorflow.keras.layers import Input, Embedding, Masking, Dense, LSTM\n",
    "from tensorflow.keras.models import Model\n",
    "\n",
    "embedding_size = 1024\n",
    "hidden_size = 256\n",
    "\n",
    "# 인코더 설계\n",
    "encoder_inputs = Input(shape=(None,))\n",
    "enc_emb =  Embedding(eng_vocab_size, embedding_size)(encoder_inputs)\n",
    "enc_masking = Masking(mask_value=0.0)(enc_emb)\n",
    "encoder_lstm = LSTM(hidden_size, return_state=True)\n",
    "encoder_outputs, state_h, state_c = encoder_lstm(enc_masking)\n",
    "encoder_states = [state_h, state_c]\n",
    "\n",
    "# 디코더 설계\n",
    "decoder_inputs = Input(shape=(None,))\n",
    "dec_emb =  Embedding(fra_vocab_size, embedding_size)(decoder_inputs)\n",
    "dec_masking = Masking(mask_value=0.0)(dec_emb)\n",
    "decoder_lstm = LSTM(hidden_size, return_sequences=True, return_state=True)\n",
    "decoder_outputs, _, _ = decoder_lstm(dec_masking, initial_state=encoder_states)\n",
    "\n",
    "# 출력층\n",
    "decoder_softmax_layer = Dense(fra_vocab_size, activation='softmax')\n",
    "decoder_outputs = decoder_softmax_layer(decoder_outputs)"
   ]
  },
  {
   "cell_type": "code",
   "execution_count": 17,
   "metadata": {
    "scrolled": false
   },
   "outputs": [
    {
     "name": "stdout",
     "output_type": "stream",
     "text": [
      "Model: \"model\"\n",
      "__________________________________________________________________________________________________\n",
      "Layer (type)                    Output Shape         Param #     Connected to                     \n",
      "==================================================================================================\n",
      "input_1 (InputLayer)            [(None, None)]       0                                            \n",
      "__________________________________________________________________________________________________\n",
      "input_2 (InputLayer)            [(None, None)]       0                                            \n",
      "__________________________________________________________________________________________________\n",
      "embedding (Embedding)           (None, None, 1024)   5336064     input_1[0][0]                    \n",
      "__________________________________________________________________________________________________\n",
      "embedding_1 (Embedding)         (None, None, 1024)   9237504     input_2[0][0]                    \n",
      "__________________________________________________________________________________________________\n",
      "masking (Masking)               (None, None, 1024)   0           embedding[0][0]                  \n",
      "__________________________________________________________________________________________________\n",
      "masking_1 (Masking)             (None, None, 1024)   0           embedding_1[0][0]                \n",
      "__________________________________________________________________________________________________\n",
      "lstm (LSTM)                     [(None, 1024), (None 8392704     masking[0][0]                    \n",
      "__________________________________________________________________________________________________\n",
      "lstm_1 (LSTM)                   [(None, None, 1024), 8392704     masking_1[0][0]                  \n",
      "                                                                 lstm[0][1]                       \n",
      "                                                                 lstm[0][2]                       \n",
      "__________________________________________________________________________________________________\n",
      "dense (Dense)                   (None, None, 9021)   9246525     lstm_1[0][0]                     \n",
      "==================================================================================================\n",
      "Total params: 40,605,501\n",
      "Trainable params: 40,605,501\n",
      "Non-trainable params: 0\n",
      "__________________________________________________________________________________________________\n"
     ]
    }
   ],
   "source": [
    "# 모델 정의\n",
    "model = Model([encoder_inputs, decoder_inputs], decoder_outputs)\n",
    "model.compile(optimizer=\"rmsprop\", loss=\"sparse_categorical_crossentropy\")\n",
    "model.summary()"
   ]
  },
  {
   "cell_type": "code",
   "execution_count": 18,
   "metadata": {
    "scrolled": false
   },
   "outputs": [
    {
     "name": "stdout",
     "output_type": "stream",
     "text": [
      "Epoch 1/20\n",
      "118/118 [==============================] - 30s 255ms/step - loss: 1.8975 - val_loss: 1.5823\n",
      "Epoch 2/20\n",
      "118/118 [==============================] - 29s 250ms/step - loss: 1.1953 - val_loss: 1.3052\n",
      "Epoch 3/20\n",
      "118/118 [==============================] - 29s 246ms/step - loss: 0.9857 - val_loss: 1.1860\n",
      "Epoch 4/20\n",
      "118/118 [==============================] - 29s 246ms/step - loss: 0.8414 - val_loss: 1.0876\n",
      "Epoch 5/20\n",
      "118/118 [==============================] - 29s 249ms/step - loss: 0.7232 - val_loss: 1.0375\n",
      "Epoch 6/20\n",
      "118/118 [==============================] - 29s 245ms/step - loss: 0.6237 - val_loss: 1.0176\n",
      "Epoch 7/20\n",
      "118/118 [==============================] - 29s 244ms/step - loss: 0.5374 - val_loss: 0.9717\n",
      "Epoch 8/20\n",
      "118/118 [==============================] - 29s 244ms/step - loss: 0.4615 - val_loss: 0.9694\n",
      "Epoch 9/20\n",
      "118/118 [==============================] - 29s 246ms/step - loss: 0.3952 - val_loss: 0.9294\n",
      "Epoch 10/20\n",
      "118/118 [==============================] - 29s 244ms/step - loss: 0.3372 - val_loss: 0.9195\n",
      "Epoch 11/20\n",
      "118/118 [==============================] - 29s 243ms/step - loss: 0.2889 - val_loss: 0.9094\n",
      "Epoch 12/20\n",
      "118/118 [==============================] - 29s 244ms/step - loss: 0.2474 - val_loss: 0.9139\n",
      "Epoch 13/20\n",
      "118/118 [==============================] - 29s 243ms/step - loss: 0.2129 - val_loss: 0.9158\n",
      "Epoch 14/20\n",
      "118/118 [==============================] - 29s 243ms/step - loss: 0.1859 - val_loss: 0.9114\n",
      "Epoch 15/20\n",
      "118/118 [==============================] - 29s 243ms/step - loss: 0.1638 - val_loss: 0.9258\n",
      "Epoch 16/20\n",
      "118/118 [==============================] - 29s 247ms/step - loss: 0.1466 - val_loss: 0.9310\n",
      "Epoch 17/20\n",
      "118/118 [==============================] - 29s 244ms/step - loss: 0.1332 - val_loss: 0.9336\n",
      "Epoch 18/20\n",
      "118/118 [==============================] - 29s 244ms/step - loss: 0.1221 - val_loss: 0.9325\n",
      "Epoch 19/20\n",
      "118/118 [==============================] - 29s 244ms/step - loss: 0.1134 - val_loss: 0.9493\n",
      "Epoch 20/20\n",
      "118/118 [==============================] - 29s 245ms/step - loss: 0.1067 - val_loss: 0.9403\n"
     ]
    }
   ],
   "source": [
    "history = model.fit(x=[encoder_input_train, decoder_input_train], y=decoder_target_train,\n",
    "          validation_data = ([encoder_input_test, decoder_input_test], decoder_target_test),\n",
    "          batch_size=128, epochs=25)"
   ]
  },
  {
   "cell_type": "code",
   "execution_count": 19,
   "metadata": {},
   "outputs": [
    {
     "data": {
      "image/png": "[encoded data removed]",
      "text/plain": [
       "<Figure size 432x288 with 1 Axes>"
      ]
     },
     "metadata": {
      "needs_background": "light"
     },
     "output_type": "display_data"
    }
   ],
   "source": [
    "import matplotlib.pyplot as plt\n",
    "\n",
    "history_dict = history.history\n",
    "\n",
    "loss = history_dict['loss']\n",
    "val_loss = history_dict['val_loss']\n",
    "\n",
    "epochs = range(1, len(loss) + 1)\n",
    "\n",
    "plt.plot(epochs, loss, 'b', label='traingin loss', color='red')\n",
    "plt.plot(epochs, val_loss, 'b', label='validation loss', color='blue')\n",
    "plt.legend()\n",
    "plt.show()"
   ]
  },
  {
   "cell_type": "code",
   "execution_count": 20,
   "metadata": {},
   "outputs": [
    {
     "name": "stdout",
     "output_type": "stream",
     "text": [
      "Model: \"model_1\"\n",
      "_________________________________________________________________\n",
      "Layer (type)                 Output Shape              Param #   \n",
      "=================================================================\n",
      "input_1 (InputLayer)         [(None, None)]            0         \n",
      "_________________________________________________________________\n",
      "embedding (Embedding)        (None, None, 1024)        5336064   \n",
      "_________________________________________________________________\n",
      "masking (Masking)            (None, None, 1024)        0         \n",
      "_________________________________________________________________\n",
      "lstm (LSTM)                  [(None, 1024), (None, 102 8392704   \n",
      "=================================================================\n",
      "Total params: 13,728,768\n",
      "Trainable params: 13,728,768\n",
      "Non-trainable params: 0\n",
      "_________________________________________________________________\n"
     ]
    }
   ],
   "source": [
    "# 테스트하기\n",
    "\n",
    "# 인코더 정의\n",
    "encoder_model = Model(inputs = encoder_inputs, outputs = encoder_states)\n",
    "encoder_model.summary()"
   ]
  },
  {
   "cell_type": "code",
   "execution_count": 21,
   "metadata": {},
   "outputs": [
    {
     "name": "stdout",
     "output_type": "stream",
     "text": [
      "Model: \"model_2\"\n",
      "__________________________________________________________________________________________________\n",
      "Layer (type)                    Output Shape         Param #     Connected to                     \n",
      "==================================================================================================\n",
      "input_2 (InputLayer)            [(None, None)]       0                                            \n",
      "__________________________________________________________________________________________________\n",
      "embedding_2 (Embedding)         (None, None, 1024)   9237504     input_2[0][0]                    \n",
      "__________________________________________________________________________________________________\n",
      "input_3 (InputLayer)            [(None, 1024)]       0                                            \n",
      "__________________________________________________________________________________________________\n",
      "input_4 (InputLayer)            [(None, 1024)]       0                                            \n",
      "__________________________________________________________________________________________________\n",
      "lstm_1 (LSTM)                   [(None, None, 1024), 8392704     embedding_2[0][0]                \n",
      "                                                                 input_3[0][0]                    \n",
      "                                                                 input_4[0][0]                    \n",
      "__________________________________________________________________________________________________\n",
      "dense (Dense)                   (None, None, 9021)   9246525     lstm_1[1][0]                     \n",
      "==================================================================================================\n",
      "Total params: 26,876,733\n",
      "Trainable params: 26,876,733\n",
      "Non-trainable params: 0\n",
      "__________________________________________________________________________________________________\n"
     ]
    }
   ],
   "source": [
    "# 디코더 정의\n",
    "\n",
    "# 이전 time step의 hidden state를 저장하는 텐서\n",
    "decoder_state_input_h = Input(shape=(hidden_size,))\n",
    "# 이전 time step의 cell state를 저장하는 텐서\n",
    "decoder_state_input_c = Input(shape=(hidden_size,))\n",
    "# 이전 time step의 hidden state와 cell state를 하나의 변수에 저장\n",
    "decoder_states_inputs = [decoder_state_input_h, decoder_state_input_c]\n",
    "\n",
    "# 훈련 때 사용했던 임베딩 층을 재사용\n",
    "dec_emb2 =  Embedding(fra_vocab_size, embedding_size)(decoder_inputs)\n",
    "# decoder_states_inputs를 현재 time step의 초기 상태로 사용.\n",
    "# 구체적인 동작 자체는 def decode_sequence()에 구현.\n",
    "decoder_outputs2, state_h2, state_c2 = decoder_lstm(dec_emb2, initial_state = decoder_states_inputs)\n",
    "# 현재 time step의 hidden state와 cell state를 하나의 변수에 저장.\n",
    "decoder_states2 = [state_h2, state_c2]\n",
    "\n",
    "# 출력층\n",
    "decoder_outputs2 = decoder_softmax_layer(decoder_outputs2)\n",
    "decoder_model = Model(inputs=[decoder_inputs] + decoder_states_inputs, outputs=[decoder_outputs2] + decoder_states2)\n",
    "decoder_model.summary()"
   ]
  },
  {
   "cell_type": "code",
   "execution_count": 22,
   "metadata": {},
   "outputs": [],
   "source": [
    "# 정수->단어, 단어->정수\n",
    "\n",
    "eng2idx = eng_tokenizer.word_index\n",
    "fra2idx = fra_tokenizer.word_index\n",
    "idx2eng = eng_tokenizer.index_word\n",
    "idx2fra = fra_tokenizer.index_word"
   ]
  },
  {
   "cell_type": "code",
   "execution_count": 23,
   "metadata": {},
   "outputs": [],
   "source": [
    "# decode_sequence(): 입력 인자는 번역하고자 하는 문장의 정수 시퀀스\n",
    "\n",
    "def decode_sequence(input_seq):\n",
    "    # 입력으로부터 인코더의 상태를 얻음\n",
    "    states_value = encoder_model.predict(input_seq)\n",
    "    \n",
    "    # <SOS>에 해당하는 원-핫 벡터 생성\n",
    "    target_seq = np.zeros((1, 1))\n",
    "    target_seq[0, 0] = fra2idx['<start>']\n",
    "    \n",
    "    stop_condition = False\n",
    "    decoded_sentence = \"\"\n",
    "\n",
    "    # stop_condition이 True가 될 때까지 루프 반복\n",
    "    while not stop_condition:\n",
    "        # 이점 시점의 상태 states_value를 현 시점의 초기 상태로 사용\n",
    "        output_tokens, h, c = decoder_model.predict([target_seq] + states_value)\n",
    "\n",
    "        # 예측 결과를 단어로 변환\n",
    "        sampled_token_index = np.argmax(output_tokens[0, -1, :])\n",
    "        sampled_char = idx2fra[sampled_token_index]\n",
    "\n",
    "        # 현재 시점의 예측 단어를 예측 문장에 추가\n",
    "        decoded_sentence += ' ' + sampled_char\n",
    "\n",
    "        # <eos>에 도달하거나 최대 길이를 넘으면 중단.\n",
    "        if (sampled_char == '<end>' or\n",
    "           len(decoded_sentence) > max_fra_seq_len):\n",
    "            stop_condition = True\n",
    "\n",
    "        # 현재 시점의 예측 결과를 다음 시점의 입력으로 사용하기 위해 저장\n",
    "        target_seq = np.zeros((1, 1))\n",
    "        target_seq[0, 0] = sampled_token_index\n",
    "\n",
    "        # 현재 시점의 상태를 다음 시점의 상태로 사용하기 위해 저장\n",
    "        states_value = [h, c]\n",
    "\n",
    "    return decoded_sentence[1:]"
   ]
  },
  {
   "cell_type": "code",
   "execution_count": 26,
   "metadata": {
    "scrolled": true
   },
   "outputs": [
    {
     "name": "stdout",
     "output_type": "stream",
     "text": [
      "-----------------------------------\n",
      "입력 문장: do you have nightmares ?\n",
      "정답 문장: fais - tu des cauchemars ?\n",
      "번역기가 번역한 문장: faites - des - ? ? \n",
      "-----------------------------------\n",
      "입력 문장: can you do that for me ?\n",
      "정답 문장: est - ce que tu peux faire ça pour moi ?\n",
      "번역기가 번역한 문장: est - tu le le fair\n",
      "-----------------------------------\n",
      "입력 문장: i ' m not a murderer .\n",
      "정답 문장: je ne suis pas un meurtrier .\n",
      "번역기가 번역한 문장: je ne ne ne je . . \n",
      "-----------------------------------\n",
      "입력 문장: may i do that now ?\n",
      "정답 문장: puis - je faire cela maintenant ?\n",
      "번역기가 번역한 문장: puis - je je je maintenan\n",
      "-----------------------------------\n",
      "입력 문장: they are very kind .\n",
      "정답 문장: ils sont très gentils .\n",
      "번역기가 번역한 문장: ils très très très \n"
     ]
    }
   ],
   "source": [
    "import random as rd\n",
    "sel_lst = [rd.randint(1, 30000) for _ in range(5)]\n",
    "\n",
    "for seq_index in sel_lst:\n",
    "    input_seq = encoder_input_train[seq_index: seq_index + 1]\n",
    "    decoded_sentence = decode_sequence(input_seq)\n",
    "    print(35 * \"-\")\n",
    "    print('입력 문장:', lines.eng[seq_index + 20000])\n",
    "    print('정답 문장:', lines.fra[seq_index + 20000][8:-6])\n",
    "    print('번역기가 번역한 문장:', decoded_sentence[:len(decoded_sentence)-1])"
   ]
  },
  {
   "cell_type": "code",
   "execution_count": null,
   "metadata": {},
   "outputs": [],
   "source": []
  }
 ],
 "metadata": {
  "kernelspec": {
   "display_name": "aiffel",
   "language": "python",
   "name": "aiffel"
  },
  "language_info": {
   "codemirror_mode": {
    "name": "ipython",
    "version": 3
   },
   "file_extension": ".py",
   "mimetype": "text/x-python",
   "name": "python",
   "nbconvert_exporter": "python",
   "pygments_lexer": "ipython3",
   "version": "3.7.6"
  }
 },
 "nbformat": 4,
 "nbformat_minor": 4
}
