{
 "cells": [
  {
   "cell_type": "markdown",
   "metadata": {},
   "source": [
    "# E11 - 멋진 작사가 만들기"
   ]
  },
  {
   "cell_type": "code",
   "execution_count": 1,
   "metadata": {},
   "outputs": [
    {
     "name": "stdout",
     "output_type": "stream",
     "text": [
      "데이터 크기: 187088\n",
      "Examples:\n",
      " ['The Cat in the Hat', 'By Dr. Seuss', 'The sun did not shine.']\n"
     ]
    }
   ],
   "source": [
    "# 데이터 불러오기\n",
    "\n",
    "import glob\n",
    "import os\n",
    "\n",
    "import re\n",
    "import numpy as np\n",
    "import tensorflow as tf\n",
    "\n",
    "txt_file_path = os.getenv('HOME')+'/aiffel//lyricist/data/lyrics/*'\n",
    "\n",
    "txt_list = glob.glob(txt_file_path)\n",
    "\n",
    "raw_corpus = []\n",
    "\n",
    "# 여러개의 txt 파일을 모두 읽어서 raw_corpus 에 담습니다.\n",
    "for txt_file in txt_list:\n",
    "    with open(txt_file, \"r\") as f:\n",
    "        raw = f.read().splitlines()\n",
    "        raw_corpus.extend(raw)\n",
    "\n",
    "print(\"데이터 크기:\", len(raw_corpus))\n",
    "print(\"Examples:\\n\", raw_corpus[:3])"
   ]
  },
  {
   "cell_type": "code",
   "execution_count": 2,
   "metadata": {},
   "outputs": [],
   "source": [
    "# 전처리 함수 구현\n",
    "\n",
    "def preprocess_sentence(sentence):\n",
    "    sentence = sentence.lower().strip()       # 소문자로 바꾸고 문장 양쪽 공백을 삭제\n",
    "  \n",
    "    # 아래 3단계를 거쳐 sentence는 스페이스 1개를 delimeter로 하는 소문자 단어 시퀀스로 바뀝니다.\n",
    "    # 패턴의 특수문자[?.!,¿]를 만나면 특수문자 양쪽에 공백을 추가\n",
    "    sentence = re.sub(r\"([?.!,¿])\", r\" \\1 \", sentence)\n",
    "    # 공백 패턴을 만나면 스페이스 1개로 치환\n",
    "    sentence = re.sub(r'[\" \"]+', \" \", sentence)\n",
    "    # a-zA-Z?.!,¿ 패턴을 제외한 모든 문자(공백문자까지도)를 스페이스 1개로 치환\n",
    "    sentence = re.sub(r\"[^a-zA-Z?.!,¿]+\", \" \", sentence)  \n",
    "\n",
    "    sentence = sentence.strip()\n",
    "\n",
    "    sentence = '<start> ' + sentence + ' <end>'   # 이전 스텝에서 본 것처럼 문장 앞뒤로 <start>와 <end>를 단어처럼 붙여 줍니다.\n",
    "    \n",
    "    return sentence"
   ]
  },
  {
   "cell_type": "code",
   "execution_count": 3,
   "metadata": {},
   "outputs": [
    {
     "data": {
      "text/plain": [
       "['<start> the cat in the hat <end>',\n",
       " '<start> by dr . seuss <end>',\n",
       " '<start> the sun did not shine . <end>',\n",
       " '<start> it was too wet to play . <end>',\n",
       " '<start> so we sat in the house <end>',\n",
       " '<start> all that cold cold wet day . <end>',\n",
       " '<start> i sat there with sally . <end>',\n",
       " '<start> we sat there we two . <end>',\n",
       " '<start> and i said how i wish <end>',\n",
       " '<start> we had something to do ! <end>']"
      ]
     },
     "execution_count": 3,
     "metadata": {},
     "output_type": "execute_result"
    }
   ],
   "source": [
    "# raw_corpus를 전처리 하기\n",
    " \n",
    "corpus = []\n",
    "\n",
    "for sentence in raw_corpus:\n",
    "    if len(sentence) == 0: continue   # 길이가 0인 문장은 건너뜁니다.\n",
    "            \n",
    "    corpus.append(preprocess_sentence(sentence))\n",
    "        \n",
    "corpus[:10]"
   ]
  },
  {
   "cell_type": "code",
   "execution_count": 4,
   "metadata": {},
   "outputs": [
    {
     "name": "stdout",
     "output_type": "stream",
     "text": [
      "[[   2    6  824 ...    0    0    0]\n",
      " [   2  115 2805 ...    0    0    0]\n",
      " [   2    6  286 ...    0    0    0]\n",
      " ...\n",
      " [   2 2412   13 ...    0    0    0]\n",
      " [   2  716   27 ...    0    0    0]\n",
      " [   2  716   27 ...    0    0    0]] <keras_preprocessing.text.Tokenizer object at 0x7f35e35b6190>\n"
     ]
    }
   ],
   "source": [
    "# 문장을 토큰화하여 tensor로 만드는 함수 구현\n",
    "\n",
    "def tokenize(corpus):\n",
    "    # 텐서플로우에서 제공하는 Tokenizer 패키지를 생성\n",
    "    tokenizer = tf.keras.preprocessing.text.Tokenizer(\n",
    "        num_words=12000,    # 전체 단어의 개수 \n",
    "        filters=' ',       # 별도로 전처리 로직을 추가할 수 있습니다. 이번에는 사용하지 않겠습니다.\n",
    "        oov_token=\"<unk>\"  # out-of-vocabulary, 사전에 없었던 단어는 어떤 토큰으로 대체할지\n",
    "    )\n",
    "    \n",
    "    corpus = [x for x in corpus if len(x.split()) <= 15]\n",
    "    \n",
    "    tokenizer.fit_on_texts(corpus)   # 우리가 구축한 corpus로부터 Tokenizer가 사전을 자동구축하게 됩니다.\n",
    "    \n",
    "    # 이후 tokenizer를 활용하여 모델에 입력할 데이터셋을 구축하게 됩니다.\n",
    "    tensor = tokenizer.texts_to_sequences(corpus)   # tokenizer는 구축한 사전으로부터 corpus를 해석해 Tensor로 변환합니다.\n",
    "\n",
    "    # 입력 데이터의 시퀀스 길이를 일정하게 맞추기 위한 padding 메소드를 제공합니다.\n",
    "    # maxlen의 디폴트값은 None입니다. 이 경우 corpus의 가장 긴 문장을 기준으로 시퀀스 길이가 맞춰집니다.\n",
    "    tensor = tf.keras.preprocessing.sequence.pad_sequences(tensor, padding='post')\n",
    "           \n",
    "    print(tensor,tokenizer)\n",
    "    return tensor, tokenizer\n",
    "\n",
    "tensor, tokenizer = tokenize(corpus)"
   ]
  },
  {
   "cell_type": "code",
   "execution_count": 5,
   "metadata": {},
   "outputs": [
    {
     "name": "stdout",
     "output_type": "stream",
     "text": [
      "[  2  11  53 102 898  10 210  22   3   0   0   0   0   0   0]\n"
     ]
    }
   ],
   "source": [
    "print(tensor[3])"
   ]
  },
  {
   "cell_type": "code",
   "execution_count": 6,
   "metadata": {},
   "outputs": [
    {
     "name": "stdout",
     "output_type": "stream",
     "text": [
      "Source Train: (124981, 14)\n",
      "Target Train: (124981, 14)\n"
     ]
    }
   ],
   "source": [
    "from sklearn.model_selection import train_test_split\n",
    "\n",
    "src_input = tensor[:, :-1]\n",
    "tgt_input = tensor[:, 1:]\n",
    "\n",
    "enc_train, enc_val, dec_train, dec_val = train_test_split(src_input, tgt_input, test_size=0.2, random_state=2020)\n",
    "\n",
    "print(\"Source Train:\", enc_train.shape)\n",
    "print(\"Target Train:\", dec_train.shape)"
   ]
  },
  {
   "cell_type": "code",
   "execution_count": 7,
   "metadata": {},
   "outputs": [
    {
     "data": {
      "text/plain": [
       "<BatchDataset shapes: ((256, 14), (256, 14)), types: (tf.int32, tf.int32)>"
      ]
     },
     "execution_count": 7,
     "metadata": {},
     "output_type": "execute_result"
    }
   ],
   "source": [
    "BUFFER_SIZE = len(src_input)\n",
    "BATCH_SIZE = 256\n",
    "steps_per_epoch = len(src_input) // BATCH_SIZE\n",
    "\n",
    "VOCAB_SIZE = tokenizer.num_words + 1    \n",
    "\n",
    "dataset = tf.data.Dataset.from_tensor_slices((enc_train, dec_train)).shuffle(BUFFER_SIZE)\n",
    "dataset = dataset.batch(BATCH_SIZE, drop_remainder=True)\n",
    "dataset"
   ]
  },
  {
   "cell_type": "code",
   "execution_count": 8,
   "metadata": {},
   "outputs": [],
   "source": [
    "class TextGenerator(tf.keras.Model):\n",
    "    def __init__(self, vocab_size, embedding_size, hidden_size):\n",
    "        super(TextGenerator, self).__init__()\n",
    "        \n",
    "        self.embedding = tf.keras.layers.Embedding(vocab_size, embedding_size)\n",
    "        self.rnn_1 = tf.keras.layers.LSTM(hidden_size, return_sequences=True)\n",
    "        self.rnn_2 = tf.keras.layers.LSTM(hidden_size, return_sequences=True)\n",
    "        self.linear = tf.keras.layers.Dense(vocab_size)\n",
    "        \n",
    "    def call(self, x):\n",
    "        out = self.embedding(x)\n",
    "        out = self.rnn_1(out)\n",
    "        out = self.rnn_2(out)\n",
    "        out = self.linear(out)\n",
    "        \n",
    "        return out\n",
    "    \n",
    "embedding_size = 1024   # 워드 벡터의 차원수, 즉 단어가 추상적으로 표현되는 크기 (예, 2일 경우 차갑다:[0.0, 1.0]\n",
    "hidden_size = 2048     # LSTM layer의 hidden state의 차원수\n",
    "model = TextGenerator(tokenizer.num_words + 1, embedding_size , hidden_size)"
   ]
  },
  {
   "cell_type": "code",
   "execution_count": 9,
   "metadata": {},
   "outputs": [
    {
     "data": {
      "text/plain": [
       "<tf.Tensor: shape=(256, 14, 12001), dtype=float32, numpy=\n",
       "array([[[ 7.86827877e-05, -2.03900763e-05, -6.95526018e-04, ...,\n",
       "         -6.81765960e-06, -2.31695831e-05,  2.53590115e-04],\n",
       "        [-2.83458503e-04,  4.05584797e-05, -1.48646138e-03, ...,\n",
       "          1.77562397e-04,  1.65452686e-04,  2.32002552e-04],\n",
       "        [-1.34194590e-04, -5.85424596e-06, -1.83883507e-03, ...,\n",
       "          8.88134469e-04,  5.26629738e-04, -5.40162400e-05],\n",
       "        ...,\n",
       "        [-1.73615350e-04,  3.84138722e-04, -1.07307616e-03, ...,\n",
       "         -1.14428950e-03, -7.58962648e-04, -9.01418505e-04],\n",
       "        [-1.84503340e-04, -6.67712229e-05, -7.92522740e-04, ...,\n",
       "         -1.05119171e-03, -5.56493411e-04, -8.91970529e-04],\n",
       "        [-2.56917177e-04, -3.09066236e-05, -8.20186338e-04, ...,\n",
       "         -8.17465771e-04, -1.86844889e-04, -3.03546432e-04]],\n",
       "\n",
       "       [[ 7.86827877e-05, -2.03900763e-05, -6.95526018e-04, ...,\n",
       "         -6.81765960e-06, -2.31695831e-05,  2.53590115e-04],\n",
       "        [-2.85995939e-05,  2.30611055e-04, -8.09918100e-04, ...,\n",
       "         -6.22776686e-04,  4.20887634e-04,  6.10020943e-04],\n",
       "        [-4.24226804e-04,  1.78053422e-04, -6.58659090e-04, ...,\n",
       "         -9.30683280e-04,  1.11372897e-03,  1.30682054e-03],\n",
       "        ...,\n",
       "        [ 1.06816692e-03, -2.65066349e-03,  1.32942002e-03, ...,\n",
       "          9.47413326e-04,  6.00733503e-04,  1.65009883e-03],\n",
       "        [ 1.13616500e-03, -3.74386972e-03,  1.95910037e-03, ...,\n",
       "          1.10646745e-03,  5.13374107e-04,  1.94258650e-03],\n",
       "        [ 1.10845873e-03, -4.71306127e-03,  2.57398305e-03, ...,\n",
       "          1.14196388e-03,  4.84759774e-04,  2.22548726e-03]],\n",
       "\n",
       "       [[ 7.86827877e-05, -2.03900763e-05, -6.95526018e-04, ...,\n",
       "         -6.81765960e-06, -2.31695831e-05,  2.53590115e-04],\n",
       "        [ 6.37778794e-05, -7.16807408e-05, -1.37012394e-03, ...,\n",
       "         -2.99911626e-04,  3.92357333e-06,  4.99604153e-04],\n",
       "        [ 5.01848408e-04,  1.10070134e-04, -1.53913104e-03, ...,\n",
       "         -1.12390233e-04, -1.87405778e-04,  2.40795824e-04],\n",
       "        ...,\n",
       "        [ 1.32124615e-03, -5.11430157e-03,  2.29973905e-03, ...,\n",
       "          1.57111837e-03,  2.97802413e-04,  1.18315825e-03],\n",
       "        [ 1.17904472e-03, -5.79888932e-03,  3.02258949e-03, ...,\n",
       "          1.32468436e-03,  4.24348109e-04,  1.45843823e-03],\n",
       "        [ 1.02599640e-03, -6.34300476e-03,  3.68212000e-03, ...,\n",
       "          1.03286246e-03,  5.59157750e-04,  1.75969221e-03]],\n",
       "\n",
       "       ...,\n",
       "\n",
       "       [[ 7.86827877e-05, -2.03900763e-05, -6.95526018e-04, ...,\n",
       "         -6.81765960e-06, -2.31695831e-05,  2.53590115e-04],\n",
       "        [-3.17977072e-04,  4.70794999e-04, -9.22944513e-04, ...,\n",
       "          2.26842923e-04,  4.93442640e-04,  5.91364456e-04],\n",
       "        [-3.76239012e-04,  6.68651366e-04, -1.32622791e-03, ...,\n",
       "          1.13326346e-03,  1.07567257e-03,  6.11650001e-04],\n",
       "        ...,\n",
       "        [ 1.26348215e-03, -3.62288347e-03,  2.17227871e-03, ...,\n",
       "          1.27867085e-03,  9.92732355e-04,  1.14914484e-03],\n",
       "        [ 1.38100761e-03, -4.62917052e-03,  2.74821254e-03, ...,\n",
       "          1.24789483e-03,  1.09578983e-03,  1.20763993e-03],\n",
       "        [ 1.37616135e-03, -5.50205959e-03,  3.29757249e-03, ...,\n",
       "          1.15042331e-03,  1.18550868e-03,  1.33618352e-03]],\n",
       "\n",
       "       [[ 7.86827877e-05, -2.03900763e-05, -6.95526018e-04, ...,\n",
       "         -6.81765960e-06, -2.31695831e-05,  2.53590115e-04],\n",
       "        [ 1.78544287e-04,  6.96317438e-05, -1.20123685e-03, ...,\n",
       "          8.45667091e-05, -7.02221805e-05,  2.83415837e-04],\n",
       "        [ 4.27511084e-04, -6.03454500e-05, -1.82885223e-03, ...,\n",
       "          2.63903232e-04,  2.11123712e-04,  2.46403710e-04],\n",
       "        ...,\n",
       "        [ 1.20618136e-03, -6.76343823e-03,  2.52676196e-03, ...,\n",
       "          1.45198754e-03,  6.35523524e-04,  2.14492087e-03],\n",
       "        [ 1.03625830e-03, -7.17526767e-03,  3.21947760e-03, ...,\n",
       "          1.13725383e-03,  7.29153981e-04,  2.40826467e-03],\n",
       "        [ 8.75388854e-04, -7.48140318e-03,  3.84802674e-03, ...,\n",
       "          8.00939684e-04,  8.26969626e-04,  2.67735589e-03]],\n",
       "\n",
       "       [[ 7.86827877e-05, -2.03900763e-05, -6.95526018e-04, ...,\n",
       "         -6.81765960e-06, -2.31695831e-05,  2.53590115e-04],\n",
       "        [ 3.15967191e-04, -3.01874592e-04, -6.86708605e-04, ...,\n",
       "         -2.30612102e-04,  1.39469281e-04,  2.26678880e-04],\n",
       "        [ 5.50472003e-04, -5.85852482e-04, -5.60989429e-04, ...,\n",
       "         -4.68103855e-04,  2.38767352e-05,  4.30686487e-04],\n",
       "        ...,\n",
       "        [ 2.25524782e-04, -2.12544156e-03, -1.23739243e-03, ...,\n",
       "         -2.84354988e-04, -1.70908737e-04, -7.79131136e-04],\n",
       "        [-3.72822360e-05, -1.76950614e-03, -1.92192162e-03, ...,\n",
       "         -3.69693531e-04, -9.59627971e-04, -1.03431661e-03],\n",
       "        [-2.82118097e-04, -1.11668173e-03, -2.50417506e-03, ...,\n",
       "         -3.62051447e-04, -1.10302609e-03, -5.97849372e-04]]],\n",
       "      dtype=float32)>"
      ]
     },
     "execution_count": 9,
     "metadata": {},
     "output_type": "execute_result"
    }
   ],
   "source": [
    "for src_sample, tgt_sample in dataset.take(1): break\n",
    "model(src_sample)"
   ]
  },
  {
   "cell_type": "code",
   "execution_count": 10,
   "metadata": {},
   "outputs": [
    {
     "name": "stdout",
     "output_type": "stream",
     "text": [
      "Model: \"text_generator\"\n",
      "_________________________________________________________________\n",
      "Layer (type)                 Output Shape              Param #   \n",
      "=================================================================\n",
      "embedding (Embedding)        multiple                  12289024  \n",
      "_________________________________________________________________\n",
      "lstm (LSTM)                  multiple                  25174016  \n",
      "_________________________________________________________________\n",
      "lstm_1 (LSTM)                multiple                  33562624  \n",
      "_________________________________________________________________\n",
      "dense (Dense)                multiple                  24590049  \n",
      "=================================================================\n",
      "Total params: 95,615,713\n",
      "Trainable params: 95,615,713\n",
      "Non-trainable params: 0\n",
      "_________________________________________________________________\n"
     ]
    }
   ],
   "source": [
    "model.summary()"
   ]
  },
  {
   "cell_type": "code",
   "execution_count": 11,
   "metadata": {},
   "outputs": [
    {
     "name": "stdout",
     "output_type": "stream",
     "text": [
      "Epoch 1/10\n",
      "488/488 [==============================] - 237s 485ms/step - loss: 3.2308 - val_loss: 2.8617\n",
      "Epoch 2/10\n",
      "488/488 [==============================] - 234s 479ms/step - loss: 2.6790 - val_loss: 2.6024\n",
      "Epoch 3/10\n",
      "488/488 [==============================] - 238s 487ms/step - loss: 2.3477 - val_loss: 2.4208\n",
      "Epoch 4/10\n",
      "488/488 [==============================] - 235s 482ms/step - loss: 2.0239 - val_loss: 2.2882\n",
      "Epoch 5/10\n",
      "488/488 [==============================] - 232s 476ms/step - loss: 1.7220 - val_loss: 2.1953\n",
      "Epoch 6/10\n",
      "488/488 [==============================] - 232s 476ms/step - loss: 1.4626 - val_loss: 2.1415\n",
      "Epoch 7/10\n",
      "488/488 [==============================] - 232s 476ms/step - loss: 1.2587 - val_loss: 2.1200\n",
      "Epoch 8/10\n",
      "488/488 [==============================] - 232s 476ms/step - loss: 1.1162 - val_loss: 2.1306\n",
      "Epoch 9/10\n",
      "488/488 [==============================] - 232s 476ms/step - loss: 1.0316 - val_loss: 2.1469\n",
      "Epoch 10/10\n",
      "488/488 [==============================] - 232s 476ms/step - loss: 0.9889 - val_loss: 2.1637\n"
     ]
    },
    {
     "data": {
      "text/plain": [
       "<tensorflow.python.keras.callbacks.History at 0x7f35e58c28d0>"
      ]
     },
     "execution_count": 11,
     "metadata": {},
     "output_type": "execute_result"
    }
   ],
   "source": [
    "optimizer = tf.keras.optimizers.Adam()\n",
    "loss = tf.keras.losses.SparseCategoricalCrossentropy(\n",
    "    from_logits=True,\n",
    "    reduction='none'\n",
    ")\n",
    "\n",
    "model.compile(loss=loss, optimizer=optimizer)\n",
    "model.fit(dataset, epochs=10, validation_data = (enc_val, dec_val))"
   ]
  },
  {
   "cell_type": "code",
   "execution_count": 12,
   "metadata": {},
   "outputs": [],
   "source": [
    "def generate_text(model, tokenizer, init_sentence=\"<start>\", max_len=20):\n",
    "    # 테스트를 위해서 입력받은 init_sentence도 일단 텐서로 변환합니다.\n",
    "    test_input = tokenizer.texts_to_sequences([init_sentence])\n",
    "    test_tensor = tf.convert_to_tensor(test_input, dtype=tf.int64)\n",
    "    end_token = tokenizer.word_index[\"<end>\"]\n",
    "\n",
    "    # 텍스트를 실제로 생성할때는 루프를 돌면서 단어 하나씩 생성해야 합니다. \n",
    "    while True:\n",
    "        predict = model(test_tensor)  # 입력받은 문장의 텐서를 입력합니다.\n",
    "        # 우리 모델이 예측한 마지막 단어([:, -1])가 바로 새롭게 생성한 단어가 됩니다. \n",
    "        predict_word = tf.argmax(tf.nn.softmax(predict, axis=-1), axis=-1)[:, -1]   \n",
    "\n",
    "        # 우리 모델이 새롭게 예측한 단어를 입력 문장의 뒤에 붙여 줍니다. \n",
    "        test_tensor = tf.concat([test_tensor, tf.expand_dims(predict_word, axis=0)], axis=-1)\n",
    "\n",
    "        # 우리 모델이 <END>를 예측했거나, max_len에 도달하지 않았다면  while 루프를 또 돌면서 다음 단어를 예측해야 합니다.\n",
    "        if predict_word.numpy()[0] == end_token: break\n",
    "        if test_tensor.shape[1] >= max_len: break\n",
    "\n",
    "    generated = \"\"\n",
    "    # 생성된 tensor 안에 있는 word index를 tokenizer.index_word 사전을 통해 실제 단어로 하나씩 변환합니다. \n",
    "    for word_index in test_tensor[0].numpy():\n",
    "        generated += tokenizer.index_word[word_index] + \" \"\n",
    "\n",
    "    return generated"
   ]
  },
  {
   "cell_type": "code",
   "execution_count": 19,
   "metadata": {},
   "outputs": [
    {
     "data": {
      "text/plain": [
       "'<start> i know you re unhappy , <end> '"
      ]
     },
     "execution_count": 19,
     "metadata": {},
     "output_type": "execute_result"
    }
   ],
   "source": [
    "generate_text(model, tokenizer, init_sentence=\"<start> i know\", max_len=20)"
   ]
  },
  {
   "cell_type": "markdown",
   "metadata": {},
   "source": [
    "지나치게 긴 문장은 다른 데이터들이 과도한 padding을 갖게 된다고 토큰 갯수가 15개 넘어가면 삭제하라고   \n",
    "권고하였는데 과도한 padding이 결과에 어떠한 영향을 미칠까?   \n",
    "\n",
    "우선 토큰의 갯수에 따라  \n",
    "embedding_size = 256, hidden_size = 1024  \n",
    "14개 이하일 때   \n",
    "loss: 2.2110, val_loss: 2.5187  \n",
    "i love you, i m better   \n",
    "\n",
    "32개 이하일 때   \n",
    "loss: 1.1226, val_loss: 1.243   \n",
    "\n",
    "64개 이하일 때\n",
    "loss: 0.4401, val_loss: 0.5726  \n",
    "i know you re smiling out of time/ i love you, i love you, .. 반복, 후렴 구간인가?\n",
    "\n",
    "토큰 갯수가 증가할수록, padding이 증가할수록 오히려 loss가 낮아졌다.   \n",
    "과도하다고 해서 불리한 결과가 나올 줄 알았는데 원인이 뭘까?   \n",
    "\n",
    "embedding_size = 1024, hidden_size = 2048 조정   \n",
    "14개 이하일 때\n",
    "loss: 0.9889, val_loss: 2.1637   \n",
    "i know you re unhappy/ i love you   \n",
    "val_loss 0.35정도 하락, 40분 가까이 걸린 거에 비하면 아주 조금 하락   \n",
    "32개, 64개이하는 시간이 얼마나 걸릴 지 엄두가 안 남.   \n",
    "아마도 두 배이상 걸릴 것 같으나 수치 하락은 미미할 것 같음.   \n",
    "\n",
    "사전에 있는 단어들로 조합하는 것이지만 새로운 것을 만들어낼 수 있다는 것이 재밌음."
   ]
  },
  {
   "cell_type": "code",
   "execution_count": null,
   "metadata": {},
   "outputs": [],
   "source": []
  }
 ],
 "metadata": {
  "kernelspec": {
   "display_name": "aiffel",
   "language": "python",
   "name": "aiffel"
  },
  "language_info": {
   "codemirror_mode": {
    "name": "ipython",
    "version": 3
   },
   "file_extension": ".py",
   "mimetype": "text/x-python",
   "name": "python",
   "nbconvert_exporter": "python",
   "pygments_lexer": "ipython3",
   "version": "3.7.6"
  }
 },
 "nbformat": 4,
 "nbformat_minor": 4
}
