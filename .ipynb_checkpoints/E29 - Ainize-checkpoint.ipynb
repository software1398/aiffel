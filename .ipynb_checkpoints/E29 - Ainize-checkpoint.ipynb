{
 "cells": [
  {
   "cell_type": "markdown",
   "metadata": {},
   "source": [
    "## E29 - Ainize, 나의 원클릭 포트폴리오 만들기\n",
    "Development Operations(Devops) : 프로그램 개발 단계부터 배포 후 프로그램 사용자 개선을 순환하는 과정  \n",
    "Machine Learning Operations(MLOps) : AI 구현에서부터 실제로 작동하는 AI를 만드는 과정  \n",
    "\n",
    "#### Ainize\n",
    "오픈소스 코드로 구현된 AI를 실제 프로그램으로 작동하도록 만드는 서비스.  \n",
    "무료 배포(free deployment), 간단한 환경 설정(simple configuration), 자동 스케일링 서비스(auto scaling service)  \n",
    "Ainize Tutorials : https://app.gitbook.com/@ai-network/s/ainize-tutorials/  \n",
    "\n",
    "Ainize 서비스를 이용하기 위해 필요한 절차  \n",
    "* Docker 설치(https://www.docker.com/)  \n",
    "* Ainize 가입(https://ainize.ai/)  \n",
    "\n",
    "docker 설치 방법 : https://hiseon.me/linux/ubuntu/install-docker/  \n",
    "### 프로젝트 준비\n",
    "mnist-mlp-app라는 프로젝트의 깃주소 : https://github.com/minsulee2/mnist-mlp-app  \n",
    "위 git 주소를 fork한다.  \n",
    "프로젝트에는 images/, models/의 두 디렉토리로 구성  \n",
    "images에는 2.png파일이 있으며 mnist-mlp.py에서 테스트로 사용된다.  \n",
    "models에는 mnist-mlp.py가 학습을 수행하여 생성한 모델의 정보가 담긴 파일이 있다.  \n",
    "\n"
   ]
  }
 ],
 "metadata": {
  "kernelspec": {
   "display_name": "aiffel",
   "language": "python",
   "name": "aiffel"
  },
  "language_info": {
   "codemirror_mode": {
    "name": "ipython",
    "version": 3
   },
   "file_extension": ".py",
   "mimetype": "text/x-python",
   "name": "python",
   "nbconvert_exporter": "python",
   "pygments_lexer": "ipython3",
   "version": "3.7.6"
  }
 },
 "nbformat": 4,
 "nbformat_minor": 4
}
