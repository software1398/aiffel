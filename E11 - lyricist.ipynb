{
 "cells": [
  {
   "cell_type": "markdown",
   "metadata": {},
   "source": [
    "## E11 - 작사가 인공지능 만들기"
   ]
  },
  {
   "cell_type": "code",
   "execution_count": 1,
   "metadata": {},
   "outputs": [
    {
     "name": "stdout",
     "output_type": "stream",
     "text": [
      "Source 문장: <start> 나는 밥을 먹었다 \n",
      "Target 문장:  나는 밥을 먹었다 <end>\n"
     ]
    }
   ],
   "source": [
    "# RNN: 문법을 처리하는 인공지능 중 하나, 순환신경망, 결과를 다시 입력으로 사용\n",
    "# 시작과 끝을 알리는 신호가 필요하다.\n",
    "# <start>: 문장 생성을 시작\n",
    "# <end>: 문장 생성 완성\n",
    "\n",
    "sentence = \" 나는 밥을 먹었다 \"\n",
    "\n",
    "source_sentence = \"<start>\" + sentence\n",
    "target_sentence = sentence + \"<end>\"\n",
    "\n",
    "print(\"Source 문장:\", source_sentence)\n",
    "print(\"Target 문장:\", target_sentence)"
   ]
  },
  {
   "cell_type": "code",
   "execution_count": 2,
   "metadata": {},
   "outputs": [
    {
     "name": "stdout",
     "output_type": "stream",
     "text": [
      "['First Citizen:', 'Before we proceed any further, hear me speak.', '', 'All:', 'Speak, speak.', '', 'First Citizen:', 'You are all resolved rather to die than to famish?', '']\n"
     ]
    }
   ],
   "source": [
    "# wget https://storage.googleapis.com/download.tensorflow.org/data/shakespeare.txt\n",
    "# 텐서플로우에서 제공하는 셰익스피어 연극 대본\n",
    "\n",
    "import re                  # 정규표현식을 위한 Regex 지원 모듈 (문장 데이터를 정돈하기 위해) \n",
    "import numpy as np         # 변환된 문장 데이터(행렬)을 편하게 처리하기 위해\n",
    "import tensorflow as tf    # 대망의 텐서플로우!\n",
    "import os\n",
    "\n",
    "# 파일을 읽기모드로 열어 봅니다.\n",
    "file_path = os.getenv('HOME') + '/aiffel/lyricist/data/shakespeare.txt'\n",
    "with open(file_path, \"r\") as f:\n",
    "    raw_corpus = f.read().splitlines()   # 텍스트를 라인 단위로 끊어서 list 형태로 읽어옵니다.\n",
    "\n",
    "print(raw_corpus[:9])    # 앞에서부터 10라인만 화면에 출력해 볼까요?"
   ]
  },
  {
   "cell_type": "code",
   "execution_count": 3,
   "metadata": {},
   "outputs": [
    {
     "name": "stdout",
     "output_type": "stream",
     "text": [
      "Before we proceed any further, hear me speak.\n",
      "Speak, speak.\n",
      "You are all resolved rather to die than to famish?\n"
     ]
    }
   ],
   "source": [
    "# 화자가 표기된 문장과 공백인 문장 제거\n",
    "\n",
    "for idx, sentence in enumerate(raw_corpus):\n",
    "    if len(sentence) == 0: continue   # 길이가 0인 문장은 건너뜁니다.\n",
    "    if sentence[-1] == \":\": continue  # 문장의 끝이 : 인 문장은 건너뜁니다.\n",
    "\n",
    "    if idx > 9: break   # 일단 문장 10개만 확인해 볼 겁니다.\n",
    "        \n",
    "    print(sentence)"
   ]
  },
  {
   "cell_type": "code",
   "execution_count": 4,
   "metadata": {},
   "outputs": [
    {
     "name": "stdout",
     "output_type": "stream",
     "text": [
      "<start> this is sample sentence . <end>\n"
     ]
    }
   ],
   "source": [
    "# 토큰화 중 문제점\n",
    "# 문장부호가 붙은 경우, 대소문자 구분되는 경우, 특수문자가 붙은 경우\n",
    "# 정규표현식을 이용하여 제거한다.\n",
    "# 전치리 함수 구현부분\n",
    "\n",
    "def preprocess_sentence(sentence):\n",
    "    sentence = sentence.lower().strip()       # 소문자로 바꾸고 문장 양쪽 공백을 삭제\n",
    "  \n",
    "    # 아래 3단계를 거쳐 sentence는 스페이스 1개를 delimeter로 하는 소문자 단어 시퀀스로 바뀝니다.\n",
    "    # 패턴의 특수문자[?.!,¿]를 만나면 특수문자 양쪽에 공백을 추가\n",
    "    sentence = re.sub(r\"([?.!,¿])\", r\" \\1 \", sentence)\n",
    "    # 공백 패턴을 만나면 스페이스 1개로 치환\n",
    "    sentence = re.sub(r'[\" \"]+', \" \", sentence)\n",
    "    # a-zA-Z?.!,¿ 패턴을 제외한 모든 문자(공백문자까지도)를 스페이스 1개로 치환\n",
    "    sentence = re.sub(r\"[^a-zA-Z?.!,¿]+\", \" \", sentence)  \n",
    "\n",
    "    sentence = sentence.strip()\n",
    "\n",
    "    sentence = '<start> ' + sentence + ' <end>'   # 이전 스텝에서 본 것처럼 문장 앞뒤로 <start>와 <end>를 단어처럼 붙여 줍니다.\n",
    "    \n",
    "    return sentence\n",
    "\n",
    "print(preprocess_sentence(\"This @_is ;;;sample        sentence.\"))   # 이 문장이 어떻게 필터링되는지 확인해 보세요."
   ]
  },
  {
   "cell_type": "code",
   "execution_count": 12,
   "metadata": {},
   "outputs": [
    {
     "data": {
      "text/plain": [
       "['<start> before we proceed any further , hear me speak . <end>',\n",
       " '<start> speak , speak . <end>',\n",
       " '<start> you are all resolved rather to die than to famish ? <end>',\n",
       " '<start> resolved . resolved . <end>',\n",
       " '<start> first , you know caius marcius is chief enemy to the people . <end>',\n",
       " '<start> we know t , we know t . <end>',\n",
       " '<start> let us kill him , and we ll have corn at our own price . <end>',\n",
       " '<start> is t a verdict ? <end>',\n",
       " '<start> no more talking on t let it be done away , away ! <end>',\n",
       " '<start> one word , good citizens . <end>']"
      ]
     },
     "execution_count": 12,
     "metadata": {},
     "output_type": "execute_result"
    }
   ],
   "source": [
    "# raw_corpus를 전처리 하기\n",
    " \n",
    "corpus = []\n",
    "\n",
    "for sentence in raw_corpus:\n",
    "    if len(sentence) == 0: continue   # 길이가 0인 문장은 건너뜁니다.\n",
    "    if sentence[-1] == \":\": continue  # 문장의 끝이 : 인 문장은 건너뜁니다.\n",
    "        \n",
    "    corpus.append(preprocess_sentence(sentence))\n",
    "        \n",
    "corpus[:10]"
   ]
  },
  {
   "cell_type": "code",
   "execution_count": 13,
   "metadata": {},
   "outputs": [
    {
     "name": "stdout",
     "output_type": "stream",
     "text": [
      "[[   2  143   40 ...    0    0    0]\n",
      " [   2  110    4 ...    0    0    0]\n",
      " [   2   11   50 ...    0    0    0]\n",
      " ...\n",
      " [   2  149 4553 ...    0    0    0]\n",
      " [   2   34   71 ...    0    0    0]\n",
      " [   2  945   34 ...    0    0    0]] <keras_preprocessing.text.Tokenizer object at 0x7fe67a59a090>\n"
     ]
    }
   ],
   "source": [
    "# tf.keras.preprocessing.text.Tokenizer 패키지를 이용하여 단어를 숫자 데이터로 변환시켜 준다.\n",
    "# tensor란, https://rekt77.tistory.com/102\n",
    "\n",
    "def tokenize(corpus):\n",
    "    # 텐서플로우에서 제공하는 Tokenizer 패키지를 생성\n",
    "    tokenizer = tf.keras.preprocessing.text.Tokenizer(\n",
    "        num_words=7000,    # 전체 단어의 개수 \n",
    "        filters=' ',       # 별도로 전처리 로직을 추가할 수 있습니다. 이번에는 사용하지 않겠습니다.\n",
    "        oov_token=\"<unk>\"  # out-of-vocabulary, 사전에 없었던 단어는 어떤 토큰으로 대체할지\n",
    "    )\n",
    "    tokenizer.fit_on_texts(corpus)   # 우리가 구축한 corpus로부터 Tokenizer가 사전을 자동구축하게 됩니다.\n",
    "\n",
    "    # 이후 tokenizer를 활용하여 모델에 입력할 데이터셋을 구축하게 됩니다.\n",
    "    tensor = tokenizer.texts_to_sequences(corpus)   # tokenizer는 구축한 사전으로부터 corpus를 해석해 Tensor로 변환합니다.\n",
    "\n",
    "    # 입력 데이터의 시퀀스 길이를 일정하게 맞추기 위한 padding 메소드를 제공합니다.\n",
    "    # maxlen의 디폴트값은 None입니다. 이 경우 corpus의 가장 긴 문장을 기준으로 시퀀스 길이가 맞춰집니다.\n",
    "    tensor = tf.keras.preprocessing.sequence.pad_sequences(tensor, padding='post')  \n",
    "\n",
    "    print(tensor,tokenizer)\n",
    "    return tensor, tokenizer\n",
    "\n",
    "tensor, tokenizer = tokenize(corpus)"
   ]
  },
  {
   "cell_type": "code",
   "execution_count": 14,
   "metadata": {},
   "outputs": [
    {
     "name": "stdout",
     "output_type": "stream",
     "text": [
      "[[   2  143   40  933  140  591    4  124   24  110]\n",
      " [   2  110    4  110    5    3    0    0    0    0]\n",
      " [   2   11   50   43 1201  316    9  201   74    9]]\n"
     ]
    }
   ],
   "source": [
    "print(tensor[:3, :10])\n",
    "\n",
    "# 데이터의 숫자는 tokenizer가 구축한 단어 사전의 인덱스"
   ]
  },
  {
   "cell_type": "code",
   "execution_count": 15,
   "metadata": {},
   "outputs": [
    {
     "name": "stdout",
     "output_type": "stream",
     "text": [
      "1 : <unk>\n",
      "2 : <start>\n",
      "3 : <end>\n",
      "4 : ,\n",
      "5 : .\n",
      "6 : the\n",
      "7 : and\n",
      "8 : i\n",
      "9 : to\n",
      "10 : of\n"
     ]
    }
   ],
   "source": [
    "# 단어 사전 내용\n",
    "\n",
    "for idx in tokenizer.index_word:\n",
    "    print(idx, \":\", tokenizer.index_word[idx])\n",
    "\n",
    "    if idx >= 10: break\n",
    "        \n",
    "# 단어 사전의 내용을 확인해보면 2인덱스가 <start>이므로 위 tensor의 모든 행의 시작이 2인 걸 알 수 있다."
   ]
  },
  {
   "cell_type": "code",
   "execution_count": 16,
   "metadata": {},
   "outputs": [
    {
     "name": "stdout",
     "output_type": "stream",
     "text": [
      "[  2 143  40 933 140 591   4 124  24 110   5   3   0   0   0   0   0   0\n",
      "   0   0]\n",
      "[143  40 933 140 591   4 124  24 110   5   3   0   0   0   0   0   0   0\n",
      "   0   0]\n"
     ]
    }
   ],
   "source": [
    "# 끝 단어를 없애면 소스 문장(X_train), 첫 단어를 없애면 타겟 문장(y_train)\n",
    "\n",
    "src_input = tensor[:, :-1]  # tensor에서 마지막 토큰을 잘라내서 소스 문장을 생성합니다. 마지막 토큰은 <END>가 아니라 <pad>일 가능성이 높습니다.\n",
    "tgt_input = tensor[:, 1:]   # tensor에서 <START>를 잘라내서 타겟 문장을 생성합니다.\n",
    "\n",
    "print(src_input[0])\n",
    "print(tgt_input[0])"
   ]
  },
  {
   "cell_type": "code",
   "execution_count": 17,
   "metadata": {},
   "outputs": [
    {
     "data": {
      "text/plain": [
       "<BatchDataset shapes: ((256, 20), (256, 20)), types: (tf.int32, tf.int32)>"
      ]
     },
     "execution_count": 17,
     "metadata": {},
     "output_type": "execute_result"
    }
   ],
   "source": [
    "# tf.data.Dataset를 이용하여 데이터셋 객체를 생성한다.\n",
    "# tensor형의 데이터셋을 만들어놨으므로 tf.data.Dataset.from_tensor_slices() 이용한다.\n",
    "\n",
    "BUFFER_SIZE = len(src_input)\n",
    "BATCH_SIZE = 256\n",
    "steps_per_epoch = len(src_input) // BATCH_SIZE\n",
    "\n",
    "VOCAB_SIZE = tokenizer.num_words + 1    # tokenizer가 구축한 단어사전 내 7000개와, 여기 포함되지 않은 0:<pad>를 포함하여 7001개\n",
    "\n",
    "dataset = tf.data.Dataset.from_tensor_slices((src_input, tgt_input)).shuffle(BUFFER_SIZE)\n",
    "dataset = dataset.batch(BATCH_SIZE, drop_remainder=True)\n",
    "dataset"
   ]
  },
  {
   "cell_type": "code",
   "execution_count": 18,
   "metadata": {},
   "outputs": [],
   "source": [
    "# Embedding -> RNN1(LSTM) -> RNN2(LSTM) -> Dense 로 구성된 모델 사용\n",
    "# Embedding layer: 인덱스 값을 단어 사전에 해당 인덱스 번째의 워드 벡터로 바꿔 준다.\n",
    "\n",
    "class TextGenerator(tf.keras.Model):\n",
    "    def __init__(self, vocab_size, embedding_size, hidden_size):\n",
    "        super(TextGenerator, self).__init__()\n",
    "        \n",
    "        self.embedding = tf.keras.layers.Embedding(vocab_size, embedding_size)\n",
    "        self.rnn_1 = tf.keras.layers.LSTM(hidden_size, return_sequences=True)\n",
    "        self.rnn_2 = tf.keras.layers.LSTM(hidden_size, return_sequences=True)\n",
    "        self.linear = tf.keras.layers.Dense(vocab_size)\n",
    "        \n",
    "    def call(self, x):\n",
    "        out = self.embedding(x)\n",
    "        out = self.rnn_1(out)\n",
    "        out = self.rnn_2(out)\n",
    "        out = self.linear(out)\n",
    "        \n",
    "        return out\n",
    "    \n",
    "embedding_size = 256   # 워드 벡터의 차원수, 즉 단어가 추상적으로 표현되는 크기 (예, 2일 경우 차갑다:[0.0, 1.0]\n",
    "hidden_size = 1024     # LSTM layer의 hidden state의 차원수, 단어를 분석하는 일꾼수?\n",
    "model = TextGenerator(tokenizer.num_words + 1, embedding_size , hidden_size)"
   ]
  },
  {
   "cell_type": "code",
   "execution_count": 19,
   "metadata": {},
   "outputs": [
    {
     "data": {
      "text/plain": [
       "<tf.Tensor: shape=(256, 20, 7001), dtype=float32, numpy=\n",
       "array([[[ 6.19123093e-05,  1.44176622e-04,  5.34716455e-05, ...,\n",
       "         -6.77949265e-06, -2.41072645e-04, -7.29690728e-05],\n",
       "        [ 1.74911955e-04, -5.60510161e-05,  1.46098973e-04, ...,\n",
       "         -9.45417705e-05, -3.83709063e-04, -1.14499628e-04],\n",
       "        [ 6.09339186e-05, -3.26152192e-04,  1.94725901e-04, ...,\n",
       "          1.99078335e-04, -6.62502192e-04, -3.48464062e-04],\n",
       "        ...,\n",
       "        [-2.09549791e-04, -2.87273806e-03, -1.23360194e-03, ...,\n",
       "          6.22232154e-04, -1.62201002e-03, -5.66017523e-04],\n",
       "        [-1.83532058e-04, -3.24721425e-03, -1.33686129e-03, ...,\n",
       "          7.33096094e-04, -1.65901484e-03, -5.97535050e-04],\n",
       "        [-1.50797918e-04, -3.57421930e-03, -1.39839842e-03, ...,\n",
       "          8.61129491e-04, -1.68872159e-03, -5.97523584e-04]],\n",
       "\n",
       "       [[ 6.19123093e-05,  1.44176622e-04,  5.34716455e-05, ...,\n",
       "         -6.77949265e-06, -2.41072645e-04, -7.29690728e-05],\n",
       "        [-6.57425626e-05,  5.69654840e-05,  9.41014805e-05, ...,\n",
       "          3.63762985e-04, -6.04669040e-04, -1.13193404e-04],\n",
       "        [ 2.10614635e-05, -4.90650280e-07, -1.81036317e-04, ...,\n",
       "          5.00702590e-04, -7.12044362e-04, -3.24757020e-05],\n",
       "        ...,\n",
       "        [-4.74314671e-04, -2.58010114e-03, -1.47720054e-03, ...,\n",
       "          7.86453544e-04, -1.13659562e-03, -4.20638622e-04],\n",
       "        [-4.63508826e-04, -2.99687870e-03, -1.53701892e-03, ...,\n",
       "          9.73001006e-04, -1.22618955e-03, -3.90440662e-04],\n",
       "        [-4.34957969e-04, -3.35844303e-03, -1.56061130e-03, ...,\n",
       "          1.14674435e-03, -1.31137343e-03, -3.51525901e-04]],\n",
       "\n",
       "       [[ 6.19123093e-05,  1.44176622e-04,  5.34716455e-05, ...,\n",
       "         -6.77949265e-06, -2.41072645e-04, -7.29690728e-05],\n",
       "        [-2.07181420e-05,  6.10399293e-05, -1.81815150e-04, ...,\n",
       "          1.46855557e-04, -2.94367550e-04,  8.76531049e-05],\n",
       "        [-2.52310740e-04,  9.21554820e-05, -1.15809598e-04, ...,\n",
       "          8.01235437e-05, -1.59485018e-04, -7.58106580e-06],\n",
       "        ...,\n",
       "        [-1.27305533e-03, -3.18544544e-03, -8.92495213e-04, ...,\n",
       "          2.84297439e-05, -1.03694422e-03, -1.91572180e-04],\n",
       "        [-1.04993861e-03, -3.47541645e-03, -1.01663300e-03, ...,\n",
       "          2.93286343e-04, -1.13043597e-03, -2.49130389e-04],\n",
       "        [-8.51922552e-04, -3.73085611e-03, -1.10098219e-03, ...,\n",
       "          5.45977964e-04, -1.22014387e-03, -2.80275941e-04]],\n",
       "\n",
       "       ...,\n",
       "\n",
       "       [[ 6.19123093e-05,  1.44176622e-04,  5.34716455e-05, ...,\n",
       "         -6.77949265e-06, -2.41072645e-04, -7.29690728e-05],\n",
       "        [ 3.15866258e-04,  3.50036193e-04,  6.74953408e-05, ...,\n",
       "          2.05833538e-04, -2.31778045e-04, -1.72443848e-04],\n",
       "        [ 3.85208026e-04,  5.13517181e-04,  2.03279720e-04, ...,\n",
       "         -1.93069398e-04, -5.82722190e-04, -4.09103639e-04],\n",
       "        ...,\n",
       "        [-4.93381231e-04,  4.72075742e-04, -8.02957045e-04, ...,\n",
       "          4.21120785e-04, -2.40135269e-04, -9.31320130e-04],\n",
       "        [-5.58494532e-04, -2.43436560e-04, -9.57532262e-04, ...,\n",
       "          5.61424415e-04, -4.17943869e-04, -9.20167950e-04],\n",
       "        [-5.91986754e-04, -9.21546773e-04, -1.10171724e-03, ...,\n",
       "          6.87944179e-04, -5.82229579e-04, -8.91633565e-04]],\n",
       "\n",
       "       [[ 6.19123093e-05,  1.44176622e-04,  5.34716455e-05, ...,\n",
       "         -6.77949265e-06, -2.41072645e-04, -7.29690728e-05],\n",
       "        [ 1.85761601e-05,  8.35369690e-04,  1.37247134e-05, ...,\n",
       "         -1.82236559e-04, -4.95670305e-04, -3.09257593e-04],\n",
       "        [-4.22032928e-04,  1.25148694e-03, -2.25623415e-04, ...,\n",
       "         -3.47593770e-04, -6.16656675e-04, -3.22726002e-04],\n",
       "        ...,\n",
       "        [-1.13742857e-03, -2.42946739e-03, -1.29019190e-03, ...,\n",
       "          7.32347777e-04, -1.29512360e-03, -8.31054233e-04],\n",
       "        [-1.00664864e-03, -2.83749634e-03, -1.34436227e-03, ...,\n",
       "          9.33272881e-04, -1.35407981e-03, -7.71819788e-04],\n",
       "        [-8.77102197e-04, -3.19424015e-03, -1.36456941e-03, ...,\n",
       "          1.12340739e-03, -1.41186058e-03, -7.01164128e-04]],\n",
       "\n",
       "       [[ 6.19123093e-05,  1.44176622e-04,  5.34716455e-05, ...,\n",
       "         -6.77949265e-06, -2.41072645e-04, -7.29690728e-05],\n",
       "        [-1.74705237e-05,  3.27871880e-04,  1.43808516e-04, ...,\n",
       "         -4.26768537e-07, -1.61206743e-04,  4.99824928e-05],\n",
       "        [-9.40574100e-05,  5.23962546e-04, -1.52264998e-04, ...,\n",
       "         -1.48546314e-04, -1.37654097e-05, -9.15583660e-05],\n",
       "        ...,\n",
       "        [ 7.53558066e-04, -2.28280644e-03, -9.39914724e-04, ...,\n",
       "          8.79387255e-04, -1.73906609e-03, -1.39172492e-03],\n",
       "        [ 6.00162835e-04, -2.68189935e-03, -1.10419153e-03, ...,\n",
       "          9.11831448e-04, -1.76374742e-03, -1.35489204e-03],\n",
       "        [ 4.75766923e-04, -3.04157916e-03, -1.22660107e-03, ...,\n",
       "          9.63479280e-04, -1.77715207e-03, -1.29920768e-03]]],\n",
       "      dtype=float32)>"
      ]
     },
     "execution_count": 19,
     "metadata": {},
     "output_type": "execute_result"
    }
   ],
   "source": [
    "# model 빌드하기\n",
    "# 약간 데이터를 돌려서 input shape를 알아내면 model.build()가 자동 호출된다.\n",
    "\n",
    "for src_sample, tgt_sample in dataset.take(1): break\n",
    "model(src_sample)\n",
    "\n",
    "# shape=(256, 20, 7001) 확인\n",
    "# 7001: Dense 레이어의 출력 차원수, 7001개의 각 단어의 확률, 높은 확률의 단어를 선택해야 하는 문제이기에\n",
    "# dataset.take(1): 1개의 배치를 가져오는 것이므로 위에 지정한 256개의 배치 사이즈\n",
    "# 20: return_sequences=True에 의한 것이며 LSTM이 입력 시퀀스 길이만큼 동일 길이의 시퀀스를 출력한다는 의미다.\n",
    "# False면 1개의 벡터만 출력할 것이다.\n",
    "# 길이는 데이터를 입력받으면서 알게 된 것이며 max_len이 20으로 지정되었다는 뜻이다."
   ]
  },
  {
   "cell_type": "code",
   "execution_count": 20,
   "metadata": {},
   "outputs": [
    {
     "name": "stdout",
     "output_type": "stream",
     "text": [
      "Model: \"text_generator\"\n",
      "_________________________________________________________________\n",
      "Layer (type)                 Output Shape              Param #   \n",
      "=================================================================\n",
      "embedding (Embedding)        multiple                  1792256   \n",
      "_________________________________________________________________\n",
      "lstm (LSTM)                  multiple                  5246976   \n",
      "_________________________________________________________________\n",
      "lstm_1 (LSTM)                multiple                  8392704   \n",
      "_________________________________________________________________\n",
      "dense (Dense)                multiple                  7176025   \n",
      "=================================================================\n",
      "Total params: 22,607,961\n",
      "Trainable params: 22,607,961\n",
      "Non-trainable params: 0\n",
      "_________________________________________________________________\n"
     ]
    }
   ],
   "source": [
    "model.summary()"
   ]
  },
  {
   "cell_type": "code",
   "execution_count": 21,
   "metadata": {},
   "outputs": [
    {
     "name": "stdout",
     "output_type": "stream",
     "text": [
      "Epoch 1/30\n",
      "93/93 [==============================] - 13s 141ms/step - loss: 3.4775\n",
      "Epoch 2/30\n",
      "93/93 [==============================] - 13s 141ms/step - loss: 2.8041\n",
      "Epoch 3/30\n",
      "93/93 [==============================] - 13s 142ms/step - loss: 2.7097\n",
      "Epoch 4/30\n",
      "93/93 [==============================] - 13s 142ms/step - loss: 2.6079\n",
      "Epoch 5/30\n",
      "93/93 [==============================] - 13s 142ms/step - loss: 2.5409\n",
      "Epoch 6/30\n",
      "93/93 [==============================] - 13s 143ms/step - loss: 2.4884\n",
      "Epoch 7/30\n",
      "93/93 [==============================] - 13s 143ms/step - loss: 2.4358\n",
      "Epoch 8/30\n",
      "93/93 [==============================] - 13s 143ms/step - loss: 2.3821\n",
      "Epoch 9/30\n",
      "93/93 [==============================] - 15s 161ms/step - loss: 2.3333\n",
      "Epoch 10/30\n",
      "93/93 [==============================] - 15s 166ms/step - loss: 2.2877\n",
      "Epoch 11/30\n",
      "93/93 [==============================] - 14s 153ms/step - loss: 2.2395\n",
      "Epoch 12/30\n",
      "93/93 [==============================] - 13s 144ms/step - loss: 2.1941\n",
      "Epoch 13/30\n",
      "93/93 [==============================] - 13s 145ms/step - loss: 2.1474\n",
      "Epoch 14/30\n",
      "93/93 [==============================] - 13s 145ms/step - loss: 2.1032\n",
      "Epoch 15/30\n",
      "93/93 [==============================] - 14s 147ms/step - loss: 2.0592\n",
      "Epoch 16/30\n",
      "93/93 [==============================] - 13s 145ms/step - loss: 2.0138\n",
      "Epoch 17/30\n",
      "93/93 [==============================] - 13s 143ms/step - loss: 1.9673\n",
      "Epoch 18/30\n",
      "93/93 [==============================] - 13s 143ms/step - loss: 1.9214\n",
      "Epoch 19/30\n",
      "93/93 [==============================] - 13s 143ms/step - loss: 1.8736\n",
      "Epoch 20/30\n",
      "93/93 [==============================] - 13s 143ms/step - loss: 1.8256\n",
      "Epoch 21/30\n",
      "93/93 [==============================] - 13s 143ms/step - loss: 1.7782\n",
      "Epoch 22/30\n",
      "93/93 [==============================] - 13s 143ms/step - loss: 1.7297\n",
      "Epoch 23/30\n",
      "93/93 [==============================] - 13s 143ms/step - loss: 1.6816\n",
      "Epoch 24/30\n",
      "93/93 [==============================] - 13s 143ms/step - loss: 1.6331\n",
      "Epoch 25/30\n",
      "93/93 [==============================] - 13s 145ms/step - loss: 1.5840\n",
      "Epoch 26/30\n",
      "93/93 [==============================] - 13s 143ms/step - loss: 1.5353\n",
      "Epoch 27/30\n",
      "93/93 [==============================] - 13s 145ms/step - loss: 1.4860\n",
      "Epoch 28/30\n",
      "93/93 [==============================] - 14s 148ms/step - loss: 1.4355\n",
      "Epoch 29/30\n",
      "93/93 [==============================] - 13s 143ms/step - loss: 1.3864\n",
      "Epoch 30/30\n",
      "93/93 [==============================] - 13s 143ms/step - loss: 1.3329\n"
     ]
    },
    {
     "data": {
      "text/plain": [
       "<tensorflow.python.keras.callbacks.History at 0x7fe679ab0a10>"
      ]
     },
     "execution_count": 21,
     "metadata": {},
     "output_type": "execute_result"
    }
   ],
   "source": [
    "optimizer = tf.keras.optimizers.Adam()\n",
    "loss = tf.keras.losses.SparseCategoricalCrossentropy(\n",
    "    from_logits=True,\n",
    "    reduction='none'\n",
    ")\n",
    "\n",
    "model.compile(loss=loss, optimizer=optimizer)\n",
    "model.fit(dataset, epochs=30)"
   ]
  },
  {
   "cell_type": "code",
   "execution_count": 22,
   "metadata": {},
   "outputs": [],
   "source": [
    "# generate_text()는 모델에게 시작 문장을 전달하면 이 문장을 바탕으로 작문을 진행한다.\n",
    "\n",
    "def generate_text(model, tokenizer, init_sentence=\"<start>\", max_len=20):\n",
    "    # 테스트를 위해서 입력받은 init_sentence도 일단 텐서로 변환합니다.\n",
    "    test_input = tokenizer.texts_to_sequences([init_sentence])\n",
    "    test_tensor = tf.convert_to_tensor(test_input, dtype=tf.int64)\n",
    "    end_token = tokenizer.word_index[\"<end>\"]\n",
    "\n",
    "    # 텍스트를 실제로 생성할때는 루프를 돌면서 단어 하나씩 생성해야 합니다. \n",
    "    while True:\n",
    "        predict = model(test_tensor)  # 입력받은 문장의 텐서를 입력합니다.\n",
    "        # 우리 모델이 예측한 마지막 단어([:, -1])가 바로 새롭게 생성한 단어가 됩니다. \n",
    "        predict_word = tf.argmax(tf.nn.softmax(predict, axis=-1), axis=-1)[:, -1]   \n",
    "\n",
    "        # 우리 모델이 새롭게 예측한 단어를 입력 문장의 뒤에 붙여 줍니다. \n",
    "        test_tensor = tf.concat([test_tensor, tf.expand_dims(predict_word, axis=0)], axis=-1)\n",
    "\n",
    "        # 우리 모델이 <END>를 예측했거나, max_len에 도달하지 않았다면  while 루프를 또 돌면서 다음 단어를 예측해야 합니다.\n",
    "        if predict_word.numpy()[0] == end_token: break\n",
    "        if test_tensor.shape[1] >= max_len: break\n",
    "\n",
    "    generated = \"\"\n",
    "    # 생성된 tensor 안에 있는 word index를 tokenizer.index_word 사전을 통해 실제 단어로 하나씩 변환합니다. \n",
    "    for word_index in test_tensor[0].numpy():\n",
    "        generated += tokenizer.index_word[word_index] + \" \"\n",
    "\n",
    "    return generated   # 이것이 최종적으로 모델이 생성한 자연어 문장입니다."
   ]
  },
  {
   "cell_type": "code",
   "execution_count": 26,
   "metadata": {},
   "outputs": [
    {
     "data": {
      "text/plain": [
       "'<start> sky betwixt the firmament and it that i have <end> '"
      ]
     },
     "execution_count": 26,
     "metadata": {},
     "output_type": "execute_result"
    }
   ],
   "source": [
    "generate_text(model, tokenizer, init_sentence=\"<start> sky\")"
   ]
  },
  {
   "cell_type": "code",
   "execution_count": null,
   "metadata": {},
   "outputs": [],
   "source": []
  }
 ],
 "metadata": {
  "kernelspec": {
   "display_name": "aiffel",
   "language": "python",
   "name": "aiffel"
  },
  "language_info": {
   "codemirror_mode": {
    "name": "ipython",
    "version": 3
   },
   "file_extension": ".py",
   "mimetype": "text/x-python",
   "name": "python",
   "nbconvert_exporter": "python",
   "pygments_lexer": "ipython3",
   "version": "3.7.6"
  }
 },
 "nbformat": 4,
 "nbformat_minor": 4
}
