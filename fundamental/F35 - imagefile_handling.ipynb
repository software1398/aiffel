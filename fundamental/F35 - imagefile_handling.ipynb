{
 "cells": [
  {
   "cell_type": "markdown",
   "metadata": {},
   "source": [
    "## F35 - 이미지 파일 다루기"
   ]
  },
  {
   "cell_type": "code",
   "execution_count": 5,
   "metadata": {},
   "outputs": [],
   "source": [
    "import numpy as np\n",
    "from PIL import Image\n",
    "\n",
    "# 검정색 배경, 32x32사이즈\n",
    "data = np.zeros([32, 32, 3], dtype=np.uint8)\n",
    "image = Image.fromarray(data, 'RGB')\n",
    "image.show()"
   ]
  },
  {
   "cell_type": "code",
   "execution_count": 2,
   "metadata": {},
   "outputs": [],
   "source": [
    "# 빨간색 배경\n",
    "data[:, :] = [255, 0, 0]\n",
    "image = Image.fromarray(data, 'RGB')\n",
    "image.show()"
   ]
  },
  {
   "cell_type": "code",
   "execution_count": 7,
   "metadata": {},
   "outputs": [],
   "source": [
    "# 흰색 배경, 128x128사이즈\n",
    "data = np.zeros([128, 128, 3], dtype=np.uint8)\n",
    "data[:, :] = [255, 255, 255]\n",
    "image = Image.fromarray(data, 'RGB')\n",
    "image.show()"
   ]
  },
  {
   "cell_type": "code",
   "execution_count": 33,
   "metadata": {},
   "outputs": [
    {
     "name": "stdout",
     "output_type": "stream",
     "text": [
      "너비: 620\n",
      "높이: 465\n"
     ]
    }
   ],
   "source": [
    "import os\n",
    "\n",
    "# 연습용 파일 경로\n",
    "image_path = os.getenv('HOME')+'/aiffel/python_image_proc/pillow_practice.png'\n",
    "\n",
    "# 이지미 열기\n",
    "img = Image.open(image_path)\n",
    "img.show()\n",
    "\n",
    "# width와 height 출력\n",
    "print('너비: {}\\n높이: {}'.format(img.size[0], img.size[1]))\n",
    "\n",
    "# JPG파일 형식으로 저장해보기\n",
    "new_image_path = os.getenv('HOME')+'/aiffel/python_image_proc/pillow_practice.jpg'\n",
    "image = img.convert('RGB')\n",
    "image.save(new_image_path)"
   ]
  },
  {
   "cell_type": "code",
   "execution_count": 34,
   "metadata": {},
   "outputs": [],
   "source": [
    "image = image.resize((100, 200))\n",
    "new_image_path = os.getenv('HOME')+'/aiffel/python_image_proc/pillow_practice_resize.jpg'\n",
    "image.save(new_image_path)"
   ]
  },
  {
   "cell_type": "code",
   "execution_count": 35,
   "metadata": {},
   "outputs": [],
   "source": [
    "cropped_image = img.crop((300, 100, 600, 400))\n",
    "cropped_image.show()\n",
    "\n",
    "cropped_image_path = os.getenv('HOME')+'/aiffel/python_image_proc/pillow_practice_cropped.png'\n",
    "cropped_image.save(cropped_image_path)"
   ]
  },
  {
   "cell_type": "code",
   "execution_count": 36,
   "metadata": {},
   "outputs": [
    {
     "data": {
      "text/plain": [
       "dict"
      ]
     },
     "execution_count": 36,
     "metadata": {},
     "output_type": "execute_result"
    }
   ],
   "source": [
    "# https://www.cs.toronto.edu/~kriz/cifar.html\n",
    "# CIFAR-100 python version파일\n",
    "\n",
    "import os\n",
    "import pickle\n",
    "\n",
    "dir_path = os.getenv('HOME')+'/aiffel/python_image_proc/cifar-100-python'\n",
    "train_file_path = os.path.join(dir_path, 'train')\n",
    "\n",
    "with open(train_file_path, 'rb') as f:\n",
    "    train = pickle.load(f, encoding='bytes')\n",
    "\n",
    "type(train)"
   ]
  },
  {
   "cell_type": "code",
   "execution_count": 37,
   "metadata": {},
   "outputs": [
    {
     "data": {
      "text/plain": [
       "dict_keys([b'filenames', b'batch_label', b'fine_labels', b'coarse_labels', b'data'])"
      ]
     },
     "execution_count": 37,
     "metadata": {},
     "output_type": "execute_result"
    }
   ],
   "source": [
    "train.keys()"
   ]
  },
  {
   "cell_type": "code",
   "execution_count": 38,
   "metadata": {},
   "outputs": [
    {
     "data": {
      "text/plain": [
       "list"
      ]
     },
     "execution_count": 38,
     "metadata": {},
     "output_type": "execute_result"
    }
   ],
   "source": [
    "type(train[b'filenames'])"
   ]
  },
  {
   "cell_type": "code",
   "execution_count": 39,
   "metadata": {},
   "outputs": [
    {
     "data": {
      "text/plain": [
       "[b'bos_taurus_s_000507.png',\n",
       " b'stegosaurus_s_000125.png',\n",
       " b'mcintosh_s_000643.png',\n",
       " b'altar_boy_s_001435.png',\n",
       " b'cichlid_s_000031.png']"
      ]
     },
     "execution_count": 39,
     "metadata": {},
     "output_type": "execute_result"
    }
   ],
   "source": [
    "train[b'filenames'][:5]"
   ]
  },
  {
   "cell_type": "code",
   "execution_count": 40,
   "metadata": {},
   "outputs": [
    {
     "data": {
      "text/plain": [
       "array([[255, 255, 255, ...,  10,  59,  79],\n",
       "       [255, 253, 253, ..., 253, 253, 255],\n",
       "       [250, 248, 247, ..., 194, 207, 228],\n",
       "       [124, 131, 135, ..., 232, 236, 231],\n",
       "       [ 43,  32,  87, ...,  60,  29,  37]], dtype=uint8)"
      ]
     },
     "execution_count": 40,
     "metadata": {},
     "output_type": "execute_result"
    }
   ],
   "source": [
    "# 이미지 데이터는 b'data'\n",
    "\n",
    "train[b'data'][:5]"
   ]
  },
  {
   "cell_type": "code",
   "execution_count": 41,
   "metadata": {},
   "outputs": [
    {
     "data": {
      "text/plain": [
       "(3072,)"
      ]
     },
     "execution_count": 41,
     "metadata": {},
     "output_type": "execute_result"
    }
   ],
   "source": [
    "train[b'data'][0].shape\n",
    "# 3 x 1024(32 x 32)"
   ]
  },
  {
   "cell_type": "code",
   "execution_count": 43,
   "metadata": {},
   "outputs": [],
   "source": [
    "# R의 32x32, G의 32x32, B의 32x32\n",
    "\n",
    "image_data = train[b'data'][0].reshape([32, 32, 3], order='F')   # order를 주의하세요!!\n",
    "# 'F': 앞 차원부터 데이터를 채우는 옵션\n",
    "image = Image.fromarray(image_data)    # Pillow를 사용하여 Numpy 배열을 Image객체로 만들어서\n",
    "image.show()    # 화면에 띄워 봅시다!!"
   ]
  },
  {
   "cell_type": "code",
   "execution_count": 44,
   "metadata": {},
   "outputs": [],
   "source": [
    "image_data = image_data.swapaxes(0, 1)\n",
    "# swapaxes(): 축을 바꿔주는 함수\n",
    "image = Image.fromarray(image_data)\n",
    "image.show()"
   ]
  },
  {
   "cell_type": "code",
   "execution_count": 49,
   "metadata": {},
   "outputs": [
    {
     "data": {
      "text/plain": [
       "bytes"
      ]
     },
     "execution_count": 49,
     "metadata": {},
     "output_type": "execute_result"
    }
   ],
   "source": [
    "type(train[b'filenames'][0])"
   ]
  },
  {
   "cell_type": "code",
   "execution_count": 53,
   "metadata": {},
   "outputs": [
    {
     "name": "stderr",
     "output_type": "stream",
     "text": [
      "100%|██████████| 50000/50000 [00:10<00:00, 4748.65it/s]\n"
     ]
    }
   ],
   "source": [
    "import os\n",
    "import pickle\n",
    "from PIL import Image\n",
    "import numpy\n",
    "from tqdm import tqdm\n",
    "\n",
    "dir_path = os.getenv('HOME')+'/aiffel/python_image_proc/cifar-100-python'\n",
    "train_file_path = os.path.join(dir_path, 'train')\n",
    "\n",
    "# image를 저장할 cifar-100-python의 하위 디렉토리(images)를 생성합니다. \n",
    "images_dir_path = os.path.join(dir_path, 'images')\n",
    "if not os.path.exists(images_dir_path):\n",
    "    os.mkdir(images_dir_path)  # images 디렉토리 생성\n",
    "\n",
    "# 32X32의 이미지 파일 50000개를 생성합니다. \n",
    "with open(train_file_path, 'rb') as f:\n",
    "    train = pickle.load(f, encoding='bytes')\n",
    "    for i in tqdm(range(len(train[b'filenames']))):\n",
    "        image_path = os.path.join(images_dir_path, train[b'filenames'][i].decode())\n",
    "        image_data = train[b'data'][i].reshape([32, 32, 3], order='F')\n",
    "        image_data = image_data.swapaxes(0, 1)\n",
    "        image = Image.fromarray(image_data)\n",
    "        image.save(image_path)"
   ]
  },
  {
   "cell_type": "code",
   "execution_count": null,
   "metadata": {},
   "outputs": [],
   "source": [
    "# OpenCV: 컴퓨터 비전용 라이브러리, 영상 처리에 대한 다양한 고급 기능 사용 가능\n",
    "# 튜토리얼: https://docs.opencv.org/master/d6/d00/tutorial_py_root.html\n",
    "import cv2 as cv\n",
    "import numpy as np\n",
    "\n",
    "cap = cv.VideoCapture(0)\n",
    "\n",
    "while(1):\n",
    "\n",
    "    # Take each frame\n",
    "    _, frame = cap.read()\n",
    "\n",
    "    # Convert BGR to HSV\n",
    "    hsv = cv.cvtColor(frame, cv.COLOR_BGR2HSV)\n",
    "\n",
    "    # define range of blue color in HSV\n",
    "    # 파란색: 색상 값(110~130), 채도 및 명도(50~255)\n",
    "    lower_blue = np.array([110,50,50])\n",
    "    upper_blue = np.array([130,255,255])\n",
    "\n",
    "    # Threshold the HSV image to get only blue colors\n",
    "    # cv.inRange(): lower~upper사이의 값에 포함되면 1, 아니면 0의 배열 반환\n",
    "    # 이미지상엔 1은 흰색으로 0은 검은색으로 표현된다.\n",
    "    mask = cv.inRange(hsv, lower_blue, upper_blue)\n",
    "\n",
    "    # Bitwise-AND mask and original image\n",
    "    # cv.bitwise_and(): 두 장의 이미지를 받아서 and 비트 연산하는 함수\n",
    "    res = cv.bitwise_and(frame,frame, mask= mask)\n",
    "    cv.imshow('frame',frame)\n",
    "    cv.imshow('mask',mask)\n",
    "    cv.imshow('res',res)\n",
    "    k = cv.waitKey(5) & 0xFF\n",
    "    if k == 27:\n",
    "        break\n",
    "\n",
    "cv.destroyAllWindows()\n",
    "cap.release()"
   ]
  },
  {
   "cell_type": "code",
   "execution_count": 54,
   "metadata": {},
   "outputs": [],
   "source": [
    "# 히스토그램: 이미지에서 픽셀 별 색상값의 분포\n",
    "\n",
    "import os\n",
    "import pickle\n",
    "import cv2\n",
    "import numpy as np\n",
    "from matplotlib import pyplot as plt\n",
    "from tqdm import tqdm\n",
    "\n",
    "# 전처리시 생성했던 디렉토리 구조\n",
    "dir_path = os.getenv('HOME')+'/aiffel/python_image_proc/cifar-100-python'\n",
    "train_file_path = os.path.join(dir_path, 'train')\n",
    "images_dir_path = os.path.join(dir_path, 'images')"
   ]
  },
  {
   "cell_type": "code",
   "execution_count": 55,
   "metadata": {},
   "outputs": [],
   "source": [
    "# 파일명을 인자로 받아 해당 이미지 파일과 히스토그램을 출력해 주는 함수\n",
    "def draw_color_histogram_from_image(file_name):\n",
    "    image_path = os.path.join(images_dir_path, file_name)\n",
    "    # 이미지 열기\n",
    "    img = Image.open(image_path)\n",
    "    cv_image = cv2.imread(image_path)\n",
    "\n",
    "    # Image와 Histogram 그려보기\n",
    "    f=plt.figure(figsize=(10,3))\n",
    "    im1 = f.add_subplot(1,2,1)\n",
    "    im1.imshow(img)\n",
    "    im1.set_title(\"Image\")\n",
    "\n",
    "    im2 = f.add_subplot(1,2,2)\n",
    "    color = ('b','g','r')\n",
    "    for i,col in enumerate(color):\n",
    "        # image에서 i번째 채널의 히스토그램을 뽑아서(0:blue, 1:green, 2:red)\n",
    "        histr = cv2.calcHist([cv_image],[i],None,[256],[0,256])   \n",
    "        im2.plot(histr,color = col)   # 그래프를 그릴때 채널 색상과 맞춰서 그립니다.\n",
    "    im2.set_title(\"Histogram\")"
   ]
  },
  {
   "cell_type": "code",
   "execution_count": 56,
   "metadata": {},
   "outputs": [
    {
     "data": {
      "image/png": "[encoded data removed]",
      "text/plain": [
       "<Figure size 720x216 with 2 Axes>"
      ]
     },
     "metadata": {
      "needs_background": "light"
     },
     "output_type": "display_data"
    }
   ],
   "source": [
    "draw_color_histogram_from_image('adriatic_s_001807.png')"
   ]
  },
  {
   "cell_type": "markdown",
   "metadata": {},
   "source": [
    "1. 프로그램이 실행된다.\n",
    "2. build_histogram_db()   \n",
    "    CIFAR-100 이미지들을 불러온다.   \n",
    "    CIFAR-100 이미지들을 하나하나 히스토그램으로 만든다.   \n",
    "    이미지 이름을 키로 하고, 히스토그램을 값으로 하는 딕셔너리 histogram_db를 반환한다.\n",
    "3. CIFAR-100 히스토그램 중 입력된 이미지 이름에 해당하는 히스토그램을 입력 이미지로 선택하여 target_histogram이라는 변수명으로 지정한다.\n",
    "4. search()   \n",
    "    입력 이미지 히스토그램 target_histogram와 전체 검색 대상 이미지들의 히스토그램을 가진 딕셔너리 histogram_db를 입력으로 받는다.   \n",
    "    OpenCV의 compareHist() 함수를 사용하여 입력 이미지와 검색 대상 이미지 하나하나의 히스토그램 간 유사도를 계산한다. 결과는 result라는 이름의 딕셔너리로, 키는 이미지 이름, 값은 유사도로 한다.   \n",
    "    계산된 유사도를 기준으로 정렬하여 순서를 매긴다.   \n",
    "    유사도 순서 상으로 상위 5개 이미지만 골라서 result에 남긴다.\n",
    "5. 고른 이미지들을 표시한다.\n",
    "6. 프로그램이 종료된다."
   ]
  },
  {
   "cell_type": "code",
   "execution_count": 58,
   "metadata": {},
   "outputs": [],
   "source": [
    "# 비슷한 이미지 찾아내기 실습\n",
    "# 이미지 파일에서 히스토그램을 만드는 함수 구현\n",
    "\n",
    "def get_histogram(image):\n",
    "    histogram = []\n",
    "\n",
    "    # Create histograms per channels, in 4 bins each.\n",
    "    for i in range(3):\n",
    "        histr = cv2.calcHist(images=[image],\n",
    "                            channels=[i],\n",
    "                            mask=None,\n",
    "                            histSize=[4],\n",
    "                            ranges=[0, 256])\n",
    "        histogram.append(histr)\n",
    "\n",
    "    histogram = np.concatenate(histogram)\n",
    "    histogram = cv2.normalize(histogram, histogram)\n",
    "\n",
    "    return histogram"
   ]
  },
  {
   "cell_type": "code",
   "execution_count": 59,
   "metadata": {},
   "outputs": [
    {
     "data": {
      "text/plain": [
       "array([[0.3126804 ],\n",
       "       [0.4080744 ],\n",
       "       [0.14521089],\n",
       "       [0.21940625],\n",
       "       [0.18654831],\n",
       "       [0.23742512],\n",
       "       [0.30208108],\n",
       "       [0.35931748],\n",
       "       [0.06465594],\n",
       "       [0.35825753],\n",
       "       [0.36991683],\n",
       "       [0.29254165]], dtype=float32)"
      ]
     },
     "execution_count": 59,
     "metadata": {},
     "output_type": "execute_result"
    }
   ],
   "source": [
    "# get_histogram() 확인용 코드\n",
    "filename = train[b'filenames'][0].decode()\n",
    "file_path = os.path.join(images_dir_path, filename)\n",
    "image = cv2.imread(file_path)\n",
    "histogram = get_histogram(image)\n",
    "histogram"
   ]
  },
  {
   "cell_type": "code",
   "execution_count": 60,
   "metadata": {},
   "outputs": [],
   "source": [
    "import os\n",
    "import pickle\n",
    "import cv2\n",
    "import numpy as np\n",
    "from matplotlib import pyplot as plt\n",
    "from tqdm import tqdm\n",
    "\n",
    "def build_histogram_db():\n",
    "    histogram_db = {}\n",
    "\n",
    "    #디렉토리에 모아 둔 이미지 파일들을 전부 리스트업합니다. \n",
    "    path = images_dir_path\n",
    "    file_list = os.listdir(images_dir_path)\n",
    "\n",
    "    for filename in file_list:\n",
    "        file_path = os.path.join(path, filename)\n",
    "        image = cv2.imread(file_path)\n",
    "        histogram_db[filename] = get_histogram(image)\n",
    "        \n",
    "    return histogram_db"
   ]
  },
  {
   "cell_type": "code",
   "execution_count": 62,
   "metadata": {},
   "outputs": [
    {
     "data": {
      "text/plain": [
       "array([[0.        ],\n",
       "       [0.        ],\n",
       "       [0.29744893],\n",
       "       [0.5828624 ],\n",
       "       [0.        ],\n",
       "       [0.17107612],\n",
       "       [0.41608465],\n",
       "       [0.29315054],\n",
       "       [0.        ],\n",
       "       [0.34301192],\n",
       "       [0.37224102],\n",
       "       [0.16505837]], dtype=float32)"
      ]
     },
     "execution_count": 62,
     "metadata": {},
     "output_type": "execute_result"
    }
   ],
   "source": [
    "histogram_db = build_histogram_db()\n",
    "histogram_db['adriatic_s_001807.png']"
   ]
  },
  {
   "cell_type": "code",
   "execution_count": 70,
   "metadata": {},
   "outputs": [],
   "source": [
    "def get_target_histogram():\n",
    "    filename = input(\"이미지 파일명을 입력하세요: \")\n",
    "    if filename not in histogram_db:\n",
    "        print('유효하지 않은 이미지 파일명입니다.')\n",
    "        return None\n",
    "    return histogram_db[filename]"
   ]
  },
  {
   "cell_type": "code",
   "execution_count": 74,
   "metadata": {},
   "outputs": [
    {
     "name": "stdout",
     "output_type": "stream",
     "text": [
      "이미지 파일명을 입력하세요: adriatic_s_001807.png\n"
     ]
    },
    {
     "data": {
      "text/plain": [
       "array([[0.        ],\n",
       "       [0.        ],\n",
       "       [0.29744893],\n",
       "       [0.5828624 ],\n",
       "       [0.        ],\n",
       "       [0.17107612],\n",
       "       [0.41608465],\n",
       "       [0.29315054],\n",
       "       [0.        ],\n",
       "       [0.34301192],\n",
       "       [0.37224102],\n",
       "       [0.16505837]], dtype=float32)"
      ]
     },
     "execution_count": 74,
     "metadata": {},
     "output_type": "execute_result"
    }
   ],
   "source": [
    "target_histogram = get_target_histogram()\n",
    "target_histogram"
   ]
  },
  {
   "cell_type": "code",
   "execution_count": 75,
   "metadata": {},
   "outputs": [],
   "source": [
    "def search(histogram_db, target_histogram, top_k=5):\n",
    "    results = {}\n",
    "\n",
    "    # Calculate similarity distance by comparing histograms.\n",
    "    \n",
    "    for k in tqdm(histogram_db):\n",
    "        results[k] = cv2.compareHist(target_histogram,\n",
    "                                     histogram_db[k],\n",
    "                                     method=cv2.HISTCMP_CHISQR)\n",
    "    \n",
    "    results = dict(sorted(results.items(), key=lambda x: x[1])[:top_k])\n",
    "\n",
    "    return results"
   ]
  },
  {
   "cell_type": "code",
   "execution_count": 76,
   "metadata": {},
   "outputs": [
    {
     "name": "stderr",
     "output_type": "stream",
     "text": [
      "100%|██████████| 49999/49999 [00:00<00:00, 972793.84it/s]\n"
     ]
    },
    {
     "data": {
      "text/plain": [
       "{'adriatic_s_001807.png': 0.0,\n",
       " 'baby_s_001654.png': 0.047506706444185816,\n",
       " 'fogbank_s_000423.png': 0.059270738493642845,\n",
       " 'tank_s_000442.png': 0.060966690827361725,\n",
       " 'dessert_plate_s_000124.png': 0.06113711905561663}"
      ]
     },
     "execution_count": 76,
     "metadata": {},
     "output_type": "execute_result"
    }
   ],
   "source": [
    "result = search(histogram_db, target_histogram)\n",
    "result"
   ]
  },
  {
   "cell_type": "code",
   "execution_count": 81,
   "metadata": {},
   "outputs": [],
   "source": [
    "# 5개의 이미지을 출력해보기\n",
    "\n",
    "def show_result(result):\n",
    "    f=plt.figure(figsize=(10,3))\n",
    "    for idx, filename in enumerate(result.keys(), start=1):\n",
    "        image_path = os.path.join(images_dir_path, filename)\n",
    "        img = Image.open(image_path)\n",
    "        \n",
    "        im = f.add_subplot(1, len(result), idx)\n",
    "        im.imshow(img)"
   ]
  },
  {
   "cell_type": "code",
   "execution_count": 82,
   "metadata": {},
   "outputs": [
    {
     "data": {
      "image/png": "[encoded data removed]",
      "text/plain": [
       "<Figure size 720x216 with 5 Axes>"
      ]
     },
     "metadata": {
      "needs_background": "light"
     },
     "output_type": "display_data"
    }
   ],
   "source": [
    "show_result(result)"
   ]
  },
  {
   "cell_type": "code",
   "execution_count": 83,
   "metadata": {},
   "outputs": [
    {
     "name": "stdout",
     "output_type": "stream",
     "text": [
      "이미지 파일명을 입력하세요: turtle_s_001001.png\n"
     ]
    },
    {
     "name": "stderr",
     "output_type": "stream",
     "text": [
      "100%|██████████| 49999/49999 [00:00<00:00, 958805.99it/s]\n"
     ]
    },
    {
     "data": {
      "image/png": "[encoded data removed]",
      "text/plain": [
       "<Figure size 720x216 with 5 Axes>"
      ]
     },
     "metadata": {
      "needs_background": "light"
     },
     "output_type": "display_data"
    }
   ],
   "source": [
    "# 검색할 이미지를 입력받으면 가장 유사한 이미지를 화면에 출력하는 코드\n",
    "\n",
    "target_histogram = get_target_histogram()\n",
    "result = search(histogram_db, target_histogram)\n",
    "show_result(result)"
   ]
  },
  {
   "cell_type": "code",
   "execution_count": null,
   "metadata": {},
   "outputs": [],
   "source": []
  }
 ],
 "metadata": {
  "kernelspec": {
   "display_name": "aiffel",
   "language": "python",
   "name": "aiffel"
  },
  "language_info": {
   "codemirror_mode": {
    "name": "ipython",
    "version": 3
   },
   "file_extension": ".py",
   "mimetype": "text/x-python",
   "name": "python",
   "nbconvert_exporter": "python",
   "pygments_lexer": "ipython3",
   "version": "3.7.6"
  }
 },
 "nbformat": 4,
 "nbformat_minor": 4
}
