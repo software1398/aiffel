{
 "cells": [
  {
   "cell_type": "markdown",
   "metadata": {},
   "source": [
    "## F25 - scikitlearn recommender system"
   ]
  },
  {
   "cell_type": "markdown",
   "metadata": {},
   "source": [
    "추천시스템은 범주형 데이터를 숫자 벡터로 변환하고 이 숫자 벡터의 유사도를 계산하여   \n",
    "유사도가 가까운 제품을 추천해 준다.\n",
    "코사인 유사도: 두 벡터 간의 코사인 값을 이용해 두 벡터의 유사도를 계산한다.   \n",
    "두 벡터의 방향이 이루는 각의 코사인 값   \n",
    "방향이 같으면 1, 90도면 0, 180도면 -1   \n",
    "1에 가까울수록 유사도가 높다할 수 있다.   "
   ]
  },
  {
   "cell_type": "code",
   "execution_count": 1,
   "metadata": {},
   "outputs": [
    {
     "data": {
      "text/plain": [
       "0.7745966692414834"
      ]
     },
     "execution_count": 1,
     "metadata": {},
     "output_type": "execute_result"
    }
   ],
   "source": [
    "import numpy as np\n",
    "\n",
    "t1 = np.array([1, 1, 1])\n",
    "t2 = np.array([2, 0, 1])\n",
    "\n",
    "from numpy import dot\n",
    "from numpy.linalg import norm\n",
    "def cos_sim(A, B):\n",
    "\treturn dot(A, B)/(norm(A)*norm(B))\n",
    "\n",
    "cos_sim(t1, t2)"
   ]
  },
  {
   "cell_type": "code",
   "execution_count": 2,
   "metadata": {},
   "outputs": [
    {
     "data": {
      "text/plain": [
       "array([[0.77459667]])"
      ]
     },
     "execution_count": 2,
     "metadata": {},
     "output_type": "execute_result"
    }
   ],
   "source": [
    "from sklearn.metrics.pairwise import cosine_similarity\n",
    "\n",
    "# consine_similarity모듈은 2차원 배열을 입력값으로 받는다.\n",
    "t1 = np.array([[1, 1, 1]])\n",
    "t2 = np.array([[2, 0, 1]])\n",
    "cosine_similarity(t1,t2)"
   ]
  },
  {
   "cell_type": "markdown",
   "metadata": {},
   "source": [
    "추천시스템의 종류   \n",
    "콘텐츠 기반 필터링(Content Based Filtering)\n",
    "협업 필터링(Collaborative Filtering)\n",
    "    1. 사용자 기반   \n",
    "    2. 아이템 기반\n",
    "    3. 잠재요인 협업 필터링 -> 행렬 인수분해\n",
    "Deep Learning 적용 or Hybrid방식"
   ]
  },
  {
   "cell_type": "markdown",
   "metadata": {},
   "source": [
    "콘텐츠 기반 필터링: 순전히 콘텐츠 내용을 기반으로 추천한다.   \n",
    "영화에는 장르, 배우, 감독 등 여러 특성이 있는데 이런 특성이 비슷하다면 비슷한 영화라 할 수 있다.   "
   ]
  },
  {
   "cell_type": "code",
   "execution_count": 3,
   "metadata": {},
   "outputs": [
    {
     "data": {
      "text/html": [
       "<div>\n",
       "<style scoped>\n",
       "    .dataframe tbody tr th:only-of-type {\n",
       "        vertical-align: middle;\n",
       "    }\n",
       "\n",
       "    .dataframe tbody tr th {\n",
       "        vertical-align: top;\n",
       "    }\n",
       "\n",
       "    .dataframe thead th {\n",
       "        text-align: right;\n",
       "    }\n",
       "</style>\n",
       "<table border=\"1\" class=\"dataframe\">\n",
       "  <thead>\n",
       "    <tr style=\"text-align: right;\">\n",
       "      <th></th>\n",
       "      <th>index</th>\n",
       "      <th>budget</th>\n",
       "      <th>genres</th>\n",
       "      <th>homepage</th>\n",
       "      <th>id</th>\n",
       "      <th>keywords</th>\n",
       "      <th>original_language</th>\n",
       "      <th>original_title</th>\n",
       "      <th>overview</th>\n",
       "      <th>popularity</th>\n",
       "      <th>...</th>\n",
       "      <th>runtime</th>\n",
       "      <th>spoken_languages</th>\n",
       "      <th>status</th>\n",
       "      <th>tagline</th>\n",
       "      <th>title</th>\n",
       "      <th>vote_average</th>\n",
       "      <th>vote_count</th>\n",
       "      <th>cast</th>\n",
       "      <th>crew</th>\n",
       "      <th>director</th>\n",
       "    </tr>\n",
       "  </thead>\n",
       "  <tbody>\n",
       "    <tr>\n",
       "      <th>0</th>\n",
       "      <td>0</td>\n",
       "      <td>237000000</td>\n",
       "      <td>Action Adventure Fantasy Science Fiction</td>\n",
       "      <td>http://www.avatarmovie.com/</td>\n",
       "      <td>19995</td>\n",
       "      <td>culture clash future space war space colony so...</td>\n",
       "      <td>en</td>\n",
       "      <td>Avatar</td>\n",
       "      <td>In the 22nd century, a paraplegic Marine is di...</td>\n",
       "      <td>150.437577</td>\n",
       "      <td>...</td>\n",
       "      <td>162.0</td>\n",
       "      <td>[{\"iso_639_1\": \"en\", \"name\": \"English\"}, {\"iso...</td>\n",
       "      <td>Released</td>\n",
       "      <td>Enter the World of Pandora.</td>\n",
       "      <td>Avatar</td>\n",
       "      <td>7.2</td>\n",
       "      <td>11800</td>\n",
       "      <td>Sam Worthington Zoe Saldana Sigourney Weaver S...</td>\n",
       "      <td>[{'name': 'Stephen E. Rivkin', 'gender': 0, 'd...</td>\n",
       "      <td>James Cameron</td>\n",
       "    </tr>\n",
       "    <tr>\n",
       "      <th>1</th>\n",
       "      <td>1</td>\n",
       "      <td>300000000</td>\n",
       "      <td>Adventure Fantasy Action</td>\n",
       "      <td>http://disney.go.com/disneypictures/pirates/</td>\n",
       "      <td>285</td>\n",
       "      <td>ocean drug abuse exotic island east india trad...</td>\n",
       "      <td>en</td>\n",
       "      <td>Pirates of the Caribbean: At World's End</td>\n",
       "      <td>Captain Barbossa, long believed to be dead, ha...</td>\n",
       "      <td>139.082615</td>\n",
       "      <td>...</td>\n",
       "      <td>169.0</td>\n",
       "      <td>[{\"iso_639_1\": \"en\", \"name\": \"English\"}]</td>\n",
       "      <td>Released</td>\n",
       "      <td>At the end of the world, the adventure begins.</td>\n",
       "      <td>Pirates of the Caribbean: At World's End</td>\n",
       "      <td>6.9</td>\n",
       "      <td>4500</td>\n",
       "      <td>Johnny Depp Orlando Bloom Keira Knightley Stel...</td>\n",
       "      <td>[{'name': 'Dariusz Wolski', 'gender': 2, 'depa...</td>\n",
       "      <td>Gore Verbinski</td>\n",
       "    </tr>\n",
       "    <tr>\n",
       "      <th>2</th>\n",
       "      <td>2</td>\n",
       "      <td>245000000</td>\n",
       "      <td>Action Adventure Crime</td>\n",
       "      <td>http://www.sonypictures.com/movies/spectre/</td>\n",
       "      <td>206647</td>\n",
       "      <td>spy based on novel secret agent sequel mi6</td>\n",
       "      <td>en</td>\n",
       "      <td>Spectre</td>\n",
       "      <td>A cryptic message from Bond’s past sends him o...</td>\n",
       "      <td>107.376788</td>\n",
       "      <td>...</td>\n",
       "      <td>148.0</td>\n",
       "      <td>[{\"iso_639_1\": \"fr\", \"name\": \"Fran\\u00e7ais\"},...</td>\n",
       "      <td>Released</td>\n",
       "      <td>A Plan No One Escapes</td>\n",
       "      <td>Spectre</td>\n",
       "      <td>6.3</td>\n",
       "      <td>4466</td>\n",
       "      <td>Daniel Craig Christoph Waltz L\\u00e9a Seydoux ...</td>\n",
       "      <td>[{'name': 'Thomas Newman', 'gender': 2, 'depar...</td>\n",
       "      <td>Sam Mendes</td>\n",
       "    </tr>\n",
       "    <tr>\n",
       "      <th>3</th>\n",
       "      <td>3</td>\n",
       "      <td>250000000</td>\n",
       "      <td>Action Crime Drama Thriller</td>\n",
       "      <td>http://www.thedarkknightrises.com/</td>\n",
       "      <td>49026</td>\n",
       "      <td>dc comics crime fighter terrorist secret ident...</td>\n",
       "      <td>en</td>\n",
       "      <td>The Dark Knight Rises</td>\n",
       "      <td>Following the death of District Attorney Harve...</td>\n",
       "      <td>112.312950</td>\n",
       "      <td>...</td>\n",
       "      <td>165.0</td>\n",
       "      <td>[{\"iso_639_1\": \"en\", \"name\": \"English\"}]</td>\n",
       "      <td>Released</td>\n",
       "      <td>The Legend Ends</td>\n",
       "      <td>The Dark Knight Rises</td>\n",
       "      <td>7.6</td>\n",
       "      <td>9106</td>\n",
       "      <td>Christian Bale Michael Caine Gary Oldman Anne ...</td>\n",
       "      <td>[{'name': 'Hans Zimmer', 'gender': 2, 'departm...</td>\n",
       "      <td>Christopher Nolan</td>\n",
       "    </tr>\n",
       "    <tr>\n",
       "      <th>4</th>\n",
       "      <td>4</td>\n",
       "      <td>260000000</td>\n",
       "      <td>Action Adventure Science Fiction</td>\n",
       "      <td>http://movies.disney.com/john-carter</td>\n",
       "      <td>49529</td>\n",
       "      <td>based on novel mars medallion space travel pri...</td>\n",
       "      <td>en</td>\n",
       "      <td>John Carter</td>\n",
       "      <td>John Carter is a war-weary, former military ca...</td>\n",
       "      <td>43.926995</td>\n",
       "      <td>...</td>\n",
       "      <td>132.0</td>\n",
       "      <td>[{\"iso_639_1\": \"en\", \"name\": \"English\"}]</td>\n",
       "      <td>Released</td>\n",
       "      <td>Lost in our world, found in another.</td>\n",
       "      <td>John Carter</td>\n",
       "      <td>6.1</td>\n",
       "      <td>2124</td>\n",
       "      <td>Taylor Kitsch Lynn Collins Samantha Morton Wil...</td>\n",
       "      <td>[{'name': 'Andrew Stanton', 'gender': 2, 'depa...</td>\n",
       "      <td>Andrew Stanton</td>\n",
       "    </tr>\n",
       "  </tbody>\n",
       "</table>\n",
       "<p>5 rows × 24 columns</p>\n",
       "</div>"
      ],
      "text/plain": [
       "   index     budget                                    genres  \\\n",
       "0      0  237000000  Action Adventure Fantasy Science Fiction   \n",
       "1      1  300000000                  Adventure Fantasy Action   \n",
       "2      2  245000000                    Action Adventure Crime   \n",
       "3      3  250000000               Action Crime Drama Thriller   \n",
       "4      4  260000000          Action Adventure Science Fiction   \n",
       "\n",
       "                                       homepage      id  \\\n",
       "0                   http://www.avatarmovie.com/   19995   \n",
       "1  http://disney.go.com/disneypictures/pirates/     285   \n",
       "2   http://www.sonypictures.com/movies/spectre/  206647   \n",
       "3            http://www.thedarkknightrises.com/   49026   \n",
       "4          http://movies.disney.com/john-carter   49529   \n",
       "\n",
       "                                            keywords original_language  \\\n",
       "0  culture clash future space war space colony so...                en   \n",
       "1  ocean drug abuse exotic island east india trad...                en   \n",
       "2         spy based on novel secret agent sequel mi6                en   \n",
       "3  dc comics crime fighter terrorist secret ident...                en   \n",
       "4  based on novel mars medallion space travel pri...                en   \n",
       "\n",
       "                             original_title  \\\n",
       "0                                    Avatar   \n",
       "1  Pirates of the Caribbean: At World's End   \n",
       "2                                   Spectre   \n",
       "3                     The Dark Knight Rises   \n",
       "4                               John Carter   \n",
       "\n",
       "                                            overview  popularity  ... runtime  \\\n",
       "0  In the 22nd century, a paraplegic Marine is di...  150.437577  ...   162.0   \n",
       "1  Captain Barbossa, long believed to be dead, ha...  139.082615  ...   169.0   \n",
       "2  A cryptic message from Bond’s past sends him o...  107.376788  ...   148.0   \n",
       "3  Following the death of District Attorney Harve...  112.312950  ...   165.0   \n",
       "4  John Carter is a war-weary, former military ca...   43.926995  ...   132.0   \n",
       "\n",
       "                                    spoken_languages    status  \\\n",
       "0  [{\"iso_639_1\": \"en\", \"name\": \"English\"}, {\"iso...  Released   \n",
       "1           [{\"iso_639_1\": \"en\", \"name\": \"English\"}]  Released   \n",
       "2  [{\"iso_639_1\": \"fr\", \"name\": \"Fran\\u00e7ais\"},...  Released   \n",
       "3           [{\"iso_639_1\": \"en\", \"name\": \"English\"}]  Released   \n",
       "4           [{\"iso_639_1\": \"en\", \"name\": \"English\"}]  Released   \n",
       "\n",
       "                                          tagline  \\\n",
       "0                     Enter the World of Pandora.   \n",
       "1  At the end of the world, the adventure begins.   \n",
       "2                           A Plan No One Escapes   \n",
       "3                                 The Legend Ends   \n",
       "4            Lost in our world, found in another.   \n",
       "\n",
       "                                      title vote_average vote_count  \\\n",
       "0                                    Avatar          7.2      11800   \n",
       "1  Pirates of the Caribbean: At World's End          6.9       4500   \n",
       "2                                   Spectre          6.3       4466   \n",
       "3                     The Dark Knight Rises          7.6       9106   \n",
       "4                               John Carter          6.1       2124   \n",
       "\n",
       "                                                cast  \\\n",
       "0  Sam Worthington Zoe Saldana Sigourney Weaver S...   \n",
       "1  Johnny Depp Orlando Bloom Keira Knightley Stel...   \n",
       "2  Daniel Craig Christoph Waltz L\\u00e9a Seydoux ...   \n",
       "3  Christian Bale Michael Caine Gary Oldman Anne ...   \n",
       "4  Taylor Kitsch Lynn Collins Samantha Morton Wil...   \n",
       "\n",
       "                                                crew           director  \n",
       "0  [{'name': 'Stephen E. Rivkin', 'gender': 0, 'd...      James Cameron  \n",
       "1  [{'name': 'Dariusz Wolski', 'gender': 2, 'depa...     Gore Verbinski  \n",
       "2  [{'name': 'Thomas Newman', 'gender': 2, 'depar...         Sam Mendes  \n",
       "3  [{'name': 'Hans Zimmer', 'gender': 2, 'departm...  Christopher Nolan  \n",
       "4  [{'name': 'Andrew Stanton', 'gender': 2, 'depa...     Andrew Stanton  \n",
       "\n",
       "[5 rows x 24 columns]"
      ]
     },
     "execution_count": 3,
     "metadata": {},
     "output_type": "execute_result"
    }
   ],
   "source": [
    "import pandas as pd\n",
    "import numpy as np\n",
    "from sklearn.feature_extraction.text import CountVectorizer\n",
    "from sklearn.metrics.pairwise import cosine_similarity\n",
    "\n",
    "import os\n",
    "csv_path = os.getenv('HOME')+'/aiffel/movie_recommendation/movie_dataset.csv'\n",
    "df = pd.read_csv(csv_path)\n",
    "df.head()"
   ]
  },
  {
   "cell_type": "code",
   "execution_count": 4,
   "metadata": {},
   "outputs": [
    {
     "data": {
      "text/plain": [
       "Index(['index', 'budget', 'genres', 'homepage', 'id', 'keywords',\n",
       "       'original_language', 'original_title', 'overview', 'popularity',\n",
       "       'production_companies', 'production_countries', 'release_date',\n",
       "       'revenue', 'runtime', 'spoken_languages', 'status', 'tagline', 'title',\n",
       "       'vote_average', 'vote_count', 'cast', 'crew', 'director'],\n",
       "      dtype='object')"
      ]
     },
     "execution_count": 4,
     "metadata": {},
     "output_type": "execute_result"
    }
   ],
   "source": [
    "df.columns"
   ]
  },
  {
   "cell_type": "code",
   "execution_count": 6,
   "metadata": {},
   "outputs": [
    {
     "data": {
      "text/plain": [
       "['keywords', 'cast', 'genres', 'director']"
      ]
     },
     "execution_count": 6,
     "metadata": {},
     "output_type": "execute_result"
    }
   ],
   "source": [
    "# 여러 특성 중에서 다음 특성만 고려해본다.\n",
    "features = ['keywords','cast','genres','director']\n",
    "features"
   ]
  },
  {
   "cell_type": "code",
   "execution_count": 7,
   "metadata": {},
   "outputs": [
    {
     "data": {
      "text/plain": [
       "0    culture clash future space war space colony so...\n",
       "1    ocean drug abuse exotic island east india trad...\n",
       "2    spy based on novel secret agent sequel mi6 Dan...\n",
       "3    dc comics crime fighter terrorist secret ident...\n",
       "4    based on novel mars medallion space travel pri...\n",
       "dtype: object"
      ]
     },
     "execution_count": 7,
     "metadata": {},
     "output_type": "execute_result"
    }
   ],
   "source": [
    "def combine_features(row):\n",
    "    return row['keywords']+\" \"+row['cast']+\" \"+row['genres']+\" \"+row['director']\n",
    "\n",
    "combine_features(df[:5])"
   ]
  },
  {
   "cell_type": "code",
   "execution_count": 8,
   "metadata": {},
   "outputs": [
    {
     "data": {
      "text/plain": [
       "0       culture clash future space war space colony so...\n",
       "1       ocean drug abuse exotic island east india trad...\n",
       "2       spy based on novel secret agent sequel mi6 Dan...\n",
       "3       dc comics crime fighter terrorist secret ident...\n",
       "4       based on novel mars medallion space travel pri...\n",
       "                              ...                        \n",
       "4798    united states\\u2013mexico barrier legs arms pa...\n",
       "4799     Edward Burns Kerry Bish\\u00e9 Marsha Dietlein...\n",
       "4800    date love at first sight narration investigati...\n",
       "4801     Daniel Henney Eliza Coupe Bill Paxton Alan Ru...\n",
       "4802    obsession camcorder crush dream girl Drew Barr...\n",
       "Name: combined_features, Length: 4803, dtype: object"
      ]
     },
     "execution_count": 8,
     "metadata": {},
     "output_type": "execute_result"
    }
   ],
   "source": [
    "for feature in features:\n",
    "    df[feature] = df[feature].fillna('')\n",
    "\n",
    "df[\"combined_features\"] = df.apply(combine_features,axis=1)\n",
    "df[\"combined_features\"]"
   ]
  },
  {
   "cell_type": "code",
   "execution_count": 9,
   "metadata": {},
   "outputs": [
    {
     "name": "stdout",
     "output_type": "stream",
     "text": [
      "<class 'scipy.sparse.csr.csr_matrix'>\n",
      "(4803, 14845)\n",
      "  (0, 3115)\t1\n",
      "  (0, 2616)\t1\n",
      "  (0, 4886)\t1\n",
      "  (0, 12386)\t2\n",
      "  (0, 14235)\t1\n",
      "  (0, 2755)\t1\n",
      "  (0, 12299)\t1\n",
      "  (0, 11517)\t1\n",
      "  (0, 14561)\t1\n",
      "  (0, 14820)\t1\n",
      "  (0, 11490)\t1\n",
      "  (0, 12134)\t1\n",
      "  (0, 14291)\t1\n",
      "  (0, 12567)\t1\n",
      "  (0, 7496)\t1\n",
      "  (0, 8831)\t1\n",
      "  (0, 11217)\t1\n",
      "  (0, 86)\t1\n",
      "  (0, 144)\t1\n",
      "  (0, 4435)\t1\n",
      "  (0, 11745)\t1\n",
      "  (0, 4566)\t1\n",
      "  (0, 6542)\t1\n",
      "  (0, 2061)\t1\n",
      "  (1, 86)\t1\n",
      "  :\t:\n",
      "  (4801, 10069)\t1\n",
      "  (4801, 5844)\t1\n",
      "  (4801, 252)\t1\n",
      "  (4801, 4098)\t1\n",
      "  (4801, 14796)\t1\n",
      "  (4801, 11361)\t1\n",
      "  (4801, 2978)\t1\n",
      "  (4801, 12036)\t1\n",
      "  (4801, 6138)\t1\n",
      "  (4802, 9659)\t1\n",
      "  (4802, 3812)\t1\n",
      "  (4802, 1788)\t2\n",
      "  (4802, 4210)\t1\n",
      "  (4802, 5181)\t1\n",
      "  (4802, 2912)\t1\n",
      "  (4802, 3821)\t1\n",
      "  (4802, 1069)\t1\n",
      "  (4802, 11185)\t1\n",
      "  (4802, 3681)\t1\n",
      "  (4802, 5399)\t1\n",
      "  (4802, 3894)\t1\n",
      "  (4802, 2056)\t1\n",
      "  (4802, 3093)\t1\n",
      "  (4802, 4502)\t1\n",
      "  (4802, 5900)\t2\n"
     ]
    }
   ],
   "source": [
    "# 장르, 배우명, 감독명은 범주형 데이터로 보기 때문에 단순하게 등장횟수만 세어 숫자 벡터로 만든다.\n",
    "cv = CountVectorizer()\n",
    "count_matrix = cv.fit_transform(df[\"combined_features\"])\n",
    "print(type(count_matrix))\n",
    "print(count_matrix.shape)\n",
    "print(count_matrix)\n",
    "\n",
    "# CSR Matrix는 sparse한 matrix에서 0이 아닌 유효한 데이터로 채워지는\n",
    "# 데이터의 값과 좌표 정보로만으로 구성하여 메모리 사용량을 최소화하면서도\n",
    "# sparse한 matrix와 동일한 행렬을 표현할 수 있도록 하는 데이터 구조이다."
   ]
  },
  {
   "cell_type": "code",
   "execution_count": 10,
   "metadata": {},
   "outputs": [
    {
     "name": "stdout",
     "output_type": "stream",
     "text": [
      "[[1.         0.10540926 0.12038585 ... 0.         0.         0.        ]\n",
      " [0.10540926 1.         0.0761387  ... 0.03651484 0.         0.        ]\n",
      " [0.12038585 0.0761387  1.         ... 0.         0.11145564 0.        ]\n",
      " ...\n",
      " [0.         0.03651484 0.         ... 1.         0.         0.04264014]\n",
      " [0.         0.         0.11145564 ... 0.         1.         0.        ]\n",
      " [0.         0.         0.         ... 0.04264014 0.         1.        ]]\n",
      "(4803, 4803)\n"
     ]
    }
   ],
   "source": [
    "cosine_sim = cosine_similarity(count_matrix)\n",
    "print(cosine_sim)\n",
    "print(cosine_sim.shape)"
   ]
  },
  {
   "cell_type": "code",
   "execution_count": 11,
   "metadata": {},
   "outputs": [
    {
     "name": "stdout",
     "output_type": "stream",
     "text": [
      "Avatar와 비슷한 영화 3편은 \n",
      "\n",
      "Guardians of the Galaxy\n",
      "Aliens\n",
      "Star Wars: Clone Wars: Volume 1\n"
     ]
    }
   ],
   "source": [
    "# 코사인 유사도와 비슷한 영화 추천\n",
    "\n",
    "def get_title_from_index(index):\n",
    "    return df[df.index == index][\"title\"].values[0]\n",
    "def get_index_from_title(title):\n",
    "    return df[df.title == title][\"index\"].values[0]\n",
    "\n",
    "movie_user_likes = \"Avatar\"\n",
    "movie_index = get_index_from_title(movie_user_likes)\n",
    "similar_movies = list(enumerate(cosine_sim[movie_index]))\n",
    "\n",
    "sorted_similar_movies = sorted(similar_movies,key=lambda x:x[1],reverse=True)[1:]\n",
    "\n",
    "i=0\n",
    "print(movie_user_likes+\"와 비슷한 영화 3편은 \"+\"\\n\")\n",
    "for item in sorted_similar_movies:\n",
    "    print(get_title_from_index(item[0]))\n",
    "    i=i+1\n",
    "    if i==3:\n",
    "        break"
   ]
  },
  {
   "cell_type": "markdown",
   "metadata": {},
   "source": [
    "협업 필터링: 과거의 사용자 행동 양식 데이터를 기반으로 추천하는 방식   \n",
    "user_id, item_id, rating, timestamp   \n",
    "user_id와 item_id간 interaction matrix로 변환, sparse   \n",
    "평점행렬로 변환 후 평점행렬 유사도 계산하여 추천하는 방식은 사용자 기반과 아이템 기반 방식   \n",
    "평점행렬을 행렬 인수분해하는 방식은 잠재요인 필터링   \n",
    "\n",
    "사용자 기반은 유사한 사용자의 아이템을 추천한다.\n",
    "아이템 기반은 사용자 기반보다 정확도가 더 높다고 한다. (이 상품을 선택한 다른 고객들은 다음 상품을 구매했다)"
   ]
  },
  {
   "cell_type": "code",
   "execution_count": 12,
   "metadata": {},
   "outputs": [
    {
     "data": {
      "text/plain": [
       "array([[37, 37, 45, 45],\n",
       "       [12, 23,  2, 53],\n",
       "       [17, 46,  3, 41],\n",
       "       [ 7, 65, 49, 45]])"
      ]
     },
     "execution_count": 12,
     "metadata": {},
     "output_type": "execute_result"
    }
   ],
   "source": [
    "import numpy as np\n",
    "from numpy.linalg import svd\n",
    "\n",
    "np.random.seed(30)\n",
    "A = np.random.randint(0, 100, size=(4, 4))\n",
    "A"
   ]
  },
  {
   "cell_type": "code",
   "execution_count": 13,
   "metadata": {},
   "outputs": [
    {
     "data": {
      "text/plain": [
       "(array([[-0.54937068, -0.2803037 , -0.76767503, -0.1740596 ],\n",
       "        [-0.3581157 ,  0.69569442, -0.13554741,  0.60777407],\n",
       "        [-0.41727183,  0.47142296,  0.28991733, -0.72082768],\n",
       "        [-0.6291496 , -0.46389601,  0.55520257,  0.28411509]]),\n",
       " array([142.88131188,  39.87683209,  28.97701433,  14.97002405]),\n",
       " array([[-0.25280963, -0.62046326, -0.4025583 , -0.6237463 ],\n",
       "        [ 0.06881225, -0.07117038, -0.8159854 ,  0.56953268],\n",
       "        [-0.73215039,  0.61782756, -0.23266002, -0.16767299],\n",
       "        [-0.62873522, -0.47775436,  0.34348792,  0.50838848]]))"
      ]
     },
     "execution_count": 13,
     "metadata": {},
     "output_type": "execute_result"
    }
   ],
   "source": [
    "svd(A)\n",
    "\n",
    "# U행렬, 시그마행렬, V행렬의 전치행렬"
   ]
  },
  {
   "cell_type": "code",
   "execution_count": 14,
   "metadata": {},
   "outputs": [
    {
     "name": "stdout",
     "output_type": "stream",
     "text": [
      "U matrix: (4, 4)\n",
      " [[-0.54937068 -0.2803037  -0.76767503 -0.1740596 ]\n",
      " [-0.3581157   0.69569442 -0.13554741  0.60777407]\n",
      " [-0.41727183  0.47142296  0.28991733 -0.72082768]\n",
      " [-0.6291496  -0.46389601  0.55520257  0.28411509]]\n",
      "Sigma: (4,)\n",
      " [142.88131188  39.87683209  28.97701433  14.97002405]\n",
      "V Transpose matrix: (4, 4)\n",
      " [[-0.25280963 -0.62046326 -0.4025583  -0.6237463 ]\n",
      " [ 0.06881225 -0.07117038 -0.8159854   0.56953268]\n",
      " [-0.73215039  0.61782756 -0.23266002 -0.16767299]\n",
      " [-0.62873522 -0.47775436  0.34348792  0.50838848]]\n"
     ]
    }
   ],
   "source": [
    "U, Sigma, VT = svd(A)\n",
    "\n",
    "print('U matrix: {}\\n'.format(U.shape),U)\n",
    "print('Sigma: {}\\n'.format(Sigma.shape),Sigma)\n",
    "print('V Transpose matrix: {}\\n'.format(VT.shape),VT)"
   ]
  },
  {
   "cell_type": "code",
   "execution_count": 15,
   "metadata": {},
   "outputs": [
    {
     "data": {
      "text/plain": [
       "array([[37., 37., 45., 45.],\n",
       "       [12., 23.,  2., 53.],\n",
       "       [17., 46.,  3., 41.],\n",
       "       [ 7., 65., 49., 45.]])"
      ]
     },
     "execution_count": 15,
     "metadata": {},
     "output_type": "execute_result"
    }
   ],
   "source": [
    "# 다시 복원하기\n",
    "# 시그마는 1차원이므로 0을 포함한 대각 행렬로 변환한 후 내적해줘야 한다.\n",
    "\n",
    "Sigma_mat = np.diag(Sigma)\n",
    "\n",
    "A_ = np.dot(np.dot(U, Sigma_mat), VT)\n",
    "A_"
   ]
  },
  {
   "cell_type": "code",
   "execution_count": null,
   "metadata": {},
   "outputs": [],
   "source": []
  }
 ],
 "metadata": {
  "kernelspec": {
   "display_name": "aiffel",
   "language": "python",
   "name": "aiffel"
  },
  "language_info": {
   "codemirror_mode": {
    "name": "ipython",
    "version": 3
   },
   "file_extension": ".py",
   "mimetype": "text/x-python",
   "name": "python",
   "nbconvert_exporter": "python",
   "pygments_lexer": "ipython3",
   "version": "3.7.6"
  }
 },
 "nbformat": 4,
 "nbformat_minor": 4
}
