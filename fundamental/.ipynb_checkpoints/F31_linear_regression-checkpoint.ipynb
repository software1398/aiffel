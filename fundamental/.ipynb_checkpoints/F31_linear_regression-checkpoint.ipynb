{
 "cells": [
  {
   "cell_type": "markdown",
   "metadata": {},
   "source": [
    "## F31 - 선형회귀와 경사하강법 (수학적으로 접근)"
   ]
  },
  {
   "cell_type": "code",
   "execution_count": 1,
   "metadata": {},
   "outputs": [
    {
     "name": "stdout",
     "output_type": "stream",
     "text": [
      "2.428571428571433 78.99999999999999\n"
     ]
    },
    {
     "data": {
      "image/png": "[encoded data removed]",
      "text/plain": [
       "<Figure size 432x288 with 1 Axes>"
      ]
     },
     "metadata": {
      "needs_background": "light"
     },
     "output_type": "display_data"
    }
   ],
   "source": [
    "# 최소제곱법으로 근사해 찾기\n",
    "\n",
    "import numpy as np\n",
    "import matplotlib.pyplot as plt\n",
    "%matplotlib inline\n",
    "\n",
    "x = np.array([2, 4, 8])\n",
    "A = np.array([[1]*len(x), x]).T\n",
    "y = np.array([81, 93, 97])\n",
    "\n",
    "c, m = np.linalg.lstsq(A, y, rcond=None)[0]\n",
    "print(m, c)\n",
    "\n",
    "plt.plot(x, y, 'o', label='Original data', markersize=10)\n",
    "plt.plot(x, m*x + c, 'r', label='Fitted line')\n",
    "plt.legend()\n",
    "plt.show()"
   ]
  },
  {
   "cell_type": "markdown",
   "metadata": {},
   "source": [
    "연립 일차방정식: Ax = b가 주어질 때 양변에 A^T를 곱하면 최소제곱해를 구할 수 있다.   \n",
    "A^T Ax = A^T b 이 방정식을 정규방정식이라 한다. A^T는 A의 역행렬   \n",
    "\n"
   ]
  },
  {
   "cell_type": "code",
   "execution_count": 4,
   "metadata": {},
   "outputs": [
    {
     "name": "stdout",
     "output_type": "stream",
     "text": [
      "[[ 3 14]\n",
      " [14 84]]\n",
      "\n",
      "[ 271 1310]\n",
      "\n",
      "[[ 1.5        -0.25      ]\n",
      " [-0.25        0.05357143]]\n",
      "\n",
      "[79.          2.42857143]\n"
     ]
    }
   ],
   "source": [
    "import numpy as np\n",
    "\n",
    "x = np.array([2, 4, 8])\n",
    "A = np.array([[1]*len(x), x]).T\n",
    "y = np.array([81, 93, 97])\n",
    "\n",
    "print(np.matmul(A.T, A), end=\"\\n\\n\")\n",
    "print(np.matmul(A.T, y), end=\"\\n\\n\")\n",
    "print(np.linalg.inv(np.matmul(A.T, A)), end=\"\\n\\n\")\n",
    "# [ 3/2, -1/4]\n",
    "# [-1/4, 3/56]\n",
    "print(np.matmul(np.linalg.inv(np.matmul(A.T, A)), np.matmul(A.T, y)))\n",
    "# (79, 17/7)"
   ]
  },
  {
   "cell_type": "code",
   "execution_count": 5,
   "metadata": {
    "scrolled": true
   },
   "outputs": [
    {
     "name": "stdout",
     "output_type": "stream",
     "text": [
      "Epoch (         0/      2000) cost: 8206.333333, W:   0.000000, b:  0.000000\n",
      "Epoch (       100/      2000) cost: 555.446152, W:  10.752730, b: 29.440640\n",
      "Epoch (       200/      2000) cost: 239.027498, W:   7.825787, b: 46.866718\n",
      "Epoch (       300/      2000) cost: 106.006292, W:   5.928016, b: 58.165432\n",
      "Epoch (       400/      2000) cost:  50.084681, W:   4.697540, b: 65.491290\n",
      "Epoch (       500/      2000) cost:  26.575446, W:   3.899725, b: 70.241227\n",
      "Epoch (       600/      2000) cost:  16.692253, W:   3.382437, b: 73.320989\n",
      "Epoch (       700/      2000) cost:  12.537396, W:   3.047039, b: 75.317845\n",
      "Epoch (       800/      2000) cost:  10.790710, W:   2.829573, b: 76.612565\n",
      "Epoch (       900/      2000) cost:  10.056410, W:   2.688573, b: 77.452036\n",
      "Epoch (      1000/      2000) cost:   9.747713, W:   2.597151, b: 77.996332\n",
      "Epoch (      1100/      2000) cost:   9.617938, W:   2.537875, b: 78.349242\n",
      "Epoch (      1200/      2000) cost:   9.563381, W:   2.499442, b: 78.578062\n",
      "Epoch (      1300/      2000) cost:   9.540445, W:   2.474522, b: 78.726424\n",
      "Epoch (      1400/      2000) cost:   9.530803, W:   2.458365, b: 78.822619\n",
      "Epoch (      1500/      2000) cost:   9.526750, W:   2.447889, b: 78.884990\n",
      "Epoch (      1600/      2000) cost:   9.525046, W:   2.441097, b: 78.925430\n",
      "Epoch (      1700/      2000) cost:   9.524329, W:   2.436692, b: 78.951650\n",
      "Epoch (      1800/      2000) cost:   9.524028, W:   2.433837, b: 78.968651\n",
      "Epoch (      1900/      2000) cost:   9.523901, W:   2.431985, b: 78.979674\n",
      "W:   2.430785\n",
      "b:  78.986821\n",
      "result :  [83.848391   88.70996105 98.43310117]\n"
     ]
    }
   ],
   "source": [
    "import numpy as np\n",
    "\n",
    "# 관측된 x, y를 데이터로 삼습니다.\n",
    "x_train = np.array([2, 4, 8])\n",
    "y_train = np.array([81, 93, 97])\n",
    "\n",
    "# 학습해야 할 파라미터 W, b를 놓고\n",
    "W, b = np.array([0.0, 0.0])\n",
    "n_data = len(x_train)\n",
    "epochs = 2000\n",
    "learning_rate = 0.01\n",
    "\n",
    "# 루프를 돌면서 \n",
    "for i in range(epochs):\n",
    "    hypothesis = x_train * W + b\n",
    "    cost = np.sum((hypothesis - y_train) ** 2) / n_data\n",
    "    # gradient를 계산하여\n",
    "    gradient_w = np.sum((W * x_train - y_train + b) * 2 * x_train) / n_data\n",
    "    gradient_b = np.sum((W * x_train - y_train + b) * 2) / n_data\n",
    "\n",
    "    if i % 100 == 0:\n",
    "        print('Epoch ({:10d}/{:10d}) cost: {:10f}, W: {:10f}, b:{:10f}'.format(i, epochs, cost, W, b))\n",
    "\n",
    "    # 그래디언트 반대 방향으로 파라미터를 업데이트합니다. \n",
    "    W -= learning_rate * gradient_w\n",
    "    b -= learning_rate * gradient_b\n",
    "\n",
    "\n",
    "print('W: {:10f}'.format(W))\n",
    "print('b: {:10f}'.format(b))\n",
    "print('result : ', x_train * W + b)"
   ]
  },
  {
   "cell_type": "code",
   "execution_count": null,
   "metadata": {},
   "outputs": [],
   "source": [
    "# 경사하강법\n",
    "# https://youtu.be/IHZwWFHWa-w\n",
    "# 1. 확률적 경사하강법(SGD): GD(전체 배치)보다는 mini 배치로 빠르게 손실함수를 계산한다.\n",
    "# 2. 모멘텀(Momentum): 이동 방향이 같다면 이동 속도를 좀 더 올려준다. v_t+1 = mv_t + C(w_t) m: 0.9\n",
    "#                    지그재그 현상이 줄어든다.\n",
    "# 3. 아다그래드(Adagrad): 각 변수의 step size를 다르게 설정한다. 지금까지 변화가 적은 변수는 크게\n",
    "#                       학습 진행하면 step size가 너무 줄어드는 문제 발생\n",
    "# 4. RMSProp: 아다그래드 문제 보완, G_t을 제곱합이 아니라 지수평균으로 대체\n",
    "# 5. 아담(Adam): RMSProp + Momentum\n"
   ]
  },
  {
   "cell_type": "markdown",
   "metadata": {},
   "source": [
    "https://i.imgur.com/8RbqC0z_d.webp?maxwidth=728&fidelity=grand"
   ]
  }
 ],
 "metadata": {
  "kernelspec": {
   "display_name": "aiffel",
   "language": "python",
   "name": "aiffel"
  },
  "language_info": {
   "codemirror_mode": {
    "name": "ipython",
    "version": 3
   },
   "file_extension": ".py",
   "mimetype": "text/x-python",
   "name": "python",
   "nbconvert_exporter": "python",
   "pygments_lexer": "ipython3",
   "version": "3.7.6"
  }
 },
 "nbformat": 4,
 "nbformat_minor": 4
}
