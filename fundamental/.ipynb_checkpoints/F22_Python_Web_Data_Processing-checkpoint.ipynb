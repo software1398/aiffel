{
 "cells": [
  {
   "cell_type": "code",
   "execution_count": 2,
   "metadata": {},
   "outputs": [
    {
     "name": "stdout",
     "output_type": "stream",
     "text": [
      "2020-08-25 14:20:31.009035\n",
      "test function\n",
      "2020-08-25 14:20:31.009278\n"
     ]
    }
   ],
   "source": [
    "import datetime\n",
    "\n",
    "# 코드 선언부\n",
    "def main_function():     \n",
    "     print (\"test function\")\n",
    "\n",
    "# 코드 실행부   \n",
    "print (datetime.datetime.now()) #- 텍스트 표시 전 시간\n",
    "main_function()\n",
    "print (datetime.datetime.now()) #- 텍스트 표시 후 시간"
   ]
  },
  {
   "cell_type": "code",
   "execution_count": 3,
   "metadata": {},
   "outputs": [
    {
     "name": "stdout",
     "output_type": "stream",
     "text": [
      "2020-08-25 14:20:31.567934\n",
      "test function\n",
      "2020-08-25 14:20:31.568085\n"
     ]
    }
   ],
   "source": [
    "# 데코레이션: 함수를 호출하는 함수\n",
    "# 코드 선언부\n",
    "def datetime_decorator(func):\n",
    "        def decorated():\n",
    "                print(datetime.datetime.now())\n",
    "                func()\n",
    "                print(datetime.datetime.now())\n",
    "        return decorated\n",
    "\n",
    "@datetime_decorator\n",
    "def main_function():\n",
    "        print (\"test function\")\n",
    "\n",
    "\n",
    "# 코드 실행부  \n",
    "main_function()"
   ]
  },
  {
   "cell_type": "code",
   "execution_count": null,
   "metadata": {},
   "outputs": [],
   "source": []
  }
 ],
 "metadata": {
  "kernelspec": {
   "display_name": "aiffel",
   "language": "python",
   "name": "aiffel"
  },
  "language_info": {
   "codemirror_mode": {
    "name": "ipython",
    "version": 3
   },
   "file_extension": ".py",
   "mimetype": "text/x-python",
   "name": "python",
   "nbconvert_exporter": "python",
   "pygments_lexer": "ipython3",
   "version": "3.7.6"
  }
 },
 "nbformat": 4,
 "nbformat_minor": 4
}
