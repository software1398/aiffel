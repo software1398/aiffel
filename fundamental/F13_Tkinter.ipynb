{
 "cells": [
  {
   "cell_type": "code",
   "execution_count": 2,
   "metadata": {},
   "outputs": [
    {
     "name": "stdout",
     "output_type": "stream",
     "text": [
      "코드 실행 중..🛸\n",
      "완료!\n"
     ]
    }
   ],
   "source": [
    "from tkinter import *\n",
    "\n",
    "print('코드 실행 중..🛸')\n",
    "window = Tk()\n",
    "window.title(\"My First GUI\")\n",
    "window.mainloop()\n",
    "print('완료!')"
   ]
  },
  {
   "cell_type": "code",
   "execution_count": 3,
   "metadata": {},
   "outputs": [
    {
     "name": "stdout",
     "output_type": "stream",
     "text": [
      "코드 실행 중..🛸\n",
      "완료!\n"
     ]
    }
   ],
   "source": [
    "from tkinter import *\n",
    "\n",
    "print('코드 실행 중..🛸')\n",
    "window = Tk()\n",
    "window.title(\"ex1_size\")         # 윈도우 타이틀바 제목을 지정합니다.\n",
    "\n",
    "# 윈도우 크기 조정\n",
    "window.geometry(\"480x320\")       # 창의 크기를 지정합니다.\n",
    "window.resizable(False, False)   # 가로, 세로 크기조절을 불가능하게 합니다.\n",
    "\n",
    "window.mainloop()\n",
    "print('완료!')"
   ]
  },
  {
   "cell_type": "code",
   "execution_count": 4,
   "metadata": {},
   "outputs": [
    {
     "name": "stdout",
     "output_type": "stream",
     "text": [
      "코드 실행 중..🛸\n",
      "완료!\n"
     ]
    }
   ],
   "source": [
    "from tkinter import *\n",
    "import tkinter.ttk as ttk\n",
    "\n",
    "print('코드 실행 중..🛸')\n",
    "window = Tk()\n",
    "window.title(\"ex2_label\")\n",
    "window.geometry(\"480x320\") \n",
    "window.resizable(False, False)\n",
    "\n",
    "# 라벨 생성\n",
    "label1 = ttk.Label(window,text='label')    # 라벨을 생성합니다. 텍스트 내용은 'label'로 합니다.\n",
    "label1.grid(column=0, row=0)    # 위 생성된 라벨의 레이아웃을 지정합니다.\n",
    "\n",
    "window.mainloop()\n",
    "print('완료!')"
   ]
  },
  {
   "cell_type": "code",
   "execution_count": 5,
   "metadata": {},
   "outputs": [
    {
     "name": "stdout",
     "output_type": "stream",
     "text": [
      "코드 실행 중..🛸\n",
      "완료!\n"
     ]
    }
   ],
   "source": [
    "from tkinter import *\n",
    "import tkinter.ttk as ttk\n",
    "\n",
    "print('코드 실행 중..🛸')\n",
    "window = Tk()\n",
    "window.title(\"ex2_label\")\n",
    "window.geometry(\"480x320\") \n",
    "window.resizable(False, False)\n",
    "\n",
    "label1 = ttk.Label(window,text='label')  \n",
    "label1.grid(row=0, column=0)  \n",
    "\n",
    "# 텍스트 박스 생성\n",
    "text1 = Text(window, width=60, height=40)    # 텍스트박스를 크기까지 지정하여 생성합니다.\n",
    "text1.grid(row=1, column=0, padx=20, pady=10)   # 생성된 텍스트박스의 레이아웃을 지정합니다. \n",
    "\n",
    "window.mainloop()\n",
    "print('완료!')"
   ]
  },
  {
   "cell_type": "code",
   "execution_count": 7,
   "metadata": {},
   "outputs": [
    {
     "name": "stdout",
     "output_type": "stream",
     "text": [
      "코드 실행 중..🛸\n",
      "완료!\n"
     ]
    }
   ],
   "source": [
    "from tkinter import *\n",
    "import tkinter.ttk as ttk\n",
    "import tkinter.messagebox as tmb\n",
    "\n",
    "print('코드 실행 중..🛸')\n",
    "window = Tk()   \n",
    "window.title(\"ex3_Button\")   \n",
    "window.geometry(\"480x320\") \n",
    "\n",
    "label1 = ttk.Label(window, text=\"Label\")\n",
    "label1.grid(column=0, row=0)\n",
    "\n",
    "# 버튼클릭 이벤트 핸들러 정의\n",
    "def click():\n",
    "    label1.configure(text='버튼이 눌렸습니다.')   # 버튼이 눌리면 라벨 텍스트값을 바꿉니다.\n",
    "    tmb.showinfo(\"버튼\", \"버튼클릭!!\")                 # 그리고 메시지박스로 버튼클릭을 알립니다.\n",
    "\n",
    "# 버튼 생성\n",
    "action = ttk.Button(window, text=\"버튼을 눌러주세요\", command=click)   \n",
    "action.grid(row=0, column=1)\n",
    "\n",
    "window.mainloop()\n",
    "print('완료!')"
   ]
  },
  {
   "cell_type": "code",
   "execution_count": 8,
   "metadata": {},
   "outputs": [
    {
     "name": "stdout",
     "output_type": "stream",
     "text": [
      "코드 실행 중..🛸\n",
      "완료!\n"
     ]
    }
   ],
   "source": [
    "from tkinter import *\n",
    "import tkinter.ttk as ttk\n",
    "import tkinter.messagebox as tmb\n",
    "\n",
    "print('코드 실행 중..🛸')\n",
    "window = Tk()   \n",
    "window.title(\"ex3_Button\")   \n",
    "window.geometry(\"480x320\") \n",
    "\n",
    "label1 = ttk.Label(window, text=\"Label\")\n",
    "label1.grid(column=0, row=0)\n",
    "\n",
    "# 콤보 생성\n",
    "combo = ttk.Combobox(window, width=10)\n",
    "combo['values']= (\"A\", \"B\", \"C\")\n",
    "combo.current(0) #set the selected item\n",
    "combo.grid(row=1, column=1)\n",
    "\n",
    "# 버튼클릭 이벤트 핸들러 정의\n",
    "def click():\n",
    "    label1.configure(text='버튼이 눌렸습니다.')   # 버튼이 눌리면 라벨 텍스트값을 바꿉니다.\n",
    "    tmb.showinfo(\"버튼\", combo.get())          # 메시지박스로 combo.get()을 통해 가져온 메뉴값을 출력합니다.\n",
    "\n",
    "# 버튼 생성\n",
    "action = ttk.Button(window, text=\"버튼을 눌러주세요\", command=click)   \n",
    "action.grid(row=0, column=1)\n",
    "\n",
    "window.mainloop()\n",
    "print('완료!')"
   ]
  },
  {
   "cell_type": "code",
   "execution_count": 14,
   "metadata": {},
   "outputs": [
    {
     "name": "stdout",
     "output_type": "stream",
     "text": [
      "코드 실행 중..🛸\n",
      "완료!\n"
     ]
    }
   ],
   "source": [
    "from tkinter import *\n",
    "import tkinter.ttk as ttk\n",
    "\n",
    "print('코드 실행 중..🛸')\n",
    "window = Tk()   \n",
    "window.title(\"ex3_Button\")   \n",
    "window.geometry(\"1024x512\")     # 윈도우 크기를 좀더 키웁시다.\n",
    "\n",
    "label1 = ttk.Label(window, text=\"Label\")\n",
    "label1.grid(column=0, row=0)\n",
    "\n",
    "combo = ttk.Combobox(window, width=10)\n",
    "combo['values']= (\"A\", \"B\", \"C\")\n",
    "combo.current(0) #set the selected item\n",
    "combo.grid(row=1, column=1)\n",
    "\n",
    "# 텍스트 박스 2개 생성\n",
    "text1 = Text(window, width=60, height=40)\n",
    "text2 = Text(window, width=60, height=40)\n",
    "text1.grid(row=2, column=0, padx=20, pady=10)   \n",
    "text2.grid(row=2, column=1, padx=20, pady=10)\n",
    "\n",
    "# 버튼클릭 이벤트 핸들러 정의\n",
    "def click():\n",
    "    label1.configure(text='버튼이 눌렸습니다.')   \n",
    "    text1_string = text1.get(\"1.0\",\"end\")   # text1의 텍스트값을 가져와서\n",
    "    text2_string = \"{} and {}\".format(text1_string, combo.get()) # text2에 들어갈 텍스트값을 생성한 후\n",
    "    text2.delete(1.0, \"end\")     # text2의 텍스트값을 초기화하고 나서 \n",
    "    text2.insert(\"end\", text2_string)   # text2에 새로 생성한 텍스트를 넣어줍니다.  \n",
    "\n",
    "action = ttk.Button(window, text=\"버튼을 눌러주세요\", command=click)   \n",
    "action.grid(row=0, column=1)\n",
    "\n",
    "window.mainloop()\n",
    "print('완료!')"
   ]
  },
  {
   "cell_type": "code",
   "execution_count": 8,
   "metadata": {},
   "outputs": [
    {
     "name": "stdout",
     "output_type": "stream",
     "text": [
      "코드 실행 중..🛸\n",
      "완료!\n"
     ]
    }
   ],
   "source": [
    "from tkinter import *\n",
    "import tkinter.ttk as ttk\n",
    "\n",
    "print('코드 실행 중..🛸')\n",
    "window = Tk()\n",
    "window.title(\"Layout\")\n",
    "window.geometry(\"480x320\") \n",
    "\n",
    "Label(window, text=\"First\").grid(row=0)   # row=0, column=0\n",
    "Label(window, text=\"Second\").grid(row=1)  # row=1, column=0\n",
    "\n",
    "entry1 = Entry(window)\n",
    "entry2 = Entry(window)\n",
    "\n",
    "entry1.grid(row=0, column=1)    # row=0, column=1\n",
    "entry2.grid(row=1, column=1)    # row=1, column=1\n",
    "window.mainloop()\n",
    "print('완료!')"
   ]
  },
  {
   "cell_type": "markdown",
   "metadata": {},
   "source": [
    "gird 메소드 인자   \n",
    "column : 위젯을 넣을 열   \n",
    "columnspan : 위젯이 차지하는 열의 수   \n",
    "row : 위젯을 넣을 행   \n",
    "rowspan : 위젯이 차지하는 행의 수   \n",
    "sicky, ipadx, ipady, padx, pady : 위치와 여백 조정   "
   ]
  },
  {
   "cell_type": "code",
   "execution_count": 9,
   "metadata": {},
   "outputs": [
    {
     "name": "stdout",
     "output_type": "stream",
     "text": [
      "코드 실행 중..🛸\n",
      "완료!\n"
     ]
    }
   ],
   "source": [
    "from tkinter import *\n",
    "import tkinter.ttk as ttk\n",
    "\n",
    "print('코드 실행 중..🛸')\n",
    "window = Tk()\n",
    "window.title(\"Layout_pack\")\n",
    "window.geometry(\"480x320\") \n",
    "\n",
    "Label(window, text=\"First\").pack()\n",
    "Label(window, text=\"Second\").pack()\n",
    "\n",
    "entry1 = Entry(window)\n",
    "entry2 = Entry(window)\n",
    "entry1.pack()\n",
    "entry2.pack()\n",
    "\n",
    "window.mainloop()\n",
    "print('완료!')"
   ]
  },
  {
   "cell_type": "markdown",
   "metadata": {},
   "source": [
    "pack(side='left') : 왼쪽에 위치   \n",
    "pack(side='right') : 오른쪽에 위치   \n",
    "pack(side='top') : 위쪽에 위치   \n",
    "pack(side='bottom') : 아래쪽에 위치   "
   ]
  },
  {
   "cell_type": "code",
   "execution_count": 10,
   "metadata": {},
   "outputs": [
    {
     "name": "stdout",
     "output_type": "stream",
     "text": [
      "코드 실행 중..🛸\n",
      "완료!\n"
     ]
    }
   ],
   "source": [
    "from tkinter import *\n",
    "import tkinter.ttk as ttk\n",
    "\n",
    "print('코드 실행 중..🛸')\n",
    "window = Tk()\n",
    "window.title(\"Layout_pack\")\n",
    "window.geometry(\"480x320\") \n",
    "\n",
    "B1 = Button(window, text=\"Left\").pack(side=\"left\")\n",
    "B2 = Button(window, text=\"Right\").pack(side=\"right\")\n",
    "B3 = Button(window, text=\"Top\").pack(side=\"top\")\n",
    "B4 = Button(window, text=\"Bottom\").pack(side=\"bottom\")\n",
    "\n",
    "window.mainloop()\n",
    "print('완료!')"
   ]
  },
  {
   "cell_type": "code",
   "execution_count": 4,
   "metadata": {},
   "outputs": [
    {
     "name": "stdout",
     "output_type": "stream",
     "text": [
      "코드 실행 중..🛸\n",
      "완료!\n"
     ]
    }
   ],
   "source": [
    "from tkinter import *\n",
    "import tkinter.ttk as ttk\n",
    "\n",
    "print('코드 실행 중..🛸')\n",
    "window = Tk()\n",
    "window.title(\"Layout_pack\")\n",
    "window.geometry(\"480x320\") \n",
    "\n",
    "B1 = Button(window, text=\"Left\").pack(side=\"left\", padx=20, pady=20)\n",
    "B2 = Button(window, text=\"Right\").pack(side=\"right\", padx=20, pady=20)\n",
    "B3 = Button(window, text=\"Top\").pack(side=\"top\", padx=20, pady=20)\n",
    "B4 = Button(window, text=\"Bottom\").pack(side=\"bottom\", padx=20, pady=20)\n",
    "\n",
    "window.mainloop()\n",
    "print('완료!')"
   ]
  },
  {
   "cell_type": "markdown",
   "metadata": {},
   "source": [
    "place   \n",
    "x, y 인자를 이용해서 각각 수평 방향 및 수직 방향으로 얼마나 떨어졌는지 값을 입력   \n",
    "anchor, bordermode, height, width, relheight, relwidth, relx, rely ->   \n",
    "위젯의 크기와 여백 조정"
   ]
  },
  {
   "cell_type": "code",
   "execution_count": 5,
   "metadata": {},
   "outputs": [
    {
     "name": "stdout",
     "output_type": "stream",
     "text": [
      "코드 실행 중..🛸\n",
      "완료!\n"
     ]
    }
   ],
   "source": [
    "from tkinter import *\n",
    "import tkinter.ttk as ttk\n",
    "\n",
    "print('코드 실행 중..🛸')\n",
    "window = Tk()\n",
    "window.title(\"Layout_place\")\n",
    "window.geometry(\"480x320\") \n",
    "\n",
    "Label(window, text=\"First\").place(x=10,y=50)\n",
    "Label(window, text=\"Second\").place(x=10,y=80)\n",
    "\n",
    "e1 = Entry(window)\n",
    "e2 = Entry(window)\n",
    "e1.place(x=80,y=50)\n",
    "e2.place(x=80,y=80)\n",
    "\n",
    "window.mainloop()\n",
    "print('완료!')"
   ]
  },
  {
   "cell_type": "markdown",
   "metadata": {},
   "source": [
    "구글 번역 API   \n",
    "pip install googletrans"
   ]
  },
  {
   "cell_type": "code",
   "execution_count": 6,
   "metadata": {},
   "outputs": [
    {
     "data": {
      "text/plain": [
       "'Hello'"
      ]
     },
     "execution_count": 6,
     "metadata": {},
     "output_type": "execute_result"
    }
   ],
   "source": [
    "from googletrans import Translator\n",
    "\n",
    "def translate(input_str, lang='en'):\n",
    "    translator = Translator()\n",
    "    result = translator.translate(input_str, dest=lang)\n",
    "    return result.text\n",
    "\n",
    "translate('안녕하세요', lang='en')"
   ]
  },
  {
   "cell_type": "markdown",
   "metadata": {},
   "source": [
    "#### 나만의 구글 번역기 만들기"
   ]
  },
  {
   "cell_type": "code",
   "execution_count": 25,
   "metadata": {},
   "outputs": [
    {
     "name": "stdout",
     "output_type": "stream",
     "text": [
      "코드 실행 중..🛸\n",
      "완료!\n"
     ]
    }
   ],
   "source": [
    "from tkinter import *\n",
    "import tkinter.ttk as ttk\n",
    "from googletrans import Translator\n",
    "\n",
    "print('코드 실행 중..🛸')\n",
    "window = Tk()\n",
    "window.title(\"나의 구글 번역기\")\n",
    "window.geometry(\"1024x512\")\n",
    "\n",
    "# 라벨 생성\n",
    "Label(window).grid(row=0)\n",
    "Label(window, text=\"번역전\").grid(row=1, column=0)  # row=0, column=0\n",
    "Label(window, text=\"번역후\").grid(row=1, column=2)  # row=2, column=0\n",
    "\n",
    "\n",
    "# 콤보박스 생성\n",
    "combo = ttk.Combobox(window, width=10)\n",
    "combo['values']= (\"en\", \"ko\", \"ja\")\n",
    "combo.current(0) #set the selected item\n",
    "combo.grid(row=1, column=1)                         # row=1, column=0\n",
    "\n",
    "# 텍스트 박스 생성\n",
    "text1 = Text(window, width=60, height=40)\n",
    "text2 = Text(window, width=60, height=40)\n",
    "text1.grid(row=2, column=0, padx=20, pady=10)   \n",
    "text2.grid(row=2, column=2, padx=20, pady=10)\n",
    "\n",
    "\n",
    "# 번역기 함수\n",
    "def translate(input_str, lang='en'):\n",
    "    translator = Translator()\n",
    "    result = translator.translate(input_str, dest=lang)\n",
    "    return result.text\n",
    "\n",
    "# 버튼클릭 콜백 함수    \n",
    "def click():\n",
    "#     label1.configure(text='버튼이 눌렸습니다.')   \n",
    "    text1_string = text1.get(\"1.0\",\"end\")   # text1의 텍스트값을 가져와서\n",
    "    text2_string = \"{}\".format(translate(text1_string, combo.get())) # text2에 들어갈 텍스트값을 생성한 후\n",
    "    text2.delete(1.0, \"end\")     # text2의 텍스트값을 초기화하고 나서 \n",
    "    text2.insert(\"end\", text2_string)   # text2에 새로 생성한 텍스트를 넣어줍니다.  \n",
    "\n",
    "# 버튼 생성    \n",
    "action = ttk.Button(window, text=\"번역\", command=click)   \n",
    "action.grid(row=2, column=1)\n",
    "\n",
    "window.mainloop()\n",
    "print('완료!')"
   ]
  },
  {
   "cell_type": "code",
   "execution_count": null,
   "metadata": {},
   "outputs": [],
   "source": []
  }
 ],
 "metadata": {
  "kernelspec": {
   "display_name": "aiffel",
   "language": "python",
   "name": "aiffel"
  },
  "language_info": {
   "codemirror_mode": {
    "name": "ipython",
    "version": 3
   },
   "file_extension": ".py",
   "mimetype": "text/x-python",
   "name": "python",
   "nbconvert_exporter": "python",
   "pygments_lexer": "ipython3",
   "version": "3.7.6"
  }
 },
 "nbformat": 4,
 "nbformat_minor": 4
}
