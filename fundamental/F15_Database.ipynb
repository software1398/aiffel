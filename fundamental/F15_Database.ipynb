{
 "cells": [
  {
   "cell_type": "markdown",
   "metadata": {},
   "source": [
    "# F15 데이터베이스"
   ]
  },
  {
   "cell_type": "code",
   "execution_count": null,
   "metadata": {},
   "outputs": [],
   "source": [
    "# 프로그램 구성\n",
    "# 파일 이름 입력받기\n",
    "# 읽기모드로 파일을 열어 한 줄씩 입력받기\n",
    "# 파일의 각 행의 데이터 속성을 갖는 인스턴스 객체 만들기(사원객체)\n",
    "# employee 클래스 설계 필요\n",
    "# 인스턴스 사원 객체 만드는 함수 필요\n",
    "# 월급이 가장 높은 사원을 찾는 코드 구현\n",
    "# 결과 출력"
   ]
  },
  {
   "cell_type": "code",
   "execution_count": 6,
   "metadata": {},
   "outputs": [],
   "source": [
    "class Employee:\n",
    "    def __init__ (self, name, division, jobgrade, years, basic):\n",
    "        self.name = name\n",
    "        self.division = division\n",
    "        self.jobgrade = int(jobgrade)\n",
    "        self.years = int(years)\n",
    "        self.basic = float(basic)\n",
    "        self.salary = 0\n",
    "    # 텍스트 파일에서 불러온 각각의 데이터는 string으로 처리됩니다. 형변환이 필요\n",
    "    def get_name(self):\n",
    "        return self.name\n",
    "    def get_division(self):\n",
    "        return self.division\n",
    "    def get_jobgrade(self):\n",
    "        return self.jobgrade\n",
    "    def get_years(self):\n",
    "        return self.years\n",
    "    def get_basic(self):\n",
    "        return self.basic\n",
    "    def get_salary(self):\n",
    "        self.salary = self.basic + self.years * self.basic * 0.1\n",
    "        return self.salary\n",
    "\n",
    "# 텍스트 파일에서 불러온 데이터를 자동으로 인스턴스 객체로 만드는 함수    \n",
    "def make_employee(inputdata):\n",
    "    name, division, jobgrade, year, basic = inputdata.split(',')\n",
    "    return Employee(name, division, jobgrade, year, basic)\n",
    "\n",
    "def summarize():\n",
    "    file_path = os.getenv(\"HOME\") + '/aiffel/data_handling/data/employeefile.txt'\n",
    "    inputfile = open(file_path, 'r')\n",
    "    highest = make_employee(inputfile.readline())\n",
    "    for l in inputfile:\n",
    "        e = make_employee(l)\n",
    "        if e.get_salary() > highest.get_salary():\n",
    "            highest = e\n",
    "    inputfile.close()\n",
    "    \n",
    "    print(\"The name of the highest salary employee is: \", highest.get_name())\n",
    "    print(\"Years of service: \", highest.get_years())\n",
    "    print(\"Division: \", highest.get_division())\n",
    "    print(\"Salay: \", highest.get_salary())"
   ]
  },
  {
   "cell_type": "code",
   "execution_count": 7,
   "metadata": {},
   "outputs": [
    {
     "name": "stdout",
     "output_type": "stream",
     "text": [
      "The name of the highest salary employee is:  Kim YoungJae\n",
      "Years of service:  7\n",
      "Division:   Sales\n",
      "Salay:  1020.0\n"
     ]
    }
   ],
   "source": [
    "summarize()"
   ]
  },
  {
   "cell_type": "code",
   "execution_count": 16,
   "metadata": {},
   "outputs": [
    {
     "name": "stdout",
     "output_type": "stream",
     "text": [
      "       Student  Korean  English\n",
      "0    KimTaemin      90       80\n",
      "1     HaJaehwa      85       90\n",
      "2  JungSayoung      88       40\n",
      "3     Sonjimin      35       44\n",
      "4    Leesoomin      40       55\n",
      "5      KangJun      44       90\n",
      "---------------------------------\n",
      "       Student  Math\n",
      "0    KimTaemin   100\n",
      "1     HaJaehwa    55\n",
      "2  JungSayoung    38\n",
      "3     Sonjimin    43\n",
      "4    Leesoomin    68\n",
      "5      KangJun    82\n"
     ]
    }
   ],
   "source": [
    "# Pandas는 SQL와 유사한 기능을 수행하며 데이터 조작이 가능하다.\n",
    "# 연관된 컬럼이 있는 경우 그 컬럼을 키(key)로 지정해 합치기 연산이 가능\n",
    "# 관련 메소드 : merge(), join(), concat()\n",
    "\n",
    "# pd.merge() : 공통의 칼럼을 key로 사용하여 데이터를 합쳐준다. (Student)\n",
    "import pandas as pd\n",
    "\n",
    "df1 = pd.DataFrame({'Student': ['KimTaemin','HaJaehwa','JungSayoung','Sonjimin','Leesoomin','KangJun'],\n",
    "                    'Korean': [90, 85, 88, 35, 40, 44],\n",
    "                    'English': [80, 90, 40, 44, 55, 90]})\n",
    "df2 = pd.DataFrame({'Student': ['KimTaemin','HaJaehwa','JungSayoung','Sonjimin','Leesoomin','KangJun'],\n",
    "                    'Math': [100, 55, 38, 43, 68, 82]})\n",
    "\n",
    "print(df1)\n",
    "print('---------------------------------')\n",
    "print(df2)"
   ]
  },
  {
   "cell_type": "code",
   "execution_count": 9,
   "metadata": {},
   "outputs": [
    {
     "data": {
      "text/html": [
       "<div>\n",
       "<style scoped>\n",
       "    .dataframe tbody tr th:only-of-type {\n",
       "        vertical-align: middle;\n",
       "    }\n",
       "\n",
       "    .dataframe tbody tr th {\n",
       "        vertical-align: top;\n",
       "    }\n",
       "\n",
       "    .dataframe thead th {\n",
       "        text-align: right;\n",
       "    }\n",
       "</style>\n",
       "<table border=\"1\" class=\"dataframe\">\n",
       "  <thead>\n",
       "    <tr style=\"text-align: right;\">\n",
       "      <th></th>\n",
       "      <th>Student</th>\n",
       "      <th>Korean</th>\n",
       "      <th>English</th>\n",
       "      <th>Math</th>\n",
       "    </tr>\n",
       "  </thead>\n",
       "  <tbody>\n",
       "    <tr>\n",
       "      <th>0</th>\n",
       "      <td>KimTaemin</td>\n",
       "      <td>90</td>\n",
       "      <td>80</td>\n",
       "      <td>100</td>\n",
       "    </tr>\n",
       "    <tr>\n",
       "      <th>1</th>\n",
       "      <td>HaJaehwa</td>\n",
       "      <td>85</td>\n",
       "      <td>90</td>\n",
       "      <td>55</td>\n",
       "    </tr>\n",
       "    <tr>\n",
       "      <th>2</th>\n",
       "      <td>JungSayoung</td>\n",
       "      <td>88</td>\n",
       "      <td>40</td>\n",
       "      <td>38</td>\n",
       "    </tr>\n",
       "    <tr>\n",
       "      <th>3</th>\n",
       "      <td>Sonjimin</td>\n",
       "      <td>35</td>\n",
       "      <td>44</td>\n",
       "      <td>43</td>\n",
       "    </tr>\n",
       "    <tr>\n",
       "      <th>4</th>\n",
       "      <td>Leesoomin</td>\n",
       "      <td>40</td>\n",
       "      <td>55</td>\n",
       "      <td>68</td>\n",
       "    </tr>\n",
       "    <tr>\n",
       "      <th>5</th>\n",
       "      <td>KangJun</td>\n",
       "      <td>44</td>\n",
       "      <td>90</td>\n",
       "      <td>82</td>\n",
       "    </tr>\n",
       "  </tbody>\n",
       "</table>\n",
       "</div>"
      ],
      "text/plain": [
       "       Student  Korean  English  Math\n",
       "0    KimTaemin      90       80   100\n",
       "1     HaJaehwa      85       90    55\n",
       "2  JungSayoung      88       40    38\n",
       "3     Sonjimin      35       44    43\n",
       "4    Leesoomin      40       55    68\n",
       "5      KangJun      44       90    82"
      ]
     },
     "execution_count": 9,
     "metadata": {},
     "output_type": "execute_result"
    }
   ],
   "source": [
    "pd.merge(df1, df2)\n",
    "# pd.merge(df1, df2, on='Student') 공통컬럼을 on으로 명시 가능."
   ]
  },
  {
   "cell_type": "code",
   "execution_count": 19,
   "metadata": {},
   "outputs": [
    {
     "name": "stdout",
     "output_type": "stream",
     "text": [
      "       Student  Korean  English\n",
      "0    KimTaemin      90       80\n",
      "1     HaJaehwa      85       90\n",
      "2  JungSayoung      88       40\n",
      "3     Sonjimin      35       44\n",
      "4    Leesoomin      40       55\n",
      "5      KangJun      44       90\n",
      "--------------------------------\n",
      "      Student  Math\n",
      "0  Jiyoungmin    44\n",
      "1   KimTaemin    33\n"
     ]
    }
   ],
   "source": [
    "# 공통컬럼에 겹치는 행이 일부만 있을 경우, inner join사용 가능\n",
    "df1 = pd.DataFrame({'Student': ['KimTaemin','HaJaehwa','JungSayoung','Sonjimin','Leesoomin','KangJun'],\n",
    "                    'Korean': [90, 85, 88, 35, 40, 44],\n",
    "                    'English': [80, 90, 40, 44, 55, 90]})\n",
    "df2 = pd.DataFrame({'Student': ['Jiyoungmin','KimTaemin'],\n",
    "                    'Math':[44,33]})\n",
    "\n",
    "print(df1)\n",
    "print('--------------------------------')\n",
    "print(df2)"
   ]
  },
  {
   "cell_type": "code",
   "execution_count": 11,
   "metadata": {
    "scrolled": true
   },
   "outputs": [
    {
     "data": {
      "text/html": [
       "<div>\n",
       "<style scoped>\n",
       "    .dataframe tbody tr th:only-of-type {\n",
       "        vertical-align: middle;\n",
       "    }\n",
       "\n",
       "    .dataframe tbody tr th {\n",
       "        vertical-align: top;\n",
       "    }\n",
       "\n",
       "    .dataframe thead th {\n",
       "        text-align: right;\n",
       "    }\n",
       "</style>\n",
       "<table border=\"1\" class=\"dataframe\">\n",
       "  <thead>\n",
       "    <tr style=\"text-align: right;\">\n",
       "      <th></th>\n",
       "      <th>Student</th>\n",
       "      <th>Korean</th>\n",
       "      <th>English</th>\n",
       "      <th>Math</th>\n",
       "    </tr>\n",
       "  </thead>\n",
       "  <tbody>\n",
       "    <tr>\n",
       "      <th>0</th>\n",
       "      <td>KimTaemin</td>\n",
       "      <td>90</td>\n",
       "      <td>80</td>\n",
       "      <td>33</td>\n",
       "    </tr>\n",
       "  </tbody>\n",
       "</table>\n",
       "</div>"
      ],
      "text/plain": [
       "     Student  Korean  English  Math\n",
       "0  KimTaemin      90       80    33"
      ]
     },
     "execution_count": 11,
     "metadata": {},
     "output_type": "execute_result"
    }
   ],
   "source": [
    "# how 기본값은 inner\n",
    "pd.merge(df1, df2, how='inner')"
   ]
  },
  {
   "cell_type": "code",
   "execution_count": 28,
   "metadata": {},
   "outputs": [
    {
     "data": {
      "text/html": [
       "<div>\n",
       "<style scoped>\n",
       "    .dataframe tbody tr th:only-of-type {\n",
       "        vertical-align: middle;\n",
       "    }\n",
       "\n",
       "    .dataframe tbody tr th {\n",
       "        vertical-align: top;\n",
       "    }\n",
       "\n",
       "    .dataframe thead th {\n",
       "        text-align: right;\n",
       "    }\n",
       "</style>\n",
       "<table border=\"1\" class=\"dataframe\">\n",
       "  <thead>\n",
       "    <tr style=\"text-align: right;\">\n",
       "      <th></th>\n",
       "      <th>Student</th>\n",
       "      <th>Korean</th>\n",
       "      <th>English</th>\n",
       "    </tr>\n",
       "  </thead>\n",
       "  <tbody>\n",
       "  </tbody>\n",
       "</table>\n",
       "</div>"
      ],
      "text/plain": [
       "Empty DataFrame\n",
       "Columns: [Student, Korean, English]\n",
       "Index: []"
      ]
     },
     "execution_count": 28,
     "metadata": {},
     "output_type": "execute_result"
    }
   ],
   "source": [
    "pd.merge(df1, df2)"
   ]
  },
  {
   "cell_type": "code",
   "execution_count": 12,
   "metadata": {},
   "outputs": [
    {
     "data": {
      "text/html": [
       "<div>\n",
       "<style scoped>\n",
       "    .dataframe tbody tr th:only-of-type {\n",
       "        vertical-align: middle;\n",
       "    }\n",
       "\n",
       "    .dataframe tbody tr th {\n",
       "        vertical-align: top;\n",
       "    }\n",
       "\n",
       "    .dataframe thead th {\n",
       "        text-align: right;\n",
       "    }\n",
       "</style>\n",
       "<table border=\"1\" class=\"dataframe\">\n",
       "  <thead>\n",
       "    <tr style=\"text-align: right;\">\n",
       "      <th></th>\n",
       "      <th>Student</th>\n",
       "      <th>Korean</th>\n",
       "      <th>English</th>\n",
       "      <th>Math</th>\n",
       "    </tr>\n",
       "  </thead>\n",
       "  <tbody>\n",
       "    <tr>\n",
       "      <th>0</th>\n",
       "      <td>KimTaemin</td>\n",
       "      <td>90.0</td>\n",
       "      <td>80.0</td>\n",
       "      <td>33.0</td>\n",
       "    </tr>\n",
       "    <tr>\n",
       "      <th>1</th>\n",
       "      <td>HaJaehwa</td>\n",
       "      <td>85.0</td>\n",
       "      <td>90.0</td>\n",
       "      <td>NaN</td>\n",
       "    </tr>\n",
       "    <tr>\n",
       "      <th>2</th>\n",
       "      <td>JungSayoung</td>\n",
       "      <td>88.0</td>\n",
       "      <td>40.0</td>\n",
       "      <td>NaN</td>\n",
       "    </tr>\n",
       "    <tr>\n",
       "      <th>3</th>\n",
       "      <td>Sonjimin</td>\n",
       "      <td>35.0</td>\n",
       "      <td>44.0</td>\n",
       "      <td>NaN</td>\n",
       "    </tr>\n",
       "    <tr>\n",
       "      <th>4</th>\n",
       "      <td>Leesoomin</td>\n",
       "      <td>40.0</td>\n",
       "      <td>55.0</td>\n",
       "      <td>NaN</td>\n",
       "    </tr>\n",
       "    <tr>\n",
       "      <th>5</th>\n",
       "      <td>KangJun</td>\n",
       "      <td>44.0</td>\n",
       "      <td>90.0</td>\n",
       "      <td>NaN</td>\n",
       "    </tr>\n",
       "    <tr>\n",
       "      <th>6</th>\n",
       "      <td>Jiyoungmin</td>\n",
       "      <td>NaN</td>\n",
       "      <td>NaN</td>\n",
       "      <td>44.0</td>\n",
       "    </tr>\n",
       "  </tbody>\n",
       "</table>\n",
       "</div>"
      ],
      "text/plain": [
       "       Student  Korean  English  Math\n",
       "0    KimTaemin    90.0     80.0  33.0\n",
       "1     HaJaehwa    85.0     90.0   NaN\n",
       "2  JungSayoung    88.0     40.0   NaN\n",
       "3     Sonjimin    35.0     44.0   NaN\n",
       "4    Leesoomin    40.0     55.0   NaN\n",
       "5      KangJun    44.0     90.0   NaN\n",
       "6   Jiyoungmin     NaN      NaN  44.0"
      ]
     },
     "execution_count": 12,
     "metadata": {},
     "output_type": "execute_result"
    }
   ],
   "source": [
    "# 일부 행만 있더라도 전체 행을 합치는 경우, outer join사용 가능\n",
    "pd.merge(df1, df2, how='outer')"
   ]
  },
  {
   "cell_type": "code",
   "execution_count": 13,
   "metadata": {},
   "outputs": [
    {
     "data": {
      "text/html": [
       "<div>\n",
       "<style scoped>\n",
       "    .dataframe tbody tr th:only-of-type {\n",
       "        vertical-align: middle;\n",
       "    }\n",
       "\n",
       "    .dataframe tbody tr th {\n",
       "        vertical-align: top;\n",
       "    }\n",
       "\n",
       "    .dataframe thead th {\n",
       "        text-align: right;\n",
       "    }\n",
       "</style>\n",
       "<table border=\"1\" class=\"dataframe\">\n",
       "  <thead>\n",
       "    <tr style=\"text-align: right;\">\n",
       "      <th></th>\n",
       "      <th>Student_caller</th>\n",
       "      <th>Korean</th>\n",
       "      <th>English</th>\n",
       "      <th>Student_other</th>\n",
       "      <th>Math</th>\n",
       "    </tr>\n",
       "  </thead>\n",
       "  <tbody>\n",
       "    <tr>\n",
       "      <th>0</th>\n",
       "      <td>KimTaemin</td>\n",
       "      <td>90</td>\n",
       "      <td>80</td>\n",
       "      <td>Jiyoungmin</td>\n",
       "      <td>44.0</td>\n",
       "    </tr>\n",
       "    <tr>\n",
       "      <th>1</th>\n",
       "      <td>HaJaehwa</td>\n",
       "      <td>85</td>\n",
       "      <td>90</td>\n",
       "      <td>KimTaemin</td>\n",
       "      <td>33.0</td>\n",
       "    </tr>\n",
       "    <tr>\n",
       "      <th>2</th>\n",
       "      <td>JungSayoung</td>\n",
       "      <td>88</td>\n",
       "      <td>40</td>\n",
       "      <td>NaN</td>\n",
       "      <td>NaN</td>\n",
       "    </tr>\n",
       "    <tr>\n",
       "      <th>3</th>\n",
       "      <td>Sonjimin</td>\n",
       "      <td>35</td>\n",
       "      <td>44</td>\n",
       "      <td>NaN</td>\n",
       "      <td>NaN</td>\n",
       "    </tr>\n",
       "    <tr>\n",
       "      <th>4</th>\n",
       "      <td>Leesoomin</td>\n",
       "      <td>40</td>\n",
       "      <td>55</td>\n",
       "      <td>NaN</td>\n",
       "      <td>NaN</td>\n",
       "    </tr>\n",
       "    <tr>\n",
       "      <th>5</th>\n",
       "      <td>KangJun</td>\n",
       "      <td>44</td>\n",
       "      <td>90</td>\n",
       "      <td>NaN</td>\n",
       "      <td>NaN</td>\n",
       "    </tr>\n",
       "  </tbody>\n",
       "</table>\n",
       "</div>"
      ],
      "text/plain": [
       "  Student_caller  Korean  English Student_other  Math\n",
       "0      KimTaemin      90       80    Jiyoungmin  44.0\n",
       "1       HaJaehwa      85       90     KimTaemin  33.0\n",
       "2    JungSayoung      88       40           NaN   NaN\n",
       "3       Sonjimin      35       44           NaN   NaN\n",
       "4      Leesoomin      40       55           NaN   NaN\n",
       "5        KangJun      44       90           NaN   NaN"
      ]
     },
     "execution_count": 13,
     "metadata": {},
     "output_type": "execute_result"
    }
   ],
   "source": [
    "# pd.join()사용하여 합치기\n",
    "# '_caller'인 df1 컬럼이 왼쪽에 가도록 배치\n",
    "df1.join(df2, how='outer', lsuffix='_caller', rsuffix='_other')"
   ]
  },
  {
   "cell_type": "code",
   "execution_count": 23,
   "metadata": {},
   "outputs": [
    {
     "name": "stdout",
     "output_type": "stream",
     "text": [
      "       Student  Korean  English\n",
      "0    KimTaemin      90       80\n",
      "1     HaJaehwa      85       90\n",
      "2  JungSayoung      88       40\n",
      "3     Sonjimin      35       44\n",
      "4    Leesoomin      40       55\n",
      "5      KangJun      44       90\n",
      "--------------------------------\n",
      "      Student  Korean\n",
      "0  Jiyoungmin      44\n",
      "1      LeeJae      73\n",
      "2   KimJaehee     100\n"
     ]
    }
   ],
   "source": [
    "# pd.concat()사용하여 이어서 붙히기\n",
    "df1 = pd.DataFrame({'Student': ['KimTaemin','HaJaehwa','JungSayoung','Sonjimin','Leesoomin','KangJun'],\n",
    "                    'Korean': [90, 85, 88, 35, 40, 44],\n",
    "                    'English': [80, 90, 40, 44, 55, 90]})\n",
    "df2 = pd.DataFrame({'Student': ['Jiyoungmin','LeeJae','KimJaehee'],\n",
    "                    'Korean': [44,73,100]})\n",
    "\n",
    "print(df1)\n",
    "print('--------------------------------')\n",
    "print(df2)"
   ]
  },
  {
   "cell_type": "code",
   "execution_count": 24,
   "metadata": {},
   "outputs": [
    {
     "data": {
      "text/html": [
       "<div>\n",
       "<style scoped>\n",
       "    .dataframe tbody tr th:only-of-type {\n",
       "        vertical-align: middle;\n",
       "    }\n",
       "\n",
       "    .dataframe tbody tr th {\n",
       "        vertical-align: top;\n",
       "    }\n",
       "\n",
       "    .dataframe thead th {\n",
       "        text-align: right;\n",
       "    }\n",
       "</style>\n",
       "<table border=\"1\" class=\"dataframe\">\n",
       "  <thead>\n",
       "    <tr style=\"text-align: right;\">\n",
       "      <th></th>\n",
       "      <th>Student</th>\n",
       "      <th>Korean</th>\n",
       "      <th>English</th>\n",
       "    </tr>\n",
       "  </thead>\n",
       "  <tbody>\n",
       "    <tr>\n",
       "      <th>0</th>\n",
       "      <td>KimTaemin</td>\n",
       "      <td>90</td>\n",
       "      <td>80.0</td>\n",
       "    </tr>\n",
       "    <tr>\n",
       "      <th>1</th>\n",
       "      <td>HaJaehwa</td>\n",
       "      <td>85</td>\n",
       "      <td>90.0</td>\n",
       "    </tr>\n",
       "    <tr>\n",
       "      <th>2</th>\n",
       "      <td>JungSayoung</td>\n",
       "      <td>88</td>\n",
       "      <td>40.0</td>\n",
       "    </tr>\n",
       "    <tr>\n",
       "      <th>3</th>\n",
       "      <td>Sonjimin</td>\n",
       "      <td>35</td>\n",
       "      <td>44.0</td>\n",
       "    </tr>\n",
       "    <tr>\n",
       "      <th>4</th>\n",
       "      <td>Leesoomin</td>\n",
       "      <td>40</td>\n",
       "      <td>55.0</td>\n",
       "    </tr>\n",
       "    <tr>\n",
       "      <th>5</th>\n",
       "      <td>KangJun</td>\n",
       "      <td>44</td>\n",
       "      <td>90.0</td>\n",
       "    </tr>\n",
       "    <tr>\n",
       "      <th>0</th>\n",
       "      <td>Jiyoungmin</td>\n",
       "      <td>44</td>\n",
       "      <td>NaN</td>\n",
       "    </tr>\n",
       "    <tr>\n",
       "      <th>1</th>\n",
       "      <td>LeeJae</td>\n",
       "      <td>73</td>\n",
       "      <td>NaN</td>\n",
       "    </tr>\n",
       "    <tr>\n",
       "      <th>2</th>\n",
       "      <td>KimJaehee</td>\n",
       "      <td>100</td>\n",
       "      <td>NaN</td>\n",
       "    </tr>\n",
       "  </tbody>\n",
       "</table>\n",
       "</div>"
      ],
      "text/plain": [
       "       Student  Korean  English\n",
       "0    KimTaemin      90     80.0\n",
       "1     HaJaehwa      85     90.0\n",
       "2  JungSayoung      88     40.0\n",
       "3     Sonjimin      35     44.0\n",
       "4    Leesoomin      40     55.0\n",
       "5      KangJun      44     90.0\n",
       "0   Jiyoungmin      44      NaN\n",
       "1       LeeJae      73      NaN\n",
       "2    KimJaehee     100      NaN"
      ]
     },
     "execution_count": 24,
     "metadata": {},
     "output_type": "execute_result"
    }
   ],
   "source": [
    "pd.concat([df1, df2], sort=False)"
   ]
  },
  {
   "cell_type": "code",
   "execution_count": 25,
   "metadata": {},
   "outputs": [
    {
     "data": {
      "text/html": [
       "<div>\n",
       "<style scoped>\n",
       "    .dataframe tbody tr th:only-of-type {\n",
       "        vertical-align: middle;\n",
       "    }\n",
       "\n",
       "    .dataframe tbody tr th {\n",
       "        vertical-align: top;\n",
       "    }\n",
       "\n",
       "    .dataframe thead th {\n",
       "        text-align: right;\n",
       "    }\n",
       "</style>\n",
       "<table border=\"1\" class=\"dataframe\">\n",
       "  <thead>\n",
       "    <tr style=\"text-align: right;\">\n",
       "      <th></th>\n",
       "      <th>Student</th>\n",
       "      <th>Korean</th>\n",
       "      <th>English</th>\n",
       "    </tr>\n",
       "  </thead>\n",
       "  <tbody>\n",
       "    <tr>\n",
       "      <th>0</th>\n",
       "      <td>KimTaemin</td>\n",
       "      <td>90</td>\n",
       "      <td>80.0</td>\n",
       "    </tr>\n",
       "    <tr>\n",
       "      <th>1</th>\n",
       "      <td>HaJaehwa</td>\n",
       "      <td>85</td>\n",
       "      <td>90.0</td>\n",
       "    </tr>\n",
       "    <tr>\n",
       "      <th>2</th>\n",
       "      <td>JungSayoung</td>\n",
       "      <td>88</td>\n",
       "      <td>40.0</td>\n",
       "    </tr>\n",
       "    <tr>\n",
       "      <th>3</th>\n",
       "      <td>Sonjimin</td>\n",
       "      <td>35</td>\n",
       "      <td>44.0</td>\n",
       "    </tr>\n",
       "    <tr>\n",
       "      <th>4</th>\n",
       "      <td>Leesoomin</td>\n",
       "      <td>40</td>\n",
       "      <td>55.0</td>\n",
       "    </tr>\n",
       "    <tr>\n",
       "      <th>5</th>\n",
       "      <td>KangJun</td>\n",
       "      <td>44</td>\n",
       "      <td>90.0</td>\n",
       "    </tr>\n",
       "    <tr>\n",
       "      <th>6</th>\n",
       "      <td>Jiyoungmin</td>\n",
       "      <td>44</td>\n",
       "      <td>NaN</td>\n",
       "    </tr>\n",
       "    <tr>\n",
       "      <th>7</th>\n",
       "      <td>LeeJae</td>\n",
       "      <td>73</td>\n",
       "      <td>NaN</td>\n",
       "    </tr>\n",
       "    <tr>\n",
       "      <th>8</th>\n",
       "      <td>KimJaehee</td>\n",
       "      <td>100</td>\n",
       "      <td>NaN</td>\n",
       "    </tr>\n",
       "  </tbody>\n",
       "</table>\n",
       "</div>"
      ],
      "text/plain": [
       "       Student  Korean  English\n",
       "0    KimTaemin      90     80.0\n",
       "1     HaJaehwa      85     90.0\n",
       "2  JungSayoung      88     40.0\n",
       "3     Sonjimin      35     44.0\n",
       "4    Leesoomin      40     55.0\n",
       "5      KangJun      44     90.0\n",
       "6   Jiyoungmin      44      NaN\n",
       "7       LeeJae      73      NaN\n",
       "8    KimJaehee     100      NaN"
      ]
     },
     "execution_count": 25,
     "metadata": {},
     "output_type": "execute_result"
    }
   ],
   "source": [
    "# 기존 인덱스 무시하고 순서대로 지정\n",
    "pd.concat([df1, df2], sort=False, ignore_index=True)"
   ]
  },
  {
   "cell_type": "code",
   "execution_count": 29,
   "metadata": {},
   "outputs": [
    {
     "data": {
      "text/html": [
       "<div>\n",
       "<style scoped>\n",
       "    .dataframe tbody tr th:only-of-type {\n",
       "        vertical-align: middle;\n",
       "    }\n",
       "\n",
       "    .dataframe tbody tr th {\n",
       "        vertical-align: top;\n",
       "    }\n",
       "\n",
       "    .dataframe thead th {\n",
       "        text-align: right;\n",
       "    }\n",
       "</style>\n",
       "<table border=\"1\" class=\"dataframe\">\n",
       "  <thead>\n",
       "    <tr style=\"text-align: right;\">\n",
       "      <th></th>\n",
       "      <th>A</th>\n",
       "      <th>B</th>\n",
       "      <th>C</th>\n",
       "    </tr>\n",
       "  </thead>\n",
       "  <tbody>\n",
       "    <tr>\n",
       "      <th>0</th>\n",
       "      <td>1</td>\n",
       "      <td>2</td>\n",
       "      <td>3</td>\n",
       "    </tr>\n",
       "    <tr>\n",
       "      <th>1</th>\n",
       "      <td>4</td>\n",
       "      <td>5</td>\n",
       "      <td>6</td>\n",
       "    </tr>\n",
       "    <tr>\n",
       "      <th>2</th>\n",
       "      <td>7</td>\n",
       "      <td>8</td>\n",
       "      <td>9</td>\n",
       "    </tr>\n",
       "  </tbody>\n",
       "</table>\n",
       "</div>"
      ],
      "text/plain": [
       "   A  B  C\n",
       "0  1  2  3\n",
       "1  4  5  6\n",
       "2  7  8  9"
      ]
     },
     "execution_count": 29,
     "metadata": {},
     "output_type": "execute_result"
    }
   ],
   "source": [
    "# pandas는 데이터 필터링 가능, index 존재\n",
    "df = pd.DataFrame({\"A\": [1,4,7], \"B\": [2,5,8], \"C\":[3,6,9]})\n",
    "\n",
    "df"
   ]
  },
  {
   "cell_type": "code",
   "execution_count": 30,
   "metadata": {},
   "outputs": [
    {
     "data": {
      "text/plain": [
       "0    1\n",
       "1    4\n",
       "2    7\n",
       "Name: A, dtype: int64"
      ]
     },
     "execution_count": 30,
     "metadata": {},
     "output_type": "execute_result"
    }
   ],
   "source": [
    "df['A']"
   ]
  },
  {
   "cell_type": "code",
   "execution_count": 41,
   "metadata": {},
   "outputs": [
    {
     "name": "stdout",
     "output_type": "stream",
     "text": [
      "A    1\n",
      "B    2\n",
      "C    3\n",
      "Name: 0, dtype: int64\n",
      "A    4\n",
      "B    5\n",
      "C    6\n",
      "Name: 1, dtype: int64 \n",
      "\n",
      "2 \n",
      "\n",
      "0    1\n",
      "1    4\n",
      "2    7\n",
      "Name: A, dtype: int64\n"
     ]
    }
   ],
   "source": [
    "# loc()은 라벨을 사용하여 행 또는 열을 지정\n",
    "# df.loc[[행],[열]]\n",
    "print(df.loc[0])\n",
    "print(df.loc[1], '\\n')\n",
    "print(df.loc[0, 'B'], '\\n')\n",
    "print(df.loc[:, 'A'])"
   ]
  },
  {
   "cell_type": "code",
   "execution_count": 45,
   "metadata": {},
   "outputs": [
    {
     "name": "stdout",
     "output_type": "stream",
     "text": [
      "A    1\n",
      "B    2\n",
      "C    3\n",
      "Name: 0, dtype: int64\n",
      "A    4\n",
      "B    5\n",
      "C    6\n",
      "Name: 1, dtype: int64 \n",
      "\n",
      "2 \n",
      "\n",
      "0    1\n",
      "1    4\n",
      "2    7\n",
      "Name: A, dtype: int64\n"
     ]
    }
   ],
   "source": [
    "# iloc()은 정수 인덱스를 사용하여 행 또는 열을 지정\n",
    "# df.iloc[[행],[열]]\n",
    "print(df.iloc[0])\n",
    "print(df.iloc[1], '\\n')\n",
    "print(df.iloc[0, 1], '\\n')\n",
    "print(df.iloc[:, 0])"
   ]
  },
  {
   "cell_type": "code",
   "execution_count": 46,
   "metadata": {},
   "outputs": [
    {
     "data": {
      "text/html": [
       "<div>\n",
       "<style scoped>\n",
       "    .dataframe tbody tr th:only-of-type {\n",
       "        vertical-align: middle;\n",
       "    }\n",
       "\n",
       "    .dataframe tbody tr th {\n",
       "        vertical-align: top;\n",
       "    }\n",
       "\n",
       "    .dataframe thead th {\n",
       "        text-align: right;\n",
       "    }\n",
       "</style>\n",
       "<table border=\"1\" class=\"dataframe\">\n",
       "  <thead>\n",
       "    <tr style=\"text-align: right;\">\n",
       "      <th></th>\n",
       "      <th>Columns1</th>\n",
       "      <th>Columns2</th>\n",
       "    </tr>\n",
       "  </thead>\n",
       "  <tbody>\n",
       "    <tr>\n",
       "      <th>0</th>\n",
       "      <td>A</td>\n",
       "      <td>10</td>\n",
       "    </tr>\n",
       "    <tr>\n",
       "      <th>1</th>\n",
       "      <td>A</td>\n",
       "      <td>2</td>\n",
       "    </tr>\n",
       "    <tr>\n",
       "      <th>2</th>\n",
       "      <td>B</td>\n",
       "      <td>30</td>\n",
       "    </tr>\n",
       "    <tr>\n",
       "      <th>3</th>\n",
       "      <td>B</td>\n",
       "      <td>-6</td>\n",
       "    </tr>\n",
       "    <tr>\n",
       "      <th>4</th>\n",
       "      <td>C</td>\n",
       "      <td>8</td>\n",
       "    </tr>\n",
       "    <tr>\n",
       "      <th>5</th>\n",
       "      <td>C</td>\n",
       "      <td>9</td>\n",
       "    </tr>\n",
       "    <tr>\n",
       "      <th>6</th>\n",
       "      <td>A</td>\n",
       "      <td>5</td>\n",
       "    </tr>\n",
       "    <tr>\n",
       "      <th>7</th>\n",
       "      <td>B</td>\n",
       "      <td>2</td>\n",
       "    </tr>\n",
       "  </tbody>\n",
       "</table>\n",
       "</div>"
      ],
      "text/plain": [
       "  Columns1  Columns2\n",
       "0        A        10\n",
       "1        A         2\n",
       "2        B        30\n",
       "3        B        -6\n",
       "4        C         8\n",
       "5        C         9\n",
       "6        A         5\n",
       "7        B         2"
      ]
     },
     "execution_count": 46,
     "metadata": {},
     "output_type": "execute_result"
    }
   ],
   "source": [
    "# 그룹연산 : groupby(), apply()\n",
    "# 기준이 되는 컬럼(key)로 그룹화시킨다.\n",
    "df = pd.DataFrame({'Columns1':['A','A','B','B','C','C','A','B'],\n",
    "                   'Columns2':[10, 2, 30, -6, 8, 9, 5, 2]})\n",
    "\n",
    "df"
   ]
  },
  {
   "cell_type": "code",
   "execution_count": 60,
   "metadata": {},
   "outputs": [
    {
     "data": {
      "text/html": [
       "<div>\n",
       "<style scoped>\n",
       "    .dataframe tbody tr th:only-of-type {\n",
       "        vertical-align: middle;\n",
       "    }\n",
       "\n",
       "    .dataframe tbody tr th {\n",
       "        vertical-align: top;\n",
       "    }\n",
       "\n",
       "    .dataframe thead th {\n",
       "        text-align: right;\n",
       "    }\n",
       "</style>\n",
       "<table border=\"1\" class=\"dataframe\">\n",
       "  <thead>\n",
       "    <tr style=\"text-align: right;\">\n",
       "      <th></th>\n",
       "      <th>Columns2</th>\n",
       "    </tr>\n",
       "    <tr>\n",
       "      <th>Columns1</th>\n",
       "      <th></th>\n",
       "    </tr>\n",
       "  </thead>\n",
       "  <tbody>\n",
       "    <tr>\n",
       "      <th>A</th>\n",
       "      <td>10</td>\n",
       "    </tr>\n",
       "    <tr>\n",
       "      <th>B</th>\n",
       "      <td>30</td>\n",
       "    </tr>\n",
       "    <tr>\n",
       "      <th>C</th>\n",
       "      <td>9</td>\n",
       "    </tr>\n",
       "  </tbody>\n",
       "</table>\n",
       "</div>"
      ],
      "text/plain": [
       "          Columns2\n",
       "Columns1          \n",
       "A               10\n",
       "B               30\n",
       "C                9"
      ]
     },
     "execution_count": 60,
     "metadata": {},
     "output_type": "execute_result"
    }
   ],
   "source": [
    "# max(), min(), sum(), mean()\n",
    "df.groupby('Columns1').max()"
   ]
  },
  {
   "cell_type": "code",
   "execution_count": 59,
   "metadata": {},
   "outputs": [
    {
     "data": {
      "text/html": [
       "<div>\n",
       "<style scoped>\n",
       "    .dataframe tbody tr th:only-of-type {\n",
       "        vertical-align: middle;\n",
       "    }\n",
       "\n",
       "    .dataframe tbody tr th {\n",
       "        vertical-align: top;\n",
       "    }\n",
       "\n",
       "    .dataframe thead th {\n",
       "        text-align: right;\n",
       "    }\n",
       "</style>\n",
       "<table border=\"1\" class=\"dataframe\">\n",
       "  <thead>\n",
       "    <tr style=\"text-align: right;\">\n",
       "      <th></th>\n",
       "      <th>Columns2</th>\n",
       "    </tr>\n",
       "    <tr>\n",
       "      <th>Columns1</th>\n",
       "      <th></th>\n",
       "    </tr>\n",
       "  </thead>\n",
       "  <tbody>\n",
       "    <tr>\n",
       "      <th>A</th>\n",
       "      <td>3.162278</td>\n",
       "    </tr>\n",
       "    <tr>\n",
       "      <th>B</th>\n",
       "      <td>5.477226</td>\n",
       "    </tr>\n",
       "    <tr>\n",
       "      <th>C</th>\n",
       "      <td>3.000000</td>\n",
       "    </tr>\n",
       "  </tbody>\n",
       "</table>\n",
       "</div>"
      ],
      "text/plain": [
       "          Columns2\n",
       "Columns1          \n",
       "A         3.162278\n",
       "B         5.477226\n",
       "C         3.000000"
      ]
     },
     "execution_count": 59,
     "metadata": {},
     "output_type": "execute_result"
    }
   ],
   "source": [
    "# apply()을 사용하여 특수 수식에 대한 연산 수행 가능\n",
    "import numpy as  np\n",
    "df.groupby(['Columns1']).max().apply(np.sqrt)"
   ]
  },
  {
   "cell_type": "markdown",
   "metadata": {},
   "source": [
    "## Pandas Transform"
   ]
  },
  {
   "cell_type": "code",
   "execution_count": 61,
   "metadata": {},
   "outputs": [
    {
     "name": "stderr",
     "output_type": "stream",
     "text": [
      "/home/aiffel0042/anaconda3/envs/aiffel/lib/python3.7/site-packages/IPython/core/interactiveshell.py:3072: DtypeWarning: Columns (12) have mixed types.Specify dtype option on import or set low_memory=False.\n",
      "  interactivity=interactivity, compiler=compiler, result=result)\n"
     ]
    }
   ],
   "source": [
    "import pandas as pd\n",
    "import numpy as np\n",
    "\n",
    "file_path = os.getenv(\"HOME\") + '/aiffel/data_handling/data/Salaries.csv'\n",
    "sal = pd.read_csv(file_path)"
   ]
  },
  {
   "cell_type": "code",
   "execution_count": 103,
   "metadata": {},
   "outputs": [
    {
     "data": {
      "text/html": [
       "<div>\n",
       "<style scoped>\n",
       "    .dataframe tbody tr th:only-of-type {\n",
       "        vertical-align: middle;\n",
       "    }\n",
       "\n",
       "    .dataframe tbody tr th {\n",
       "        vertical-align: top;\n",
       "    }\n",
       "\n",
       "    .dataframe thead th {\n",
       "        text-align: right;\n",
       "    }\n",
       "</style>\n",
       "<table border=\"1\" class=\"dataframe\">\n",
       "  <thead>\n",
       "    <tr style=\"text-align: right;\">\n",
       "      <th></th>\n",
       "      <th>Id</th>\n",
       "      <th>EmployeeName</th>\n",
       "      <th>JobTitle</th>\n",
       "      <th>BasePay</th>\n",
       "      <th>OvertimePay</th>\n",
       "      <th>OtherPay</th>\n",
       "      <th>Benefits</th>\n",
       "      <th>TotalPay</th>\n",
       "      <th>TotalPayBenefits</th>\n",
       "      <th>Year</th>\n",
       "      <th>Notes</th>\n",
       "      <th>Agency</th>\n",
       "      <th>Status</th>\n",
       "    </tr>\n",
       "  </thead>\n",
       "  <tbody>\n",
       "    <tr>\n",
       "      <th>148640</th>\n",
       "      <td>148641</td>\n",
       "      <td>Charlene D Mccully</td>\n",
       "      <td>Parking Control Officer</td>\n",
       "      <td>0.0</td>\n",
       "      <td>0.0</td>\n",
       "      <td>0.0</td>\n",
       "      <td>0.0</td>\n",
       "      <td>0.0</td>\n",
       "      <td>0.0</td>\n",
       "      <td>2014</td>\n",
       "      <td>NaN</td>\n",
       "      <td>San Francisco</td>\n",
       "      <td>PT</td>\n",
       "    </tr>\n",
       "    <tr>\n",
       "      <th>148641</th>\n",
       "      <td>148642</td>\n",
       "      <td>Raphael Marquis Goins</td>\n",
       "      <td>Museum Guard</td>\n",
       "      <td>0.0</td>\n",
       "      <td>0.0</td>\n",
       "      <td>0.0</td>\n",
       "      <td>0.0</td>\n",
       "      <td>0.0</td>\n",
       "      <td>0.0</td>\n",
       "      <td>2014</td>\n",
       "      <td>NaN</td>\n",
       "      <td>San Francisco</td>\n",
       "      <td>PT</td>\n",
       "    </tr>\n",
       "    <tr>\n",
       "      <th>148642</th>\n",
       "      <td>148643</td>\n",
       "      <td>Dominic C Marquez</td>\n",
       "      <td>Sign Worker</td>\n",
       "      <td>0.0</td>\n",
       "      <td>0.0</td>\n",
       "      <td>0.0</td>\n",
       "      <td>0.0</td>\n",
       "      <td>0.0</td>\n",
       "      <td>0.0</td>\n",
       "      <td>2014</td>\n",
       "      <td>NaN</td>\n",
       "      <td>San Francisco</td>\n",
       "      <td>PT</td>\n",
       "    </tr>\n",
       "    <tr>\n",
       "      <th>148643</th>\n",
       "      <td>148644</td>\n",
       "      <td>Kim Brewer</td>\n",
       "      <td>Parking Control Officer</td>\n",
       "      <td>0.0</td>\n",
       "      <td>0.0</td>\n",
       "      <td>0.0</td>\n",
       "      <td>0.0</td>\n",
       "      <td>0.0</td>\n",
       "      <td>0.0</td>\n",
       "      <td>2014</td>\n",
       "      <td>NaN</td>\n",
       "      <td>San Francisco</td>\n",
       "      <td>PT</td>\n",
       "    </tr>\n",
       "    <tr>\n",
       "      <th>148644</th>\n",
       "      <td>148645</td>\n",
       "      <td>Randy D Winn</td>\n",
       "      <td>Stationary Eng, Sewage Plant</td>\n",
       "      <td>0.0</td>\n",
       "      <td>0.0</td>\n",
       "      <td>0.0</td>\n",
       "      <td>0.0</td>\n",
       "      <td>0.0</td>\n",
       "      <td>0.0</td>\n",
       "      <td>2014</td>\n",
       "      <td>NaN</td>\n",
       "      <td>San Francisco</td>\n",
       "      <td>PT</td>\n",
       "    </tr>\n",
       "  </tbody>\n",
       "</table>\n",
       "</div>"
      ],
      "text/plain": [
       "            Id           EmployeeName                      JobTitle  BasePay  \\\n",
       "148640  148641     Charlene D Mccully       Parking Control Officer      0.0   \n",
       "148641  148642  Raphael Marquis Goins                  Museum Guard      0.0   \n",
       "148642  148643      Dominic C Marquez                   Sign Worker      0.0   \n",
       "148643  148644             Kim Brewer       Parking Control Officer      0.0   \n",
       "148644  148645           Randy D Winn  Stationary Eng, Sewage Plant      0.0   \n",
       "\n",
       "        OvertimePay  OtherPay  Benefits  TotalPay  TotalPayBenefits  Year  \\\n",
       "148640          0.0       0.0       0.0       0.0               0.0  2014   \n",
       "148641          0.0       0.0       0.0       0.0               0.0  2014   \n",
       "148642          0.0       0.0       0.0       0.0               0.0  2014   \n",
       "148643          0.0       0.0       0.0       0.0               0.0  2014   \n",
       "148644          0.0       0.0       0.0       0.0               0.0  2014   \n",
       "\n",
       "        Notes         Agency Status  \n",
       "148640    NaN  San Francisco     PT  \n",
       "148641    NaN  San Francisco     PT  \n",
       "148642    NaN  San Francisco     PT  \n",
       "148643    NaN  San Francisco     PT  \n",
       "148644    NaN  San Francisco     PT  "
      ]
     },
     "execution_count": 103,
     "metadata": {},
     "output_type": "execute_result"
    }
   ],
   "source": [
    "sal.tail()"
   ]
  },
  {
   "cell_type": "code",
   "execution_count": 72,
   "metadata": {},
   "outputs": [
    {
     "data": {
      "text/plain": [
       "66327.6889596918"
      ]
     },
     "execution_count": 72,
     "metadata": {},
     "output_type": "execute_result"
    }
   ],
   "source": [
    "sal['BasePay'].mean()"
   ]
  },
  {
   "cell_type": "code",
   "execution_count": 73,
   "metadata": {},
   "outputs": [
    {
     "data": {
      "text/plain": [
       "245131.88"
      ]
     },
     "execution_count": 73,
     "metadata": {},
     "output_type": "execute_result"
    }
   ],
   "source": [
    "sal['OvertimePay'].max()"
   ]
  },
  {
   "cell_type": "code",
   "execution_count": 89,
   "metadata": {},
   "outputs": [
    {
     "data": {
      "text/plain": [
       "24    CAPTAIN, FIRE SUPPRESSION\n",
       "Name: JobTitle, dtype: object"
      ]
     },
     "execution_count": 89,
     "metadata": {},
     "output_type": "execute_result"
    }
   ],
   "source": [
    "sal[sal['EmployeeName'] == 'JOSEPH DRISCOLL']['JobTitle']"
   ]
  },
  {
   "cell_type": "code",
   "execution_count": 101,
   "metadata": {},
   "outputs": [
    {
     "data": {
      "text/plain": [
       "24    270324.91\n",
       "Name: TotalPayBenefits, dtype: float64"
      ]
     },
     "execution_count": 101,
     "metadata": {},
     "output_type": "execute_result"
    }
   ],
   "source": [
    "sal[sal['EmployeeName'] == 'JOSEPH DRISCOLL']['TotalPayBenefits']"
   ]
  },
  {
   "cell_type": "code",
   "execution_count": 108,
   "metadata": {},
   "outputs": [
    {
     "data": {
      "text/plain": [
       "0    NATHANIEL FORD\n",
       "Name: EmployeeName, dtype: object"
      ]
     },
     "execution_count": 108,
     "metadata": {},
     "output_type": "execute_result"
    }
   ],
   "source": [
    "sal[sal['TotalPayBenefits'] == sal['TotalPayBenefits'].max()]['EmployeeName']"
   ]
  },
  {
   "cell_type": "code",
   "execution_count": 109,
   "metadata": {},
   "outputs": [
    {
     "data": {
      "text/plain": [
       "110530    David P Kucia\n",
       "Name: EmployeeName, dtype: object"
      ]
     },
     "execution_count": 109,
     "metadata": {},
     "output_type": "execute_result"
    }
   ],
   "source": [
    "sal[sal['TotalPayBenefits'] == sal['TotalPayBenefits'].min()]['EmployeeName']"
   ]
  },
  {
   "cell_type": "code",
   "execution_count": 112,
   "metadata": {},
   "outputs": [
    {
     "data": {
      "text/plain": [
       "Year\n",
       "2011    63595.956517\n",
       "2012    65436.406857\n",
       "2013    69630.030216\n",
       "2014    66573.154204\n",
       "Name: BasePay, dtype: float64"
      ]
     },
     "execution_count": 112,
     "metadata": {},
     "output_type": "execute_result"
    }
   ],
   "source": [
    "sal.groupby('Year').mean()['BasePay']"
   ]
  },
  {
   "cell_type": "code",
   "execution_count": 116,
   "metadata": {},
   "outputs": [
    {
     "data": {
      "text/plain": [
       "2158"
      ]
     },
     "execution_count": 116,
     "metadata": {},
     "output_type": "execute_result"
    }
   ],
   "source": [
    "sal['JobTitle'].nunique()"
   ]
  },
  {
   "cell_type": "code",
   "execution_count": 133,
   "metadata": {},
   "outputs": [
    {
     "data": {
      "text/plain": [
       "Transit Operator                7036\n",
       "Special Nurse                   4389\n",
       "Registered Nurse                3736\n",
       "Public Svc Aide-Public Works    2518\n",
       "Police Officer 3                2421\n",
       "Name: JobTitle, dtype: int64"
      ]
     },
     "execution_count": 133,
     "metadata": {},
     "output_type": "execute_result"
    }
   ],
   "source": [
    "sal['JobTitle'].value_counts().head()"
   ]
  },
  {
   "cell_type": "code",
   "execution_count": 146,
   "metadata": {},
   "outputs": [
    {
     "data": {
      "text/plain": [
       "477"
      ]
     },
     "execution_count": 146,
     "metadata": {},
     "output_type": "execute_result"
    }
   ],
   "source": [
    "def chief_string(str):\n",
    "    if 'chief' in str.lower().split():\n",
    "        return True\n",
    "    else:\n",
    "        return False\n",
    "    \n",
    "sum(sal['JobTitle'].apply(lambda x: chief_string(x)))"
   ]
  },
  {
   "cell_type": "markdown",
   "metadata": {},
   "source": [
    "## 데이터베이스와 python"
   ]
  },
  {
   "cell_type": "code",
   "execution_count": 148,
   "metadata": {},
   "outputs": [],
   "source": [
    "# db에 접속할 수 있는 모듈을 불러오기\n",
    "# splite3 접속하기\n",
    "\n",
    "#import sqlite3\n",
    "#conn = sqlite3.connect('example.db')\n",
    "\n",
    "# mysql 접속하기\n",
    "# import MySQLdb\n",
    "# conn = MySQLdb.connect(host='localhost', port=3308, db='example.db', user='root',\n",
    "# passwd='1234')\n",
    "\n",
    "# 커서 객체 만들기\n",
    "#c = conn.cursor()\n",
    "\n",
    "# 쿼리 명령어\n",
    "# Create table\n",
    "#c.execute('''CREATE TABLE stocks\n",
    "#             (date text, trans text, symbol text, qty real, price real)''')\n",
    "\n",
    "# Insert a row of data\n",
    "#c.execute(\"INSERT INTO stocks VALUES ('2006-01-05','BUY','RHAT',100,35.14)\")\n",
    "\n",
    "# db에 반영하기\n",
    "#conn.commit()\n",
    "\n",
    "# db연결 종료하기\n",
    "#conn.close()"
   ]
  },
  {
   "cell_type": "code",
   "execution_count": 151,
   "metadata": {},
   "outputs": [],
   "source": [
    "import sqlite3\n",
    "\n",
    "# 메모리에 SQLite3DB만들기\n",
    "conn = sqlite3.connect(':memory:')\n",
    "query = \"\"\"CREATE TABLE sales\n",
    "            (product VARCHAR(20),\n",
    "            maker VARCHAR(40),\n",
    "            amount FLOAT,\n",
    "            date DATE);\"\"\"\n",
    "conn.execute(query)\n",
    "conn.commit()"
   ]
  },
  {
   "cell_type": "code",
   "execution_count": 152,
   "metadata": {},
   "outputs": [],
   "source": [
    "# sales테이블에 데이터 입력하기\n",
    "data = [('smart phone', 'Apple', '47.2', '2019-08-03'),\n",
    "        ('printer', 'Samsung', '15.2', '2018-02-10',),\n",
    "        ('monitor', 'LG', '14.25', '2019-12-20'),\n",
    "        ('python book', 'Amazon', '12.40', '2020-01-23')]\n",
    "statement = \"INSERT INTO sales VALUES(?, ?, ?, ?)\"\n",
    "conn.executemany(statement, data)\n",
    "conn.commit()"
   ]
  },
  {
   "cell_type": "code",
   "execution_count": 153,
   "metadata": {},
   "outputs": [],
   "source": [
    "# sales테이블에 질의하기\n",
    "cursor = conn.execute(\"SELECT * FROM sales\")\n",
    "rows = cursor.fetchall()"
   ]
  },
  {
   "cell_type": "code",
   "execution_count": 154,
   "metadata": {},
   "outputs": [
    {
     "name": "stdout",
     "output_type": "stream",
     "text": [
      "('smart phone', 'Apple', 47.2, '2019-08-03')\n",
      "('printer', 'Samsung', 15.2, '2018-02-10')\n",
      "('monitor', 'LG', 14.25, '2019-12-20')\n",
      "('python book', 'Amazon', 12.4, '2020-01-23')\n",
      "Number of rows: 4\n"
     ]
    }
   ],
   "source": [
    "# 데이터 처리하기\n",
    "row_counter = 0\n",
    "for row in rows:\n",
    "    print(row)\n",
    "    row_counter +=1\n",
    "\n",
    "print(\"Number of rows: {}\".format(row_counter))"
   ]
  },
  {
   "cell_type": "code",
   "execution_count": null,
   "metadata": {},
   "outputs": [],
   "source": []
  }
 ],
 "metadata": {
  "kernelspec": {
   "display_name": "aiffel",
   "language": "python",
   "name": "aiffel"
  },
  "language_info": {
   "codemirror_mode": {
    "name": "ipython",
    "version": 3
   },
   "file_extension": ".py",
   "mimetype": "text/x-python",
   "name": "python",
   "nbconvert_exporter": "python",
   "pygments_lexer": "ipython3",
   "version": "3.7.6"
  }
 },
 "nbformat": 4,
 "nbformat_minor": 4
}
