{
 "cells": [
  {
   "cell_type": "markdown",
   "metadata": {},
   "source": [
    "## E09 - movie review sentiment analysis"
   ]
  },
  {
   "cell_type": "code",
   "execution_count": 1,
   "metadata": {},
   "outputs": [
    {
     "data": {
      "text/html": [
       "<div>\n",
       "<style scoped>\n",
       "    .dataframe tbody tr th:only-of-type {\n",
       "        vertical-align: middle;\n",
       "    }\n",
       "\n",
       "    .dataframe tbody tr th {\n",
       "        vertical-align: top;\n",
       "    }\n",
       "\n",
       "    .dataframe thead th {\n",
       "        text-align: right;\n",
       "    }\n",
       "</style>\n",
       "<table border=\"1\" class=\"dataframe\">\n",
       "  <thead>\n",
       "    <tr style=\"text-align: right;\">\n",
       "      <th></th>\n",
       "      <th>id</th>\n",
       "      <th>document</th>\n",
       "      <th>label</th>\n",
       "    </tr>\n",
       "  </thead>\n",
       "  <tbody>\n",
       "    <tr>\n",
       "      <th>0</th>\n",
       "      <td>9976970</td>\n",
       "      <td>아 더빙.. 진짜 짜증나네요 목소리</td>\n",
       "      <td>0</td>\n",
       "    </tr>\n",
       "    <tr>\n",
       "      <th>1</th>\n",
       "      <td>3819312</td>\n",
       "      <td>흠...포스터보고 초딩영화줄....오버연기조차 가볍지 않구나</td>\n",
       "      <td>1</td>\n",
       "    </tr>\n",
       "    <tr>\n",
       "      <th>2</th>\n",
       "      <td>10265843</td>\n",
       "      <td>너무재밓었다그래서보는것을추천한다</td>\n",
       "      <td>0</td>\n",
       "    </tr>\n",
       "    <tr>\n",
       "      <th>3</th>\n",
       "      <td>9045019</td>\n",
       "      <td>교도소 이야기구먼 ..솔직히 재미는 없다..평점 조정</td>\n",
       "      <td>0</td>\n",
       "    </tr>\n",
       "    <tr>\n",
       "      <th>4</th>\n",
       "      <td>6483659</td>\n",
       "      <td>사이몬페그의 익살스런 연기가 돋보였던 영화!스파이더맨에서 늙어보이기만 했던 커스틴 ...</td>\n",
       "      <td>1</td>\n",
       "    </tr>\n",
       "  </tbody>\n",
       "</table>\n",
       "</div>"
      ],
      "text/plain": [
       "         id                                           document  label\n",
       "0   9976970                                아 더빙.. 진짜 짜증나네요 목소리      0\n",
       "1   3819312                  흠...포스터보고 초딩영화줄....오버연기조차 가볍지 않구나      1\n",
       "2  10265843                                  너무재밓었다그래서보는것을추천한다      0\n",
       "3   9045019                      교도소 이야기구먼 ..솔직히 재미는 없다..평점 조정      0\n",
       "4   6483659  사이몬페그의 익살스런 연기가 돋보였던 영화!스파이더맨에서 늙어보이기만 했던 커스틴 ...      1"
      ]
     },
     "execution_count": 1,
     "metadata": {},
     "output_type": "execute_result"
    }
   ],
   "source": [
    "import pandas as pd\n",
    "import urllib.request\n",
    "%matplotlib inline\n",
    "import matplotlib.pyplot as plt\n",
    "import re\n",
    "from konlpy.tag import Okt\n",
    "from tensorflow import keras\n",
    "from tensorflow.keras.preprocessing.text import Tokenizer\n",
    "import numpy as np\n",
    "from tensorflow.keras.preprocessing.sequence import pad_sequences\n",
    "from collections import Counter\n",
    "\n",
    "# 데이터를 읽어봅시다. \n",
    "train_data = pd.read_table('~/aiffel/sentiment_classification/ratings_train.txt')\n",
    "test_data = pd.read_table('~/aiffel/sentiment_classification/ratings_test.txt')\n",
    "\n",
    "train_data.head()"
   ]
  },
  {
   "cell_type": "code",
   "execution_count": 2,
   "metadata": {},
   "outputs": [
    {
     "name": "stdout",
     "output_type": "stream",
     "text": [
      "id          0\n",
      "document    5\n",
      "label       0\n",
      "dtype: int64\n",
      "\n",
      "id          0\n",
      "document    3\n",
      "label       0\n",
      "dtype: int64\n"
     ]
    }
   ],
   "source": [
    "# 결측치 확인\n",
    "print(train_data.isnull().sum(), end='\\n\\n')\n",
    "print(test_data.isnull().sum())"
   ]
  },
  {
   "cell_type": "code",
   "execution_count": 3,
   "metadata": {},
   "outputs": [
    {
     "name": "stdout",
     "output_type": "stream",
     "text": [
      "훈련 샘플 개수: 146182, 테스트 개수: 49157\n"
     ]
    }
   ],
   "source": [
    "from konlpy.tag import Mecab\n",
    "tokenizer = Mecab()\n",
    "stopwords = ['의','가','이','은','들','는','좀','잘','걍','과','도','를','으로','자','에','와','한','하다']\n",
    "\n",
    "def load_data(train_data, test_data, num_words=10000):\n",
    "    # 중복 데이터 제거하기\n",
    "    train_data.drop_duplicates(subset=['document'], inplace=True)\n",
    "    test_data.drop_duplicates(subset=['document'], inplace=True)\n",
    "    \n",
    "    # 결측치 제거하기\n",
    "    train_data.dropna(how='any', inplace=True)\n",
    "    test_data.dropna(how='any', inplace=True)\n",
    "    \n",
    "    X_train = []\n",
    "    for sentence in train_data['document']:\n",
    "        # 토큰화하기\n",
    "        temp_data = tokenizer.morphs(sentence)\n",
    "        # 불용어 제거하기\n",
    "        temp_data = [word for word in temp_data if not word in stopwords]\n",
    "        X_train.append(temp_data)\n",
    "        \n",
    "    X_test = []\n",
    "    for sentence in test_data['document']:\n",
    "        #토큰화하기\n",
    "        temp_data = tokenizer.morphs(sentence)\n",
    "        #불용어 제거하기\n",
    "        temp_data = [word for word in temp_data if not word in stopwords]\n",
    "        X_test.append(temp_data)\n",
    "        \n",
    "    words = np.concatenate(X_train).tolist()\n",
    "    counter = Counter(words)\n",
    "    counter = counter.most_common(10000-4) # most_common(n): 최빈값 n개 반환 [(1, x), (2, y), ... , (n, xx)]\n",
    "    # 데이터셋에서 만든 사전\n",
    "    vocab = ['<PAD>', '<BOS>', '<UNK>', '<UNUSED>'] + [key for key, _ in counter]\n",
    "    word_to_index = {word:index for index, word in enumerate(vocab)}\n",
    "    def wordlist_to_indexlist(wordlist):\n",
    "        return [word_to_index[word] if word in word_to_index else word_to_index['<UNK>'] for word in wordlist]\n",
    "    \n",
    "    X_train = list(map(wordlist_to_indexlist, X_train))\n",
    "    X_test = list(map(wordlist_to_indexlist, X_test))\n",
    "   \n",
    "    return X_train, np.array(list(train_data['label'])), X_test, np.array(list(test_data['label'])), word_to_index\n",
    "\n",
    "X_train, y_train, X_test, y_test, word_to_index = load_data(train_data, test_data)\n",
    "print(\"훈련 샘플 개수: {}, 테스트 개수: {}\".format(len(X_train), len(X_test)))"
   ]
  },
  {
   "cell_type": "code",
   "execution_count": 4,
   "metadata": {},
   "outputs": [],
   "source": [
    "index_to_word = {index:word for word, index in word_to_index.items()}"
   ]
  },
  {
   "cell_type": "code",
   "execution_count": 5,
   "metadata": {},
   "outputs": [],
   "source": [
    "# 문장 1개를 활용할 딕셔너리와 함께 주면, 단어 인덱스 리스트 벡터로 변환해 주는 함수입니다. \n",
    "# 단, 모든 문장은 <BOS>로 시작하는 것으로 합니다. \n",
    "def get_encoded_sentence(sentence, word_to_index):\n",
    "    return [word_to_index['<BOS>']]+[word_to_index[word] if word in word_to_index else word_to_index['<UNK>'] for word in sentence.split()]\n",
    "\n",
    "# 여러 개의 문장 리스트를 한꺼번에 단어 인덱스 리스트 벡터로 encode해 주는 함수입니다. \n",
    "def get_encoded_sentences(sentences, word_to_index):\n",
    "    return [get_encoded_sentence(sentence, word_to_index) for sentence in sentences]\n",
    "\n",
    "# 숫자 벡터로 encode된 문장을 원래대로 decode하는 함수입니다. \n",
    "def get_decoded_sentence(encoded_sentence, index_to_word):\n",
    "    return ' '.join(index_to_word[index] if index in index_to_word else '<UNK>' for index in encoded_sentence[1:])  #[1:]를 통해 <BOS>를 제외\n",
    "\n",
    "# 여러개의 숫자 벡터로 encode된 문장을 한꺼번에 원래대로 decode하는 함수입니다. \n",
    "def get_decoded_sentences(encoded_sentences, index_to_word):\n",
    "    return [get_decoded_sentence(encoded_sentence, index_to_word) for encoded_sentence in encoded_sentences]"
   ]
  },
  {
   "cell_type": "code",
   "execution_count": 6,
   "metadata": {},
   "outputs": [
    {
     "name": "stdout",
     "output_type": "stream",
     "text": [
      "[32, 74, 919, 4, 4, 39, 228, 20, 33, 748]\n",
      "0\n"
     ]
    }
   ],
   "source": [
    "print(X_train[0]) # 1번째 리뷰\n",
    "print(y_train[0]) # 1번째 리뷰 라벨"
   ]
  },
  {
   "cell_type": "code",
   "execution_count": 7,
   "metadata": {},
   "outputs": [
    {
     "name": "stdout",
     "output_type": "stream",
     "text": [
      "문장길이 평균 :  15.969376315021577\n",
      "문장길이 최대 :  116\n",
      "문장길이 표준편차 :  12.843535456326455\n",
      "pad_sequences maxlen :  41\n",
      "전체 문장의 0.9342988343341575%가 maxlen 설정값 이내에 포함됩니다. \n"
     ]
    }
   ],
   "source": [
    "# 문장 최대 길이 확인하기(maxlen)\n",
    "\n",
    "total_data_text = list(X_train) + list(X_test)\n",
    "# 텍스트데이터 문장길이의 리스트를 생성한 후\n",
    "num_tokens = [len(tokens) for tokens in total_data_text]\n",
    "num_tokens = np.array(num_tokens)\n",
    "# 문장길이의 평균값, 최대값, 표준편차를 계산해 본다. \n",
    "print('문장길이 평균 : ', np.mean(num_tokens))\n",
    "print('문장길이 최대 : ', np.max(num_tokens))\n",
    "print('문장길이 표준편차 : ', np.std(num_tokens))\n",
    "\n",
    "# 예를들어, 최대 길이를 (평균 + 2*표준편차)로 한다면,  \n",
    "max_tokens = np.mean(num_tokens) + 2 * np.std(num_tokens)\n",
    "maxlen = int(max_tokens)\n",
    "print('pad_sequences maxlen : ', maxlen)\n",
    "print('전체 문장의 {}%가 maxlen 설정값 이내에 포함됩니다. '.format(np.sum(num_tokens < max_tokens) / len(num_tokens)))"
   ]
  },
  {
   "cell_type": "code",
   "execution_count": 8,
   "metadata": {},
   "outputs": [
    {
     "name": "stdout",
     "output_type": "stream",
     "text": [
      "(146182, 41)\n"
     ]
    }
   ],
   "source": [
    "# 데이터셋의 문장 길이 맞추기\n",
    "X_train = keras.preprocessing.sequence.pad_sequences(X_train,\n",
    "                                                        value=word_to_index[\"<PAD>\"],\n",
    "                                                        padding='post', # 혹은 'pre'\n",
    "                                                        maxlen=maxlen)\n",
    "\n",
    "X_test = keras.preprocessing.sequence.pad_sequences(X_test,\n",
    "                                                       value=word_to_index[\"<PAD>\"],\n",
    "                                                       padding='post', # 혹은 'pre'\n",
    "                                                       maxlen=maxlen)\n",
    "\n",
    "print(X_train.shape)"
   ]
  },
  {
   "cell_type": "code",
   "execution_count": 9,
   "metadata": {},
   "outputs": [
    {
     "name": "stdout",
     "output_type": "stream",
     "text": [
      "Model: \"sequential\"\n",
      "_________________________________________________________________\n",
      "Layer (type)                 Output Shape              Param #   \n",
      "=================================================================\n",
      "embedding (Embedding)        (None, None, 300)         3000000   \n",
      "_________________________________________________________________\n",
      "lstm (LSTM)                  (None, 8)                 9888      \n",
      "_________________________________________________________________\n",
      "dense (Dense)                (None, 8)                 72        \n",
      "_________________________________________________________________\n",
      "dense_1 (Dense)              (None, 1)                 9         \n",
      "=================================================================\n",
      "Total params: 3,009,969\n",
      "Trainable params: 3,009,969\n",
      "Non-trainable params: 0\n",
      "_________________________________________________________________\n"
     ]
    }
   ],
   "source": [
    "# RNN모델을 사용\n",
    "\n",
    "vocab_size = 10000    # 어휘 사전의 크기입니다(10,000개의 단어)\n",
    "word_vector_dim = 300  # 워드 벡터의 차원수 (변경가능한 하이퍼파라미터)\n",
    "\n",
    "model_lstm = keras.Sequential()\n",
    "model_lstm.add(keras.layers.Embedding(vocab_size, word_vector_dim, input_shape=(None,)))\n",
    "model_lstm.add(keras.layers.LSTM(8))   # 가장 널리 쓰이는 RNN인 LSTM 레이어를 사용하였습니다. 이때 LSTM state 벡터의 차원수는 8로 하였습니다. (변경가능)\n",
    "model_lstm.add(keras.layers.Dense(8, activation='relu'))\n",
    "model_lstm.add(keras.layers.Dense(1, activation='sigmoid'))  # 최종 출력은 긍정/부정을 나타내는 1dim 입니다.\n",
    "\n",
    "model_lstm.summary()"
   ]
  },
  {
   "cell_type": "code",
   "execution_count": 10,
   "metadata": {},
   "outputs": [
    {
     "name": "stdout",
     "output_type": "stream",
     "text": [
      "Model: \"sequential_1\"\n",
      "_________________________________________________________________\n",
      "Layer (type)                 Output Shape              Param #   \n",
      "=================================================================\n",
      "embedding_1 (Embedding)      (None, None, 300)         3000000   \n",
      "_________________________________________________________________\n",
      "conv1d (Conv1D)              (None, None, 16)          33616     \n",
      "_________________________________________________________________\n",
      "max_pooling1d (MaxPooling1D) (None, None, 16)          0         \n",
      "_________________________________________________________________\n",
      "conv1d_1 (Conv1D)            (None, None, 16)          1808      \n",
      "_________________________________________________________________\n",
      "global_max_pooling1d (Global (None, 16)                0         \n",
      "_________________________________________________________________\n",
      "dense_2 (Dense)              (None, 8)                 136       \n",
      "_________________________________________________________________\n",
      "dense_3 (Dense)              (None, 1)                 9         \n",
      "=================================================================\n",
      "Total params: 3,035,569\n",
      "Trainable params: 3,035,569\n",
      "Non-trainable params: 0\n",
      "_________________________________________________________________\n"
     ]
    }
   ],
   "source": [
    "# CNN모델을 사용\n",
    "\n",
    "vocab_size = 10000    # 어휘 사전의 크기입니다(10,000개의 단어)\n",
    "word_vector_dim = 300  # 워드 벡터의 차원수 (변경가능한 하이퍼파라미터)\n",
    "\n",
    "model_cnn = keras.Sequential()\n",
    "model_cnn.add(keras.layers.Embedding(vocab_size, word_vector_dim, input_shape=(None,)))\n",
    "model_cnn.add(keras.layers.Conv1D(16, 7, activation='relu'))\n",
    "model_cnn.add(keras.layers.MaxPooling1D(5))\n",
    "model_cnn.add(keras.layers.Conv1D(16, 7, activation='relu'))\n",
    "model_cnn.add(keras.layers.GlobalMaxPooling1D())\n",
    "model_cnn.add(keras.layers.Dense(8, activation='relu'))\n",
    "model_cnn.add(keras.layers.Dense(1, activation='sigmoid'))  # 최종 출력은 긍정/부정을 나타내는 1dim 입니다.\n",
    "\n",
    "model_cnn.summary()"
   ]
  },
  {
   "cell_type": "code",
   "execution_count": 11,
   "metadata": {},
   "outputs": [
    {
     "name": "stdout",
     "output_type": "stream",
     "text": [
      "Model: \"sequential_2\"\n",
      "_________________________________________________________________\n",
      "Layer (type)                 Output Shape              Param #   \n",
      "=================================================================\n",
      "embedding_2 (Embedding)      (None, None, 300)         3000000   \n",
      "_________________________________________________________________\n",
      "global_max_pooling1d_1 (Glob (None, 300)               0         \n",
      "_________________________________________________________________\n",
      "dense_4 (Dense)              (None, 8)                 2408      \n",
      "_________________________________________________________________\n",
      "dense_5 (Dense)              (None, 1)                 9         \n",
      "=================================================================\n",
      "Total params: 3,002,417\n",
      "Trainable params: 3,002,417\n",
      "Non-trainable params: 0\n",
      "_________________________________________________________________\n"
     ]
    }
   ],
   "source": [
    "# pooling만 사용\n",
    "\n",
    "vocab_size = 10000    # 어휘 사전의 크기입니다(10,000개의 단어)\n",
    "word_vector_dim = 300  # 워드 벡터의 차원수 (변경가능한 하이퍼파라미터)\n",
    "\n",
    "model_pool = keras.Sequential()\n",
    "model_pool.add(keras.layers.Embedding(vocab_size, word_vector_dim, input_shape=(None,)))\n",
    "model_pool.add(keras.layers.GlobalMaxPooling1D())\n",
    "model_pool.add(keras.layers.Dense(8, activation='relu'))\n",
    "model_pool.add(keras.layers.Dense(1, activation='sigmoid'))  # 최종 출력은 긍정/부정을 나타내는 1dim 입니다.\n",
    "\n",
    "model_pool.summary()"
   ]
  },
  {
   "cell_type": "code",
   "execution_count": 15,
   "metadata": {},
   "outputs": [
    {
     "name": "stdout",
     "output_type": "stream",
     "text": [
      "(136182, 41)\n",
      "(136182,)\n"
     ]
    }
   ],
   "source": [
    "# validation set 10000건 분리\n",
    "X_val = X_train[:10000]   \n",
    "y_val = y_train[:10000]\n",
    "\n",
    "# validation set을 제외한 나머지\n",
    "partial_X_train = X_train[10000:]  \n",
    "partial_y_train = y_train[10000:]\n",
    "\n",
    "print(partial_X_train.shape)\n",
    "print(partial_y_train.shape)"
   ]
  },
  {
   "cell_type": "code",
   "execution_count": 16,
   "metadata": {},
   "outputs": [
    {
     "name": "stdout",
     "output_type": "stream",
     "text": [
      "Epoch 1/10\n",
      "266/266 [==============================] - 8s 29ms/step - loss: 0.4451 - accuracy: 0.8112 - val_loss: 0.4401 - val_accuracy: 0.8142\n",
      "Epoch 2/10\n",
      "266/266 [==============================] - 8s 28ms/step - loss: 0.4111 - accuracy: 0.8267 - val_loss: 0.4403 - val_accuracy: 0.8138\n",
      "Epoch 3/10\n",
      "266/266 [==============================] - 8s 30ms/step - loss: 0.4067 - accuracy: 0.8295 - val_loss: 0.4228 - val_accuracy: 0.8261\n",
      "Epoch 4/10\n",
      "266/266 [==============================] - 8s 30ms/step - loss: 0.3623 - accuracy: 0.8507 - val_loss: 0.3651 - val_accuracy: 0.8466\n",
      "Epoch 5/10\n",
      "266/266 [==============================] - 8s 29ms/step - loss: 0.3167 - accuracy: 0.8701 - val_loss: 0.3552 - val_accuracy: 0.8473\n",
      "Epoch 6/10\n",
      "266/266 [==============================] - 8s 28ms/step - loss: 0.2962 - accuracy: 0.8801 - val_loss: 0.3510 - val_accuracy: 0.8512\n",
      "Epoch 7/10\n",
      "266/266 [==============================] - 8s 28ms/step - loss: 0.2819 - accuracy: 0.8865 - val_loss: 0.3574 - val_accuracy: 0.8525\n",
      "Epoch 8/10\n",
      "266/266 [==============================] - 8s 28ms/step - loss: 0.2703 - accuracy: 0.8921 - val_loss: 0.3617 - val_accuracy: 0.8500\n",
      "Epoch 9/10\n",
      "266/266 [==============================] - 8s 29ms/step - loss: 0.2602 - accuracy: 0.8970 - val_loss: 0.3626 - val_accuracy: 0.8517\n",
      "Epoch 10/10\n",
      "266/266 [==============================] - 8s 29ms/step - loss: 0.2505 - accuracy: 0.9008 - val_loss: 0.3712 - val_accuracy: 0.8490\n"
     ]
    }
   ],
   "source": [
    "# 모델 학습하기\n",
    "model_lstm.compile(optimizer='adam',\n",
    "              loss='binary_crossentropy',\n",
    "              metrics=['accuracy'])\n",
    "              \n",
    "epochs=10\n",
    "\n",
    "history_lstm = model_lstm.fit(partial_X_train,\n",
    "                    partial_y_train,\n",
    "                    epochs=epochs,\n",
    "                    batch_size=512,\n",
    "                    validation_data=(X_val, y_val),\n",
    "                    verbose=1)"
   ]
  },
  {
   "cell_type": "code",
   "execution_count": 17,
   "metadata": {},
   "outputs": [
    {
     "name": "stdout",
     "output_type": "stream",
     "text": [
      "1537/1537 - 3s - loss: 0.3900 - accuracy: 0.8424\n",
      "[0.3900001645088196, 0.8423622250556946]\n"
     ]
    }
   ],
   "source": [
    "results = model_lstm.evaluate(X_test, y_test, verbose=2)\n",
    "\n",
    "print(results)"
   ]
  },
  {
   "cell_type": "code",
   "execution_count": 18,
   "metadata": {},
   "outputs": [
    {
     "data": {
      "image/png": "[encoded data removed]",
      "text/plain": [
       "<Figure size 432x288 with 1 Axes>"
      ]
     },
     "metadata": {
      "needs_background": "light"
     },
     "output_type": "display_data"
    }
   ],
   "source": [
    "# epoch과정에서 history확인\n",
    "history_dict = history_lstm.history\n",
    "# dict_keys(['loss', 'accuracy', 'val_loss', 'val_accuracy'])\n",
    "\n",
    "import matplotlib.pyplot as plt\n",
    "\n",
    "acc = history_dict['accuracy']\n",
    "val_acc = history_dict['val_accuracy']\n",
    "loss = history_dict['loss']\n",
    "val_loss = history_dict['val_loss']\n",
    "\n",
    "epochs = range(1, len(acc) + 1)\n",
    "\n",
    "# \"bo\"는 \"파란색 점\"입니다\n",
    "plt.plot(epochs, loss, 'bo', label='Training loss')\n",
    "# b는 \"파란 실선\"입니다\n",
    "plt.plot(epochs, val_loss, 'b', label='Validation loss')\n",
    "plt.title('Training and validation loss')\n",
    "plt.xlabel('Epochs')\n",
    "plt.ylabel('Loss')\n",
    "plt.legend()\n",
    "\n",
    "plt.show()"
   ]
  },
  {
   "cell_type": "code",
   "execution_count": 19,
   "metadata": {},
   "outputs": [
    {
     "data": {
      "image/png": "[encoded data removed]",
      "text/plain": [
       "<Figure size 432x288 with 1 Axes>"
      ]
     },
     "metadata": {
      "needs_background": "light"
     },
     "output_type": "display_data"
    }
   ],
   "source": [
    "plt.clf()   # 그림을 초기화합니다\n",
    "\n",
    "plt.plot(epochs, acc, 'bo', label='Training acc')\n",
    "plt.plot(epochs, val_acc, 'b', label='Validation acc')\n",
    "plt.title('Training and validation accuracy')\n",
    "plt.xlabel('Epochs')\n",
    "plt.ylabel('Accuracy')\n",
    "plt.legend()\n",
    "\n",
    "plt.show()"
   ]
  },
  {
   "cell_type": "code",
   "execution_count": 20,
   "metadata": {},
   "outputs": [
    {
     "name": "stdout",
     "output_type": "stream",
     "text": [
      "(10000, 300)\n"
     ]
    }
   ],
   "source": [
    "# model의 첫 번째 레이어인 Embedding, 학습된 워드 벡터가 존재할 것\n",
    "\n",
    "embedding_layer = model_lstm.layers[0]\n",
    "weights = embedding_layer.get_weights()[0]\n",
    "print(weights.shape)    # shape: (vocab_size, embedding_dim)"
   ]
  },
  {
   "cell_type": "code",
   "execution_count": 21,
   "metadata": {},
   "outputs": [
    {
     "data": {
      "text/plain": [
       "array([-3.15715037e-02, -2.65166699e-03, -6.10907674e-02, -3.00152991e-02,\n",
       "       -3.99593078e-03, -6.51471540e-02,  5.54017462e-02, -1.19882859e-01,\n",
       "       -4.89712134e-02, -1.37408629e-01, -4.35900223e-03, -1.27347782e-01,\n",
       "        1.05225734e-01,  4.78416448e-03, -1.56020587e-02, -9.73325968e-02,\n",
       "       -1.50511369e-01, -5.72995842e-02, -8.40248540e-02,  3.38682607e-02,\n",
       "       -1.32614151e-01, -1.97020825e-02,  4.70545376e-03, -1.04150191e-01,\n",
       "        8.07009730e-03,  6.08066730e-02, -3.77898407e-03, -4.72283177e-02,\n",
       "        1.62800565e-01,  7.42023811e-02,  9.44733471e-02,  2.54257061e-02,\n",
       "        9.05278772e-02, -2.99590863e-02,  7.58092254e-02, -1.53170332e-01,\n",
       "        1.06197633e-01, -6.97058737e-02, -2.71260384e-02,  6.28594086e-02,\n",
       "       -9.52074211e-03,  1.67123318e-01,  7.81201273e-02, -2.62347553e-02,\n",
       "        2.97509972e-02,  4.35985439e-02, -6.57257885e-02, -1.45420328e-01,\n",
       "        1.04411826e-01,  1.63048193e-01,  1.26023412e-01, -1.61760170e-02,\n",
       "       -6.34671226e-02,  5.51099889e-02,  4.45394516e-02,  2.84778047e-02,\n",
       "        7.42238462e-02, -1.88456215e-02,  1.41919598e-01,  6.87113553e-02,\n",
       "       -1.67183876e-02, -5.67917749e-02, -1.28499195e-01, -5.65598197e-02,\n",
       "        1.29678801e-01, -1.33270964e-01, -1.82107035e-02,  8.54010582e-02,\n",
       "        9.11761224e-02, -1.16776310e-01, -7.42488652e-02,  7.36947060e-02,\n",
       "       -1.10627502e-01, -5.66359274e-02,  1.11953475e-01,  1.87231809e-01,\n",
       "        1.80491641e-01, -6.65886849e-02,  1.01887174e-01,  2.44023185e-02,\n",
       "        7.23864213e-02, -7.16586635e-02, -1.49035707e-01,  9.15250629e-02,\n",
       "       -8.70912895e-02,  1.13406666e-01,  5.30389771e-02, -1.00080587e-01,\n",
       "       -1.04046683e-03,  1.09771669e-01,  8.19859654e-02, -4.57249433e-02,\n",
       "       -6.81459457e-02, -1.96933281e-02, -8.21885914e-02,  6.89969882e-02,\n",
       "        6.04506675e-03, -8.64019096e-02, -1.57423183e-01,  2.57479459e-01,\n",
       "        3.99340615e-02,  1.51000932e-01, -9.40938666e-03, -7.23223435e-03,\n",
       "       -5.56492656e-02, -8.73129256e-03,  1.42199308e-01,  2.12124996e-02,\n",
       "        1.61383703e-01,  2.62802333e-01, -8.17806423e-02, -8.80428329e-02,\n",
       "       -1.88795879e-01, -4.78062108e-02,  1.10705890e-01,  8.43658894e-02,\n",
       "        5.15838014e-03,  6.25551641e-02,  1.27490267e-01, -5.83785810e-02,\n",
       "        2.25034785e-02, -1.34933904e-01, -1.56900421e-01,  5.47119528e-02,\n",
       "        3.98929268e-02, -7.55430311e-02, -1.52181387e-01,  4.75820825e-02,\n",
       "        1.42588057e-02, -7.19702279e-04,  8.78307894e-02, -2.01817930e-01,\n",
       "        3.17438878e-02,  1.06577247e-01,  1.85763203e-02,  6.83896020e-02,\n",
       "        1.39377583e-02, -8.35549086e-02, -2.58051082e-02, -1.30541146e-01,\n",
       "       -3.49462628e-02, -6.06780760e-02,  9.33980495e-02,  8.44929442e-02,\n",
       "        1.48551479e-01, -4.49926872e-03, -4.21571024e-02,  1.72504932e-01,\n",
       "        3.04638781e-02,  7.01908246e-02,  6.15503779e-03, -5.03417030e-02,\n",
       "        8.10369558e-04,  2.20946828e-03, -1.04436226e-01, -4.27172258e-02,\n",
       "       -3.35324779e-02,  3.28157023e-02,  3.82803194e-02, -9.84639004e-02,\n",
       "        9.41440612e-02, -6.50369301e-02, -2.47303173e-02,  4.95876558e-02,\n",
       "       -5.81491087e-03, -4.96658497e-02,  8.09351802e-02, -5.85862249e-02,\n",
       "        1.06083445e-01, -1.65538043e-01, -7.14579821e-02,  6.51223809e-02,\n",
       "       -4.46175262e-02,  7.84479678e-02,  2.98808627e-02,  9.21692103e-02,\n",
       "        3.76631282e-02, -4.19046506e-02, -5.24204411e-03,  1.97853465e-02,\n",
       "        1.66825503e-02, -6.07805327e-02, -1.70679204e-02, -9.86735150e-02,\n",
       "       -1.88274026e-01,  8.47939029e-02, -1.35601670e-01,  6.07721601e-03,\n",
       "       -2.71988045e-02, -2.16933191e-01, -1.92877254e-03, -3.58708501e-02,\n",
       "        8.86671618e-02, -7.78752491e-02,  7.59550482e-02, -2.87379809e-02,\n",
       "        1.45613045e-01, -1.18231833e-01, -1.65427383e-02, -1.65629911e-03,\n",
       "        5.58753125e-02,  3.88741419e-02, -1.38761774e-01, -3.30126360e-02,\n",
       "       -2.19548754e-02, -6.87918514e-02, -4.76819761e-02, -1.15893364e-01,\n",
       "       -8.45503435e-02,  8.15789700e-02,  3.09923068e-02, -6.33950531e-02,\n",
       "        2.39525568e-02, -1.06352955e-01, -4.88038510e-02, -4.52278927e-02,\n",
       "       -1.04649544e-01,  5.37518272e-03,  5.67988344e-02,  1.56655863e-01,\n",
       "       -1.50270630e-02,  6.37305109e-03,  1.89547613e-02,  1.84189379e-01,\n",
       "        1.78097952e-02, -1.41808242e-01, -1.16338983e-01, -1.02998495e-01,\n",
       "       -2.46059261e-02, -8.26381743e-02, -2.38504950e-02,  5.69332875e-02,\n",
       "       -2.08871961e-02, -1.35677680e-01, -5.56287318e-02,  1.50031880e-01,\n",
       "        3.86151709e-02, -2.89477333e-02, -1.35334432e-01, -2.55199894e-03,\n",
       "        1.88906299e-04,  3.06179076e-02, -1.21383384e-01, -1.11459335e-02,\n",
       "       -2.21808776e-01, -7.98719153e-02, -1.62236430e-02, -4.20169495e-02,\n",
       "       -3.29513364e-02,  4.21072468e-02,  4.51270230e-02,  9.76969972e-02,\n",
       "        7.55157322e-02,  3.34146246e-02,  8.99227634e-02, -2.12708741e-01,\n",
       "        6.49033987e-04, -4.74597737e-02, -1.25131890e-01, -6.81055039e-02,\n",
       "       -2.56829802e-02,  1.01670809e-02, -7.19967857e-02, -1.41644934e-02,\n",
       "       -2.74488912e-03,  9.29207429e-02, -1.26803547e-01, -1.54199615e-01,\n",
       "       -5.20805195e-02, -1.55563578e-01,  2.75897924e-02, -7.25287646e-02,\n",
       "        1.31441653e-02, -1.34055331e-01,  9.58164483e-02, -1.16697466e-02,\n",
       "        8.16669613e-02,  9.17932577e-03,  2.11478546e-02, -2.96728034e-02,\n",
       "        2.42122561e-01,  1.84599206e-01, -4.90940874e-03,  5.69668449e-02,\n",
       "        2.87502948e-02, -8.70181993e-02, -8.94919559e-02,  7.20230862e-03,\n",
       "        1.53863311e-01, -1.06301844e-01,  5.16239069e-02,  4.12356406e-02,\n",
       "        3.76802981e-02,  5.65295108e-02,  8.19139853e-02,  9.66855325e-03,\n",
       "        5.04499711e-02, -1.91127453e-02,  2.97472835e-01,  2.12727748e-02],\n",
       "      dtype=float32)"
      ]
     },
     "execution_count": 21,
     "metadata": {},
     "output_type": "execute_result"
    }
   ],
   "source": [
    "import os\n",
    "\n",
    "# 학습한 Embedding 파라미터를 파일에 써서 저장합니다. \n",
    "word2vec_file_path = os.getenv('HOME')+'/aiffel/sentiment_classification/word2vec.txt'\n",
    "f = open(word2vec_file_path, 'w')\n",
    "f.write('{} {}\\n'.format(vocab_size-4, word_vector_dim))  # 몇개의 벡터를 얼마 사이즈로 기재할지 타이틀을 씁니다.\n",
    "\n",
    "# 단어 개수(에서 특수문자 4개는 제외하고)만큼의 워드 벡터를 파일에 기록합니다. \n",
    "vectors = model_lstm.get_weights()[0]\n",
    "for i in range(4,vocab_size):\n",
    "    f.write('{} {}\\n'.format(index_to_word[i], ' '.join(map(str, list(vectors[i, :])))))\n",
    "f.close()\n",
    "\n",
    "from gensim.models.keyedvectors import Word2VecKeyedVectors\n",
    "\n",
    "word_vectors = Word2VecKeyedVectors.load_word2vec_format(word2vec_file_path, binary=False)\n",
    "vector = word_vectors['재미']\n",
    "vector"
   ]
  },
  {
   "cell_type": "code",
   "execution_count": 22,
   "metadata": {},
   "outputs": [
    {
     "data": {
      "text/plain": [
       "[('재밌', 0.9128355979919434),\n",
       " ('순수', 0.9124869108200073),\n",
       " ('명장면', 0.8997275829315186),\n",
       " ('최고', 0.8969001770019531),\n",
       " ('그려냈', 0.8865731358528137),\n",
       " ('아련', 0.885982871055603),\n",
       " ('떠오르', 0.8824371099472046),\n",
       " ('눈물', 0.8781924843788147),\n",
       " ('본방', 0.8778918385505676),\n",
       " ('~^^', 0.8775900602340698)]"
      ]
     },
     "execution_count": 22,
     "metadata": {},
     "output_type": "execute_result"
    }
   ],
   "source": [
    "# 학습된 워드벡터로 임의의 단어와 가장 유사한 단어와 그 유사도를 확인해보는 방법\n",
    "\n",
    "word_vectors.similar_by_word('대박')"
   ]
  },
  {
   "cell_type": "code",
   "execution_count": 23,
   "metadata": {},
   "outputs": [
    {
     "name": "stdout",
     "output_type": "stream",
     "text": [
      "Epoch 1/10\n",
      "266/266 [==============================] - 16s 62ms/step - loss: 0.4226 - accuracy: 0.8050 - val_loss: 0.3348 - val_accuracy: 0.8524\n",
      "Epoch 2/10\n",
      "266/266 [==============================] - 8s 28ms/step - loss: 0.2992 - accuracy: 0.8750 - val_loss: 0.3282 - val_accuracy: 0.8552\n",
      "Epoch 3/10\n",
      "266/266 [==============================] - 8s 28ms/step - loss: 0.2402 - accuracy: 0.9046 - val_loss: 0.3358 - val_accuracy: 0.8591\n",
      "Epoch 4/10\n",
      "266/266 [==============================] - 7s 28ms/step - loss: 0.1719 - accuracy: 0.9368 - val_loss: 0.3739 - val_accuracy: 0.8544\n",
      "Epoch 5/10\n",
      "266/266 [==============================] - 8s 28ms/step - loss: 0.1128 - accuracy: 0.9607 - val_loss: 0.4500 - val_accuracy: 0.8481\n",
      "Epoch 6/10\n",
      "266/266 [==============================] - 8s 28ms/step - loss: 0.0742 - accuracy: 0.9756 - val_loss: 0.5374 - val_accuracy: 0.8405\n",
      "Epoch 7/10\n",
      "266/266 [==============================] - 8s 28ms/step - loss: 0.0538 - accuracy: 0.9825 - val_loss: 0.5818 - val_accuracy: 0.8440\n",
      "Epoch 8/10\n",
      "266/266 [==============================] - 8s 28ms/step - loss: 0.0414 - accuracy: 0.9866 - val_loss: 0.6601 - val_accuracy: 0.8387\n",
      "Epoch 9/10\n",
      "266/266 [==============================] - 8s 28ms/step - loss: 0.0332 - accuracy: 0.9890 - val_loss: 0.7184 - val_accuracy: 0.8382\n",
      "Epoch 10/10\n",
      "266/266 [==============================] - 8s 28ms/step - loss: 0.0290 - accuracy: 0.9903 - val_loss: 0.7846 - val_accuracy: 0.8397\n"
     ]
    }
   ],
   "source": [
    "# 모델 학습하기\n",
    "# validation set 10000건 분리\n",
    "X_val = X_train[:10000]   \n",
    "y_val = y_train[:10000]\n",
    "\n",
    "# validation set을 제외한 나머지\n",
    "partial_X_train = X_train[10000:]  \n",
    "partial_y_train = y_train[10000:]\n",
    "\n",
    "model_cnn.compile(optimizer='adam',\n",
    "              loss='binary_crossentropy',\n",
    "              metrics=['accuracy'])\n",
    "              \n",
    "epochs=10\n",
    "\n",
    "history_cnn = model_cnn.fit(partial_X_train,\n",
    "                    partial_y_train,\n",
    "                    epochs=epochs,\n",
    "                    batch_size=512,\n",
    "                    validation_data=(X_val, y_val),\n",
    "                    verbose=1)"
   ]
  },
  {
   "cell_type": "code",
   "execution_count": 24,
   "metadata": {},
   "outputs": [
    {
     "name": "stdout",
     "output_type": "stream",
     "text": [
      "1537/1537 - 5s - loss: 0.8158 - accuracy: 0.8330\n",
      "[0.8157628178596497, 0.8330451250076294]\n"
     ]
    }
   ],
   "source": [
    "results = model_cnn.evaluate(X_test, y_test, verbose=2)\n",
    "\n",
    "print(results)"
   ]
  },
  {
   "cell_type": "code",
   "execution_count": 25,
   "metadata": {},
   "outputs": [
    {
     "data": {
      "image/png": "[encoded data removed]",
      "text/plain": [
       "<Figure size 432x288 with 1 Axes>"
      ]
     },
     "metadata": {
      "needs_background": "light"
     },
     "output_type": "display_data"
    }
   ],
   "source": [
    "# epoch과정에서 history확인\n",
    "history_dict = history_cnn.history\n",
    "# dict_keys(['loss', 'accuracy', 'val_loss', 'val_accuracy'])\n",
    "\n",
    "import matplotlib.pyplot as plt\n",
    "\n",
    "acc = history_dict['accuracy']\n",
    "val_acc = history_dict['val_accuracy']\n",
    "loss = history_dict['loss']\n",
    "val_loss = history_dict['val_loss']\n",
    "\n",
    "epochs = range(1, len(acc) + 1)\n",
    "\n",
    "# \"bo\"는 \"파란색 점\"입니다\n",
    "plt.plot(epochs, loss, 'bo', label='Training loss')\n",
    "# b는 \"파란 실선\"입니다\n",
    "plt.plot(epochs, val_loss, 'b', label='Validation loss')\n",
    "plt.title('Training and validation loss')\n",
    "plt.xlabel('Epochs')\n",
    "plt.ylabel('Loss')\n",
    "plt.legend()\n",
    "\n",
    "plt.show()"
   ]
  },
  {
   "cell_type": "code",
   "execution_count": 26,
   "metadata": {},
   "outputs": [
    {
     "data": {
      "image/png": "[encoded data removed]",
      "text/plain": [
       "<Figure size 432x288 with 1 Axes>"
      ]
     },
     "metadata": {
      "needs_background": "light"
     },
     "output_type": "display_data"
    }
   ],
   "source": [
    "plt.clf()   # 그림을 초기화합니다\n",
    "\n",
    "plt.plot(epochs, acc, 'bo', label='Training acc')\n",
    "plt.plot(epochs, val_acc, 'b', label='Validation acc')\n",
    "plt.title('Training and validation accuracy')\n",
    "plt.xlabel('Epochs')\n",
    "plt.ylabel('Accuracy')\n",
    "plt.legend()\n",
    "\n",
    "plt.show()"
   ]
  },
  {
   "cell_type": "code",
   "execution_count": 27,
   "metadata": {},
   "outputs": [
    {
     "data": {
      "text/plain": [
       "array([-0.0821739 ,  0.04300399, -0.11097004,  0.00659796,  0.08890323,\n",
       "        0.02871467, -0.08079505,  0.00535003, -0.01463132,  0.07062499,\n",
       "        0.07473744,  0.10034133,  0.06756829,  0.01474626, -0.04241185,\n",
       "        0.06415278,  0.00930088, -0.0267518 , -0.02591516, -0.07290963,\n",
       "        0.00458693, -0.04069524,  0.16305837,  0.0665781 , -0.11032909,\n",
       "        0.06689744, -0.01135381, -0.03581867, -0.01368111, -0.09372195,\n",
       "        0.03819086, -0.08988541,  0.04648191, -0.03871176, -0.00823888,\n",
       "       -0.05285626, -0.03659931, -0.01065717, -0.17604388, -0.12371458,\n",
       "       -0.08477478,  0.02929431, -0.01012116, -0.01083597, -0.18667616,\n",
       "        0.05023036, -0.00937275,  0.01451896,  0.07853559,  0.0476809 ,\n",
       "       -0.05014046, -0.05289481, -0.03969235,  0.02639146, -0.0144202 ,\n",
       "        0.03465116, -0.10742293,  0.01085188, -0.01898975,  0.05342243,\n",
       "        0.10324337,  0.12647843, -0.03530284,  0.02495007,  0.03477848,\n",
       "        0.09713364,  0.10083295,  0.056383  , -0.01958958, -0.04305148,\n",
       "       -0.12425776, -0.10632797,  0.07939287,  0.01026637,  0.06820101,\n",
       "       -0.02295068, -0.00571845, -0.08762499, -0.03249403, -0.01637381,\n",
       "        0.06318525,  0.04341575,  0.09077198,  0.02845115,  0.08596638,\n",
       "       -0.08524305, -0.01793984,  0.03492573,  0.01394437, -0.05800404,\n",
       "        0.09779683,  0.0106892 , -0.00310217,  0.07101188, -0.05080972,\n",
       "        0.07250865, -0.01774289,  0.07924965,  0.0011802 ,  0.00279936,\n",
       "       -0.0646997 ,  0.08362763,  0.04958863, -0.00431572,  0.05547026,\n",
       "        0.05170517,  0.00715306, -0.0260398 , -0.01202118, -0.10347344,\n",
       "        0.02312795,  0.01362001,  0.04513251, -0.03712785, -0.00285875,\n",
       "       -0.03583657, -0.00906638, -0.15590726,  0.10499489, -0.06652827,\n",
       "       -0.07187693, -0.05294824, -0.09692638,  0.01977861, -0.00631681,\n",
       "        0.03149561,  0.0610314 ,  0.05106313, -0.02306049,  0.11207291,\n",
       "        0.03997833, -0.06530242, -0.02066737, -0.0333867 ,  0.07131533,\n",
       "        0.08275215,  0.04619912,  0.02568584, -0.00121772,  0.06405273,\n",
       "        0.08450776, -0.0105613 ,  0.08390362, -0.0050293 , -0.08332723,\n",
       "        0.03478422,  0.01165067, -0.02186696,  0.02295686,  0.04967743,\n",
       "        0.12408912, -0.04321945, -0.0178063 ,  0.08067289, -0.05139096,\n",
       "       -0.02748983, -0.01568569,  0.01654488,  0.03399796, -0.09237359,\n",
       "       -0.08615319,  0.06795052,  0.12866071,  0.13251397,  0.01469657,\n",
       "        0.08575384, -0.03740012, -0.00826511,  0.01245111,  0.00648247,\n",
       "        0.04002992,  0.07277016,  0.01462525,  0.01586556,  0.02584245,\n",
       "       -0.03659096,  0.02682611, -0.01367626, -0.01413306,  0.05389678,\n",
       "        0.04228097, -0.01175358,  0.11811721, -0.01458612, -0.00249135,\n",
       "        0.03067164, -0.10745541,  0.02206921,  0.07540479,  0.01594935,\n",
       "        0.0754191 , -0.02771716, -0.01038097,  0.03380821, -0.02466654,\n",
       "        0.08431642, -0.10440696,  0.01351685,  0.01677283,  0.01413109,\n",
       "        0.04769048, -0.05082084, -0.03106495, -0.01293191,  0.01963035,\n",
       "       -0.06872112,  0.06451432, -0.06238844, -0.04647796, -0.08236563,\n",
       "       -0.05745883,  0.05710423,  0.03260415, -0.03894326,  0.03265426,\n",
       "       -0.00343912, -0.00826378,  0.02872155,  0.04976723,  0.04271328,\n",
       "        0.05009505, -0.03041587,  0.01117364, -0.08304458,  0.09071794,\n",
       "        0.00495558,  0.21777658, -0.02361989, -0.1067637 ,  0.06317764,\n",
       "        0.08195225, -0.0088056 , -0.03017816, -0.02105504,  0.00267436,\n",
       "        0.06414005, -0.07601479, -0.01733064, -0.01195944,  0.03963003,\n",
       "        0.05931187, -0.07406256, -0.05188608, -0.03508755, -0.02863466,\n",
       "       -0.055545  , -0.02450347,  0.05291723,  0.0362214 ,  0.02677589,\n",
       "       -0.10908227,  0.05118743, -0.01337208,  0.02863046,  0.0698354 ,\n",
       "       -0.04134763,  0.01655234, -0.06559686, -0.03291065,  0.13444597,\n",
       "       -0.07474199,  0.02135052, -0.10721966,  0.09591066,  0.03433087,\n",
       "        0.11959782,  0.01639961,  0.04873547, -0.00714267,  0.02565149,\n",
       "        0.01535265, -0.0248418 , -0.03777518,  0.0369391 ,  0.00410473,\n",
       "        0.05783845,  0.02839239,  0.09428932,  0.07241867,  0.01606549,\n",
       "       -0.02860298, -0.02670563,  0.09911823, -0.05309009, -0.02940338,\n",
       "        0.00322179, -0.00880129, -0.00325838, -0.05392038,  0.0081993 ,\n",
       "       -0.0904322 ,  0.0612087 , -0.03675895,  0.08894635, -0.11168041,\n",
       "        0.01532163, -0.00696215,  0.03091769, -0.01072863, -0.01476523],\n",
       "      dtype=float32)"
      ]
     },
     "execution_count": 27,
     "metadata": {},
     "output_type": "execute_result"
    }
   ],
   "source": [
    "f = open(word2vec_file_path, 'w')\n",
    "f.write('{} {}\\n'.format(vocab_size-4, word_vector_dim))  # 몇개의 벡터를 얼마 사이즈로 기재할지 타이틀을 씁니다.\n",
    "\n",
    "vectors = model_cnn.get_weights()[0]\n",
    "for i in range(4,vocab_size):\n",
    "    f.write('{} {}\\n'.format(index_to_word[i], ' '.join(map(str, list(vectors[i, :])))))\n",
    "f.close()\n",
    "\n",
    "from gensim.models.keyedvectors import Word2VecKeyedVectors\n",
    "\n",
    "word_vectors = Word2VecKeyedVectors.load_word2vec_format(word2vec_file_path, binary=False)\n",
    "vector = word_vectors['재미']\n",
    "vector"
   ]
  },
  {
   "cell_type": "code",
   "execution_count": 28,
   "metadata": {},
   "outputs": [
    {
     "data": {
      "text/plain": [
       "[('늠', 0.6478805541992188),\n",
       " ('~~^^', 0.6446303129196167),\n",
       " ('수작', 0.6438689231872559),\n",
       " ('웰메이드', 0.6426193714141846),\n",
       " ('쏠쏠', 0.6403714418411255),\n",
       " ('^.^', 0.6356489658355713),\n",
       " ('깨알', 0.6352609395980835),\n",
       " ('이루어질', 0.6338224411010742),\n",
       " ('슬퍼요', 0.6317129135131836),\n",
       " ('였음을', 0.6313894987106323)]"
      ]
     },
     "execution_count": 28,
     "metadata": {},
     "output_type": "execute_result"
    }
   ],
   "source": [
    "# 학습된 워드벡터로 임의의 단어와 가장 유사한 단어와 그 유사도를 확인해보는 방법\n",
    "\n",
    "word_vectors.similar_by_word('대박')"
   ]
  },
  {
   "cell_type": "code",
   "execution_count": 29,
   "metadata": {},
   "outputs": [
    {
     "name": "stdout",
     "output_type": "stream",
     "text": [
      "Epoch 1/10\n",
      "266/266 [==============================] - 7s 27ms/step - loss: 0.4454 - accuracy: 0.8128 - val_loss: 0.3367 - val_accuracy: 0.8525\n",
      "Epoch 2/10\n",
      "266/266 [==============================] - 7s 27ms/step - loss: 0.3042 - accuracy: 0.8718 - val_loss: 0.3290 - val_accuracy: 0.8553\n",
      "Epoch 3/10\n",
      "266/266 [==============================] - 7s 27ms/step - loss: 0.2568 - accuracy: 0.8967 - val_loss: 0.3375 - val_accuracy: 0.8578\n",
      "Epoch 4/10\n",
      "266/266 [==============================] - 7s 27ms/step - loss: 0.2136 - accuracy: 0.9178 - val_loss: 0.3544 - val_accuracy: 0.8556\n",
      "Epoch 5/10\n",
      "266/266 [==============================] - 7s 27ms/step - loss: 0.1677 - accuracy: 0.9397 - val_loss: 0.3821 - val_accuracy: 0.8509\n",
      "Epoch 6/10\n",
      "266/266 [==============================] - 7s 27ms/step - loss: 0.1222 - accuracy: 0.9608 - val_loss: 0.4143 - val_accuracy: 0.8489\n",
      "Epoch 7/10\n",
      "266/266 [==============================] - 7s 27ms/step - loss: 0.0830 - accuracy: 0.9764 - val_loss: 0.4587 - val_accuracy: 0.8469\n",
      "Epoch 8/10\n",
      "266/266 [==============================] - 7s 27ms/step - loss: 0.0549 - accuracy: 0.9867 - val_loss: 0.5048 - val_accuracy: 0.8436\n",
      "Epoch 9/10\n",
      "266/266 [==============================] - 7s 27ms/step - loss: 0.0370 - accuracy: 0.9913 - val_loss: 0.5439 - val_accuracy: 0.8415\n",
      "Epoch 10/10\n",
      "266/266 [==============================] - 7s 27ms/step - loss: 0.0260 - accuracy: 0.9937 - val_loss: 0.5864 - val_accuracy: 0.8413\n"
     ]
    }
   ],
   "source": [
    "# 모델 학습하기\n",
    "# validation set 10000건 분리\n",
    "X_val = X_train[:10000]   \n",
    "y_val = y_train[:10000]\n",
    "\n",
    "# validation set을 제외한 나머지\n",
    "partial_X_train = X_train[10000:]  \n",
    "partial_y_train = y_train[10000:]\n",
    "\n",
    "model_pool.compile(optimizer='adam',\n",
    "              loss='binary_crossentropy',\n",
    "              metrics=['accuracy'])\n",
    "              \n",
    "epochs=10\n",
    "\n",
    "history_pool = model_pool.fit(partial_X_train,\n",
    "                    partial_y_train,\n",
    "                    epochs=epochs,\n",
    "                    batch_size=512,\n",
    "                    validation_data=(X_val, y_val),\n",
    "                    verbose=1)"
   ]
  },
  {
   "cell_type": "code",
   "execution_count": 31,
   "metadata": {
    "scrolled": true
   },
   "outputs": [
    {
     "name": "stdout",
     "output_type": "stream",
     "text": [
      "1537/1537 - 2s - loss: 0.5889 - accuracy: 0.8406\n",
      "[0.588854193687439, 0.8406127095222473]\n"
     ]
    }
   ],
   "source": [
    "results = model_pool.evaluate(X_test, y_test, verbose=2)\n",
    "\n",
    "print(results)"
   ]
  },
  {
   "cell_type": "code",
   "execution_count": 32,
   "metadata": {},
   "outputs": [
    {
     "data": {
      "image/png": "[encoded data removed]",
      "text/plain": [
       "<Figure size 432x288 with 1 Axes>"
      ]
     },
     "metadata": {
      "needs_background": "light"
     },
     "output_type": "display_data"
    }
   ],
   "source": [
    "# epoch과정에서 history확인\n",
    "history_dict = history_pool.history\n",
    "# dict_keys(['loss', 'accuracy', 'val_loss', 'val_accuracy'])\n",
    "\n",
    "import matplotlib.pyplot as plt\n",
    "\n",
    "acc = history_dict['accuracy']\n",
    "val_acc = history_dict['val_accuracy']\n",
    "loss = history_dict['loss']\n",
    "val_loss = history_dict['val_loss']\n",
    "\n",
    "epochs = range(1, len(acc) + 1)\n",
    "\n",
    "# \"bo\"는 \"파란색 점\"입니다\n",
    "plt.plot(epochs, loss, 'bo', label='Training loss')\n",
    "# b는 \"파란 실선\"입니다\n",
    "plt.plot(epochs, val_loss, 'b', label='Validation loss')\n",
    "plt.title('Training and validation loss')\n",
    "plt.xlabel('Epochs')\n",
    "plt.ylabel('Loss')\n",
    "plt.legend()\n",
    "\n",
    "plt.show()"
   ]
  },
  {
   "cell_type": "code",
   "execution_count": 33,
   "metadata": {},
   "outputs": [
    {
     "data": {
      "image/png": "[encoded data removed]",
      "text/plain": [
       "<Figure size 432x288 with 1 Axes>"
      ]
     },
     "metadata": {
      "needs_background": "light"
     },
     "output_type": "display_data"
    }
   ],
   "source": [
    "plt.clf()   # 그림을 초기화합니다\n",
    "\n",
    "plt.plot(epochs, acc, 'bo', label='Training acc')\n",
    "plt.plot(epochs, val_acc, 'b', label='Validation acc')\n",
    "plt.title('Training and validation accuracy')\n",
    "plt.xlabel('Epochs')\n",
    "plt.ylabel('Accuracy')\n",
    "plt.legend()\n",
    "\n",
    "plt.show()"
   ]
  },
  {
   "cell_type": "code",
   "execution_count": 34,
   "metadata": {},
   "outputs": [
    {
     "data": {
      "text/plain": [
       "array([ 0.07780799, -0.09337287,  0.0652566 , -0.10467735, -0.0601169 ,\n",
       "        0.01831111,  0.07467451, -0.10504161, -0.05181692, -0.10768289,\n",
       "       -0.07231932, -0.1128674 , -0.07315604,  0.01664053, -0.06539871,\n",
       "        0.12941441, -0.0074065 , -0.05772055, -0.04978089, -0.07883624,\n",
       "       -0.04547619, -0.00465728, -0.05539033,  0.10115676, -0.05124734,\n",
       "        0.02720513, -0.09321904,  0.11246976, -0.14445524, -0.09671562,\n",
       "        0.02745089,  0.16495267, -0.03041976, -0.02937029, -0.01953994,\n",
       "       -0.09004808, -0.02147289, -0.14895692, -0.1307955 , -0.11134616,\n",
       "       -0.10093413, -0.09913037,  0.09186705, -0.03351152, -0.09161551,\n",
       "       -0.09714064, -0.0832047 , -0.06846518, -0.20874448,  0.1309016 ,\n",
       "        0.02196555,  0.14847422, -0.10957895, -0.10158681, -0.02331327,\n",
       "       -0.05551369, -0.01588032, -0.06505791,  0.00648833,  0.08274308,\n",
       "       -0.08807572,  0.10836193,  0.02231841, -0.03703573, -0.05195492,\n",
       "        0.15586112, -0.0311331 , -0.11109555, -0.07817557,  0.01683242,\n",
       "       -0.07261147, -0.04887794, -0.10662345, -0.00902209, -0.07975509,\n",
       "       -0.05104359, -0.06776161, -0.10875905,  0.09494897, -0.03959708,\n",
       "       -0.10386936,  0.05787122, -0.06668344, -0.05382922, -0.08849789,\n",
       "        0.02096313, -0.07065283, -0.08674768, -0.11969151, -0.08418952,\n",
       "       -0.03097466, -0.02798114, -0.01192405,  0.09947737, -0.11733902,\n",
       "       -0.06625772, -0.10807135,  0.05666883, -0.10887333, -0.12030883,\n",
       "       -0.16964152, -0.18730332,  0.01635435, -0.11979371, -0.14279313,\n",
       "        0.02609474,  0.16227797, -0.09445108, -0.06975867, -0.11857217,\n",
       "        0.0446546 , -0.0764699 , -0.00999689, -0.01682824, -0.04913381,\n",
       "       -0.13132986, -0.01353772, -0.01550997, -0.00811756, -0.08876389,\n",
       "        0.04962441, -0.0142339 ,  0.11378297, -0.03206421,  0.01774988,\n",
       "       -0.0606545 ,  0.0552719 , -0.10135856,  0.15993363, -0.07887272,\n",
       "       -0.11146355, -0.11107463, -0.11280593, -0.01646269, -0.06956463,\n",
       "       -0.12808995, -0.04695182,  0.00637622, -0.02215936, -0.0017074 ,\n",
       "       -0.00691762, -0.11281628, -0.01922953, -0.02870364,  0.0075559 ,\n",
       "       -0.07617013,  0.10790712, -0.12938415, -0.05114296, -0.08795378,\n",
       "       -0.11266655, -0.10408851, -0.04984294,  0.08168409,  0.06446557,\n",
       "       -0.04796522, -0.11816551,  0.01560304,  0.17618181, -0.1089021 ,\n",
       "       -0.10531164, -0.12046628, -0.11482176,  0.05425511, -0.10288258,\n",
       "       -0.04995645, -0.04938132, -0.03053813, -0.09043974, -0.04555243,\n",
       "        0.02871236, -0.11491154, -0.13960357,  0.09292734,  0.236954  ,\n",
       "       -0.09703913,  0.10452428,  0.14856741, -0.08268321,  0.09422602,\n",
       "        0.14122882, -0.13451476,  0.11997816, -0.08530138, -0.05469408,\n",
       "       -0.081099  , -0.05009121,  0.04433965, -0.09859646, -0.03123574,\n",
       "        0.0208345 , -0.12940665, -0.02264813,  0.03726602,  0.02174615,\n",
       "        0.14839555, -0.09750845, -0.10016113, -0.10463436,  0.10884199,\n",
       "       -0.03957769, -0.07080363, -0.10036337,  0.07927947,  0.1054673 ,\n",
       "        0.050276  , -0.11779654, -0.0325158 ,  0.03662108, -0.09550034,\n",
       "       -0.11717198, -0.03968493,  0.00876388,  0.04575141, -0.02433606,\n",
       "        0.01752351, -0.06479564,  0.17108884, -0.04069804, -0.15346314,\n",
       "       -0.0248754 , -0.03814529, -0.0377992 , -0.04989236, -0.04135614,\n",
       "        0.05044021, -0.1271356 , -0.10973924, -0.10979433, -0.0759813 ,\n",
       "        0.13485925, -0.09671003, -0.05862194, -0.06900112,  0.18557702,\n",
       "       -0.04982666,  0.01029703,  0.02137505, -0.11716041, -0.06464421,\n",
       "       -0.07476984,  0.09705375, -0.10754676, -0.01973235, -0.11133123,\n",
       "       -0.00508095, -0.12425297, -0.12986949,  0.02087995, -0.11563585,\n",
       "       -0.11598185,  0.01045792,  0.20246793, -0.02741982, -0.14634117,\n",
       "       -0.04977811, -0.00490863,  0.13404424, -0.04264492, -0.09043727,\n",
       "       -0.00571556, -0.08978774,  0.12327678, -0.08594527, -0.10676404,\n",
       "       -0.04800536, -0.0505118 , -0.04592328,  0.04841327,  0.02392278,\n",
       "       -0.02141646, -0.00925001, -0.00421947, -0.04986934, -0.10242065,\n",
       "       -0.04616686,  0.0276555 , -0.0956262 , -0.00932642, -0.13768801,\n",
       "       -0.09540534, -0.04603766, -0.08628183, -0.0059191 , -0.10015377,\n",
       "       -0.04033996, -0.03987719, -0.02359679, -0.11557215, -0.11683948,\n",
       "       -0.08298598,  0.01995232, -0.07709087,  0.05234779,  0.02835186,\n",
       "       -0.0775663 ,  0.10172437, -0.04763629,  0.16209103,  0.08642782],\n",
       "      dtype=float32)"
      ]
     },
     "execution_count": 34,
     "metadata": {},
     "output_type": "execute_result"
    }
   ],
   "source": [
    "f = open(word2vec_file_path, 'w')\n",
    "f.write('{} {}\\n'.format(vocab_size-4, word_vector_dim))  # 몇개의 벡터를 얼마 사이즈로 기재할지 타이틀을 씁니다.\n",
    "\n",
    "vectors = model_pool.get_weights()[0]\n",
    "for i in range(4,vocab_size):\n",
    "    f.write('{} {}\\n'.format(index_to_word[i], ' '.join(map(str, list(vectors[i, :])))))\n",
    "f.close()\n",
    "\n",
    "from gensim.models.keyedvectors import Word2VecKeyedVectors\n",
    "\n",
    "word_vectors = Word2VecKeyedVectors.load_word2vec_format(word2vec_file_path, binary=False)\n",
    "vector = word_vectors['재미']\n",
    "vector"
   ]
  },
  {
   "cell_type": "code",
   "execution_count": 35,
   "metadata": {},
   "outputs": [
    {
     "data": {
      "text/plain": [
       "[('세요', 0.24426192045211792),\n",
       " ('여운', 0.24257305264472961),\n",
       " ('오랜만', 0.23129713535308838),\n",
       " ('ㅜㅜ', 0.22721442580223083),\n",
       " ('두', 0.223899245262146),\n",
       " ('보드', 0.21860213577747345),\n",
       " ('배우', 0.21736766397953033),\n",
       " ('분위기', 0.21735350787639618),\n",
       " ('없이', 0.215876966714859),\n",
       " ('해설', 0.21478070318698883)]"
      ]
     },
     "execution_count": 35,
     "metadata": {},
     "output_type": "execute_result"
    }
   ],
   "source": [
    "# 학습된 워드벡터로 임의의 단어와 가장 유사한 단어와 그 유사도를 확인해보는 방법\n",
    "\n",
    "word_vectors.similar_by_word('대박')"
   ]
  },
  {
   "cell_type": "markdown",
   "metadata": {},
   "source": [
    "RNN 모델  \n",
    "loss: 0.3900 - accuracy: 0.8424  \n",
    "학습된 워드 벡터로 유사한 단어를 꽤 잘 찾아낸다.   \n",
    "\n",
    "CNN 모델   \n",
    "loss: 0.8158 - accuracy: 0.8330  \n",
    "RNN모델보다 유사도가 조금 떨어진다.\n",
    "\n",
    "pool만 사용  \n",
    "loss: 0.5889 - accuracy: 0.8406   \n",
    "유사도 확인에서 너무 낮다. 이상하다. 데이터 초기화 했는데...   "
   ]
  },
  {
   "cell_type": "code",
   "execution_count": 68,
   "metadata": {},
   "outputs": [],
   "source": [
    "# 한국어 word2vec 이용하기\n",
    "\n",
    "import gensim\n",
    "word2vec_path = os.getenv('HOME')+'/aiffel/sentiment_classification/ko.bin'\n",
    "word2vec = gensim.models.Word2Vec.load(word2vec_path)\n",
    "\n",
    "vocab_size = 10000    # 어휘 사전의 크기입니다(10,000개의 단어)\n",
    "word_vector_dim = 200  # 워드 벡터의 차원수 (변경가능한 하이퍼파라미터)\n",
    "\n",
    "embedding_matrix = np.random.rand(vocab_size, word_vector_dim)\n",
    "\n",
    "# embedding_matrix에 Word2Vec 워드벡터를 단어 하나씩마다 차례차례 카피한다.\n",
    "for i in range(4,vocab_size):\n",
    "    if word2vec.wv.__contains__(index_to_word[i]):\n",
    "        embedding_matrix[i] = word2vec.wv.__getitem__(index_to_word[i])"
   ]
  },
  {
   "cell_type": "code",
   "execution_count": 69,
   "metadata": {},
   "outputs": [
    {
     "name": "stdout",
     "output_type": "stream",
     "text": [
      "Model: \"sequential_7\"\n",
      "_________________________________________________________________\n",
      "Layer (type)                 Output Shape              Param #   \n",
      "=================================================================\n",
      "embedding_6 (Embedding)      (None, 41, 200)           2000000   \n",
      "_________________________________________________________________\n",
      "conv1d_8 (Conv1D)            (None, 35, 16)            22416     \n",
      "_________________________________________________________________\n",
      "max_pooling1d_4 (MaxPooling1 (None, 7, 16)             0         \n",
      "_________________________________________________________________\n",
      "conv1d_9 (Conv1D)            (None, 1, 16)             1808      \n",
      "_________________________________________________________________\n",
      "global_max_pooling1d_5 (Glob (None, 16)                0         \n",
      "_________________________________________________________________\n",
      "dense_12 (Dense)             (None, 8)                 136       \n",
      "_________________________________________________________________\n",
      "dense_13 (Dense)             (None, 1)                 9         \n",
      "=================================================================\n",
      "Total params: 2,024,369\n",
      "Trainable params: 2,024,369\n",
      "Non-trainable params: 0\n",
      "_________________________________________________________________\n"
     ]
    }
   ],
   "source": [
    "# 모델 구성\n",
    "from keras.initializers import Constant\n",
    "model_koR = keras.Sequential()\n",
    "model_koR.add(keras.layers.Embedding(vocab_size, \n",
    "                                 word_vector_dim, \n",
    "                                 embeddings_initializer=Constant(embedding_matrix),  # 카피한 임베딩을 여기서 활용\n",
    "                                 input_length=maxlen, \n",
    "                                 trainable=True))   # trainable을 True로 주면 Fine-tuning\n",
    "model_koR.add(keras.layers.Conv1D(16, 7, activation='relu'))\n",
    "model_koR.add(keras.layers.MaxPooling1D(5))\n",
    "model_koR.add(keras.layers.Conv1D(16, 7, activation='relu'))\n",
    "model_koR.add(keras.layers.GlobalMaxPooling1D())\n",
    "model_koR.add(keras.layers.Dense(8, activation='relu'))\n",
    "model_koR.add(keras.layers.Dense(1, activation='sigmoid')) \n",
    "\n",
    "model_koR.summary()"
   ]
  },
  {
   "cell_type": "code",
   "execution_count": 70,
   "metadata": {},
   "outputs": [
    {
     "name": "stdout",
     "output_type": "stream",
     "text": [
      "Epoch 1/10\n",
      "2128/2128 [==============================] - 36s 17ms/step - loss: 0.4739 - accuracy: 0.7525 - val_loss: 0.3565 - val_accuracy: 0.8434\n",
      "Epoch 2/10\n",
      "2128/2128 [==============================] - 28s 13ms/step - loss: 0.3291 - accuracy: 0.8583 - val_loss: 0.3347 - val_accuracy: 0.8525\n",
      "Epoch 3/10\n",
      "2128/2128 [==============================] - 28s 13ms/step - loss: 0.2925 - accuracy: 0.8767 - val_loss: 0.3278 - val_accuracy: 0.8550\n",
      "Epoch 4/10\n",
      "2128/2128 [==============================] - 28s 13ms/step - loss: 0.2648 - accuracy: 0.8905 - val_loss: 0.3372 - val_accuracy: 0.8528\n",
      "Epoch 5/10\n",
      "2128/2128 [==============================] - 28s 13ms/step - loss: 0.2374 - accuracy: 0.9031 - val_loss: 0.3610 - val_accuracy: 0.8527\n",
      "Epoch 6/10\n",
      "2128/2128 [==============================] - 28s 13ms/step - loss: 0.2106 - accuracy: 0.9155 - val_loss: 0.3929 - val_accuracy: 0.8489\n",
      "Epoch 7/10\n",
      "2128/2128 [==============================] - 28s 13ms/step - loss: 0.1833 - accuracy: 0.9275 - val_loss: 0.4114 - val_accuracy: 0.8463\n",
      "Epoch 8/10\n",
      "2128/2128 [==============================] - 28s 13ms/step - loss: 0.1584 - accuracy: 0.9379 - val_loss: 0.4450 - val_accuracy: 0.8431\n",
      "Epoch 9/10\n",
      "2128/2128 [==============================] - 28s 13ms/step - loss: 0.1350 - accuracy: 0.9468 - val_loss: 0.4949 - val_accuracy: 0.8424\n",
      "Epoch 10/10\n",
      "2128/2128 [==============================] - 28s 13ms/step - loss: 0.1166 - accuracy: 0.9546 - val_loss: 0.5736 - val_accuracy: 0.8412\n"
     ]
    }
   ],
   "source": [
    "# 학습의 진행\n",
    "# validation set 10000건 분리\n",
    "X_val = X_train[:10000]   \n",
    "y_val = y_train[:10000]\n",
    "\n",
    "# validation set을 제외한 나머지\n",
    "partial_X_train = X_train[10000:]  \n",
    "partial_y_train = y_train[10000:]\n",
    "\n",
    "model_koR.compile(optimizer='adam',\n",
    "              loss='binary_crossentropy',\n",
    "              metrics=['accuracy'])\n",
    "              \n",
    "epochs=10  \n",
    "\n",
    "history_koR = model_koR.fit(partial_X_train,\n",
    "                    partial_y_train,\n",
    "                    epochs=epochs,\n",
    "                    batch_size=64,\n",
    "                    validation_data=(X_val, y_val),\n",
    "                    verbose=1)"
   ]
  },
  {
   "cell_type": "code",
   "execution_count": 71,
   "metadata": {},
   "outputs": [
    {
     "name": "stdout",
     "output_type": "stream",
     "text": [
      "1537/1537 - 2s - loss: 0.5923 - accuracy: 0.8397\n",
      "[0.5922560095787048, 0.8397380113601685]\n"
     ]
    }
   ],
   "source": [
    "results = model_koR.evaluate(X_test, y_test, verbose=2)\n",
    "\n",
    "print(results)"
   ]
  },
  {
   "cell_type": "code",
   "execution_count": 72,
   "metadata": {},
   "outputs": [
    {
     "data": {
      "image/png": "[encoded data removed]",
      "text/plain": [
       "<Figure size 432x288 with 1 Axes>"
      ]
     },
     "metadata": {
      "needs_background": "light"
     },
     "output_type": "display_data"
    }
   ],
   "source": [
    "# epoch과정에서 history확인\n",
    "history_dict = history_koR.history\n",
    "# dict_keys(['loss', 'accuracy', 'val_loss', 'val_accuracy'])\n",
    "\n",
    "import matplotlib.pyplot as plt\n",
    "\n",
    "acc = history_dict['accuracy']\n",
    "val_acc = history_dict['val_accuracy']\n",
    "loss = history_dict['loss']\n",
    "val_loss = history_dict['val_loss']\n",
    "\n",
    "epochs = range(1, len(acc) + 1)\n",
    "\n",
    "# \"bo\"는 \"파란색 점\"입니다\n",
    "plt.plot(epochs, loss, 'bo', label='Training loss')\n",
    "# b는 \"파란 실선\"입니다\n",
    "plt.plot(epochs, val_loss, 'b', label='Validation loss')\n",
    "plt.title('Training and validation loss')\n",
    "plt.xlabel('Epochs')\n",
    "plt.ylabel('Loss')\n",
    "plt.legend()\n",
    "\n",
    "plt.show()"
   ]
  },
  {
   "cell_type": "code",
   "execution_count": 73,
   "metadata": {},
   "outputs": [
    {
     "data": {
      "image/png": "[encoded data removed]",
      "text/plain": [
       "<Figure size 432x288 with 1 Axes>"
      ]
     },
     "metadata": {
      "needs_background": "light"
     },
     "output_type": "display_data"
    }
   ],
   "source": [
    "plt.clf()   # 그림을 초기화합니다\n",
    "\n",
    "plt.plot(epochs, acc, 'bo', label='Training acc')\n",
    "plt.plot(epochs, val_acc, 'b', label='Validation acc')\n",
    "plt.title('Training and validation accuracy')\n",
    "plt.xlabel('Epochs')\n",
    "plt.ylabel('Accuracy')\n",
    "plt.legend()\n",
    "\n",
    "plt.show()"
   ]
  },
  {
   "cell_type": "code",
   "execution_count": 74,
   "metadata": {
    "scrolled": true
   },
   "outputs": [
    {
     "data": {
      "text/plain": [
       "array([ 0.00577776, -0.65306437,  0.371689  , -1.2402343 , -1.1814426 ,\n",
       "       -0.64402634, -0.19001149,  0.51666677,  0.05042283,  0.36142746,\n",
       "       -0.65249527,  0.33996958,  0.8143649 ,  1.1185719 , -0.95410955,\n",
       "        0.53508294, -0.18898784,  1.3541889 ,  0.68612224,  0.11906191,\n",
       "       -0.38935715, -0.45948127,  0.2857217 ,  0.3830475 ,  0.6272227 ,\n",
       "        0.2604721 ,  0.5397699 ,  0.64865553,  0.32912078, -0.56621647,\n",
       "       -1.3851476 , -0.36833906, -0.7620392 ,  0.36746135,  0.75635237,\n",
       "       -1.3165169 ,  0.42561075,  0.8851073 ,  0.8772501 ,  0.81199276,\n",
       "        1.3386259 , -0.45939845, -0.75283307, -0.4392536 , -0.099571  ,\n",
       "       -0.45755756,  1.1690022 ,  0.19904014, -0.84947324, -0.63717335,\n",
       "        0.23029071, -0.62508094, -0.58517396,  0.14374888, -1.4901227 ,\n",
       "        0.34760362,  0.88721526, -0.34121463,  0.08968925, -0.57654834,\n",
       "        0.5395483 , -0.46896523, -0.9010956 ,  0.66406775,  0.07793205,\n",
       "       -1.0567714 ,  0.7286318 ,  0.8056225 , -0.01768406,  0.955366  ,\n",
       "        0.597072  , -0.5636876 ,  0.158569  ,  0.75559133,  0.42072526,\n",
       "       -0.5369017 , -0.5911276 ,  0.6962639 ,  0.07712398, -0.9568618 ,\n",
       "       -0.3358005 ,  0.4862079 ,  0.1593633 ,  0.2762629 , -0.15105203,\n",
       "        0.33488122,  0.2268138 , -0.44375518,  0.84630406, -0.8960609 ,\n",
       "        0.48825315, -0.70424235,  0.5483787 , -1.191235  ,  0.06599085,\n",
       "        0.43172964, -0.6987696 ,  1.1352475 ,  1.3601363 ,  1.0023638 ,\n",
       "        0.44122884,  0.74991953,  0.25308868, -0.5958615 , -1.1305982 ,\n",
       "        0.94418937, -0.29209948, -1.3610516 , -0.64514345, -0.04033987,\n",
       "       -0.20261574, -1.0982993 ,  0.46843395, -0.3976501 ,  1.138948  ,\n",
       "       -0.21903875, -0.8611527 ,  0.87031764,  0.9010788 ,  0.49083894,\n",
       "        0.60917526, -0.2798478 ,  0.5238885 , -0.9159636 , -0.47157836,\n",
       "        0.76507705, -0.09065839, -1.1897415 ,  0.37833154,  0.9284626 ,\n",
       "        0.20728612, -0.6411845 , -0.27143985,  0.6581985 ,  0.8613044 ,\n",
       "        0.5628754 , -0.21963614,  0.936173  , -0.23418047,  0.02934463,\n",
       "        0.44806617,  1.6770971 , -0.2616626 , -0.13908926, -0.95849   ,\n",
       "        0.70884913, -1.8455952 ,  0.24460426, -1.3520778 ,  0.9738465 ,\n",
       "       -0.17169753, -0.86776006, -0.5669258 ,  0.11230163, -0.15434022,\n",
       "        0.03684963,  0.05508837,  0.29707086, -0.44971395,  0.42617792,\n",
       "        0.7177725 , -0.33742064,  0.35737306,  0.44178385, -0.8202879 ,\n",
       "       -0.1594794 , -0.2028368 ,  0.25027117,  0.01885262,  1.5657028 ,\n",
       "       -1.1357795 ,  0.14209974,  0.75982314, -0.40259778, -0.86233985,\n",
       "        0.25617534, -1.2709584 ,  0.35812658,  0.6573563 , -0.37082186,\n",
       "       -0.51349735, -0.00886698, -0.4935444 , -0.07554758,  0.39967588,\n",
       "        1.4069254 ,  0.4209384 , -0.47096065,  1.1534331 ,  0.32347953,\n",
       "       -0.5404377 ,  0.04732041,  0.1473784 ,  0.4802288 , -0.7847059 ,\n",
       "        0.21507414, -1.1485859 ,  0.644128  ,  0.14751787,  0.74829423],\n",
       "      dtype=float32)"
      ]
     },
     "execution_count": 74,
     "metadata": {},
     "output_type": "execute_result"
    }
   ],
   "source": [
    "f = open(word2vec_file_path, 'w')\n",
    "f.write('{} {}\\n'.format(vocab_size-4, word_vector_dim))  # 몇개의 벡터를 얼마 사이즈로 기재할지 타이틀을 씁니다.\n",
    "\n",
    "vectors = model_koR.get_weights()[0]\n",
    "for i in range(4,vocab_size):\n",
    "    f.write('{} {}\\n'.format(index_to_word[i], ' '.join(map(str, list(vectors[i, :])))))\n",
    "f.close()\n",
    "\n",
    "from gensim.models.keyedvectors import Word2VecKeyedVectors\n",
    "\n",
    "word_vectors = Word2VecKeyedVectors.load_word2vec_format(word2vec_file_path, binary=False)\n",
    "vector = word_vectors['재미']\n",
    "vector"
   ]
  },
  {
   "cell_type": "code",
   "execution_count": 75,
   "metadata": {},
   "outputs": [
    {
     "data": {
      "text/plain": [
       "[('단연', 0.6689707040786743),\n",
       " ('미생', 0.6627129316329956),\n",
       " ('악평', 0.6589504480361938),\n",
       " ('코스모스', 0.6483374834060669),\n",
       " ('드라마틱', 0.6266109943389893),\n",
       " ('오래도록', 0.6254310607910156),\n",
       " ('해학', 0.6162319183349609),\n",
       " ('씨네', 0.6131155490875244),\n",
       " ('후편', 0.6120657920837402),\n",
       " ('냉혹', 0.6090768575668335)]"
      ]
     },
     "execution_count": 75,
     "metadata": {},
     "output_type": "execute_result"
    }
   ],
   "source": [
    "# 학습된 워드벡터로 임의의 단어와 가장 유사한 단어와 그 유사도를 확인해보는 방법\n",
    "\n",
    "word_vectors.similar_by_word('대박')"
   ]
  },
  {
   "cell_type": "markdown",
   "metadata": {},
   "source": [
    "한국어 Word2Vec 임베딩을 활용했지만 마의 85%를 넘지 못하였으며  \n",
    "유사도도 RNN보다 낮았다.   \n",
    "네 모델 모두 정확도가 85%까지 빠르게 도달하였으며 거의 일정하였다.   \n",
    "batch_size 조정: 유사도 조금씩 높아짐.   "
   ]
  }
 ],
 "metadata": {
  "kernelspec": {
   "display_name": "aiffel",
   "language": "python",
   "name": "aiffel"
  },
  "language_info": {
   "codemirror_mode": {
    "name": "ipython",
    "version": 3
   },
   "file_extension": ".py",
   "mimetype": "text/x-python",
   "name": "python",
   "nbconvert_exporter": "python",
   "pygments_lexer": "ipython3",
   "version": "3.7.6"
  }
 },
 "nbformat": 4,
 "nbformat_minor": 4
}
