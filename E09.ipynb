{
 "cells": [
  {
   "cell_type": "markdown",
   "metadata": {},
   "source": [
    "## E09 - movie review sentiment analysis"
   ]
  },
  {
   "cell_type": "code",
   "execution_count": 1,
   "metadata": {},
   "outputs": [
    {
     "data": {
      "text/html": [
       "<div>\n",
       "<style scoped>\n",
       "    .dataframe tbody tr th:only-of-type {\n",
       "        vertical-align: middle;\n",
       "    }\n",
       "\n",
       "    .dataframe tbody tr th {\n",
       "        vertical-align: top;\n",
       "    }\n",
       "\n",
       "    .dataframe thead th {\n",
       "        text-align: right;\n",
       "    }\n",
       "</style>\n",
       "<table border=\"1\" class=\"dataframe\">\n",
       "  <thead>\n",
       "    <tr style=\"text-align: right;\">\n",
       "      <th></th>\n",
       "      <th>id</th>\n",
       "      <th>document</th>\n",
       "      <th>label</th>\n",
       "    </tr>\n",
       "  </thead>\n",
       "  <tbody>\n",
       "    <tr>\n",
       "      <th>0</th>\n",
       "      <td>9976970</td>\n",
       "      <td>아 더빙.. 진짜 짜증나네요 목소리</td>\n",
       "      <td>0</td>\n",
       "    </tr>\n",
       "    <tr>\n",
       "      <th>1</th>\n",
       "      <td>3819312</td>\n",
       "      <td>흠...포스터보고 초딩영화줄....오버연기조차 가볍지 않구나</td>\n",
       "      <td>1</td>\n",
       "    </tr>\n",
       "    <tr>\n",
       "      <th>2</th>\n",
       "      <td>10265843</td>\n",
       "      <td>너무재밓었다그래서보는것을추천한다</td>\n",
       "      <td>0</td>\n",
       "    </tr>\n",
       "    <tr>\n",
       "      <th>3</th>\n",
       "      <td>9045019</td>\n",
       "      <td>교도소 이야기구먼 ..솔직히 재미는 없다..평점 조정</td>\n",
       "      <td>0</td>\n",
       "    </tr>\n",
       "    <tr>\n",
       "      <th>4</th>\n",
       "      <td>6483659</td>\n",
       "      <td>사이몬페그의 익살스런 연기가 돋보였던 영화!스파이더맨에서 늙어보이기만 했던 커스틴 ...</td>\n",
       "      <td>1</td>\n",
       "    </tr>\n",
       "  </tbody>\n",
       "</table>\n",
       "</div>"
      ],
      "text/plain": [
       "         id                                           document  label\n",
       "0   9976970                                아 더빙.. 진짜 짜증나네요 목소리      0\n",
       "1   3819312                  흠...포스터보고 초딩영화줄....오버연기조차 가볍지 않구나      1\n",
       "2  10265843                                  너무재밓었다그래서보는것을추천한다      0\n",
       "3   9045019                      교도소 이야기구먼 ..솔직히 재미는 없다..평점 조정      0\n",
       "4   6483659  사이몬페그의 익살스런 연기가 돋보였던 영화!스파이더맨에서 늙어보이기만 했던 커스틴 ...      1"
      ]
     },
     "execution_count": 1,
     "metadata": {},
     "output_type": "execute_result"
    }
   ],
   "source": [
    "import pandas as pd\n",
    "import urllib.request\n",
    "%matplotlib inline\n",
    "import matplotlib.pyplot as plt\n",
    "import re\n",
    "from konlpy.tag import Okt\n",
    "from tensorflow import keras\n",
    "from tensorflow.keras.preprocessing.text import Tokenizer\n",
    "import numpy as np\n",
    "from tensorflow.keras.preprocessing.sequence import pad_sequences\n",
    "from collections import Counter\n",
    "\n",
    "# 데이터를 읽어봅시다. \n",
    "train_data = pd.read_table('~/aiffel/sentiment_classification/ratings_train.txt')\n",
    "test_data = pd.read_table('~/aiffel/sentiment_classification/ratings_test.txt')\n",
    "\n",
    "train_data.head()"
   ]
  },
  {
   "cell_type": "code",
   "execution_count": 2,
   "metadata": {},
   "outputs": [
    {
     "name": "stdout",
     "output_type": "stream",
     "text": [
      "id          0\n",
      "document    5\n",
      "label       0\n",
      "dtype: int64\n",
      "\n",
      "id          0\n",
      "document    3\n",
      "label       0\n",
      "dtype: int64\n"
     ]
    }
   ],
   "source": [
    "# 결측치 확인\n",
    "print(train_data.isnull().sum(), end='\\n\\n')\n",
    "print(test_data.isnull().sum())"
   ]
  },
  {
   "cell_type": "code",
   "execution_count": 3,
   "metadata": {},
   "outputs": [
    {
     "name": "stdout",
     "output_type": "stream",
     "text": [
      "훈련 샘플 개수: 146182, 테스트 개수: 49157\n"
     ]
    }
   ],
   "source": [
    "from konlpy.tag import Mecab\n",
    "tokenizer = Mecab()\n",
    "stopwords = ['의','가','이','은','들','는','좀','잘','걍','과','도','를','으로','자','에','와','한','하다']\n",
    "\n",
    "def load_data(train_data, test_data, num_words=10000):\n",
    "    # 중복 데이터 제거하기\n",
    "    train_data.drop_duplicates(subset=['document'], inplace=True)\n",
    "    test_data.drop_duplicates(subset=['document'], inplace=True)\n",
    "    \n",
    "    # 결측치 제거하기\n",
    "    train_data.dropna(how='any', inplace=True)\n",
    "    test_data.dropna(how='any', inplace=True)\n",
    "    \n",
    "    X_train = []\n",
    "    for sentence in train_data['document']:\n",
    "        # 토큰화하기\n",
    "        temp_data = tokenizer.morphs(sentence)\n",
    "        # 불용어 제거하기\n",
    "        temp_data = [word for word in temp_data if not word in stopwords]\n",
    "        X_train.append(temp_data)\n",
    "        \n",
    "    X_test = []\n",
    "    for sentence in test_data['document']:\n",
    "        #토큰화하기\n",
    "        temp_data = tokenizer.morphs(sentence)\n",
    "        #불용어 제거하기\n",
    "        temp_data = [word for word in temp_data if not word in stopwords]\n",
    "        X_test.append(temp_data)\n",
    "        \n",
    "    words = np.concatenate(X_train).tolist()\n",
    "    counter = Counter(words)\n",
    "    counter = counter.most_common(10000-4) # most_common(n): 최빈값 n개 반환 [(1, x), (2, y), ... , (n, xx)]\n",
    "    # 데이터셋에서 만든 사전\n",
    "    vocab = ['<PAD>', '<BOS>', '<UNK>', '<UNUSED>'] + [key for key, _ in counter]\n",
    "    word_to_index = {word:index for index, word in enumerate(vocab)}\n",
    "    def wordlist_to_indexlist(wordlist):\n",
    "        return [word_to_index[word] if word in word_to_index else word_to_index['<UNK>'] for word in wordlist]\n",
    "    \n",
    "    X_train = list(map(wordlist_to_indexlist, X_train))\n",
    "    X_test = list(map(wordlist_to_indexlist, X_test))\n",
    "   \n",
    "    return X_train, np.array(list(train_data['label'])), X_test, np.array(list(test_data['label'])), word_to_index\n",
    "\n",
    "X_train, y_train, X_test, y_test, word_to_index = load_data(train_data, test_data)\n",
    "print(\"훈련 샘플 개수: {}, 테스트 개수: {}\".format(len(X_train), len(X_test)))"
   ]
  },
  {
   "cell_type": "code",
   "execution_count": 4,
   "metadata": {},
   "outputs": [],
   "source": [
    "index_to_word = {index:word for word, index in word_to_index.items()}"
   ]
  },
  {
   "cell_type": "code",
   "execution_count": 5,
   "metadata": {},
   "outputs": [],
   "source": [
    "# 문장 1개를 활용할 딕셔너리와 함께 주면, 단어 인덱스 리스트 벡터로 변환해 주는 함수입니다. \n",
    "# 단, 모든 문장은 <BOS>로 시작하는 것으로 합니다. \n",
    "def get_encoded_sentence(sentence, word_to_index):\n",
    "    return [word_to_index['<BOS>']]+[word_to_index[word] if word in word_to_index else word_to_index['<UNK>'] for word in sentence.split()]\n",
    "\n",
    "# 여러 개의 문장 리스트를 한꺼번에 단어 인덱스 리스트 벡터로 encode해 주는 함수입니다. \n",
    "def get_encoded_sentences(sentences, word_to_index):\n",
    "    return [get_encoded_sentence(sentence, word_to_index) for sentence in sentences]\n",
    "\n",
    "# 숫자 벡터로 encode된 문장을 원래대로 decode하는 함수입니다. \n",
    "def get_decoded_sentence(encoded_sentence, index_to_word):\n",
    "    return ' '.join(index_to_word[index] if index in index_to_word else '<UNK>' for index in encoded_sentence[1:])  #[1:]를 통해 <BOS>를 제외\n",
    "\n",
    "# 여러개의 숫자 벡터로 encode된 문장을 한꺼번에 원래대로 decode하는 함수입니다. \n",
    "def get_decoded_sentences(encoded_sentences, index_to_word):\n",
    "    return [get_decoded_sentence(encoded_sentence, index_to_word) for encoded_sentence in encoded_sentences]"
   ]
  },
  {
   "cell_type": "code",
   "execution_count": 6,
   "metadata": {},
   "outputs": [
    {
     "name": "stdout",
     "output_type": "stream",
     "text": [
      "[32, 74, 919, 4, 4, 39, 228, 20, 33, 748]\n",
      "0\n"
     ]
    }
   ],
   "source": [
    "print(X_train[0]) # 1번째 리뷰\n",
    "print(y_train[0]) # 1번째 리뷰 라벨"
   ]
  },
  {
   "cell_type": "code",
   "execution_count": 7,
   "metadata": {},
   "outputs": [
    {
     "name": "stdout",
     "output_type": "stream",
     "text": [
      "문장길이 평균 :  15.969376315021577\n",
      "문장길이 최대 :  116\n",
      "문장길이 표준편차 :  12.843535456326455\n",
      "pad_sequences maxlen :  41\n",
      "전체 문장의 0.9342988343341575%가 maxlen 설정값 이내에 포함됩니다. \n"
     ]
    }
   ],
   "source": [
    "# 문장 최대 길이 확인하기(maxlen)\n",
    "\n",
    "total_data_text = list(X_train) + list(X_test)\n",
    "# 텍스트데이터 문장길이의 리스트를 생성한 후\n",
    "num_tokens = [len(tokens) for tokens in total_data_text]\n",
    "num_tokens = np.array(num_tokens)\n",
    "# 문장길이의 평균값, 최대값, 표준편차를 계산해 본다. \n",
    "print('문장길이 평균 : ', np.mean(num_tokens))\n",
    "print('문장길이 최대 : ', np.max(num_tokens))\n",
    "print('문장길이 표준편차 : ', np.std(num_tokens))\n",
    "\n",
    "# 예를들어, 최대 길이를 (평균 + 2*표준편차)로 한다면,  \n",
    "max_tokens = np.mean(num_tokens) + 2 * np.std(num_tokens)\n",
    "maxlen = int(max_tokens)\n",
    "print('pad_sequences maxlen : ', maxlen)\n",
    "print('전체 문장의 {}%가 maxlen 설정값 이내에 포함됩니다. '.format(np.sum(num_tokens < max_tokens) / len(num_tokens)))"
   ]
  },
  {
   "cell_type": "code",
   "execution_count": 8,
   "metadata": {},
   "outputs": [
    {
     "name": "stdout",
     "output_type": "stream",
     "text": [
      "(146182, 41)\n"
     ]
    }
   ],
   "source": [
    "# 데이터셋의 문장 길이 맞추기\n",
    "X_train = keras.preprocessing.sequence.pad_sequences(X_train,\n",
    "                                                        value=word_to_index[\"<PAD>\"],\n",
    "                                                        padding='post', # 혹은 'pre'\n",
    "                                                        maxlen=maxlen)\n",
    "\n",
    "X_test = keras.preprocessing.sequence.pad_sequences(X_test,\n",
    "                                                       value=word_to_index[\"<PAD>\"],\n",
    "                                                       padding='post', # 혹은 'pre'\n",
    "                                                       maxlen=maxlen)\n",
    "\n",
    "print(X_train.shape)"
   ]
  },
  {
   "cell_type": "code",
   "execution_count": 9,
   "metadata": {},
   "outputs": [
    {
     "name": "stdout",
     "output_type": "stream",
     "text": [
      "Model: \"sequential\"\n",
      "_________________________________________________________________\n",
      "Layer (type)                 Output Shape              Param #   \n",
      "=================================================================\n",
      "embedding (Embedding)        (None, None, 300)         3000000   \n",
      "_________________________________________________________________\n",
      "lstm (LSTM)                  (None, 8)                 9888      \n",
      "_________________________________________________________________\n",
      "dense (Dense)                (None, 8)                 72        \n",
      "_________________________________________________________________\n",
      "dense_1 (Dense)              (None, 1)                 9         \n",
      "=================================================================\n",
      "Total params: 3,009,969\n",
      "Trainable params: 3,009,969\n",
      "Non-trainable params: 0\n",
      "_________________________________________________________________\n"
     ]
    }
   ],
   "source": [
    "# RNN모델을 사용\n",
    "\n",
    "vocab_size = 10000    # 어휘 사전의 크기입니다(10,000개의 단어)\n",
    "word_vector_dim = 300  # 워드 벡터의 차원수 (변경가능한 하이퍼파라미터)\n",
    "\n",
    "model_lstm = keras.Sequential()\n",
    "model_lstm.add(keras.layers.Embedding(vocab_size, word_vector_dim, input_shape=(None,)))\n",
    "model_lstm.add(keras.layers.LSTM(8))   # 가장 널리 쓰이는 RNN인 LSTM 레이어를 사용하였습니다. 이때 LSTM state 벡터의 차원수는 8로 하였습니다. (변경가능)\n",
    "model_lstm.add(keras.layers.Dense(8, activation='relu'))\n",
    "model_lstm.add(keras.layers.Dense(1, activation='sigmoid'))  # 최종 출력은 긍정/부정을 나타내는 1dim 입니다.\n",
    "\n",
    "model_lstm.summary()"
   ]
  },
  {
   "cell_type": "code",
   "execution_count": 10,
   "metadata": {},
   "outputs": [
    {
     "name": "stdout",
     "output_type": "stream",
     "text": [
      "Model: \"sequential_1\"\n",
      "_________________________________________________________________\n",
      "Layer (type)                 Output Shape              Param #   \n",
      "=================================================================\n",
      "embedding_1 (Embedding)      (None, None, 300)         3000000   \n",
      "_________________________________________________________________\n",
      "conv1d (Conv1D)              (None, None, 16)          33616     \n",
      "_________________________________________________________________\n",
      "max_pooling1d (MaxPooling1D) (None, None, 16)          0         \n",
      "_________________________________________________________________\n",
      "conv1d_1 (Conv1D)            (None, None, 16)          1808      \n",
      "_________________________________________________________________\n",
      "global_max_pooling1d (Global (None, 16)                0         \n",
      "_________________________________________________________________\n",
      "dense_2 (Dense)              (None, 8)                 136       \n",
      "_________________________________________________________________\n",
      "dense_3 (Dense)              (None, 1)                 9         \n",
      "=================================================================\n",
      "Total params: 3,035,569\n",
      "Trainable params: 3,035,569\n",
      "Non-trainable params: 0\n",
      "_________________________________________________________________\n"
     ]
    }
   ],
   "source": [
    "# CNN모델을 사용\n",
    "\n",
    "vocab_size = 10000    # 어휘 사전의 크기입니다(10,000개의 단어)\n",
    "word_vector_dim = 300  # 워드 벡터의 차원수 (변경가능한 하이퍼파라미터)\n",
    "\n",
    "model_cnn = keras.Sequential()\n",
    "model_cnn.add(keras.layers.Embedding(vocab_size, word_vector_dim, input_shape=(None,)))\n",
    "model_cnn.add(keras.layers.Conv1D(16, 7, activation='relu'))\n",
    "model_cnn.add(keras.layers.MaxPooling1D(5))\n",
    "model_cnn.add(keras.layers.Conv1D(16, 7, activation='relu'))\n",
    "model_cnn.add(keras.layers.GlobalMaxPooling1D())\n",
    "model_cnn.add(keras.layers.Dense(8, activation='relu'))\n",
    "model_cnn.add(keras.layers.Dense(1, activation='sigmoid'))  # 최종 출력은 긍정/부정을 나타내는 1dim 입니다.\n",
    "\n",
    "model_cnn.summary()"
   ]
  },
  {
   "cell_type": "code",
   "execution_count": 28,
   "metadata": {},
   "outputs": [
    {
     "name": "stdout",
     "output_type": "stream",
     "text": [
      "Model: \"sequential_3\"\n",
      "_________________________________________________________________\n",
      "Layer (type)                 Output Shape              Param #   \n",
      "=================================================================\n",
      "embedding_3 (Embedding)      (None, None, 300)         3000000   \n",
      "_________________________________________________________________\n",
      "global_max_pooling1d_2 (Glob (None, 300)               0         \n",
      "_________________________________________________________________\n",
      "dense_6 (Dense)              (None, 8)                 2408      \n",
      "_________________________________________________________________\n",
      "dense_7 (Dense)              (None, 1)                 9         \n",
      "=================================================================\n",
      "Total params: 3,002,417\n",
      "Trainable params: 3,002,417\n",
      "Non-trainable params: 0\n",
      "_________________________________________________________________\n"
     ]
    }
   ],
   "source": [
    "# pooling만 사용\n",
    "\n",
    "vocab_size = 10000    # 어휘 사전의 크기입니다(10,000개의 단어)\n",
    "word_vector_dim = 300  # 워드 벡터의 차원수 (변경가능한 하이퍼파라미터)\n",
    "\n",
    "model_pool = keras.Sequential()\n",
    "model_pool.add(keras.layers.Embedding(vocab_size, word_vector_dim, input_shape=(None,)))\n",
    "model_pool.add(keras.layers.GlobalMaxPooling1D())\n",
    "model_pool.add(keras.layers.Dense(8, activation='relu'))\n",
    "model_pool.add(keras.layers.Dense(1, activation='sigmoid'))  # 최종 출력은 긍정/부정을 나타내는 1dim 입니다.\n",
    "\n",
    "model_pool.summary()"
   ]
  },
  {
   "cell_type": "code",
   "execution_count": 12,
   "metadata": {},
   "outputs": [
    {
     "name": "stdout",
     "output_type": "stream",
     "text": [
      "(136182, 41)\n",
      "(136182,)\n"
     ]
    }
   ],
   "source": [
    "# validation set 10000건 분리\n",
    "X_val = X_train[:10000]   \n",
    "y_val = y_train[:10000]\n",
    "\n",
    "# validation set을 제외한 나머지\n",
    "partial_X_train = X_train[10000:]  \n",
    "partial_y_train = y_train[10000:]\n",
    "\n",
    "print(partial_X_train.shape)\n",
    "print(partial_y_train.shape)"
   ]
  },
  {
   "cell_type": "code",
   "execution_count": 13,
   "metadata": {},
   "outputs": [
    {
     "name": "stdout",
     "output_type": "stream",
     "text": [
      "Epoch 1/20\n",
      "266/266 [==============================] - 8s 29ms/step - loss: 0.5526 - accuracy: 0.6928 - val_loss: 0.4003 - val_accuracy: 0.8372\n",
      "Epoch 2/20\n",
      "266/266 [==============================] - 7s 28ms/step - loss: 0.3845 - accuracy: 0.8407 - val_loss: 0.3770 - val_accuracy: 0.8410\n",
      "Epoch 3/20\n",
      "266/266 [==============================] - 7s 28ms/step - loss: 0.3418 - accuracy: 0.8620 - val_loss: 0.3579 - val_accuracy: 0.8478\n",
      "Epoch 4/20\n",
      "266/266 [==============================] - 7s 28ms/step - loss: 0.3238 - accuracy: 0.8722 - val_loss: 0.3622 - val_accuracy: 0.8473\n",
      "Epoch 5/20\n",
      "266/266 [==============================] - 7s 28ms/step - loss: 0.3022 - accuracy: 0.8818 - val_loss: 0.3630 - val_accuracy: 0.8467\n",
      "Epoch 6/20\n",
      "266/266 [==============================] - 7s 28ms/step - loss: 0.2811 - accuracy: 0.8910 - val_loss: 0.3674 - val_accuracy: 0.8490\n",
      "Epoch 7/20\n",
      "266/266 [==============================] - 7s 28ms/step - loss: 0.2672 - accuracy: 0.8972 - val_loss: 0.3859 - val_accuracy: 0.8486\n",
      "Epoch 8/20\n",
      "266/266 [==============================] - 7s 28ms/step - loss: 0.2560 - accuracy: 0.9027 - val_loss: 0.3836 - val_accuracy: 0.8508\n",
      "Epoch 9/20\n",
      "266/266 [==============================] - 7s 28ms/step - loss: 0.2425 - accuracy: 0.9084 - val_loss: 0.3941 - val_accuracy: 0.8476\n",
      "Epoch 10/20\n",
      "266/266 [==============================] - 7s 28ms/step - loss: 0.2306 - accuracy: 0.9136 - val_loss: 0.4056 - val_accuracy: 0.8487\n",
      "Epoch 11/20\n",
      "266/266 [==============================] - 7s 28ms/step - loss: 0.2213 - accuracy: 0.9179 - val_loss: 0.4265 - val_accuracy: 0.8494\n",
      "Epoch 12/20\n",
      "266/266 [==============================] - 7s 28ms/step - loss: 0.2119 - accuracy: 0.9223 - val_loss: 0.4252 - val_accuracy: 0.8463\n",
      "Epoch 13/20\n",
      "266/266 [==============================] - 7s 28ms/step - loss: 0.2017 - accuracy: 0.9269 - val_loss: 0.4306 - val_accuracy: 0.8498\n",
      "Epoch 14/20\n",
      "266/266 [==============================] - 7s 28ms/step - loss: 0.1934 - accuracy: 0.9304 - val_loss: 0.4436 - val_accuracy: 0.8474\n",
      "Epoch 15/20\n",
      "266/266 [==============================] - 7s 28ms/step - loss: 0.1843 - accuracy: 0.9344 - val_loss: 0.4481 - val_accuracy: 0.8492\n",
      "Epoch 16/20\n",
      "266/266 [==============================] - 7s 28ms/step - loss: 0.1778 - accuracy: 0.9375 - val_loss: 0.4541 - val_accuracy: 0.8474\n",
      "Epoch 17/20\n",
      "266/266 [==============================] - 7s 28ms/step - loss: 0.1720 - accuracy: 0.9400 - val_loss: 0.4555 - val_accuracy: 0.8480\n",
      "Epoch 18/20\n",
      "266/266 [==============================] - 7s 28ms/step - loss: 0.1660 - accuracy: 0.9423 - val_loss: 0.4670 - val_accuracy: 0.8443\n",
      "Epoch 19/20\n",
      "266/266 [==============================] - 7s 28ms/step - loss: 0.1565 - accuracy: 0.9466 - val_loss: 0.4676 - val_accuracy: 0.8493\n",
      "Epoch 20/20\n",
      "266/266 [==============================] - 7s 28ms/step - loss: 0.1500 - accuracy: 0.9498 - val_loss: 0.4841 - val_accuracy: 0.8458\n"
     ]
    }
   ],
   "source": [
    "# 모델 학습하기\n",
    "model_lstm.compile(optimizer='adam',\n",
    "              loss='binary_crossentropy',\n",
    "              metrics=['accuracy'])\n",
    "              \n",
    "epochs=20\n",
    "\n",
    "history_lstm = model_lstm.fit(partial_X_train,\n",
    "                    partial_y_train,\n",
    "                    epochs=epochs,\n",
    "                    batch_size=512,\n",
    "                    validation_data=(X_val, y_val),\n",
    "                    verbose=1)"
   ]
  },
  {
   "cell_type": "code",
   "execution_count": 14,
   "metadata": {},
   "outputs": [
    {
     "name": "stdout",
     "output_type": "stream",
     "text": [
      "1537/1537 - 3s - loss: 0.4884 - accuracy: 0.8414\n",
      "[0.4883509874343872, 0.841426432132721]\n"
     ]
    }
   ],
   "source": [
    "results = model_lstm.evaluate(X_test, y_test, verbose=2)\n",
    "\n",
    "print(results)"
   ]
  },
  {
   "cell_type": "code",
   "execution_count": 15,
   "metadata": {},
   "outputs": [
    {
     "data": {
      "image/png": "[encoded data removed]",
      "text/plain": [
       "<Figure size 432x288 with 1 Axes>"
      ]
     },
     "metadata": {
      "needs_background": "light"
     },
     "output_type": "display_data"
    }
   ],
   "source": [
    "# epoch과정에서 history확인\n",
    "history_dict = history_lstm.history\n",
    "# dict_keys(['loss', 'accuracy', 'val_loss', 'val_accuracy'])\n",
    "\n",
    "import matplotlib.pyplot as plt\n",
    "\n",
    "acc = history_dict['accuracy']\n",
    "val_acc = history_dict['val_accuracy']\n",
    "loss = history_dict['loss']\n",
    "val_loss = history_dict['val_loss']\n",
    "\n",
    "epochs = range(1, len(acc) + 1)\n",
    "\n",
    "# \"bo\"는 \"파란색 점\"입니다\n",
    "plt.plot(epochs, loss, 'bo', label='Training loss')\n",
    "# b는 \"파란 실선\"입니다\n",
    "plt.plot(epochs, val_loss, 'b', label='Validation loss')\n",
    "plt.title('Training and validation loss')\n",
    "plt.xlabel('Epochs')\n",
    "plt.ylabel('Loss')\n",
    "plt.legend()\n",
    "\n",
    "plt.show()"
   ]
  },
  {
   "cell_type": "code",
   "execution_count": 16,
   "metadata": {},
   "outputs": [
    {
     "data": {
      "image/png": "[encoded data removed]",
      "text/plain": [
       "<Figure size 432x288 with 1 Axes>"
      ]
     },
     "metadata": {
      "needs_background": "light"
     },
     "output_type": "display_data"
    }
   ],
   "source": [
    "plt.clf()   # 그림을 초기화합니다\n",
    "\n",
    "plt.plot(epochs, acc, 'bo', label='Training acc')\n",
    "plt.plot(epochs, val_acc, 'b', label='Validation acc')\n",
    "plt.title('Training and validation accuracy')\n",
    "plt.xlabel('Epochs')\n",
    "plt.ylabel('Accuracy')\n",
    "plt.legend()\n",
    "\n",
    "plt.show()"
   ]
  },
  {
   "cell_type": "code",
   "execution_count": 17,
   "metadata": {},
   "outputs": [
    {
     "name": "stdout",
     "output_type": "stream",
     "text": [
      "(10000, 300)\n"
     ]
    }
   ],
   "source": [
    "# model의 첫 번째 레이어인 Embedding, 학습된 워드 벡터가 존재할 것\n",
    "\n",
    "embedding_layer = model_lstm.layers[0]\n",
    "weights = embedding_layer.get_weights()[0]\n",
    "print(weights.shape)    # shape: (vocab_size, embedding_dim)"
   ]
  },
  {
   "cell_type": "code",
   "execution_count": 18,
   "metadata": {},
   "outputs": [
    {
     "data": {
      "text/plain": [
       "array([ 0.1153044 , -0.01604586,  0.05352737, -0.04035335,  0.04220562,\n",
       "       -0.1533083 , -0.08081752, -0.17388198,  0.05999599, -0.1002207 ,\n",
       "        0.13137153, -0.01895936, -0.01771522, -0.11864491, -0.20015612,\n",
       "        0.09951821, -0.00547587, -0.0668338 , -0.01674589,  0.04406929,\n",
       "        0.00539875,  0.06476953, -0.01419578,  0.01221935, -0.08826014,\n",
       "        0.04733218, -0.02654142, -0.01108799, -0.00527755, -0.00592912,\n",
       "        0.13271342, -0.04366635,  0.06822738,  0.04003149,  0.05672671,\n",
       "        0.07609956, -0.108436  , -0.12333788, -0.0023235 ,  0.02798684,\n",
       "       -0.02702785,  0.09212804,  0.0757393 ,  0.03102099,  0.03850348,\n",
       "       -0.00887621,  0.02317701, -0.2176363 ,  0.01400821,  0.00595713,\n",
       "        0.08705596, -0.06715009, -0.03482066,  0.06056371, -0.03877955,\n",
       "       -0.11618681,  0.04981043,  0.0604511 ,  0.04534034,  0.09030671,\n",
       "       -0.19387212, -0.08928295,  0.04958276,  0.09521075, -0.00382504,\n",
       "        0.1240393 ,  0.03330135, -0.00197142, -0.01282439,  0.03960134,\n",
       "       -0.01454196, -0.07099934, -0.05119195, -0.00906501, -0.09974824,\n",
       "        0.07850482, -0.03410988, -0.05370292,  0.04170018, -0.07272899,\n",
       "       -0.1379585 ,  0.04343617,  0.02618434,  0.08809245,  0.17579536,\n",
       "        0.1765913 ,  0.07490595,  0.02530402,  0.02166451, -0.0033189 ,\n",
       "        0.00369369,  0.03515328,  0.04693946,  0.01501918,  0.21242753,\n",
       "       -0.00405143,  0.16878252, -0.09321684, -0.10684878,  0.0865178 ,\n",
       "       -0.04623315, -0.02485731, -0.13318929,  0.0843362 ,  0.05517195,\n",
       "        0.02879197,  0.01263239,  0.02402003,  0.0293438 ,  0.11152612,\n",
       "       -0.05684416, -0.01914294, -0.03417581,  0.13092154, -0.06095673,\n",
       "       -0.0998911 , -0.05673647, -0.03540892,  0.19418794,  0.0491672 ,\n",
       "        0.03490232, -0.00483004, -0.00804769, -0.19498876, -0.06511783,\n",
       "       -0.04957308,  0.03541226, -0.2467974 , -0.05378342,  0.04242506,\n",
       "        0.09746668, -0.05493944,  0.07731429,  0.01297594, -0.05586233,\n",
       "       -0.00428744, -0.07252667, -0.08801501,  0.01467135,  0.04785874,\n",
       "       -0.20854107,  0.02452177,  0.00504397, -0.07113453,  0.19509724,\n",
       "        0.06110477, -0.05545598,  0.04000115, -0.06950475,  0.09296293,\n",
       "       -0.00484689,  0.00516177, -0.05039352, -0.13839453,  0.02805896,\n",
       "       -0.00690306, -0.00507383, -0.03354766,  0.00139859,  0.00046888,\n",
       "       -0.03348398,  0.00533372,  0.14063345, -0.02635235, -0.01048104,\n",
       "       -0.01714458,  0.12798503, -0.09782784,  0.06262373, -0.01147301,\n",
       "       -0.01730501,  0.04723995, -0.06420203,  0.05388115, -0.0138492 ,\n",
       "       -0.02781365,  0.07022602, -0.02493912,  0.00777102,  0.06162636,\n",
       "        0.02869908, -0.05280589, -0.07363228,  0.03792302,  0.03642813,\n",
       "       -0.02041854,  0.24596384, -0.00159907,  0.02912112, -0.02708247,\n",
       "       -0.04899956,  0.15213631,  0.0575626 ,  0.02027192,  0.0400778 ,\n",
       "        0.00182286, -0.06909917, -0.06047345,  0.10450049, -0.02130232,\n",
       "       -0.08777059, -0.03902822, -0.01460147,  0.00331085, -0.0008503 ,\n",
       "       -0.07087168,  0.0774726 ,  0.16334955,  0.09838827,  0.07002261,\n",
       "        0.00802873, -0.04718726, -0.1621654 , -0.10781711, -0.05832569,\n",
       "        0.01536695, -0.1737172 ,  0.03880228,  0.02495095, -0.20481619,\n",
       "       -0.01655681,  0.01094013,  0.19279686, -0.09573539, -0.08783635,\n",
       "       -0.23930103,  0.05239485,  0.03102378,  0.08224411,  0.13547964,\n",
       "       -0.08570621, -0.08584877, -0.01235646, -0.05576231, -0.03774779,\n",
       "       -0.0293135 , -0.0737489 , -0.09903973, -0.10022607, -0.07937578,\n",
       "        0.00199227, -0.0130446 ,  0.02439666, -0.03572769, -0.05732214,\n",
       "        0.0431252 , -0.01727678,  0.15571448, -0.07250713, -0.0731953 ,\n",
       "        0.01947315,  0.01050776, -0.04185589, -0.15528733, -0.04461274,\n",
       "        0.07590014,  0.01153321,  0.03190711,  0.02357783, -0.0815647 ,\n",
       "        0.00704029,  0.06549475, -0.05933607, -0.03467778,  0.09884078,\n",
       "        0.0499533 ,  0.00645392,  0.00135123, -0.01681262,  0.01340597,\n",
       "        0.02641458, -0.00792599, -0.03287351, -0.03690409, -0.09221128,\n",
       "       -0.00213057, -0.02040351,  0.21763754,  0.04808357, -0.17580968,\n",
       "        0.04221216,  0.21016957, -0.03044845, -0.03149189,  0.02653973,\n",
       "       -0.06341457,  0.04847323, -0.0039001 ,  0.0424103 , -0.05705323,\n",
       "        0.18002161, -0.09130545, -0.07912894,  0.04704232, -0.08740936,\n",
       "        0.17889158,  0.06699259, -0.04593198,  0.15655439, -0.11742307],\n",
       "      dtype=float32)"
      ]
     },
     "execution_count": 18,
     "metadata": {},
     "output_type": "execute_result"
    }
   ],
   "source": [
    "import os\n",
    "\n",
    "# 학습한 Embedding 파라미터를 파일에 써서 저장합니다. \n",
    "word2vec_file_path = os.getenv('HOME')+'/aiffel/sentiment_classification/word2vec.txt'\n",
    "f = open(word2vec_file_path, 'w')\n",
    "f.write('{} {}\\n'.format(vocab_size-4, word_vector_dim))  # 몇개의 벡터를 얼마 사이즈로 기재할지 타이틀을 씁니다.\n",
    "\n",
    "# 단어 개수(에서 특수문자 4개는 제외하고)만큼의 워드 벡터를 파일에 기록합니다. \n",
    "vectors = model_lstm.get_weights()[0]\n",
    "for i in range(4,vocab_size):\n",
    "    f.write('{} {}\\n'.format(index_to_word[i], ' '.join(map(str, list(vectors[i, :])))))\n",
    "f.close()\n",
    "\n",
    "from gensim.models.keyedvectors import Word2VecKeyedVectors\n",
    "\n",
    "word_vectors = Word2VecKeyedVectors.load_word2vec_format(word2vec_file_path, binary=False)\n",
    "vector = word_vectors['재미']\n",
    "vector"
   ]
  },
  {
   "cell_type": "code",
   "execution_count": 19,
   "metadata": {},
   "outputs": [
    {
     "data": {
      "text/plain": [
       "[('굿', 0.8455842137336731),\n",
       " ('완벽', 0.8294678926467896),\n",
       " ('묘', 0.8235940933227539),\n",
       " ('감도', 0.823225200176239),\n",
       " ('천천히', 0.8164838552474976),\n",
       " ('은근', 0.8118056654930115),\n",
       " ('티격태격', 0.8116312026977539),\n",
       " ('도쿄', 0.810462474822998),\n",
       " ('테일러', 0.8096611499786377),\n",
       " ('풍성', 0.8064307570457458)]"
      ]
     },
     "execution_count": 19,
     "metadata": {},
     "output_type": "execute_result"
    }
   ],
   "source": [
    "# 학습된 워드벡터로 임의의 단어와 가장 유사한 단어와 그 유사도를 확인해보는 방법\n",
    "\n",
    "word_vectors.similar_by_word('대박')"
   ]
  },
  {
   "cell_type": "code",
   "execution_count": 20,
   "metadata": {},
   "outputs": [
    {
     "name": "stdout",
     "output_type": "stream",
     "text": [
      "Epoch 1/20\n",
      "266/266 [==============================] - 27s 100ms/step - loss: 0.4204 - accuracy: 0.8044 - val_loss: 0.3377 - val_accuracy: 0.8498\n",
      "Epoch 2/20\n",
      "266/266 [==============================] - 7s 28ms/step - loss: 0.2925 - accuracy: 0.8778 - val_loss: 0.3280 - val_accuracy: 0.8562\n",
      "Epoch 3/20\n",
      "266/266 [==============================] - 7s 28ms/step - loss: 0.2210 - accuracy: 0.9131 - val_loss: 0.3489 - val_accuracy: 0.8557\n",
      "Epoch 4/20\n",
      "266/266 [==============================] - 7s 28ms/step - loss: 0.1464 - accuracy: 0.9469 - val_loss: 0.4171 - val_accuracy: 0.8456\n",
      "Epoch 5/20\n",
      "266/266 [==============================] - 7s 28ms/step - loss: 0.0949 - accuracy: 0.9671 - val_loss: 0.4915 - val_accuracy: 0.8450\n",
      "Epoch 6/20\n",
      "266/266 [==============================] - 7s 28ms/step - loss: 0.0652 - accuracy: 0.9779 - val_loss: 0.5755 - val_accuracy: 0.8398\n",
      "Epoch 7/20\n",
      "266/266 [==============================] - 7s 28ms/step - loss: 0.0479 - accuracy: 0.9841 - val_loss: 0.6521 - val_accuracy: 0.8363\n",
      "Epoch 8/20\n",
      "266/266 [==============================] - 7s 28ms/step - loss: 0.0387 - accuracy: 0.9868 - val_loss: 0.7333 - val_accuracy: 0.8367\n",
      "Epoch 9/20\n",
      "266/266 [==============================] - 7s 28ms/step - loss: 0.0343 - accuracy: 0.9885 - val_loss: 0.8114 - val_accuracy: 0.8395\n",
      "Epoch 10/20\n",
      "266/266 [==============================] - 7s 28ms/step - loss: 0.0364 - accuracy: 0.9871 - val_loss: 0.8890 - val_accuracy: 0.8364\n",
      "Epoch 11/20\n",
      "266/266 [==============================] - 7s 28ms/step - loss: 0.0383 - accuracy: 0.9863 - val_loss: 0.8750 - val_accuracy: 0.8358\n",
      "Epoch 12/20\n",
      "266/266 [==============================] - 7s 28ms/step - loss: 0.0333 - accuracy: 0.9879 - val_loss: 0.8689 - val_accuracy: 0.8330\n",
      "Epoch 13/20\n",
      "266/266 [==============================] - 7s 28ms/step - loss: 0.0251 - accuracy: 0.9910 - val_loss: 0.9998 - val_accuracy: 0.8317\n",
      "Epoch 14/20\n",
      "266/266 [==============================] - 7s 28ms/step - loss: 0.0224 - accuracy: 0.9919 - val_loss: 1.0169 - val_accuracy: 0.8375\n",
      "Epoch 15/20\n",
      "266/266 [==============================] - 7s 28ms/step - loss: 0.0205 - accuracy: 0.9928 - val_loss: 1.0842 - val_accuracy: 0.8342\n",
      "Epoch 16/20\n",
      "266/266 [==============================] - 7s 28ms/step - loss: 0.0205 - accuracy: 0.9927 - val_loss: 1.1074 - val_accuracy: 0.8383\n",
      "Epoch 17/20\n",
      "266/266 [==============================] - 7s 28ms/step - loss: 0.0221 - accuracy: 0.9918 - val_loss: 1.1585 - val_accuracy: 0.8301\n",
      "Epoch 18/20\n",
      "266/266 [==============================] - 7s 28ms/step - loss: 0.0232 - accuracy: 0.9917 - val_loss: 1.1312 - val_accuracy: 0.8310\n",
      "Epoch 19/20\n",
      "266/266 [==============================] - 7s 28ms/step - loss: 0.0231 - accuracy: 0.9916 - val_loss: 1.1328 - val_accuracy: 0.8331\n",
      "Epoch 20/20\n",
      "266/266 [==============================] - 7s 28ms/step - loss: 0.0201 - accuracy: 0.9925 - val_loss: 1.1620 - val_accuracy: 0.8314\n"
     ]
    }
   ],
   "source": [
    "# 모델 학습하기\n",
    "# validation set 10000건 분리\n",
    "X_val = X_train[:10000]   \n",
    "y_val = y_train[:10000]\n",
    "\n",
    "# validation set을 제외한 나머지\n",
    "partial_X_train = X_train[10000:]  \n",
    "partial_y_train = y_train[10000:]\n",
    "\n",
    "model_cnn.compile(optimizer='adam',\n",
    "              loss='binary_crossentropy',\n",
    "              metrics=['accuracy'])\n",
    "              \n",
    "epochs=20\n",
    "\n",
    "history_cnn = model_cnn.fit(partial_X_train,\n",
    "                    partial_y_train,\n",
    "                    epochs=epochs,\n",
    "                    batch_size=512,\n",
    "                    validation_data=(X_val, y_val),\n",
    "                    verbose=1)"
   ]
  },
  {
   "cell_type": "code",
   "execution_count": 21,
   "metadata": {},
   "outputs": [
    {
     "name": "stdout",
     "output_type": "stream",
     "text": [
      "1537/1537 - 8s - loss: 1.2275 - accuracy: 0.8246\n",
      "[1.227493166923523, 0.8246027827262878]\n"
     ]
    }
   ],
   "source": [
    "results = model_cnn.evaluate(X_test, y_test, verbose=2)\n",
    "\n",
    "print(results)"
   ]
  },
  {
   "cell_type": "code",
   "execution_count": 22,
   "metadata": {},
   "outputs": [
    {
     "data": {
      "image/png": "[encoded data removed]",
      "text/plain": [
       "<Figure size 432x288 with 1 Axes>"
      ]
     },
     "metadata": {
      "needs_background": "light"
     },
     "output_type": "display_data"
    }
   ],
   "source": [
    "# epoch과정에서 history확인\n",
    "history_dict = history_cnn.history\n",
    "# dict_keys(['loss', 'accuracy', 'val_loss', 'val_accuracy'])\n",
    "\n",
    "import matplotlib.pyplot as plt\n",
    "\n",
    "acc = history_dict['accuracy']\n",
    "val_acc = history_dict['val_accuracy']\n",
    "loss = history_dict['loss']\n",
    "val_loss = history_dict['val_loss']\n",
    "\n",
    "epochs = range(1, len(acc) + 1)\n",
    "\n",
    "# \"bo\"는 \"파란색 점\"입니다\n",
    "plt.plot(epochs, loss, 'bo', label='Training loss')\n",
    "# b는 \"파란 실선\"입니다\n",
    "plt.plot(epochs, val_loss, 'b', label='Validation loss')\n",
    "plt.title('Training and validation loss')\n",
    "plt.xlabel('Epochs')\n",
    "plt.ylabel('Loss')\n",
    "plt.legend()\n",
    "\n",
    "plt.show()"
   ]
  },
  {
   "cell_type": "code",
   "execution_count": 23,
   "metadata": {},
   "outputs": [
    {
     "data": {
      "image/png": "[encoded data removed]",
      "text/plain": [
       "<Figure size 432x288 with 1 Axes>"
      ]
     },
     "metadata": {
      "needs_background": "light"
     },
     "output_type": "display_data"
    }
   ],
   "source": [
    "plt.clf()   # 그림을 초기화합니다\n",
    "\n",
    "plt.plot(epochs, acc, 'bo', label='Training acc')\n",
    "plt.plot(epochs, val_acc, 'b', label='Validation acc')\n",
    "plt.title('Training and validation accuracy')\n",
    "plt.xlabel('Epochs')\n",
    "plt.ylabel('Accuracy')\n",
    "plt.legend()\n",
    "\n",
    "plt.show()"
   ]
  },
  {
   "cell_type": "code",
   "execution_count": 24,
   "metadata": {},
   "outputs": [
    {
     "data": {
      "text/plain": [
       "array([-0.08150289,  0.05103537,  0.01956247, -0.02856008,  0.04727243,\n",
       "        0.19029924, -0.05926689,  0.01860728,  0.1057701 , -0.0450147 ,\n",
       "       -0.0194584 , -0.02032789,  0.10536136, -0.05315191,  0.10028659,\n",
       "       -0.03584861, -0.00195491,  0.00151186, -0.03493729, -0.10376821,\n",
       "        0.01614924,  0.05248431, -0.10271631,  0.09686875, -0.06233589,\n",
       "       -0.01508298, -0.06006946,  0.03792037, -0.06843198, -0.00141413,\n",
       "       -0.02912037,  0.04716064,  0.02916744,  0.07377549, -0.11787037,\n",
       "        0.05112918, -0.11753264, -0.07308988, -0.04239513,  0.02793473,\n",
       "        0.02160737,  0.01913711, -0.07850324, -0.01460242,  0.01054681,\n",
       "        0.06465109,  0.01560808, -0.08066569,  0.03162088, -0.04160094,\n",
       "        0.01152131, -0.06497121,  0.01196233,  0.05158461, -0.03799821,\n",
       "       -0.04307823,  0.03375262, -0.11992202,  0.12878144,  0.10177474,\n",
       "       -0.02307543,  0.03401474,  0.07575285, -0.02151073,  0.11181383,\n",
       "       -0.02332331, -0.00676818,  0.01737286,  0.08763143, -0.00083052,\n",
       "       -0.10241774, -0.09064391,  0.04523978,  0.07753297,  0.00759345,\n",
       "        0.04080987, -0.10571288,  0.13998109,  0.00432431,  0.02639269,\n",
       "       -0.01158161, -0.09563217,  0.05467391,  0.05348177,  0.06325737,\n",
       "       -0.00912215, -0.0987822 ,  0.03030752, -0.06983607, -0.02842293,\n",
       "       -0.00701455, -0.03574623, -0.04081949,  0.02014791, -0.01068362,\n",
       "        0.04134662,  0.05146826, -0.0990384 , -0.30202338, -0.12292893,\n",
       "       -0.18444788, -0.09603749, -0.03723801,  0.1286495 ,  0.01363902,\n",
       "        0.09277126,  0.10689896,  0.01516674,  0.04525956, -0.0296071 ,\n",
       "        0.17309386, -0.09859823,  0.14478697,  0.11990542,  0.10933909,\n",
       "       -0.06030046, -0.0293624 ,  0.06955252,  0.15153891,  0.01656432,\n",
       "       -0.0112465 ,  0.08443548,  0.07583301,  0.06939473, -0.11988899,\n",
       "        0.11120554, -0.120106  ,  0.03015243,  0.00038429, -0.03182937,\n",
       "       -0.07409627, -0.04765958,  0.07054991,  0.0722137 , -0.12722585,\n",
       "        0.00158886, -0.04347194, -0.06402031, -0.00420657, -0.06622772,\n",
       "       -0.06499089,  0.15139514, -0.02590841,  0.06661326, -0.0499091 ,\n",
       "        0.11390319, -0.00151481,  0.07836416,  0.05577059,  0.0585724 ,\n",
       "        0.130897  , -0.07575788,  0.04312278,  0.14042968, -0.0223641 ,\n",
       "        0.0767768 , -0.04415616,  0.02832986, -0.02629405,  0.00388903,\n",
       "        0.07015757, -0.03447049,  0.06599494,  0.00253011, -0.00323385,\n",
       "        0.12079474, -0.04021077, -0.01981632, -0.04974886,  0.16377991,\n",
       "       -0.02843147,  0.01205375, -0.00597685, -0.06634072,  0.01112767,\n",
       "        0.08565994,  0.21742755,  0.15663342,  0.01447873,  0.02349954,\n",
       "       -0.04371675,  0.00076642, -0.01157244,  0.02003444, -0.10735504,\n",
       "        0.12360493,  0.02119435,  0.09048305, -0.06704823,  0.02118107,\n",
       "        0.10444015, -0.03143078, -0.02335066,  0.09297381,  0.15134746,\n",
       "        0.00421883,  0.04702156,  0.01378107, -0.01417816,  0.00641672,\n",
       "       -0.1619077 , -0.06173247, -0.08070154, -0.03739906, -0.06811892,\n",
       "        0.01495977, -0.0733222 , -0.00375446,  0.07204095, -0.03460803,\n",
       "       -0.09799292, -0.05422157, -0.05815629,  0.02056948, -0.00461813,\n",
       "       -0.07886695, -0.09508561, -0.06223131, -0.03695824, -0.03290031,\n",
       "        0.10105052, -0.16153175, -0.02174768,  0.05587624,  0.12839521,\n",
       "        0.02979016,  0.11222416,  0.04608563, -0.16018681,  0.04065866,\n",
       "       -0.04977416, -0.10409797, -0.00418865, -0.04176131,  0.08567927,\n",
       "        0.03757025, -0.00658696,  0.0295333 , -0.03506552,  0.0744706 ,\n",
       "        0.10002178, -0.05144155, -0.08262174, -0.0104407 , -0.06625285,\n",
       "        0.03288794, -0.03528874, -0.01573031, -0.04700111,  0.09686642,\n",
       "       -0.00873146,  0.04999485,  0.07599871, -0.05915975, -0.07170324,\n",
       "       -0.08739009,  0.04890677, -0.01217387,  0.15400422,  0.15171614,\n",
       "       -0.14691581,  0.14890559, -0.02486878,  0.10394686,  0.01415217,\n",
       "        0.09828878, -0.00682143,  0.06897418, -0.02309784,  0.02882892,\n",
       "        0.08925704,  0.07622904, -0.20740421, -0.09452654,  0.10796671,\n",
       "        0.05588858, -0.05747014, -0.07347526, -0.00533786, -0.03412357,\n",
       "       -0.0346026 ,  0.00190909,  0.0497123 ,  0.05360056, -0.00118989,\n",
       "       -0.11928034,  0.05803062, -0.12902272,  0.08989966,  0.07888012,\n",
       "        0.03817606, -0.06233917,  0.12260439, -0.0074466 ,  0.05597914,\n",
       "       -0.04615286,  0.05940193, -0.0542657 ,  0.06984033,  0.14747956],\n",
       "      dtype=float32)"
      ]
     },
     "execution_count": 24,
     "metadata": {},
     "output_type": "execute_result"
    }
   ],
   "source": [
    "f = open(word2vec_file_path, 'w')\n",
    "f.write('{} {}\\n'.format(vocab_size-4, word_vector_dim))  # 몇개의 벡터를 얼마 사이즈로 기재할지 타이틀을 씁니다.\n",
    "\n",
    "vectors = model_cnn.get_weights()[0]\n",
    "for i in range(4,vocab_size):\n",
    "    f.write('{} {}\\n'.format(index_to_word[i], ' '.join(map(str, list(vectors[i, :])))))\n",
    "f.close()\n",
    "\n",
    "from gensim.models.keyedvectors import Word2VecKeyedVectors\n",
    "\n",
    "word_vectors = Word2VecKeyedVectors.load_word2vec_format(word2vec_file_path, binary=False)\n",
    "vector = word_vectors['재미']\n",
    "vector"
   ]
  },
  {
   "cell_type": "code",
   "execution_count": 25,
   "metadata": {},
   "outputs": [
    {
     "data": {
      "text/plain": [
       "[('수작', 0.636394739151001),\n",
       " ('손색없', 0.6343420743942261),\n",
       " ('주옥같', 0.6240177154541016),\n",
       " ('~♥', 0.6205673813819885),\n",
       " ('반해', 0.6198676824569702),\n",
       " ('~~^^', 0.6186915636062622),\n",
       " ('보석', 0.6134304404258728),\n",
       " ('끝장', 0.610745370388031),\n",
       " ('묻히', 0.6100116968154907),\n",
       " ('운명', 0.6098594665527344)]"
      ]
     },
     "execution_count": 25,
     "metadata": {},
     "output_type": "execute_result"
    }
   ],
   "source": [
    "# 학습된 워드벡터로 임의의 단어와 가장 유사한 단어와 그 유사도를 확인해보는 방법\n",
    "\n",
    "word_vectors.similar_by_word('대박')"
   ]
  },
  {
   "cell_type": "code",
   "execution_count": 29,
   "metadata": {},
   "outputs": [
    {
     "name": "stdout",
     "output_type": "stream",
     "text": [
      "Epoch 1/20\n",
      "266/266 [==============================] - 7s 28ms/step - loss: 0.4398 - accuracy: 0.8143 - val_loss: 0.3351 - val_accuracy: 0.8511\n",
      "Epoch 2/20\n",
      "266/266 [==============================] - 7s 28ms/step - loss: 0.3038 - accuracy: 0.8713 - val_loss: 0.3268 - val_accuracy: 0.8573\n",
      "Epoch 3/20\n",
      "266/266 [==============================] - 8s 29ms/step - loss: 0.2569 - accuracy: 0.8959 - val_loss: 0.3350 - val_accuracy: 0.8581\n",
      "Epoch 4/20\n",
      "266/266 [==============================] - 8s 29ms/step - loss: 0.2127 - accuracy: 0.9179 - val_loss: 0.3527 - val_accuracy: 0.8582\n",
      "Epoch 5/20\n",
      "266/266 [==============================] - 7s 27ms/step - loss: 0.1661 - accuracy: 0.9407 - val_loss: 0.3757 - val_accuracy: 0.8518\n",
      "Epoch 6/20\n",
      "266/266 [==============================] - 7s 28ms/step - loss: 0.1193 - accuracy: 0.9618 - val_loss: 0.4214 - val_accuracy: 0.8498\n",
      "Epoch 7/20\n",
      "266/266 [==============================] - 7s 28ms/step - loss: 0.0796 - accuracy: 0.9780 - val_loss: 0.4652 - val_accuracy: 0.8441\n",
      "Epoch 8/20\n",
      "266/266 [==============================] - 8s 29ms/step - loss: 0.0510 - accuracy: 0.9872 - val_loss: 0.5204 - val_accuracy: 0.8405\n",
      "Epoch 9/20\n",
      "266/266 [==============================] - 8s 28ms/step - loss: 0.0334 - accuracy: 0.9919 - val_loss: 0.5582 - val_accuracy: 0.8413\n",
      "Epoch 10/20\n",
      "266/266 [==============================] - 7s 28ms/step - loss: 0.0229 - accuracy: 0.9943 - val_loss: 0.5954 - val_accuracy: 0.8405\n",
      "Epoch 11/20\n",
      "266/266 [==============================] - 8s 28ms/step - loss: 0.0169 - accuracy: 0.9955 - val_loss: 0.6307 - val_accuracy: 0.8404\n",
      "Epoch 12/20\n",
      "266/266 [==============================] - 7s 27ms/step - loss: 0.0136 - accuracy: 0.9959 - val_loss: 0.6580 - val_accuracy: 0.8414\n",
      "Epoch 13/20\n",
      "266/266 [==============================] - 7s 27ms/step - loss: 0.0112 - accuracy: 0.9963 - val_loss: 0.6884 - val_accuracy: 0.8426\n",
      "Epoch 14/20\n",
      "266/266 [==============================] - 7s 27ms/step - loss: 0.0101 - accuracy: 0.9964 - val_loss: 0.7062 - val_accuracy: 0.8395\n",
      "Epoch 15/20\n",
      "266/266 [==============================] - 7s 28ms/step - loss: 0.0089 - accuracy: 0.9965 - val_loss: 0.7343 - val_accuracy: 0.8399\n",
      "Epoch 16/20\n",
      "266/266 [==============================] - 7s 28ms/step - loss: 0.0082 - accuracy: 0.9968 - val_loss: 0.7530 - val_accuracy: 0.8391\n",
      "Epoch 17/20\n",
      "266/266 [==============================] - 7s 28ms/step - loss: 0.0078 - accuracy: 0.9967 - val_loss: 0.7716 - val_accuracy: 0.8418\n",
      "Epoch 18/20\n",
      "266/266 [==============================] - 7s 28ms/step - loss: 0.0074 - accuracy: 0.9968 - val_loss: 0.7956 - val_accuracy: 0.8415\n",
      "Epoch 19/20\n",
      "266/266 [==============================] - 7s 28ms/step - loss: 0.0070 - accuracy: 0.9968 - val_loss: 0.8148 - val_accuracy: 0.8401\n",
      "Epoch 20/20\n",
      "266/266 [==============================] - 7s 28ms/step - loss: 0.0064 - accuracy: 0.9969 - val_loss: 0.8359 - val_accuracy: 0.8368\n"
     ]
    }
   ],
   "source": [
    "# 모델 학습하기\n",
    "# validation set 10000건 분리\n",
    "X_val = X_train[:10000]   \n",
    "y_val = y_train[:10000]\n",
    "\n",
    "# validation set을 제외한 나머지\n",
    "partial_X_train = X_train[10000:]  \n",
    "partial_y_train = y_train[10000:]\n",
    "\n",
    "model_pool.compile(optimizer='adam',\n",
    "              loss='binary_crossentropy',\n",
    "              metrics=['accuracy'])\n",
    "              \n",
    "epochs=20\n",
    "\n",
    "history_pool = model_pool.fit(partial_X_train,\n",
    "                    partial_y_train,\n",
    "                    epochs=epochs,\n",
    "                    batch_size=512,\n",
    "                    validation_data=(X_val, y_val),\n",
    "                    verbose=1)"
   ]
  },
  {
   "cell_type": "code",
   "execution_count": 30,
   "metadata": {
    "scrolled": true
   },
   "outputs": [
    {
     "name": "stdout",
     "output_type": "stream",
     "text": [
      "1537/1537 - 2s - loss: 0.8448 - accuracy: 0.8396\n",
      "[0.8447772264480591, 0.8395955562591553]\n"
     ]
    }
   ],
   "source": [
    "results = model_pool.evaluate(X_test, y_test, verbose=2)\n",
    "\n",
    "print(results)"
   ]
  },
  {
   "cell_type": "code",
   "execution_count": 31,
   "metadata": {},
   "outputs": [
    {
     "data": {
      "image/png": "[encoded data removed]",
      "text/plain": [
       "<Figure size 432x288 with 1 Axes>"
      ]
     },
     "metadata": {
      "needs_background": "light"
     },
     "output_type": "display_data"
    }
   ],
   "source": [
    "# epoch과정에서 history확인\n",
    "history_dict = history_pool.history\n",
    "# dict_keys(['loss', 'accuracy', 'val_loss', 'val_accuracy'])\n",
    "\n",
    "import matplotlib.pyplot as plt\n",
    "\n",
    "acc = history_dict['accuracy']\n",
    "val_acc = history_dict['val_accuracy']\n",
    "loss = history_dict['loss']\n",
    "val_loss = history_dict['val_loss']\n",
    "\n",
    "epochs = range(1, len(acc) + 1)\n",
    "\n",
    "# \"bo\"는 \"파란색 점\"입니다\n",
    "plt.plot(epochs, loss, 'bo', label='Training loss')\n",
    "# b는 \"파란 실선\"입니다\n",
    "plt.plot(epochs, val_loss, 'b', label='Validation loss')\n",
    "plt.title('Training and validation loss')\n",
    "plt.xlabel('Epochs')\n",
    "plt.ylabel('Loss')\n",
    "plt.legend()\n",
    "\n",
    "plt.show()"
   ]
  },
  {
   "cell_type": "code",
   "execution_count": 32,
   "metadata": {},
   "outputs": [
    {
     "data": {
      "image/png": "[encoded data removed]",
      "text/plain": [
       "<Figure size 432x288 with 1 Axes>"
      ]
     },
     "metadata": {
      "needs_background": "light"
     },
     "output_type": "display_data"
    }
   ],
   "source": [
    "plt.clf()   # 그림을 초기화합니다\n",
    "\n",
    "plt.plot(epochs, acc, 'bo', label='Training acc')\n",
    "plt.plot(epochs, val_acc, 'b', label='Validation acc')\n",
    "plt.title('Training and validation accuracy')\n",
    "plt.xlabel('Epochs')\n",
    "plt.ylabel('Accuracy')\n",
    "plt.legend()\n",
    "\n",
    "plt.show()"
   ]
  },
  {
   "cell_type": "code",
   "execution_count": 33,
   "metadata": {},
   "outputs": [
    {
     "data": {
      "text/plain": [
       "array([-0.10338226, -0.16835286, -0.01834113,  0.00524284,  0.27036205,\n",
       "       -0.14456032, -0.0433147 ,  0.13454153, -0.17786339, -0.17185526,\n",
       "       -0.16549891, -0.13709247,  0.0073445 , -0.08192911,  0.01074521,\n",
       "       -0.07679394,  0.00583068, -0.07401256, -0.0939405 , -0.17063327,\n",
       "       -0.17280269, -0.03108904, -0.00793585, -0.02750816,  0.0166377 ,\n",
       "       -0.01892114, -0.06059643, -0.08255225, -0.0669008 ,  0.01684467,\n",
       "       -0.11794832,  0.17560665, -0.15005599, -0.10889687,  0.14073384,\n",
       "       -0.00104156,  0.13197635, -0.08097681, -0.07632109, -0.08298402,\n",
       "       -0.09316269,  0.05012649, -0.10837249, -0.0817608 , -0.19405101,\n",
       "       -0.10742929, -0.02500832, -0.04593351, -0.06715342, -0.17190176,\n",
       "        0.00136297,  0.17327283, -0.02607376, -0.17294274, -0.12546112,\n",
       "       -0.10297506, -0.14855771,  0.0026211 ,  0.09598802, -0.01060287,\n",
       "        0.09696469, -0.12368782, -0.04946485, -0.06772675, -0.21864654,\n",
       "        0.06532431,  0.00069404,  0.13610151, -0.16893667, -0.19715549,\n",
       "       -0.13767217, -0.13108777, -0.11000487, -0.07773291,  0.06685583,\n",
       "       -0.0512669 , -0.15918462, -0.07658978, -0.03261176, -0.1349287 ,\n",
       "       -0.03842815,  0.05410526, -0.13823804,  0.08415806, -0.13256143,\n",
       "       -0.14965509, -0.16073775, -0.00832762, -0.02696935, -0.06107011,\n",
       "       -0.1437783 ,  0.03969412,  0.01400108,  0.09876996,  0.00377796,\n",
       "       -0.14396127, -0.06186557, -0.15761569, -0.05487959,  0.04189729,\n",
       "       -0.07824221, -0.06742603, -0.01747651, -0.09207299,  0.00422909,\n",
       "       -0.04908261, -0.01921255, -0.12329981, -0.05040795, -0.04151441,\n",
       "       -0.13468006,  0.07265997, -0.2156548 , -0.1894065 , -0.10586272,\n",
       "       -0.16166769, -0.03246018, -0.09138402, -0.04839446,  0.06309818,\n",
       "       -0.08745263, -0.1402854 ,  0.0104509 ,  0.00090401, -0.03439693,\n",
       "        0.03042812,  0.09305702, -0.08982446, -0.01652981,  0.1629553 ,\n",
       "        0.09102409, -0.06949631,  0.01215405, -0.0328517 , -0.02523958,\n",
       "        0.0214765 , -0.16578656, -0.18752743,  0.07792953, -0.07860488,\n",
       "       -0.03281318,  0.10580981, -0.20587483, -0.03740549, -0.18346727,\n",
       "       -0.11450426, -0.04895035, -0.03561667,  0.13009971, -0.17757466,\n",
       "       -0.08817493, -0.04393665, -0.14088129, -0.08541776,  0.04877604,\n",
       "       -0.11836402, -0.14536937,  0.0714864 ,  0.03734897, -0.16743547,\n",
       "        0.03576653, -0.00058581, -0.14522137,  0.08454952,  0.01675277,\n",
       "       -0.09513957, -0.03070369,  0.0997379 ,  0.13488851, -0.03710701,\n",
       "       -0.09840903, -0.04750783, -0.04355632, -0.05041474, -0.09734152,\n",
       "       -0.2576981 ,  0.048911  , -0.14767453, -0.14187735,  0.17569004,\n",
       "        0.03645051,  0.05831804, -0.02511865, -0.00972986, -0.05556438,\n",
       "       -0.16212216,  0.02501269, -0.01098732,  0.0831637 , -0.02195383,\n",
       "       -0.03170599, -0.08048227, -0.03602329, -0.01961204, -0.17559567,\n",
       "       -0.09570015, -0.18809916, -0.1582866 , -0.12768044, -0.13326418,\n",
       "        0.04632838, -0.23009716,  0.15620527, -0.16925961, -0.08466604,\n",
       "       -0.01544546,  0.09958386, -0.16089049, -0.05906256,  0.11929127,\n",
       "       -0.10442845, -0.16987166, -0.1650775 ,  0.03403323,  0.14959301,\n",
       "        0.00154389,  0.11989892, -0.11859918, -0.1487979 , -0.18383192,\n",
       "       -0.22853631,  0.09099238, -0.13468724, -0.0535938 ,  0.00129372,\n",
       "       -0.08627114,  0.17429617, -0.15115131, -0.13993114, -0.00677335,\n",
       "        0.07355238, -0.12743942, -0.06540643, -0.10918016, -0.10341493,\n",
       "       -0.07040953, -0.05569154,  0.22589166,  0.06896376,  0.17471647,\n",
       "       -0.01090433, -0.14919455, -0.06294838, -0.13722838, -0.14839037,\n",
       "       -0.04795173, -0.2156081 , -0.06404457, -0.16185342,  0.00309515,\n",
       "       -0.12761952,  0.01985303,  0.2554303 , -0.05940719, -0.03888905,\n",
       "       -0.03037138, -0.01793184, -0.15652628, -0.07400174, -0.10494994,\n",
       "        0.08024815, -0.06012565, -0.11522582, -0.18626323, -0.06814591,\n",
       "       -0.22507244, -0.02509461, -0.10715525, -0.14003545, -0.10468345,\n",
       "       -0.16957258,  0.1718601 , -0.11050503, -0.1482856 , -0.19149318,\n",
       "       -0.0399388 , -0.01152202,  0.20418453, -0.13412267,  0.13171837,\n",
       "        0.05721601, -0.11306559, -0.10691241, -0.07297883, -0.07129455,\n",
       "       -0.02132686, -0.15646866, -0.12779024, -0.18756276, -0.09502535,\n",
       "       -0.18445818, -0.04422598, -0.15156941, -0.03083567, -0.02479726,\n",
       "       -0.11406083, -0.03658703,  0.07101107, -0.09484188, -0.13769615],\n",
       "      dtype=float32)"
      ]
     },
     "execution_count": 33,
     "metadata": {},
     "output_type": "execute_result"
    }
   ],
   "source": [
    "f = open(word2vec_file_path, 'w')\n",
    "f.write('{} {}\\n'.format(vocab_size-4, word_vector_dim))  # 몇개의 벡터를 얼마 사이즈로 기재할지 타이틀을 씁니다.\n",
    "\n",
    "vectors = model_pool.get_weights()[0]\n",
    "for i in range(4,vocab_size):\n",
    "    f.write('{} {}\\n'.format(index_to_word[i], ' '.join(map(str, list(vectors[i, :])))))\n",
    "f.close()\n",
    "\n",
    "from gensim.models.keyedvectors import Word2VecKeyedVectors\n",
    "\n",
    "word_vectors = Word2VecKeyedVectors.load_word2vec_format(word2vec_file_path, binary=False)\n",
    "vector = word_vectors['재미']\n",
    "vector"
   ]
  },
  {
   "cell_type": "code",
   "execution_count": 34,
   "metadata": {},
   "outputs": [
    {
     "data": {
      "text/plain": [
       "[('대사', 0.33065271377563477),\n",
       " ('에겐', 0.32907307147979736),\n",
       " ('주', 0.31656181812286377),\n",
       " ('보여', 0.3163549304008484),\n",
       " ('영화', 0.3153693377971649),\n",
       " ('다', 0.3105751574039459),\n",
       " ('ㄱ', 0.3038499355316162),\n",
       " ('재미있', 0.29884982109069824),\n",
       " ('았', 0.29243844747543335),\n",
       " ('점', 0.29092007875442505)]"
      ]
     },
     "execution_count": 34,
     "metadata": {},
     "output_type": "execute_result"
    }
   ],
   "source": [
    "# 학습된 워드벡터로 임의의 단어와 가장 유사한 단어와 그 유사도를 확인해보는 방법\n",
    "\n",
    "word_vectors.similar_by_word('대박')"
   ]
  },
  {
   "cell_type": "markdown",
   "metadata": {},
   "source": [
    "RNN 모델  \n",
    "loss: 0.4884 - accuracy: 0.8414  \n",
    "학습된 워드 벡터로 유사한 단어를 꽤 잘 찾아낸다.   \n",
    "\n",
    "CNN 모델   \n",
    "loss: 1.2275 - accuracy: 0.8246  \n",
    "RNN모델보다 유사도가 조금 떨어진다.\n",
    "\n",
    "pool만 사용  \n",
    "loss: 0.8448 - accuracy: 0.8396   \n",
    "유사도 확인에서 너무 낮다.  "
   ]
  },
  {
   "cell_type": "code",
   "execution_count": 35,
   "metadata": {},
   "outputs": [],
   "source": [
    "# 한국어 word2vec 이용하기\n",
    "\n",
    "import gensim\n",
    "word2vec_path = os.getenv('HOME')+'/aiffel/sentiment_classification/ko.bin'\n",
    "word2vec = gensim.models.Word2Vec.load(word2vec_path)\n",
    "\n",
    "vocab_size = 10000    # 어휘 사전의 크기입니다(10,000개의 단어)\n",
    "word_vector_dim = 200  # 워드 벡터의 차원수 (변경가능한 하이퍼파라미터)\n",
    "\n",
    "embedding_matrix = np.random.rand(vocab_size, word_vector_dim)\n",
    "\n",
    "# embedding_matrix에 Word2Vec 워드벡터를 단어 하나씩마다 차례차례 카피한다.\n",
    "for i in range(4,vocab_size):\n",
    "    if word2vec.wv.__contains__(index_to_word[i]):\n",
    "        embedding_matrix[i] = word2vec.wv.__getitem__(index_to_word[i])"
   ]
  },
  {
   "cell_type": "code",
   "execution_count": 36,
   "metadata": {},
   "outputs": [
    {
     "name": "stdout",
     "output_type": "stream",
     "text": [
      "Model: \"sequential_4\"\n",
      "_________________________________________________________________\n",
      "Layer (type)                 Output Shape              Param #   \n",
      "=================================================================\n",
      "embedding_4 (Embedding)      (None, 41, 200)           2000000   \n",
      "_________________________________________________________________\n",
      "conv1d_4 (Conv1D)            (None, 35, 16)            22416     \n",
      "_________________________________________________________________\n",
      "max_pooling1d_2 (MaxPooling1 (None, 7, 16)             0         \n",
      "_________________________________________________________________\n",
      "conv1d_5 (Conv1D)            (None, 1, 16)             1808      \n",
      "_________________________________________________________________\n",
      "global_max_pooling1d_3 (Glob (None, 16)                0         \n",
      "_________________________________________________________________\n",
      "dense_8 (Dense)              (None, 8)                 136       \n",
      "_________________________________________________________________\n",
      "dense_9 (Dense)              (None, 1)                 9         \n",
      "=================================================================\n",
      "Total params: 2,024,369\n",
      "Trainable params: 2,024,369\n",
      "Non-trainable params: 0\n",
      "_________________________________________________________________\n"
     ]
    }
   ],
   "source": [
    "# 모델 구성\n",
    "model_koR = keras.Sequential()\n",
    "model_koR.add(keras.layers.Embedding(vocab_size, \n",
    "                                 word_vector_dim, \n",
    "                                 embeddings_initializer=Constant(embedding_matrix),  # 카피한 임베딩을 여기서 활용\n",
    "                                 input_length=maxlen, \n",
    "                                 trainable=True))   # trainable을 True로 주면 Fine-tuning\n",
    "model_koR.add(keras.layers.Conv1D(16, 7, activation='relu'))\n",
    "model_koR.add(keras.layers.MaxPooling1D(5))\n",
    "model_koR.add(keras.layers.Conv1D(16, 7, activation='relu'))\n",
    "model_koR.add(keras.layers.GlobalMaxPooling1D())\n",
    "model_koR.add(keras.layers.Dense(8, activation='relu'))\n",
    "model_koR.add(keras.layers.Dense(1, activation='sigmoid')) \n",
    "\n",
    "model_koR.summary()"
   ]
  },
  {
   "cell_type": "code",
   "execution_count": 37,
   "metadata": {},
   "outputs": [
    {
     "name": "stdout",
     "output_type": "stream",
     "text": [
      "Epoch 1/20\n",
      "266/266 [==============================] - 17s 64ms/step - loss: 0.5557 - accuracy: 0.6973 - val_loss: 0.4265 - val_accuracy: 0.8084\n",
      "Epoch 2/20\n",
      "266/266 [==============================] - 5s 19ms/step - loss: 0.3815 - accuracy: 0.8302 - val_loss: 0.3606 - val_accuracy: 0.8402\n",
      "Epoch 3/20\n",
      "266/266 [==============================] - 5s 20ms/step - loss: 0.3254 - accuracy: 0.8606 - val_loss: 0.3483 - val_accuracy: 0.8467\n",
      "Epoch 4/20\n",
      "266/266 [==============================] - 5s 19ms/step - loss: 0.2923 - accuracy: 0.8769 - val_loss: 0.3430 - val_accuracy: 0.8527\n",
      "Epoch 5/20\n",
      "266/266 [==============================] - 5s 20ms/step - loss: 0.2691 - accuracy: 0.8891 - val_loss: 0.3404 - val_accuracy: 0.8531\n",
      "Epoch 6/20\n",
      "266/266 [==============================] - 5s 19ms/step - loss: 0.2476 - accuracy: 0.8993 - val_loss: 0.3508 - val_accuracy: 0.8532\n",
      "Epoch 7/20\n",
      "266/266 [==============================] - 5s 19ms/step - loss: 0.2280 - accuracy: 0.9088 - val_loss: 0.3634 - val_accuracy: 0.8508\n",
      "Epoch 8/20\n",
      "266/266 [==============================] - 5s 19ms/step - loss: 0.2070 - accuracy: 0.9192 - val_loss: 0.3868 - val_accuracy: 0.8511\n",
      "Epoch 9/20\n",
      "266/266 [==============================] - 5s 20ms/step - loss: 0.1882 - accuracy: 0.9282 - val_loss: 0.4052 - val_accuracy: 0.8489\n",
      "Epoch 10/20\n",
      "266/266 [==============================] - 5s 19ms/step - loss: 0.1694 - accuracy: 0.9365 - val_loss: 0.4219 - val_accuracy: 0.8445\n",
      "Epoch 11/20\n",
      "266/266 [==============================] - 5s 19ms/step - loss: 0.1536 - accuracy: 0.9437 - val_loss: 0.4468 - val_accuracy: 0.8449\n",
      "Epoch 12/20\n",
      "266/266 [==============================] - 5s 19ms/step - loss: 0.1359 - accuracy: 0.9514 - val_loss: 0.4796 - val_accuracy: 0.8438\n",
      "Epoch 13/20\n",
      "266/266 [==============================] - 5s 19ms/step - loss: 0.1222 - accuracy: 0.9568 - val_loss: 0.5065 - val_accuracy: 0.8433\n",
      "Epoch 14/20\n",
      "266/266 [==============================] - 5s 19ms/step - loss: 0.1096 - accuracy: 0.9618 - val_loss: 0.5261 - val_accuracy: 0.8452\n",
      "Epoch 15/20\n",
      "266/266 [==============================] - 5s 19ms/step - loss: 0.0977 - accuracy: 0.9666 - val_loss: 0.5752 - val_accuracy: 0.8396\n",
      "Epoch 16/20\n",
      "266/266 [==============================] - 5s 19ms/step - loss: 0.0864 - accuracy: 0.9708 - val_loss: 0.6238 - val_accuracy: 0.8401\n",
      "Epoch 17/20\n",
      "266/266 [==============================] - 5s 19ms/step - loss: 0.0796 - accuracy: 0.9732 - val_loss: 0.6613 - val_accuracy: 0.8395\n",
      "Epoch 18/20\n",
      "266/266 [==============================] - 5s 19ms/step - loss: 0.0711 - accuracy: 0.9765 - val_loss: 0.6702 - val_accuracy: 0.8402\n",
      "Epoch 19/20\n",
      "266/266 [==============================] - 5s 19ms/step - loss: 0.0656 - accuracy: 0.9786 - val_loss: 0.7157 - val_accuracy: 0.8417\n",
      "Epoch 20/20\n",
      "266/266 [==============================] - 5s 19ms/step - loss: 0.0605 - accuracy: 0.9799 - val_loss: 0.7594 - val_accuracy: 0.8359\n"
     ]
    }
   ],
   "source": [
    "# 학습의 진행\n",
    "# validation set 10000건 분리\n",
    "X_val = X_train[:10000]   \n",
    "y_val = y_train[:10000]\n",
    "\n",
    "# validation set을 제외한 나머지\n",
    "partial_X_train = X_train[10000:]  \n",
    "partial_y_train = y_train[10000:]\n",
    "\n",
    "model_koR.compile(optimizer='adam',\n",
    "              loss='binary_crossentropy',\n",
    "              metrics=['accuracy'])\n",
    "              \n",
    "epochs=20  \n",
    "\n",
    "history_koR = model_koR.fit(partial_X_train,\n",
    "                    partial_y_train,\n",
    "                    epochs=epochs,\n",
    "                    batch_size=512,\n",
    "                    validation_data=(X_val, y_val),\n",
    "                    verbose=1)"
   ]
  },
  {
   "cell_type": "code",
   "execution_count": 38,
   "metadata": {},
   "outputs": [
    {
     "name": "stdout",
     "output_type": "stream",
     "text": [
      "1537/1537 - 5s - loss: 0.8066 - accuracy: 0.8308\n",
      "[0.8066101670265198, 0.8308073878288269]\n"
     ]
    }
   ],
   "source": [
    "results = model_koR.evaluate(X_test, y_test, verbose=2)\n",
    "\n",
    "print(results)"
   ]
  },
  {
   "cell_type": "code",
   "execution_count": 39,
   "metadata": {},
   "outputs": [
    {
     "data": {
      "image/png": "[encoded data removed]",
      "text/plain": [
       "<Figure size 432x288 with 1 Axes>"
      ]
     },
     "metadata": {
      "needs_background": "light"
     },
     "output_type": "display_data"
    }
   ],
   "source": [
    "# epoch과정에서 history확인\n",
    "history_dict = history_koR.history\n",
    "# dict_keys(['loss', 'accuracy', 'val_loss', 'val_accuracy'])\n",
    "\n",
    "import matplotlib.pyplot as plt\n",
    "\n",
    "acc = history_dict['accuracy']\n",
    "val_acc = history_dict['val_accuracy']\n",
    "loss = history_dict['loss']\n",
    "val_loss = history_dict['val_loss']\n",
    "\n",
    "epochs = range(1, len(acc) + 1)\n",
    "\n",
    "# \"bo\"는 \"파란색 점\"입니다\n",
    "plt.plot(epochs, loss, 'bo', label='Training loss')\n",
    "# b는 \"파란 실선\"입니다\n",
    "plt.plot(epochs, val_loss, 'b', label='Validation loss')\n",
    "plt.title('Training and validation loss')\n",
    "plt.xlabel('Epochs')\n",
    "plt.ylabel('Loss')\n",
    "plt.legend()\n",
    "\n",
    "plt.show()"
   ]
  },
  {
   "cell_type": "code",
   "execution_count": 40,
   "metadata": {},
   "outputs": [
    {
     "data": {
      "image/png": "[encoded data removed]",
      "text/plain": [
       "<Figure size 432x288 with 1 Axes>"
      ]
     },
     "metadata": {
      "needs_background": "light"
     },
     "output_type": "display_data"
    }
   ],
   "source": [
    "plt.clf()   # 그림을 초기화합니다\n",
    "\n",
    "plt.plot(epochs, acc, 'bo', label='Training acc')\n",
    "plt.plot(epochs, val_acc, 'b', label='Validation acc')\n",
    "plt.title('Training and validation accuracy')\n",
    "plt.xlabel('Epochs')\n",
    "plt.ylabel('Accuracy')\n",
    "plt.legend()\n",
    "\n",
    "plt.show()"
   ]
  },
  {
   "cell_type": "code",
   "execution_count": 41,
   "metadata": {
    "scrolled": true
   },
   "outputs": [
    {
     "data": {
      "text/plain": [
       "array([ 0.03141894, -0.6179286 ,  0.79840326, -1.0516844 , -0.9959857 ,\n",
       "       -0.7511617 , -0.04702009,  0.6207249 , -0.5503217 , -0.47550076,\n",
       "       -0.19724624,  0.06154592,  0.21860123,  1.1152898 , -0.90183306,\n",
       "        0.36250484,  0.10480929,  1.187208  ,  0.6126696 ,  0.25173756,\n",
       "       -0.3301295 ,  0.0152199 ,  0.19538686, -0.17250474, -0.06013405,\n",
       "        0.18756668,  0.3929438 ,  0.33359814, -0.63289976, -0.6703531 ,\n",
       "       -1.1455102 , -0.45480514, -0.65539217,  0.38071242,  1.0320259 ,\n",
       "       -1.2735595 ,  0.49752465,  0.42723563,  0.9430954 ,  0.72258884,\n",
       "        0.7221956 , -0.78399295, -0.6256481 , -0.25642028, -0.4728913 ,\n",
       "       -0.79649305,  0.8711221 , -0.21965462, -1.0810901 , -0.6919482 ,\n",
       "       -0.127056  , -0.18120117, -0.6583423 ,  0.3198725 , -1.6879767 ,\n",
       "        0.36999267,  0.86734307, -0.03899821, -0.04100553, -0.3564292 ,\n",
       "        0.4950141 , -0.16722278, -1.0455914 ,  0.42212805,  0.083923  ,\n",
       "       -1.1092112 ,  0.8384459 ,  0.70088094, -0.05800643,  0.41211155,\n",
       "        0.6368859 , -0.4930322 ,  0.28947946,  1.256168  ,  0.19527167,\n",
       "       -0.4987032 , -0.29120672,  0.8915284 ,  0.14633316, -0.84518   ,\n",
       "        0.19848862, -0.11926889,  0.29023927,  0.03618809, -0.5039742 ,\n",
       "        0.11518901,  0.74250865, -0.46323535,  0.3783542 , -0.01525224,\n",
       "        0.8382416 , -1.1096262 ,  0.5240158 , -0.76667225, -0.33288893,\n",
       "        0.44761914, -0.5685689 ,  1.1095556 ,  1.1569176 ,  0.40481117,\n",
       "        0.15931249,  0.5509583 ,  0.5700204 , -0.3662114 , -1.0717554 ,\n",
       "        1.2136652 , -0.24697804, -1.2514275 , -0.5243241 , -0.24935164,\n",
       "       -0.13140069, -0.8327383 ,  0.10203979, -1.0846254 ,  0.7754123 ,\n",
       "       -0.43475935, -0.81593126,  0.49385804,  0.3845895 ,  0.33706182,\n",
       "        0.7749459 , -0.4767333 ,  0.4151122 , -0.90935695, -0.22873606,\n",
       "        1.2421088 , -0.18268421, -1.119538  ,  0.28247428,  0.03974629,\n",
       "        0.07143397, -0.7933293 ,  0.13154751,  0.42289367,  1.1127828 ,\n",
       "        0.49568802,  0.09617162,  1.0310515 , -0.58870393,  0.14590131,\n",
       "        0.74005336,  1.1528205 , -0.6190333 , -0.07869056, -0.73463166,\n",
       "        0.49089056, -1.3952652 ,  0.22145312, -0.7727011 ,  0.35505876,\n",
       "       -0.06653877, -1.0689523 , -0.38689265,  0.10308901,  0.27889073,\n",
       "       -0.45424724, -0.01803966,  0.88275564, -0.7444994 ,  0.41483614,\n",
       "        0.7576571 , -0.40521553, -0.3339578 ,  0.20369455, -0.64057386,\n",
       "       -0.31084332,  0.01975134,  0.2019901 , -0.64637053,  1.767606  ,\n",
       "       -0.9207547 , -0.19000274,  0.51841974, -0.10536379, -0.6117125 ,\n",
       "        0.2671882 , -0.58853114,  0.13710612,  0.46234435, -0.44158262,\n",
       "       -0.22762844,  0.31000006, -0.233601  , -0.07812221,  0.11133317,\n",
       "        1.3115668 ,  0.44521272, -0.54293644,  0.8856784 , -0.14125663,\n",
       "       -0.17010398,  0.32757583,  0.35142863,  0.465511  , -0.49619344,\n",
       "        0.45513108, -1.1153637 ,  0.7425426 , -0.09074765,  0.75361377],\n",
       "      dtype=float32)"
      ]
     },
     "execution_count": 41,
     "metadata": {},
     "output_type": "execute_result"
    }
   ],
   "source": [
    "f = open(word2vec_file_path, 'w')\n",
    "f.write('{} {}\\n'.format(vocab_size-4, word_vector_dim))  # 몇개의 벡터를 얼마 사이즈로 기재할지 타이틀을 씁니다.\n",
    "\n",
    "vectors = model_koR.get_weights()[0]\n",
    "for i in range(4,vocab_size):\n",
    "    f.write('{} {}\\n'.format(index_to_word[i], ' '.join(map(str, list(vectors[i, :])))))\n",
    "f.close()\n",
    "\n",
    "from gensim.models.keyedvectors import Word2VecKeyedVectors\n",
    "\n",
    "word_vectors = Word2VecKeyedVectors.load_word2vec_format(word2vec_file_path, binary=False)\n",
    "vector = word_vectors['재미']\n",
    "vector"
   ]
  },
  {
   "cell_type": "code",
   "execution_count": 42,
   "metadata": {},
   "outputs": [
    {
     "data": {
      "text/plain": [
       "[('드라마틱', 0.531743049621582),\n",
       " ('기대감', 0.5154545307159424),\n",
       " ('후편', 0.5122085809707642),\n",
       " ('내년', 0.5087007284164429),\n",
       " ('악평', 0.4869762659072876),\n",
       " ('그리움', 0.4851378798484802),\n",
       " ('미생', 0.4826142191886902),\n",
       " ('단연', 0.47769731283187866),\n",
       " ('미남', 0.4755293130874634),\n",
       " ('해학', 0.4717307686805725)]"
      ]
     },
     "execution_count": 42,
     "metadata": {},
     "output_type": "execute_result"
    }
   ],
   "source": [
    "# 학습된 워드벡터로 임의의 단어와 가장 유사한 단어와 그 유사도를 확인해보는 방법\n",
    "\n",
    "word_vectors.similar_by_word('대박')"
   ]
  },
  {
   "cell_type": "markdown",
   "metadata": {},
   "source": [
    "한국어 Word2Vec 임베딩을 활용했지만 생각보다 정확도가 높지 않았으며   \n",
    "유사도도 RNN보다 낮았다.   \n",
    "네 모델 모두 정화도가 85%까지 빠르게 도달하였으며 RNN, word2vec는 거의 일정하였다.   \n"
   ]
  }
 ],
 "metadata": {
  "kernelspec": {
   "display_name": "aiffel",
   "language": "python",
   "name": "aiffel"
  },
  "language_info": {
   "codemirror_mode": {
    "name": "ipython",
    "version": 3
   },
   "file_extension": ".py",
   "mimetype": "text/x-python",
   "name": "python",
   "nbconvert_exporter": "python",
   "pygments_lexer": "ipython3",
   "version": "3.7.6"
  }
 },
 "nbformat": 4,
 "nbformat_minor": 4
}
