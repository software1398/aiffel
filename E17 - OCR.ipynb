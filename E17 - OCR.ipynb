{
 "cells": [
  {
   "cell_type": "markdown",
   "metadata": {},
   "source": [
    "## E17 - ocr"
   ]
  },
  {
   "cell_type": "markdown",
   "metadata": {},
   "source": [
    "google cloud platform에서 vision api 이용하기   \n",
    "서비스 계정 및 인증키가 필요하다   \n",
    "http://egloos.zum.com/mcchae/v/11342622   \n",
    "https://console.cloud.google.com/   \n",
    "my_google_api_key.json파일로 저장하기   "
   ]
  },
  {
   "cell_type": "code",
   "execution_count": 1,
   "metadata": {},
   "outputs": [],
   "source": [
    "def detect_text(path):\n",
    "    \"\"\"Detects text in the file.\"\"\"\n",
    "    from google.cloud import vision\n",
    "    import io\n",
    "    client = vision.ImageAnnotatorClient()\n",
    "\n",
    "    with io.open(path, 'rb') as image_file:\n",
    "        content = image_file.read()\n",
    "        \n",
    "    image = vision.Image(content=content)\n",
    "\n",
    "    response = client.text_detection(image=image)\n",
    "    texts = response.text_annotations\n",
    "    print('Texts:')\n",
    "\n",
    "    for text in texts:\n",
    "       print('\\n\"{}\"'.format(text.description))\n",
    "\n",
    "    vertices = (['({},{})'.format(vertex.x, vertex.y)\n",
    "                 for vertex in text.bounding_poly.vertices])\n",
    "\n",
    "    print('bounds: {}'.format(','.join(vertices)))\n",
    "\n",
    "    if response.error.message:\n",
    "        raise Exception(\n",
    "            '{}\\nFor more info on error messages, check: '\n",
    "            'https://cloud.google.com/apis/design/errors'.format(\n",
    "                response.error.message))"
   ]
  },
  {
   "cell_type": "code",
   "execution_count": 2,
   "metadata": {},
   "outputs": [
    {
     "name": "stdout",
     "output_type": "stream",
     "text": [
      "total 13176\r\n",
      "drwxr-xr-x 3 aiffel0042 aiffel0042    4096  9월 17 20:30 '~'\r\n",
      "-rw-r--r-- 1 aiffel0042 aiffel0042    1441  9월 25 15:42  _about.txt\r\n",
      "-rw-r--r-- 1 aiffel0042 aiffel0042    9791  7월 29 10:03  E01.ipynb\r\n",
      "-rw-r--r-- 1 aiffel0042 aiffel0042   55628  8월 14 16:37  E01_study.ipynb\r\n",
      "-rw-r--r-- 1 aiffel0042 aiffel0042   20507  7월 31 10:26  E02.ipynb\r\n",
      "-rw-r--r-- 1 aiffel0042 aiffel0042   19271  8월 14 18:17  E02_study.ipynb\r\n",
      "-rw-r--r-- 1 aiffel0042 aiffel0042   18440  8월  5 10:21  E03.ipynb\r\n",
      "-rw-r--r-- 1 aiffel0042 aiffel0042   50152  8월 26 18:21  E03_study.ipynb\r\n",
      "-rw-r--r-- 1 aiffel0042 aiffel0042  292083  8월  7 15:16  E04.ipynb\r\n",
      "-rw-r--r-- 1 aiffel0042 aiffel0042  507549  8월 12 10:04  E05.ipynb\r\n",
      "-rw-r--r-- 1 aiffel0042 aiffel0042  316809  8월 12 10:30  E05_study.ipynb\r\n",
      "-rw-r--r-- 1 aiffel0042 aiffel0042  490931  8월 14 09:25  E06.ipynb\r\n",
      "-rw-r--r-- 1 aiffel0042 aiffel0042 1457815  8월 28 01:42  E06_study.ipynb\r\n",
      "-rw-r--r-- 1 aiffel0042 aiffel0042   29357  8월 20 10:50  E07.ipynb\r\n",
      "-rw-r--r-- 1 aiffel0042 aiffel0042   62168  9월  8 17:28  E07_study.ipynb\r\n",
      "-rw-r--r-- 1 aiffel0042 aiffel0042   97970  8월 21 16:05  E08.ipynb\r\n",
      "-rw-r--r-- 1 aiffel0042 aiffel0042  118874  8월 20 18:29  E08_study.ipynb\r\n",
      "-rw-r--r-- 1 aiffel0042 aiffel0042  199970  9월  2 23:02  E09.ipynb\r\n",
      "-rw-r--r-- 1 aiffel0042 aiffel0042  105565  9월  2 20:43 'E09 - movie review text.ipynb'\r\n",
      "-rw-r--r-- 1 aiffel0042 aiffel0042  490602  9월  3 18:25 'E10 - Camera.ipynb'\r\n",
      "-rw-r--r-- 1 aiffel0042 aiffel0042 1653653  9월  4 14:42  E10.ipynb\r\n",
      "-rw-r--r-- 1 aiffel0042 aiffel0042   22500  9월 11 11:41  E11.ipynb\r\n",
      "-rw-r--r-- 1 aiffel0042 aiffel0042   28140  9월  8 17:15 'E11 - lyricist.ipynb'\r\n",
      "-rw-r--r-- 1 aiffel0042 aiffel0042  778971  9월 11 11:25  E12.ipynb\r\n",
      "-rw-r--r-- 1 aiffel0042 aiffel0042  258083  9월 10 17:21 'E12 - similar figure.ipynb'\r\n",
      "-rw-r--r-- 1 aiffel0042 aiffel0042    4532  9월 16 14:28 'E13 - Face2Emoji.ipynb'\r\n",
      "-rw-r--r-- 1 aiffel0042 aiffel0042   35815  9월 16 16:55  E13.ipynb\r\n",
      "-rw-r--r-- 1 aiffel0042 aiffel0042 4842728  9월 24 16:22  E14.ipynb\r\n",
      "-rw-r--r-- 1 aiffel0042 aiffel0042  653659  9월 18 10:16 'E14 - portrait mode.ipynb'\r\n",
      "-rw-r--r-- 1 aiffel0042 aiffel0042   53656  9월 25 22:47  E15.ipynb\r\n",
      "-rw-r--r-- 1 aiffel0042 aiffel0042   42305  9월 23 17:58 'E15 - translator.ipynb'\r\n",
      "-rw-r--r-- 1 aiffel0042 aiffel0042  145106 10월  5 20:36 'E16 - fashionDesign.ipynb'\r\n",
      "-rw-r--r-- 1 aiffel0042 aiffel0042  536129 10월  7 16:51  E16.ipynb\r\n",
      "-rw-r--r-- 1 aiffel0042 aiffel0042   11526 10월  7 16:51 'E17 - OCR.ipynb'\r\n",
      "drwxr-xr-x 3 aiffel0042 aiffel0042    4096  9월 22 14:22  fundamental\r\n",
      "-rw-r--r-- 1 aiffel0042 aiffel0042      36  7월 27 18:16  README.md\r\n"
     ]
    },
    {
     "ename": "DefaultCredentialsError",
     "evalue": "Could not automatically determine credentials. Please set GOOGLE_APPLICATION_CREDENTIALS or explicitly create credentials and re-run the application. For more information, please see https://cloud.google.com/docs/authentication/getting-started",
     "output_type": "error",
     "traceback": [
      "\u001b[0;31m---------------------------------------------------------------------------\u001b[0m",
      "\u001b[0;31mDefaultCredentialsError\u001b[0m                   Traceback (most recent call last)",
      "\u001b[0;32m<ipython-input-2-605a1aeceff8>\u001b[0m in \u001b[0;36m<module>\u001b[0;34m\u001b[0m\n\u001b[1;32m      7\u001b[0m \u001b[0;34m\u001b[0m\u001b[0m\n\u001b[1;32m      8\u001b[0m \u001b[0;31m# 위에서 정의한 OCR API 이용 함수를 호출해 봅시다.\u001b[0m\u001b[0;34m\u001b[0m\u001b[0;34m\u001b[0m\u001b[0;34m\u001b[0m\u001b[0m\n\u001b[0;32m----> 9\u001b[0;31m \u001b[0mdetect_text\u001b[0m\u001b[0;34m(\u001b[0m\u001b[0mpath\u001b[0m\u001b[0;34m)\u001b[0m\u001b[0;34m\u001b[0m\u001b[0;34m\u001b[0m\u001b[0m\n\u001b[0m",
      "\u001b[0;32m<ipython-input-1-ba33f63bfba8>\u001b[0m in \u001b[0;36mdetect_text\u001b[0;34m(path)\u001b[0m\n\u001b[1;32m      3\u001b[0m     \u001b[0;32mfrom\u001b[0m \u001b[0mgoogle\u001b[0m\u001b[0;34m.\u001b[0m\u001b[0mcloud\u001b[0m \u001b[0;32mimport\u001b[0m \u001b[0mvision\u001b[0m\u001b[0;34m\u001b[0m\u001b[0;34m\u001b[0m\u001b[0m\n\u001b[1;32m      4\u001b[0m     \u001b[0;32mimport\u001b[0m \u001b[0mio\u001b[0m\u001b[0;34m\u001b[0m\u001b[0;34m\u001b[0m\u001b[0m\n\u001b[0;32m----> 5\u001b[0;31m     \u001b[0mclient\u001b[0m \u001b[0;34m=\u001b[0m \u001b[0mvision\u001b[0m\u001b[0;34m.\u001b[0m\u001b[0mImageAnnotatorClient\u001b[0m\u001b[0;34m(\u001b[0m\u001b[0;34m)\u001b[0m\u001b[0;34m\u001b[0m\u001b[0;34m\u001b[0m\u001b[0m\n\u001b[0m\u001b[1;32m      6\u001b[0m \u001b[0;34m\u001b[0m\u001b[0m\n\u001b[1;32m      7\u001b[0m     \u001b[0;32mwith\u001b[0m \u001b[0mio\u001b[0m\u001b[0;34m.\u001b[0m\u001b[0mopen\u001b[0m\u001b[0;34m(\u001b[0m\u001b[0mpath\u001b[0m\u001b[0;34m,\u001b[0m \u001b[0;34m'rb'\u001b[0m\u001b[0;34m)\u001b[0m \u001b[0;32mas\u001b[0m \u001b[0mimage_file\u001b[0m\u001b[0;34m:\u001b[0m\u001b[0;34m\u001b[0m\u001b[0;34m\u001b[0m\u001b[0m\n",
      "\u001b[0;32m~/anaconda3/envs/aiffel/lib/python3.7/site-packages/google/cloud/vision_v1/services/image_annotator/client.py\u001b[0m in \u001b[0;36m__init__\u001b[0;34m(self, credentials, transport, client_options, client_info)\u001b[0m\n\u001b[1;32m    250\u001b[0m                 \u001b[0mssl_channel_credentials\u001b[0m\u001b[0;34m=\u001b[0m\u001b[0mssl_credentials\u001b[0m\u001b[0;34m,\u001b[0m\u001b[0;34m\u001b[0m\u001b[0;34m\u001b[0m\u001b[0m\n\u001b[1;32m    251\u001b[0m                 \u001b[0mquota_project_id\u001b[0m\u001b[0;34m=\u001b[0m\u001b[0mclient_options\u001b[0m\u001b[0;34m.\u001b[0m\u001b[0mquota_project_id\u001b[0m\u001b[0;34m,\u001b[0m\u001b[0;34m\u001b[0m\u001b[0;34m\u001b[0m\u001b[0m\n\u001b[0;32m--> 252\u001b[0;31m                 \u001b[0mclient_info\u001b[0m\u001b[0;34m=\u001b[0m\u001b[0mclient_info\u001b[0m\u001b[0;34m,\u001b[0m\u001b[0;34m\u001b[0m\u001b[0;34m\u001b[0m\u001b[0m\n\u001b[0m\u001b[1;32m    253\u001b[0m             )\n\u001b[1;32m    254\u001b[0m \u001b[0;34m\u001b[0m\u001b[0m\n",
      "\u001b[0;32m~/anaconda3/envs/aiffel/lib/python3.7/site-packages/google/cloud/vision_v1/services/image_annotator/transports/grpc.py\u001b[0m in \u001b[0;36m__init__\u001b[0;34m(self, host, credentials, credentials_file, scopes, channel, api_mtls_endpoint, client_cert_source, ssl_channel_credentials, quota_project_id, client_info)\u001b[0m\n\u001b[1;32m    155\u001b[0m             \u001b[0;32mif\u001b[0m \u001b[0mcredentials\u001b[0m \u001b[0;32mis\u001b[0m \u001b[0;32mNone\u001b[0m\u001b[0;34m:\u001b[0m\u001b[0;34m\u001b[0m\u001b[0;34m\u001b[0m\u001b[0m\n\u001b[1;32m    156\u001b[0m                 credentials, _ = auth.default(\n\u001b[0;32m--> 157\u001b[0;31m                     \u001b[0mscopes\u001b[0m\u001b[0;34m=\u001b[0m\u001b[0mself\u001b[0m\u001b[0;34m.\u001b[0m\u001b[0mAUTH_SCOPES\u001b[0m\u001b[0;34m,\u001b[0m \u001b[0mquota_project_id\u001b[0m\u001b[0;34m=\u001b[0m\u001b[0mquota_project_id\u001b[0m\u001b[0;34m\u001b[0m\u001b[0;34m\u001b[0m\u001b[0m\n\u001b[0m\u001b[1;32m    158\u001b[0m                 )\n\u001b[1;32m    159\u001b[0m \u001b[0;34m\u001b[0m\u001b[0m\n",
      "\u001b[0;32m~/anaconda3/envs/aiffel/lib/python3.7/site-packages/google/auth/_default.py\u001b[0m in \u001b[0;36mdefault\u001b[0;34m(scopes, request, quota_project_id)\u001b[0m\n\u001b[1;32m    352\u001b[0m             \u001b[0;32mreturn\u001b[0m \u001b[0mcredentials\u001b[0m\u001b[0;34m,\u001b[0m \u001b[0meffective_project_id\u001b[0m\u001b[0;34m\u001b[0m\u001b[0;34m\u001b[0m\u001b[0m\n\u001b[1;32m    353\u001b[0m \u001b[0;34m\u001b[0m\u001b[0m\n\u001b[0;32m--> 354\u001b[0;31m     \u001b[0;32mraise\u001b[0m \u001b[0mexceptions\u001b[0m\u001b[0;34m.\u001b[0m\u001b[0mDefaultCredentialsError\u001b[0m\u001b[0;34m(\u001b[0m\u001b[0m_HELP_MESSAGE\u001b[0m\u001b[0;34m)\u001b[0m\u001b[0;34m\u001b[0m\u001b[0;34m\u001b[0m\u001b[0m\n\u001b[0m",
      "\u001b[0;31mDefaultCredentialsError\u001b[0m: Could not automatically determine credentials. Please set GOOGLE_APPLICATION_CREDENTIALS or explicitly create credentials and re-run the application. For more information, please see https://cloud.google.com/docs/authentication/getting-started"
     ]
    }
   ],
   "source": [
    "# 다운받은 인증키 경로가 정확하게 지정되어 있어야 합니다. \n",
    "!ls -l $GOOGLE_APPLICATION_CREDENTIALS\n",
    "\n",
    "# 입력 이미지 경로를 지정해 주세요.\n",
    "path = '/HOME/aiffel0042/aiffel/ocr_python/na.jpeg'  \n",
    "# ex.) '~/aiffel/ocr_python/test_image.png'\n",
    "\n",
    "# 위에서 정의한 OCR API 이용 함수를 호출해 봅시다.\n",
    "detect_text(path)"
   ]
  },
  {
   "cell_type": "code",
   "execution_count": null,
   "metadata": {},
   "outputs": [],
   "source": []
  }
 ],
 "metadata": {
  "kernelspec": {
   "display_name": "aiffel",
   "language": "python",
   "name": "aiffel"
  },
  "language_info": {
   "codemirror_mode": {
    "name": "ipython",
    "version": 3
   },
   "file_extension": ".py",
   "mimetype": "text/x-python",
   "name": "python",
   "nbconvert_exporter": "python",
   "pygments_lexer": "ipython3",
   "version": "3.7.6"
  }
 },
 "nbformat": 4,
 "nbformat_minor": 4
}
