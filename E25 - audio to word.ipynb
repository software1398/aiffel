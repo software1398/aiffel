{
 "cells": [
  {
   "cell_type": "markdown",
   "metadata": {},
   "source": [
    "## E25 - 사람이 말하는 단어를 인공지능 모델로 구분해보자\n",
    "### 음성과 오디오 데이터\n",
    "소리는 진폭과 주파스와 위상으로 나타낼 수 있으며 주파수는 소리의 높이, 진폭은 소리의 세기에 영향을 준다.   \n",
    "주파수는 Hz를 사용하며 초당 몇 회나 진동하느냐를 나타낸다. 주기는 한 번 진동하는데 걸리는 시간. 소리의 높낮이를 결정한다.  \n",
    "복합파는 다양한 주파수가 섞인 소리  \n",
    "오디오 데이터는 아날로그 데이터이며 컴퓨터는 디지털 데이터만 다루기 때문에 컴퓨터가 이해할 수 있게 처리가 필요하다.  "
   ]
  },
  {
   "cell_type": "code",
   "execution_count": 1,
   "metadata": {},
   "outputs": [],
   "source": [
    "# 아날로그 신호의 표본화(Sampling)\n",
    "\n",
    "import numpy as np\n",
    "import matplotlib.pyplot as plt\n",
    "\n",
    "def single_tone(frequecy, sampling_rate=16000, duration=1):\n",
    "    t = np.linspace(0, duration, int(sampling_rate))\n",
    "    y = np.sin(2 * np.pi * frequecy * t)\n",
    "    return y\n",
    "\n",
    "y = single_tone(400)"
   ]
  },
  {
   "cell_type": "code",
   "execution_count": 2,
   "metadata": {},
   "outputs": [
    {
     "data": {
      "image/png": "[encoded data removed]",
      "text/plain": [
       "<Figure size 432x288 with 1 Axes>"
      ]
     },
     "metadata": {
      "needs_background": "light"
     },
     "output_type": "display_data"
    }
   ],
   "source": [
    "plt.plot(y[:41])\n",
    "plt.show()"
   ]
  },
  {
   "cell_type": "code",
   "execution_count": 3,
   "metadata": {},
   "outputs": [
    {
     "name": "stderr",
     "output_type": "stream",
     "text": [
      "/home/aiffel0042/anaconda3/envs/aiffel/lib/python3.7/site-packages/ipykernel_launcher.py:3: UserWarning: In Matplotlib 3.3 individual lines on a stem plot will be added as a LineCollection instead of individual lines. This significantly improves the performance of a stem plot. To remove this warning and switch to the new behaviour, set the \"use_line_collection\" keyword argument to True.\n",
      "  This is separate from the ipykernel package so we can avoid doing imports until\n"
     ]
    },
    {
     "data": {
      "image/png": "[encoded data removed]",
      "text/plain": [
       "<Figure size 432x288 with 1 Axes>"
      ]
     },
     "metadata": {
      "needs_background": "light"
     },
     "output_type": "display_data"
    }
   ],
   "source": [
    "# 시간축 방향에서 일정 간격으로 샘플을 추출하여 이산 신호로 변환시키는 과정을 표본화(샘플링_Sampling)이라 한다.\n",
    "\n",
    "plt.stem(y[:41])\n",
    "plt.show()"
   ]
  },
  {
   "cell_type": "markdown",
   "metadata": {},
   "source": [
    "Sampling rate: 초당 샘플링 횟수\n",
    "Sampling: 초당 연속적인 신호를 몇 개의 숫자로 나누어 표현할 것인가\n",
    "\n",
    "나이키스트-새넌 표본화에 따르면 speech에서는 16kHz, 음악에서는 44.1kHz 주파수 영역대  \n",
    "사람의 음성을 사용하기 때문에 sampling rate는 16kHz를 사용한다.  \n",
    "https://linecard.tistory.com/20  \n",
    "\n",
    "아날로그를 디지털 신호로 변환하는 과정  \n",
    "표본화(Sampling) -> 양자화(Quantizing) -> 부호화(Encoding)\n",
    "양자화: 샘플링한 데이터 값을 일정한 값에 근사시킨다. 이 과정에서 원본과 왜곡이 발생할 수 있다. 샘플링 레이트가 클수록 원본에 가까운 형태가 된다.  \n",
    "부호화: 0, 1의 데이터로 바꾼다.  \n",
    "#### Wave data 분석  \n",
    "mkdir -p ~/aiffel/speech_recognition/data  \n",
    "mkdir -p ~/aiffel/speech_recognition/models  \n",
    "wget http://bigfile.mail.naver.com/bigfileupload/download?fid=8QbZaAIq1NKXFoMjK3YXaxbwF3YZKAUmKxgwaxulFAMqFCYwFog9FquwFxvlHrMrpxg9KAtwFAt9K6K9F4udpx0oKxFvKxCoFq+vpo+0 -O speech_wav_8000.npz  \n",
    "mv speech_wav_8000.npz ~/aiffel/speech_recognition/data  \n",
    "\n",
    "오디오 데이터는 이미지보다는 차원이 낮으며 1차원으로 이루어진 시계열 데이터이다.  \n",
    "짧은 단어에 라벨이 있어서 음성을 텍스트로 구분 가능하다  \n",
    "Bits per sample: 샘플 당 소리의 세기를 몇 비트로 저장했느냐, 16bits라면 소리의 세기를 65536단계로 표현 가능  \n",
    "sampling frequency: 초당 샘플링 횟수, 나이키스트 룰에 따라서 복원해야 할 신호의 두 배를 샘플링해야 한다.  \n",
    "결론은 샘플링 rate가 높을수록 샘플링 하는 횟수가 많아져서 원본과 가까워지지만 데이터량은 커진다.  \n",
    "channel: 2채널(Stereo)은 좌우 데이터, 1채널은 왼쪽 데이터만 있다."
   ]
  },
  {
   "cell_type": "code",
   "execution_count": 4,
   "metadata": {},
   "outputs": [],
   "source": [
    "import numpy as np\n",
    "import os\n",
    "\n",
    "data_path = os.getenv(\"HOME\")+'/aiffel/speech_recognition/data/speech_wav_8000.npz'\n",
    "speech_data = np.load(data_path)\n"
   ]
  },
  {
   "cell_type": "code",
   "execution_count": 5,
   "metadata": {},
   "outputs": [
    {
     "name": "stdout",
     "output_type": "stream",
     "text": [
      "Wave data shape :  (50620, 8000)\n",
      "Label data shape :  (50620, 1)\n"
     ]
    }
   ],
   "source": [
    "print(\"Wave data shape : \", speech_data[\"wav_vals\"].shape)\n",
    "print(\"Label data shape : \", speech_data[\"label_vals\"].shape)\n",
    "\n",
    "# 1초 길이의 오디오 음성 데이터가 50620개\n",
    "# https://www.kaggle.com/c/tensorflow-speech-recognition-challenge"
   ]
  },
  {
   "cell_type": "code",
   "execution_count": 6,
   "metadata": {},
   "outputs": [
    {
     "name": "stdout",
     "output_type": "stream",
     "text": [
      "rand num :  6010\n",
      "Wave data shape :  (8000,)\n",
      "label :  ['left']\n"
     ]
    },
    {
     "data": {
      "text/html": [
       "\n",
       "                <audio  controls=\"controls\" >\n",
       "                    <source src=\"data:audio/wav;base64,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\" type=\"audio/wav\" />\n",
       "                    Your browser does not support the audio element.\n",
       "                </audio>\n",
       "              "
      ],
      "text/plain": [
       "<IPython.lib.display.Audio object>"
      ]
     },
     "execution_count": 6,
     "metadata": {},
     "output_type": "execute_result"
    }
   ],
   "source": [
    "import IPython.display as ipd\n",
    "import random\n",
    "\n",
    "# 데이터 선택\n",
    "rand = random.randint(0, len(speech_data[\"wav_vals\"]))\n",
    "print(\"rand num : \", rand)\n",
    "\n",
    "sr = 8000 # 1초동안 재생되는 샘플의 갯수\n",
    "data = speech_data[\"wav_vals\"][rand]\n",
    "print(\"Wave data shape : \", data.shape)\n",
    "print(\"label : \", speech_data[\"label_vals\"][rand])\n",
    "\n",
    "ipd.Audio(data, rate=sr)"
   ]
  },
  {
   "cell_type": "markdown",
   "metadata": {},
   "source": [
    "### Train/Test 데이터셋 구성하기\n",
    "Label data 처리하기  \n",
    "정답은 text 형태로 되어 있어서 학습가능한 형태로 만들어준다."
   ]
  },
  {
   "cell_type": "code",
   "execution_count": 7,
   "metadata": {},
   "outputs": [],
   "source": [
    "target_list = ['yes', 'no', 'up', 'down', 'left', 'right', 'on', 'off', 'stop', 'go']\n",
    "\n",
    "label_value = target_list\n",
    "label_value.append('unknown')\n",
    "label_value.append('silence')\n",
    "\n",
    "new_label_value = dict()\n",
    "for i, l in enumerate(label_value):\n",
    "    new_label_value[l] = i\n",
    "label_value = new_label_value\n"
   ]
  },
  {
   "cell_type": "code",
   "execution_count": 8,
   "metadata": {},
   "outputs": [],
   "source": [
    "# label를 인덱스 형태로 바꿔주기\n",
    "\n",
    "temp = []\n",
    "for v in speech_data[\"label_vals\"]:\n",
    "    temp.append(label_value[v[0]])\n",
    "label_data = np.array(temp)\n"
   ]
  },
  {
   "cell_type": "markdown",
   "metadata": {},
   "source": [
    "학습을 위해 데이터 분리하기"
   ]
  },
  {
   "cell_type": "code",
   "execution_count": 9,
   "metadata": {},
   "outputs": [
    {
     "name": "stdout",
     "output_type": "stream",
     "text": [
      "[[-4.4083826e-02 -6.4192109e-02 -6.2150490e-02 ... -6.6481590e-02\n",
      "  -6.5236196e-02 -7.1700133e-02]\n",
      " [-2.5794294e-05 -7.6940698e-05 -6.5351029e-05 ... -5.4862317e-05\n",
      "  -7.9142381e-05 -8.3589483e-05]\n",
      " [ 6.9461279e-03  9.2733381e-03  8.2235085e-03 ...  3.8669456e-03\n",
      "   4.6589854e-03 -1.2247544e-03]\n",
      " ...\n",
      " [-1.8155315e-03 -2.1640069e-03 -1.8580791e-03 ... -7.3855737e-04\n",
      "  -2.6396170e-04 -1.0543157e-03]\n",
      " [ 5.2903418e-04 -6.0433726e-04  8.7075960e-04 ... -6.3507377e-06\n",
      "   8.7119850e-05  1.5338810e-04]\n",
      " [ 3.2777030e-03  4.7204634e-03  8.1363207e-05 ...  2.4862613e-03\n",
      "   2.0094283e-03 -1.9644832e-03]]\n"
     ]
    }
   ],
   "source": [
    "from sklearn.model_selection import train_test_split\n",
    "\n",
    "sr = 8000\n",
    "train_wav, test_wav, train_label, test_label = train_test_split(speech_data[\"wav_vals\"], \n",
    "                                                                label_data, \n",
    "                                                                test_size=0.1,\n",
    "                                                                shuffle=True)\n",
    "print(train_wav)\n",
    "\n",
    "train_wav = train_wav.reshape([-1, sr, 1]) # add channel for CNN\n",
    "test_wav = test_wav.reshape([-1, sr, 1])\n"
   ]
  },
  {
   "cell_type": "code",
   "execution_count": 10,
   "metadata": {},
   "outputs": [
    {
     "name": "stdout",
     "output_type": "stream",
     "text": [
      "train data :  (45558, 8000, 1)\n",
      "train labels :  (45558,)\n",
      "test data :  (5062, 8000, 1)\n",
      "test labels :  (5062,)\n"
     ]
    }
   ],
   "source": [
    "print(\"train data : \", train_wav.shape)\n",
    "print(\"train labels : \", train_label.shape)\n",
    "print(\"test data : \", test_wav.shape)\n",
    "print(\"test labels : \", test_label.shape)\n"
   ]
  },
  {
   "cell_type": "code",
   "execution_count": 11,
   "metadata": {},
   "outputs": [
    {
     "data": {
      "text/plain": [
       "array([[-0.04408383],\n",
       "       [-0.06419211],\n",
       "       [-0.06215049],\n",
       "       ...,\n",
       "       [-0.06648159],\n",
       "       [-0.0652362 ],\n",
       "       [-0.07170013]], dtype=float32)"
      ]
     },
     "execution_count": 11,
     "metadata": {},
     "output_type": "execute_result"
    }
   ],
   "source": [
    "train_wav[0]"
   ]
  },
  {
   "cell_type": "markdown",
   "metadata": {},
   "source": [
    "hyper-parameters setting"
   ]
  },
  {
   "cell_type": "code",
   "execution_count": 12,
   "metadata": {},
   "outputs": [
    {
     "data": {
      "text/plain": [
       "'/home/aiffel0042/aiffel/speech_recognition/models/wav'"
      ]
     },
     "execution_count": 12,
     "metadata": {},
     "output_type": "execute_result"
    }
   ],
   "source": [
    "batch_size = 128\n",
    "max_epochs = 10\n",
    "\n",
    "# the save point\n",
    "checkpoint_dir = os.getenv('HOME')+'/aiffel/speech_recognition/models/wav'\n",
    "\n",
    "checkpoint_dir"
   ]
  },
  {
   "cell_type": "markdown",
   "metadata": {},
   "source": [
    "Data setting  \n",
    "tf.data.Dataset을 이용해서 데이터셋 구성하기"
   ]
  },
  {
   "cell_type": "code",
   "execution_count": 13,
   "metadata": {},
   "outputs": [],
   "source": [
    "def one_hot_label(wav, label):\n",
    "    label = tf.one_hot(label, depth=12)\n",
    "    return wav, label\n"
   ]
  },
  {
   "cell_type": "code",
   "execution_count": 14,
   "metadata": {},
   "outputs": [
    {
     "name": "stdout",
     "output_type": "stream",
     "text": [
      "<BatchDataset shapes: ((None, 8000, 1), (None, 12)), types: (tf.float32, tf.float32)>\n",
      "<BatchDataset shapes: ((None, 8000, 1), (None, 12)), types: (tf.float32, tf.float32)>\n"
     ]
    }
   ],
   "source": [
    "import tensorflow as tf\n",
    "\n",
    "# for train\n",
    "train_dataset = tf.data.Dataset.from_tensor_slices((train_wav, train_label))\n",
    "train_dataset = train_dataset.map(one_hot_label)\n",
    "train_dataset = train_dataset.repeat().batch(batch_size=batch_size)\n",
    "print(train_dataset)\n",
    "\n",
    "# for test\n",
    "test_dataset = tf.data.Dataset.from_tensor_slices((test_wav, test_label))\n",
    "test_dataset = test_dataset.map(one_hot_label)\n",
    "test_dataset = test_dataset.batch(batch_size=batch_size)\n",
    "print(test_dataset)\n"
   ]
  },
  {
   "cell_type": "markdown",
   "metadata": {},
   "source": [
    "Wave classification 모델 구현  \n",
    "오디오 데이터는 1차원이기 때문에 conv1D layer을 사용한다."
   ]
  },
  {
   "cell_type": "code",
   "execution_count": 15,
   "metadata": {},
   "outputs": [
    {
     "name": "stdout",
     "output_type": "stream",
     "text": [
      "Model: \"model\"\n",
      "_________________________________________________________________\n",
      "Layer (type)                 Output Shape              Param #   \n",
      "=================================================================\n",
      "input_1 (InputLayer)         [(None, 8000, 1)]         0         \n",
      "_________________________________________________________________\n",
      "conv1d (Conv1D)              (None, 8000, 32)          320       \n",
      "_________________________________________________________________\n",
      "conv1d_1 (Conv1D)            (None, 8000, 32)          9248      \n",
      "_________________________________________________________________\n",
      "max_pooling1d (MaxPooling1D) (None, 4000, 32)          0         \n",
      "_________________________________________________________________\n",
      "conv1d_2 (Conv1D)            (None, 4000, 64)          18496     \n",
      "_________________________________________________________________\n",
      "conv1d_3 (Conv1D)            (None, 4000, 64)          36928     \n",
      "_________________________________________________________________\n",
      "max_pooling1d_1 (MaxPooling1 (None, 2000, 64)          0         \n",
      "_________________________________________________________________\n",
      "conv1d_4 (Conv1D)            (None, 2000, 128)         73856     \n",
      "_________________________________________________________________\n",
      "conv1d_5 (Conv1D)            (None, 2000, 128)         147584    \n",
      "_________________________________________________________________\n",
      "conv1d_6 (Conv1D)            (None, 2000, 128)         147584    \n",
      "_________________________________________________________________\n",
      "max_pooling1d_2 (MaxPooling1 (None, 1000, 128)         0         \n",
      "_________________________________________________________________\n",
      "conv1d_7 (Conv1D)            (None, 1000, 256)         295168    \n",
      "_________________________________________________________________\n",
      "conv1d_8 (Conv1D)            (None, 1000, 256)         590080    \n",
      "_________________________________________________________________\n",
      "conv1d_9 (Conv1D)            (None, 1000, 256)         590080    \n",
      "_________________________________________________________________\n",
      "max_pooling1d_3 (MaxPooling1 (None, 500, 256)          0         \n",
      "_________________________________________________________________\n",
      "dropout (Dropout)            (None, 500, 256)          0         \n",
      "_________________________________________________________________\n",
      "flatten (Flatten)            (None, 128000)            0         \n",
      "_________________________________________________________________\n",
      "dense (Dense)                (None, 256)               32768256  \n",
      "_________________________________________________________________\n",
      "batch_normalization (BatchNo (None, 256)               1024      \n",
      "_________________________________________________________________\n",
      "activation (Activation)      (None, 256)               0         \n",
      "_________________________________________________________________\n",
      "dense_1 (Dense)              (None, 12)                3084      \n",
      "=================================================================\n",
      "Total params: 34,681,708\n",
      "Trainable params: 34,681,196\n",
      "Non-trainable params: 512\n",
      "_________________________________________________________________\n"
     ]
    }
   ],
   "source": [
    "from tensorflow.keras import layers\n",
    "\n",
    "input_tensor = layers.Input(shape=(sr, 1))\n",
    "\n",
    "x = layers.Conv1D(32, 9, padding='same', activation='relu')(input_tensor)\n",
    "x = layers.Conv1D(32, 9, padding='same', activation='relu')(x)\n",
    "x = layers.MaxPool1D()(x)\n",
    "\n",
    "x = layers.Conv1D(64, 9, padding='same', activation='relu')(x)\n",
    "x = layers.Conv1D(64, 9, padding='same', activation='relu')(x)\n",
    "x = layers.MaxPool1D()(x)\n",
    "\n",
    "x = layers.Conv1D(128, 9, padding='same', activation='relu')(x)\n",
    "x = layers.Conv1D(128, 9, padding='same', activation='relu')(x)\n",
    "x = layers.Conv1D(128, 9, padding='same', activation='relu')(x)\n",
    "x = layers.MaxPool1D()(x)\n",
    "\n",
    "x = layers.Conv1D(256, 9, padding='same', activation='relu')(x)\n",
    "x = layers.Conv1D(256, 9, padding='same', activation='relu')(x)\n",
    "x = layers.Conv1D(256, 9, padding='same', activation='relu')(x)\n",
    "x = layers.MaxPool1D()(x)\n",
    "x = layers.Dropout(0.3)(x)\n",
    "\n",
    "x = layers.Flatten()(x)\n",
    "x = layers.Dense(256)(x)\n",
    "x = layers.BatchNormalization()(x)\n",
    "x = layers.Activation('relu')(x)\n",
    "\n",
    "output_tensor = layers.Dense(12)(x)\n",
    "\n",
    "model_wav = tf.keras.Model(input_tensor, output_tensor)\n",
    "\n",
    "model_wav.summary()"
   ]
  },
  {
   "cell_type": "markdown",
   "metadata": {},
   "source": [
    "Loss  \n",
    "12개의 클래스를 분류하기 때문에 categoricalCrossentropy loss사용한다."
   ]
  },
  {
   "cell_type": "code",
   "execution_count": 16,
   "metadata": {},
   "outputs": [],
   "source": [
    "optimizer=tf.keras.optimizers.Adam(1e-4)\n",
    "model_wav.compile(loss=tf.keras.losses.CategoricalCrossentropy(from_logits=True),\n",
    "             optimizer=optimizer,\n",
    "             metrics=['accuracy'])\n"
   ]
  },
  {
   "cell_type": "markdown",
   "metadata": {},
   "source": [
    "훈련하기"
   ]
  },
  {
   "cell_type": "code",
   "execution_count": 17,
   "metadata": {},
   "outputs": [],
   "source": [
    "cp_callback = tf.keras.callbacks.ModelCheckpoint(checkpoint_dir,\n",
    "                                                 save_weights_only=True,\n",
    "                                                 monitor='val_loss',\n",
    "                                                 mode='auto',\n",
    "                                                 save_best_only=True,\n",
    "                                                 verbose=1)\n",
    "# val_loss를 모니터링, loss가 낮아지면 모델 파라미터 저장"
   ]
  },
  {
   "cell_type": "code",
   "execution_count": 18,
   "metadata": {},
   "outputs": [
    {
     "name": "stdout",
     "output_type": "stream",
     "text": [
      "Epoch 1/10\n",
      "355/355 [==============================] - ETA: 0s - loss: 1.4634 - accuracy: 0.5174\n",
      "Epoch 00001: val_loss improved from inf to 1.54792, saving model to /home/aiffel0042/aiffel/speech_recognition/models/wav\n",
      "355/355 [==============================] - 143s 402ms/step - loss: 1.4634 - accuracy: 0.5174 - val_loss: 1.5479 - val_accuracy: 0.5026\n",
      "Epoch 2/10\n",
      "355/355 [==============================] - ETA: 0s - loss: 0.8297 - accuracy: 0.7485\n",
      "Epoch 00002: val_loss improved from 1.54792 to 0.81006, saving model to /home/aiffel0042/aiffel/speech_recognition/models/wav\n",
      "355/355 [==============================] - 143s 402ms/step - loss: 0.8297 - accuracy: 0.7485 - val_loss: 0.8101 - val_accuracy: 0.7440\n",
      "Epoch 3/10\n",
      "355/355 [==============================] - ETA: 0s - loss: 0.6159 - accuracy: 0.8190\n",
      "Epoch 00003: val_loss improved from 0.81006 to 0.61857, saving model to /home/aiffel0042/aiffel/speech_recognition/models/wav\n",
      "355/355 [==============================] - 143s 402ms/step - loss: 0.6159 - accuracy: 0.8190 - val_loss: 0.6186 - val_accuracy: 0.8073\n",
      "Epoch 4/10\n",
      "355/355 [==============================] - ETA: 0s - loss: 0.4818 - accuracy: 0.8625\n",
      "Epoch 00004: val_loss improved from 0.61857 to 0.57974, saving model to /home/aiffel0042/aiffel/speech_recognition/models/wav\n",
      "355/355 [==============================] - 143s 402ms/step - loss: 0.4818 - accuracy: 0.8625 - val_loss: 0.5797 - val_accuracy: 0.8111\n",
      "Epoch 5/10\n",
      "355/355 [==============================] - ETA: 0s - loss: 0.3640 - accuracy: 0.9038\n",
      "Epoch 00005: val_loss improved from 0.57974 to 0.46313, saving model to /home/aiffel0042/aiffel/speech_recognition/models/wav\n",
      "355/355 [==============================] - 143s 402ms/step - loss: 0.3640 - accuracy: 0.9038 - val_loss: 0.4631 - val_accuracy: 0.8514\n",
      "Epoch 6/10\n",
      "355/355 [==============================] - ETA: 0s - loss: 0.2679 - accuracy: 0.9344\n",
      "Epoch 00006: val_loss did not improve from 0.46313\n",
      "355/355 [==============================] - 142s 401ms/step - loss: 0.2679 - accuracy: 0.9344 - val_loss: 0.5057 - val_accuracy: 0.8361\n",
      "Epoch 7/10\n",
      "355/355 [==============================] - ETA: 0s - loss: 0.2133 - accuracy: 0.9501\n",
      "Epoch 00007: val_loss improved from 0.46313 to 0.39515, saving model to /home/aiffel0042/aiffel/speech_recognition/models/wav\n",
      "355/355 [==============================] - 143s 402ms/step - loss: 0.2133 - accuracy: 0.9501 - val_loss: 0.3952 - val_accuracy: 0.8766\n",
      "Epoch 8/10\n",
      "355/355 [==============================] - ETA: 0s - loss: 0.1610 - accuracy: 0.9647\n",
      "Epoch 00008: val_loss improved from 0.39515 to 0.37485, saving model to /home/aiffel0042/aiffel/speech_recognition/models/wav\n",
      "355/355 [==============================] - 143s 402ms/step - loss: 0.1610 - accuracy: 0.9647 - val_loss: 0.3749 - val_accuracy: 0.8874\n",
      "Epoch 9/10\n",
      "355/355 [==============================] - ETA: 0s - loss: 0.1265 - accuracy: 0.9745\n",
      "Epoch 00009: val_loss did not improve from 0.37485\n",
      "355/355 [==============================] - 142s 401ms/step - loss: 0.1265 - accuracy: 0.9745 - val_loss: 0.3813 - val_accuracy: 0.8930\n",
      "Epoch 10/10\n",
      "355/355 [==============================] - ETA: 0s - loss: 0.0982 - accuracy: 0.9800\n",
      "Epoch 00010: val_loss improved from 0.37485 to 0.30084, saving model to /home/aiffel0042/aiffel/speech_recognition/models/wav\n",
      "355/355 [==============================] - 143s 402ms/step - loss: 0.0982 - accuracy: 0.9800 - val_loss: 0.3008 - val_accuracy: 0.9165\n"
     ]
    }
   ],
   "source": [
    "#30분 내외 소요\n",
    "history_wav = model_wav.fit(train_dataset, epochs=max_epochs,\n",
    "                    steps_per_epoch=len(train_wav) // batch_size,\n",
    "                    validation_data=test_dataset,\n",
    "                    validation_steps=len(test_wav) // batch_size,\n",
    "                    callbacks=[cp_callback]\n",
    "                    )\n"
   ]
  },
  {
   "cell_type": "markdown",
   "metadata": {},
   "source": [
    "학습 결과 시각화하기"
   ]
  },
  {
   "cell_type": "code",
   "execution_count": 18,
   "metadata": {},
   "outputs": [
    {
     "ename": "NameError",
     "evalue": "name 'history_wav' is not defined",
     "output_type": "error",
     "traceback": [
      "\u001b[0;31m---------------------------------------------------------------------------\u001b[0m",
      "\u001b[0;31mNameError\u001b[0m                                 Traceback (most recent call last)",
      "\u001b[0;32m<ipython-input-18-9b0b4a58e1e5>\u001b[0m in \u001b[0;36m<module>\u001b[0;34m\u001b[0m\n\u001b[1;32m      1\u001b[0m \u001b[0;32mimport\u001b[0m \u001b[0mmatplotlib\u001b[0m\u001b[0;34m.\u001b[0m\u001b[0mpyplot\u001b[0m \u001b[0;32mas\u001b[0m \u001b[0mplt\u001b[0m\u001b[0;34m\u001b[0m\u001b[0;34m\u001b[0m\u001b[0m\n\u001b[1;32m      2\u001b[0m \u001b[0;34m\u001b[0m\u001b[0m\n\u001b[0;32m----> 3\u001b[0;31m \u001b[0macc\u001b[0m \u001b[0;34m=\u001b[0m \u001b[0mhistory_wav\u001b[0m\u001b[0;34m.\u001b[0m\u001b[0mhistory\u001b[0m\u001b[0;34m[\u001b[0m\u001b[0;34m'accuracy'\u001b[0m\u001b[0;34m]\u001b[0m\u001b[0;34m\u001b[0m\u001b[0;34m\u001b[0m\u001b[0m\n\u001b[0m\u001b[1;32m      4\u001b[0m \u001b[0mval_acc\u001b[0m \u001b[0;34m=\u001b[0m \u001b[0mhistory_wav\u001b[0m\u001b[0;34m.\u001b[0m\u001b[0mhistory\u001b[0m\u001b[0;34m[\u001b[0m\u001b[0;34m'val_accuracy'\u001b[0m\u001b[0;34m]\u001b[0m\u001b[0;34m\u001b[0m\u001b[0;34m\u001b[0m\u001b[0m\n\u001b[1;32m      5\u001b[0m \u001b[0;34m\u001b[0m\u001b[0m\n",
      "\u001b[0;31mNameError\u001b[0m: name 'history_wav' is not defined"
     ]
    }
   ],
   "source": [
    "import matplotlib.pyplot as plt\n",
    "\n",
    "acc = history_wav.history['accuracy']\n",
    "val_acc = history_wav.history['val_accuracy']\n",
    "\n",
    "loss=history_wav.history['loss']\n",
    "val_loss=history_wav.history['val_loss']\n",
    "\n",
    "epochs_range = range(len(acc))\n",
    "\n",
    "plt.figure(figsize=(8, 8))\n",
    "plt.subplot(1, 2, 1)\n",
    "plt.plot(epochs_range, acc, label='Training Accuracy')\n",
    "plt.plot(epochs_range, val_acc, label='Validation Accuracy')\n",
    "plt.legend(loc='lower right')\n",
    "plt.title('Training and Validation Accuracy')\n",
    "\n",
    "plt.subplot(1, 2, 2)\n",
    "plt.plot(epochs_range, loss, label='Training Loss')\n",
    "plt.plot(epochs_range, val_loss, label='Validation Loss')\n",
    "plt.legend(loc='upper right')\n",
    "plt.title('Training and Validation Loss')\n",
    "plt.show()\n"
   ]
  },
  {
   "cell_type": "markdown",
   "metadata": {},
   "source": [
    "Evaluation  \n",
    "test셋을 이용하여 모델 성능 평가하기"
   ]
  },
  {
   "cell_type": "code",
   "execution_count": 19,
   "metadata": {},
   "outputs": [
    {
     "data": {
      "text/plain": [
       "<tensorflow.python.training.tracking.util.CheckpointLoadStatus at 0x7f2c80089f10>"
      ]
     },
     "execution_count": 19,
     "metadata": {},
     "output_type": "execute_result"
    }
   ],
   "source": [
    "# 저장된 weight 불러와서 테스트 해보기\n",
    "\n",
    "model_wav.load_weights(checkpoint_dir)\n"
   ]
  },
  {
   "cell_type": "code",
   "execution_count": 20,
   "metadata": {},
   "outputs": [
    {
     "name": "stdout",
     "output_type": "stream",
     "text": [
      "40/40 [==============================] - 9s 235ms/step - loss: 0.1182 - accuracy: 0.9735\n"
     ]
    }
   ],
   "source": [
    "results = model_wav.evaluate(test_dataset)\n"
   ]
  },
  {
   "cell_type": "code",
   "execution_count": 21,
   "metadata": {},
   "outputs": [
    {
     "name": "stdout",
     "output_type": "stream",
     "text": [
      "loss value: 0.118\n",
      "accuracy value: 97.3528%\n"
     ]
    }
   ],
   "source": [
    "# loss\n",
    "print(\"loss value: {:.3f}\".format(results[0]))\n",
    "# accuracy\n",
    "print(\"accuracy value: {:.4f}%\".format(results[1]*100))\n"
   ]
  },
  {
   "cell_type": "markdown",
   "metadata": {},
   "source": [
    "Model Test  \n",
    "testset에서 직접 들어보고 모델의 예측이 맞는지 확인해보기"
   ]
  },
  {
   "cell_type": "code",
   "execution_count": 22,
   "metadata": {},
   "outputs": [
    {
     "name": "stdout",
     "output_type": "stream",
     "text": [
      "label :  right\n"
     ]
    },
    {
     "data": {
      "text/html": [
       "\n",
       "                <audio  controls=\"controls\" >\n",
       "                    <source src=\"data:audio/wav;base64,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\" type=\"audio/wav\" />\n",
       "                    Your browser does not support the audio element.\n",
       "                </audio>\n",
       "              "
      ],
      "text/plain": [
       "<IPython.lib.display.Audio object>"
      ]
     },
     "execution_count": 22,
     "metadata": {},
     "output_type": "execute_result"
    }
   ],
   "source": [
    "inv_label_value = {v: k for k, v in label_value.items()}\n",
    "batch_index = np.random.choice(len(test_wav), size=1, replace=False)\n",
    "\n",
    "batch_xs = test_wav[batch_index]\n",
    "batch_ys = test_label[batch_index]\n",
    "y_pred_ = model_wav(batch_xs, training=False)\n",
    "\n",
    "print(\"label : \", str(inv_label_value[batch_ys[0]]))\n",
    "\n",
    "ipd.Audio(batch_xs.reshape(8000,), rate=8000)"
   ]
  },
  {
   "cell_type": "code",
   "execution_count": 23,
   "metadata": {},
   "outputs": [
    {
     "name": "stdout",
     "output_type": "stream",
     "text": [
      "y_pred: right\n"
     ]
    }
   ],
   "source": [
    "if np.argmax(y_pred_) == test_label[i]:\n",
    "    print(\"y_pred: \" + str(inv_label_value[np.argmax(y_pred_)]))\n",
    "else:\n",
    "    print(\"y_pred: \" + str(inv_label_value[np.argmax(y_pred_)]))\n"
   ]
  },
  {
   "cell_type": "markdown",
   "metadata": {},
   "source": [
    "Skip-Connection model 추가하기"
   ]
  },
  {
   "cell_type": "code",
   "execution_count": 24,
   "metadata": {},
   "outputs": [
    {
     "name": "stdout",
     "output_type": "stream",
     "text": [
      "Model: \"model_1\"\n",
      "__________________________________________________________________________________________________\n",
      "Layer (type)                    Output Shape         Param #     Connected to                     \n",
      "==================================================================================================\n",
      "input_2 (InputLayer)            [(None, 8000, 1)]    0                                            \n",
      "__________________________________________________________________________________________________\n",
      "conv1d_10 (Conv1D)              (None, 8000, 32)     320         input_2[0][0]                    \n",
      "__________________________________________________________________________________________________\n",
      "conv1d_11 (Conv1D)              (None, 8000, 32)     9248        conv1d_10[0][0]                  \n",
      "__________________________________________________________________________________________________\n",
      "max_pooling1d_4 (MaxPooling1D)  (None, 4000, 32)     0           conv1d_11[0][0]                  \n",
      "__________________________________________________________________________________________________\n",
      "conv1d_12 (Conv1D)              (None, 4000, 64)     18496       max_pooling1d_4[0][0]            \n",
      "__________________________________________________________________________________________________\n",
      "conv1d_13 (Conv1D)              (None, 4000, 64)     36928       conv1d_12[0][0]                  \n",
      "__________________________________________________________________________________________________\n",
      "tf_op_layer_concat (TensorFlowO [(None, 4000, 96)]   0           conv1d_13[0][0]                  \n",
      "                                                                 max_pooling1d_4[0][0]            \n",
      "__________________________________________________________________________________________________\n",
      "max_pooling1d_5 (MaxPooling1D)  (None, 2000, 96)     0           tf_op_layer_concat[0][0]         \n",
      "__________________________________________________________________________________________________\n",
      "conv1d_14 (Conv1D)              (None, 2000, 128)    110720      max_pooling1d_5[0][0]            \n",
      "__________________________________________________________________________________________________\n",
      "conv1d_15 (Conv1D)              (None, 2000, 128)    147584      conv1d_14[0][0]                  \n",
      "__________________________________________________________________________________________________\n",
      "conv1d_16 (Conv1D)              (None, 2000, 128)    147584      conv1d_15[0][0]                  \n",
      "__________________________________________________________________________________________________\n",
      "tf_op_layer_concat_1 (TensorFlo [(None, 2000, 224)]  0           conv1d_16[0][0]                  \n",
      "                                                                 max_pooling1d_5[0][0]            \n",
      "__________________________________________________________________________________________________\n",
      "max_pooling1d_6 (MaxPooling1D)  (None, 1000, 224)    0           tf_op_layer_concat_1[0][0]       \n",
      "__________________________________________________________________________________________________\n",
      "conv1d_17 (Conv1D)              (None, 1000, 256)    516352      max_pooling1d_6[0][0]            \n",
      "__________________________________________________________________________________________________\n",
      "conv1d_18 (Conv1D)              (None, 1000, 256)    590080      conv1d_17[0][0]                  \n",
      "__________________________________________________________________________________________________\n",
      "conv1d_19 (Conv1D)              (None, 1000, 256)    590080      conv1d_18[0][0]                  \n",
      "__________________________________________________________________________________________________\n",
      "tf_op_layer_concat_2 (TensorFlo [(None, 1000, 480)]  0           conv1d_19[0][0]                  \n",
      "                                                                 max_pooling1d_6[0][0]            \n",
      "__________________________________________________________________________________________________\n",
      "max_pooling1d_7 (MaxPooling1D)  (None, 500, 480)     0           tf_op_layer_concat_2[0][0]       \n",
      "__________________________________________________________________________________________________\n",
      "dropout_1 (Dropout)             (None, 500, 480)     0           max_pooling1d_7[0][0]            \n",
      "__________________________________________________________________________________________________\n",
      "flatten_1 (Flatten)             (None, 240000)       0           dropout_1[0][0]                  \n",
      "__________________________________________________________________________________________________\n",
      "dense_2 (Dense)                 (None, 256)          61440256    flatten_1[0][0]                  \n",
      "__________________________________________________________________________________________________\n",
      "batch_normalization_1 (BatchNor (None, 256)          1024        dense_2[0][0]                    \n",
      "__________________________________________________________________________________________________\n",
      "activation_1 (Activation)       (None, 256)          0           batch_normalization_1[0][0]      \n",
      "__________________________________________________________________________________________________\n",
      "dense_3 (Dense)                 (None, 12)           3084        activation_1[0][0]               \n",
      "==================================================================================================\n",
      "Total params: 63,611,756\n",
      "Trainable params: 63,611,244\n",
      "Non-trainable params: 512\n",
      "__________________________________________________________________________________________________\n"
     ]
    }
   ],
   "source": [
    "input_tensor = layers.Input(shape=(sr, 1))\n",
    "\n",
    "x = layers.Conv1D(32, 9, padding='same', activation='relu')(input_tensor)\n",
    "x = layers.Conv1D(32, 9, padding='same', activation='relu')(x)\n",
    "skip_1 = layers.MaxPool1D()(x)\n",
    "\n",
    "x = layers.Conv1D(64, 9, padding='same', activation='relu')(skip_1)\n",
    "x = layers.Conv1D(64, 9, padding='same', activation='relu')(x)\n",
    "x = tf.concat([x, skip_1], -1)\n",
    "skip_2 = layers.MaxPool1D()(x)\n",
    "\n",
    "x = layers.Conv1D(128, 9, padding='same', activation='relu')(skip_2)\n",
    "x = layers.Conv1D(128, 9, padding='same', activation='relu')(x)\n",
    "x = layers.Conv1D(128, 9, padding='same', activation='relu')(x)\n",
    "x = tf.concat([x, skip_2], -1)\n",
    "skip_3 = layers.MaxPool1D()(x)\n",
    "\n",
    "x = layers.Conv1D(256, 9, padding='same', activation='relu')(skip_3)\n",
    "x = layers.Conv1D(256, 9, padding='same', activation='relu')(x)\n",
    "x = layers.Conv1D(256, 9, padding='same', activation='relu')(x)\n",
    "x = tf.concat([x, skip_3], -1)\n",
    "x = layers.MaxPool1D()(x)\n",
    "x = layers.Dropout(0.3)(x)\n",
    "\n",
    "x = layers.Flatten()(x)\n",
    "x = layers.Dense(256)(x)\n",
    "x = layers.BatchNormalization()(x)\n",
    "x = layers.Activation('relu')(x)\n",
    "\n",
    "output_tensor = layers.Dense(12)(x)\n",
    "\n",
    "model_wav_skip = tf.keras.Model(input_tensor, output_tensor)\n",
    "\n",
    "model_wav_skip.summary()"
   ]
  },
  {
   "cell_type": "code",
   "execution_count": 25,
   "metadata": {},
   "outputs": [],
   "source": [
    "optimizer=tf.keras.optimizers.Adam(1e-4)\n",
    "model_wav_skip.compile(loss=tf.keras.losses.CategoricalCrossentropy(from_logits=True),\n",
    "             optimizer=optimizer,\n",
    "             metrics=['accuracy'])\n"
   ]
  },
  {
   "cell_type": "code",
   "execution_count": 26,
   "metadata": {},
   "outputs": [],
   "source": [
    "# the save point\n",
    "checkpoint_dir = os.getenv('HOME')+'/aiffel/speech_recognition/models/wav_skip'\n",
    "\n",
    "cp_callback = tf.keras.callbacks.ModelCheckpoint(checkpoint_dir,\n",
    "                                                 save_weights_only=True,\n",
    "                                                 monitor='val_loss',\n",
    "                                                 mode='auto',\n",
    "                                                 save_best_only=True,\n",
    "                                                 verbose=1)"
   ]
  },
  {
   "cell_type": "code",
   "execution_count": 28,
   "metadata": {},
   "outputs": [
    {
     "name": "stdout",
     "output_type": "stream",
     "text": [
      "Epoch 1/10\n",
      "355/355 [==============================] - ETA: 0s - loss: 1.2963 - accuracy: 0.5842\n",
      "Epoch 00001: val_loss improved from inf to 1.23112, saving model to /home/aiffel0042/aiffel/speech_recognition/models/wav_skip\n",
      "355/355 [==============================] - 168s 473ms/step - loss: 1.2963 - accuracy: 0.5842 - val_loss: 1.2311 - val_accuracy: 0.6607\n",
      "Epoch 2/10\n",
      "355/355 [==============================] - ETA: 0s - loss: 0.7262 - accuracy: 0.7899\n",
      "Epoch 00002: val_loss improved from 1.23112 to 0.70392, saving model to /home/aiffel0042/aiffel/speech_recognition/models/wav_skip\n",
      "355/355 [==============================] - 168s 474ms/step - loss: 0.7262 - accuracy: 0.7899 - val_loss: 0.7039 - val_accuracy: 0.7855\n",
      "Epoch 3/10\n",
      "355/355 [==============================] - ETA: 0s - loss: 0.4918 - accuracy: 0.8702\n",
      "Epoch 00003: val_loss improved from 0.70392 to 0.51410, saving model to /home/aiffel0042/aiffel/speech_recognition/models/wav_skip\n",
      "355/355 [==============================] - 168s 474ms/step - loss: 0.4918 - accuracy: 0.8702 - val_loss: 0.5141 - val_accuracy: 0.8466\n",
      "Epoch 4/10\n",
      "355/355 [==============================] - ETA: 0s - loss: 0.3228 - accuracy: 0.9232\n",
      "Epoch 00004: val_loss improved from 0.51410 to 0.39587, saving model to /home/aiffel0042/aiffel/speech_recognition/models/wav_skip\n",
      "355/355 [==============================] - 168s 474ms/step - loss: 0.3228 - accuracy: 0.9232 - val_loss: 0.3959 - val_accuracy: 0.8936\n",
      "Epoch 5/10\n",
      "355/355 [==============================] - ETA: 0s - loss: 0.2141 - accuracy: 0.9547\n",
      "Epoch 00005: val_loss improved from 0.39587 to 0.33882, saving model to /home/aiffel0042/aiffel/speech_recognition/models/wav_skip\n",
      "355/355 [==============================] - 169s 475ms/step - loss: 0.2141 - accuracy: 0.9547 - val_loss: 0.3388 - val_accuracy: 0.8990\n",
      "Epoch 6/10\n",
      "355/355 [==============================] - ETA: 0s - loss: 0.1507 - accuracy: 0.9697\n",
      "Epoch 00006: val_loss did not improve from 0.33882\n",
      "355/355 [==============================] - 167s 470ms/step - loss: 0.1507 - accuracy: 0.9697 - val_loss: 0.3410 - val_accuracy: 0.8978\n",
      "Epoch 7/10\n",
      "355/355 [==============================] - ETA: 0s - loss: 0.1089 - accuracy: 0.9791\n",
      "Epoch 00007: val_loss did not improve from 0.33882\n",
      "355/355 [==============================] - 155s 438ms/step - loss: 0.1089 - accuracy: 0.9791 - val_loss: 0.4161 - val_accuracy: 0.8714\n",
      "Epoch 8/10\n",
      "355/355 [==============================] - ETA: 0s - loss: 0.0809 - accuracy: 0.9844\n",
      "Epoch 00008: val_loss improved from 0.33882 to 0.29990, saving model to /home/aiffel0042/aiffel/speech_recognition/models/wav_skip\n",
      "355/355 [==============================] - 157s 443ms/step - loss: 0.0809 - accuracy: 0.9844 - val_loss: 0.2999 - val_accuracy: 0.9153\n",
      "Epoch 9/10\n",
      "355/355 [==============================] - ETA: 0s - loss: 0.0615 - accuracy: 0.9883\n",
      "Epoch 00009: val_loss did not improve from 0.29990\n",
      "355/355 [==============================] - 157s 442ms/step - loss: 0.0615 - accuracy: 0.9883 - val_loss: 0.3466 - val_accuracy: 0.9010\n",
      "Epoch 10/10\n",
      "355/355 [==============================] - ETA: 0s - loss: 0.0486 - accuracy: 0.9904\n",
      "Epoch 00010: val_loss did not improve from 0.29990\n",
      "355/355 [==============================] - 158s 446ms/step - loss: 0.0486 - accuracy: 0.9904 - val_loss: 0.3221 - val_accuracy: 0.9127\n",
      "✅\n"
     ]
    }
   ],
   "source": [
    "#30분 내외 소요\n",
    "history_wav_skip = model_wav_skip.fit(train_dataset, epochs=max_epochs,\n",
    "                    steps_per_epoch=len(train_wav) // batch_size,\n",
    "                    validation_data=test_dataset,\n",
    "                    validation_steps=len(test_wav) // batch_size,\n",
    "                    callbacks=[cp_callback]\n",
    "                    )"
   ]
  },
  {
   "cell_type": "code",
   "execution_count": 27,
   "metadata": {},
   "outputs": [
    {
     "ename": "NameError",
     "evalue": "name 'history_wav_skip' is not defined",
     "output_type": "error",
     "traceback": [
      "\u001b[0;31m---------------------------------------------------------------------------\u001b[0m",
      "\u001b[0;31mNameError\u001b[0m                                 Traceback (most recent call last)",
      "\u001b[0;32m<ipython-input-27-0978a86c7abc>\u001b[0m in \u001b[0;36m<module>\u001b[0;34m\u001b[0m\n\u001b[1;32m      1\u001b[0m \u001b[0;32mimport\u001b[0m \u001b[0mmatplotlib\u001b[0m\u001b[0;34m.\u001b[0m\u001b[0mpyplot\u001b[0m \u001b[0;32mas\u001b[0m \u001b[0mplt\u001b[0m\u001b[0;34m\u001b[0m\u001b[0;34m\u001b[0m\u001b[0m\n\u001b[1;32m      2\u001b[0m \u001b[0;34m\u001b[0m\u001b[0m\n\u001b[0;32m----> 3\u001b[0;31m \u001b[0macc\u001b[0m \u001b[0;34m=\u001b[0m \u001b[0mhistory_wav_skip\u001b[0m\u001b[0;34m.\u001b[0m\u001b[0mhistory\u001b[0m\u001b[0;34m[\u001b[0m\u001b[0;34m'accuracy'\u001b[0m\u001b[0;34m]\u001b[0m\u001b[0;34m\u001b[0m\u001b[0;34m\u001b[0m\u001b[0m\n\u001b[0m\u001b[1;32m      4\u001b[0m \u001b[0mval_acc\u001b[0m \u001b[0;34m=\u001b[0m \u001b[0mhistory_wav_skip\u001b[0m\u001b[0;34m.\u001b[0m\u001b[0mhistory\u001b[0m\u001b[0;34m[\u001b[0m\u001b[0;34m'val_accuracy'\u001b[0m\u001b[0;34m]\u001b[0m\u001b[0;34m\u001b[0m\u001b[0;34m\u001b[0m\u001b[0m\n\u001b[1;32m      5\u001b[0m \u001b[0;34m\u001b[0m\u001b[0m\n",
      "\u001b[0;31mNameError\u001b[0m: name 'history_wav_skip' is not defined"
     ]
    }
   ],
   "source": [
    "import matplotlib.pyplot as plt\n",
    "\n",
    "acc = history_wav_skip.history['accuracy']\n",
    "val_acc = history_wav_skip.history['val_accuracy']\n",
    "\n",
    "loss=history_wav_skip.history['loss']\n",
    "val_loss=history_wav_skip.history['val_loss']\n",
    "\n",
    "epochs_range = range(len(acc))\n",
    "\n",
    "plt.figure(figsize=(8, 8))\n",
    "plt.subplot(1, 2, 1)\n",
    "plt.plot(epochs_range, acc, label='Training Accuracy')\n",
    "plt.plot(epochs_range, val_acc, label='Validation Accuracy')\n",
    "plt.legend(loc='lower right')\n",
    "plt.title('Training and Validation Accuracy')\n",
    "\n",
    "plt.subplot(1, 2, 2)\n",
    "plt.plot(epochs_range, loss, label='Training Loss')\n",
    "plt.plot(epochs_range, val_loss, label='Validation Loss')\n",
    "plt.legend(loc='upper right')\n",
    "plt.title('Training and Validation Loss')\n",
    "plt.show()\n"
   ]
  },
  {
   "cell_type": "code",
   "execution_count": 28,
   "metadata": {},
   "outputs": [
    {
     "name": "stdout",
     "output_type": "stream",
     "text": [
      "40/40 [==============================] - 6s 154ms/step - loss: 0.1130 - accuracy: 0.9739\n",
      "loss value: 0.113\n",
      "accuracy value: 97.3923%\n"
     ]
    }
   ],
   "source": [
    "# Evaluation \n",
    "\n",
    "model_wav_skip.load_weights(checkpoint_dir)\n",
    "results = model_wav_skip.evaluate(test_dataset)\n",
    "\n",
    "# loss\n",
    "print(\"loss value: {:.3f}\".format(results[0]))\n",
    "# accuracy\n",
    "print(\"accuracy value: {:.4f}%\".format(results[1]*100))\n"
   ]
  },
  {
   "cell_type": "code",
   "execution_count": 29,
   "metadata": {},
   "outputs": [
    {
     "name": "stdout",
     "output_type": "stream",
     "text": [
      "label :  stop\n"
     ]
    },
    {
     "data": {
      "text/html": [
       "\n",
       "                <audio  controls=\"controls\" >\n",
       "                    <source src=\"data:audio/wav;base64,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\" type=\"audio/wav\" />\n",
       "                    Your browser does not support the audio element.\n",
       "                </audio>\n",
       "              "
      ],
      "text/plain": [
       "<IPython.lib.display.Audio object>"
      ]
     },
     "execution_count": 29,
     "metadata": {},
     "output_type": "execute_result"
    }
   ],
   "source": [
    "# Test \n",
    "\n",
    "inv_label_value = {v: k for k, v in label_value.items()}\n",
    "batch_index = np.random.choice(len(test_wav), size=1, replace=False)\n",
    "\n",
    "batch_xs = test_wav[batch_index]\n",
    "batch_ys = test_label[batch_index]\n",
    "y_pred_ = model_wav_skip(batch_xs, training=False)\n",
    "\n",
    "print(\"label : \", str(inv_label_value[batch_ys[0]]))\n",
    "\n",
    "ipd.Audio(batch_xs.reshape(8000,), rate=8000)"
   ]
  },
  {
   "cell_type": "code",
   "execution_count": 30,
   "metadata": {},
   "outputs": [
    {
     "name": "stdout",
     "output_type": "stream",
     "text": [
      "y_pred: stop\n"
     ]
    }
   ],
   "source": [
    "if np.argmax(y_pred_) == test_label[i]:\n",
    "    print(\"y_pred: \" + str(inv_label_value[np.argmax(y_pred_)]))\n",
    "else:\n",
    "    print(\"y_pred: \" + str(inv_label_value[np.argmax(y_pred_)]))\n"
   ]
  },
  {
   "cell_type": "markdown",
   "metadata": {},
   "source": [
    "### Spectrogram\n",
    "wave파일은 다양한 파형이 합성된 복합파  \n",
    "주파수 대역별로 분리해 볼 수 있다, 푸리에 변환 사용  \n",
    "\n",
    "푸리에변환(Fourier transform): 임의의 입력 신호를 다양한 주파수를 갖는 주기함수들이 합으로 분해하여 표현하는 것  \n",
    "즉, 푸리에변환은 입력 신호가 어떤 것인지 상관없이 sin, cos과 같은 주기함수들의 합으로 항상 분해가 가능하다.  \n",
    "푸리에변환이 끝나면 실수부와 허수부로 이루어진 복소수을 얻을 수 있다.  \n",
    "이 때 복소수의 절대값은 spectrum magnitude(주파수의 강도)라고 하고,  \n",
    "복소수가 가지는 phase는 phase spectrum(주파수의 위상)이라 한다.  \n",
    "STFT(Short Time Fourier Transform): 시간의 길이를 나눠서 퓨리에 변환  \n",
    "\n",
    "spectrogram: wave데이터를 해석하는 방법 중 하나며, 일정 시간동안 wave 데이터 안의 다양한 주파수들이 얼마나 포함되어 있는지 보여준다.  "
   ]
  },
  {
   "cell_type": "code",
   "execution_count": 31,
   "metadata": {},
   "outputs": [],
   "source": [
    "import librosa\n",
    "\n",
    "def wav2spec(wav, fft_size=258): # spectrogram shape을 맞추기위해서 size 변형\n",
    "    D = np.abs(librosa.stft(wav, n_fft=fft_size))\n",
    "    return D\n"
   ]
  },
  {
   "cell_type": "code",
   "execution_count": 32,
   "metadata": {},
   "outputs": [
    {
     "name": "stdout",
     "output_type": "stream",
     "text": [
      "Waveform shape :  (8000,)\n",
      "Spectrogram shape :  (130, 126)\n"
     ]
    }
   ],
   "source": [
    "# 위에서 뽑았던 sample data\n",
    "spec = wav2spec(data)\n",
    "print(\"Waveform shape : \",data.shape)\n",
    "print(\"Spectrogram shape : \",spec.shape)"
   ]
  },
  {
   "cell_type": "code",
   "execution_count": 33,
   "metadata": {},
   "outputs": [
    {
     "data": {
      "image/png": "[encoded data removed]",
      "text/plain": [
       "<Figure size 432x288 with 2 Axes>"
      ]
     },
     "metadata": {
      "needs_background": "light"
     },
     "output_type": "display_data"
    }
   ],
   "source": [
    "import librosa.display\n",
    "\n",
    "librosa.display.specshow(librosa.amplitude_to_db(spec, ref=np.max), x_axis='time')\n",
    "plt.title('Power spectrogram')\n",
    "plt.colorbar(format='%+2.0f dB')\n",
    "plt.xticks(range(0, 1))\n",
    "plt.tight_layout()\n",
    "plt.show()"
   ]
  },
  {
   "cell_type": "code",
   "execution_count": null,
   "metadata": {},
   "outputs": [],
   "source": []
  }
 ],
 "metadata": {
  "kernelspec": {
   "display_name": "aiffel",
   "language": "python",
   "name": "aiffel"
  },
  "language_info": {
   "codemirror_mode": {
    "name": "ipython",
    "version": 3
   },
   "file_extension": ".py",
   "mimetype": "text/x-python",
   "name": "python",
   "nbconvert_exporter": "python",
   "pygments_lexer": "ipython3",
   "version": "3.7.6"
  }
 },
 "nbformat": 4,
 "nbformat_minor": 4
}
