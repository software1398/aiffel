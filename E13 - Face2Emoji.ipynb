{
 "cells": [
  {
   "cell_type": "markdown",
   "metadata": {},
   "source": [
    "## E13 - Face2Emoji 모바일 웹앱 만들기"
   ]
  },
  {
   "cell_type": "code",
   "execution_count": 1,
   "metadata": {},
   "outputs": [],
   "source": [
    "# 서버 돌리기\n",
    "# python3 -m http.server 8080\n",
    "# html문서 내에서 tensorflow.js를 사용하기 위해 <head>내에 다음의 코드만 추가한다.\n",
    "# <script src=\"https://cdn.jsdelivr.net/npm/@tensorflow/tfjs@1.0.1\"></script>"
   ]
  },
  {
   "cell_type": "markdown",
   "metadata": {},
   "source": [
    "<html>\n",
    "\t<head>\n",
    "\t\t<meta charset=\"utf-8\">\n",
    "\t\t<meta name=\"viewport\" content=\"width=device-width, user-scalable=yes, initial-scale=1, maximum-scale=1\">\n",
    "\t\t<title>Demo</title>\n",
    "\t\t<script src=\"https://cdn.jsdelivr.net/npm/@tensorflow/tfjs@1.0.1\"></script>\n",
    "\t</head>\n",
    "\t<body>\n",
    "\t\t<script src=\"https://cdn.jsdelivr.net/npm/@tensorflow/tfjs@1.0.1\"></script>\n",
    "\t\t<script src=\"https://cdn.jsdelivr.net/npm/@tensorflow-models/mobilenet@1.0.0\"></script>\n",
    "\t\t<img src=\"cat2.jpg\">\n",
    "\t\t<script>\n",
    "\t\t img = document.querySelector('img');\n",
    "            <!-- load(): 학습된 모델을 불러오기 -->\n",
    "            <!-- function(model){}: model=> -->\n",
    "\t\t mobilenet.load().then(model=>{\n",
    "\t\t \tmodel.classify(img).then(predictions=>{\n",
    "\t\t \t alert(predictions[0].className+':'+predictions[0].probability);\n",
    "\t\t \t console.log(predictions);\n",
    "\t\t \t});\n",
    "\t\t });\n",
    "\t\t</script>\n",
    "\t</body>\n",
    "</html>"
   ]
  },
  {
   "cell_type": "code",
   "execution_count": 2,
   "metadata": {},
   "outputs": [],
   "source": [
    "# tensorflow mobilenet\n",
    "# https://github.com/tensorflow/tfjs-models/tree/master/mobilenet"
   ]
  },
  {
   "cell_type": "markdown",
   "metadata": {},
   "source": [
    "<html>\n",
    "\t<head>\n",
    "\t\t<meta charset=\"utf-8\">\n",
    "\t\t<meta name=\"viewport\" content=\"width=device-width, user-scalable=yes, initial-scale=1, maximum-scale=1\">\n",
    "\t\t<title>Demo</title>\n",
    "\t\t<script src=\"https://cdn.jsdelivr.net/npm/@tensorflow/tfjs@1.0.1\"></script>\n",
    "\t</head>\n",
    "\t<body>\n",
    "\t\t<script src=\"https://cdn.jsdelivr.net/npm/@tensorflow/tfjs@1.0.1\"></script>\n",
    "\t\t<script src=\"https://cdn.jsdelivr.net/npm/@tensorflow-models/mobilenet@1.0.0\"></script>\n",
    "\t\t<video playsinline autoplay></video>\n",
    "\t\t<button>Take snapshot</button>\n",
    "\t\t<canvas></canvas>\n",
    "\t\t<script>\n",
    "\t\t video = document.querySelector('video');\n",
    "\t\t canvas = document.querySelector('canvas');\n",
    "\t\t button = document.querySelector('button');\n",
    "\n",
    "\t\t button.onclick = function() {\n",
    "  \t\t  canvas.width = video.videoWidth;\n",
    "  \t\t  canvas.height = video.videoHeight;\n",
    "  \t\t  canvas.getContext('2d').drawImage(video, 0, 0, video.videoWidth, video.videoHeight);\n",
    "    \t\t  mobilenet.load().then(model => {\n",
    "      \t\t   \tmodel.classify(canvas).then(predictions => {\n",
    "        \t\talert(predictions[0].className + ': ' + predictions[0].probability);\n",
    "        \t\tconsole.log(predictions);\n",
    "      \t\t\t});\n",
    "    \t\t  });\n",
    "\t\t };\n",
    "\n",
    "\t\t constraints = {\n",
    "  \t\t  audio: false,\n",
    "  \t\t  video: true\n",
    "\t\t };\n",
    "\n",
    "\t\t function handleSuccess(stream) {\n",
    "  \t\t  video.srcObject = stream;\n",
    "\t\t }\n",
    "\n",
    "\t\t function handleError(error) {\n",
    "  \t\t  alert('navigator.MediaDevices.getUserMedia error: ' + error.message + error.name);\n",
    "\t\t }\n",
    "\t\t navigator.mediaDevices.getUserMedia(constraints).then(handleSuccess).catch(handleError);\n",
    "\t\t</script>\n",
    "\t</body>"
   ]
  },
  {
   "cell_type": "code",
   "execution_count": null,
   "metadata": {},
   "outputs": [],
   "source": []
  }
 ],
 "metadata": {
  "kernelspec": {
   "display_name": "aiffel",
   "language": "python",
   "name": "aiffel"
  },
  "language_info": {
   "codemirror_mode": {
    "name": "ipython",
    "version": 3
   },
   "file_extension": ".py",
   "mimetype": "text/x-python",
   "name": "python",
   "nbconvert_exporter": "python",
   "pygments_lexer": "ipython3",
   "version": "3.7.6"
  }
 },
 "nbformat": 4,
 "nbformat_minor": 4
}
