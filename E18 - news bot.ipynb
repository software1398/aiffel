{
 "cells": [
  {
   "cell_type": "markdown",
   "metadata": {},
   "source": [
    "## E18 - 뉴스 요약봇 만들기"
   ]
  },
  {
   "cell_type": "markdown",
   "metadata": {},
   "source": [
    "##### 텍스트 요약\n",
    "\n",
    "긴 길이의 문서에서 핵심 내용만 간추려서 요약한 문장으로 변환하는 것   \n",
    "요약시 정보의 손실이 최소화되어야 한다   \n",
    "추출적 요약과 추상적 요약으로 접근할 수 있다.   \n",
    "\n",
    "###### 추출적 요약\n",
    "원문에서 문장들을 추출하여 요약하는 방식.   \n",
    "문장 중에서 요약문에 들어갈 핵심문장을 구별한다는 의미에서 문장 분류(text classification)의 문제라고 볼 수도 있다.   \n",
    "10개의 문장이 있을 경우 3개의 문장을 추출하여 요약문을 만든다고 볼 수 있으며 연결된 3개의 문장이 자연스럽지 않을 수 있다.   \n",
    "https://www.aclweb.org/anthology/W04-3252.pdf   \n",
    "전통적인 머신 러닝 방식에 속하는 텍스트랭크라는 알고리즘을 사용한다.\n",
    "대표적인 예로 네이버 뉴스 서비스에 있는 요약봇 기능이다.   \n",
    "\n",
    "###### 추상적 요약\n",
    "원문으로부터 요약된 새로운 문장을 생성하는 방식.   \n",
    "자연어 생성(Netural language generation)"
   ]
  },
  {
   "cell_type": "markdown",
   "metadata": {},
   "source": [
    "###### 텍스트 요약 훈련하기\n",
    "seq2seq   \n",
    "두 개의 RNN을 사용하여 입력 시퀀스로부터 출력 시퀀스를 생성하는 자연어 생성 모델.   \n",
    "첫번째 RNN, 인코더을 통해 하나의 고정된 벡터로 변환, 문맥 정보을 가진 벡터, context vector   \n",
    "두번째 RNN, 디코더는 context vector을 전달받아 단어를 하나씩 생성하여 요약 문장을 만들어낸다.   \n",
    "\n",
    "이번에서 RNN이 아니라 LSTM를 사용한다.    \n",
    "LSTM의 특징은 다음 time step의 셀에 hidden state와 cell state도 같이 전달하는 점이다.   \n",
    "\n",
    "시작 토큰과 종료 토큰이 필요하다. 전처리를 해야 한다.   \n",
    "\n",
    "새로운 매커니즘, 어텐션 매커니즘 이용   \n",
    "마지막 time step의 hidden state는 전달한 context vector로서 이미 입력 시퀀스의 정보가 많이 소실된 상태다.   \n",
    "어텐션은 인코더의 모든 단계의 hidden state의 정보를 context vector에 반영한다.    \n",
    "하지만 모든 hidden state가 동일한 비중으로 반영되지 않고   \n",
    "현재 디코더의 time step을 예측할 때 인코더의 각 step이 얼마나 영향을 미치는지에 따른 가중합으로 계산한다.   \n",
    "예) 0.2h1+0.3h2+0.1h3+0.15h4+0.25h5   \n",
    "그래서 디코더의 각 step마다 그 가중치의 합은 달라진다.   \n",
    "의문) 인코더가 진행되면서 각 단계의 context vector는 매번 바뀌나?  \n",
    "\n",
    "1. seq2seq를 사용\n",
    "2. LSTM을 사용, hidden state와 cell state도 사용\n",
    "3. 디코더의 예측 시퀀스 앞뒤로 토큰 추가 sos, eos\n",
    "4. seq2seq을 실행하면 디코더는 시작 토큰을 입력받아서 예측을 시작\n",
    "5. seq2seq 기본 모델이 아니라 어텐션 매커니즘 사용하여 인코더의 hidden state의 중요도에 따라 context vector 계산\n",
    "6. 계산된 context vector을 이용하여 다음 단어을 예측한다."
   ]
  },
  {
   "cell_type": "markdown",
   "metadata": {},
   "source": [
    "###### 데이터 준비하기\n",
    "캐글에서 제공된 아마존 리뷰 데이터셋 사용   \n",
    "https://www.kaggle.com/snap/amazon-fine-food-reviews   \n",
    "reviews.csv 파일(286.97MB)\n",
    "\n",
    "NLTK의 불용어 사용   \n",
    "NLTK(Natural Language Toolkit): 100여개의 불용어가 미리 정의되어 있다.   \n",
    "pip install nltk"
   ]
  },
  {
   "cell_type": "code",
   "execution_count": 1,
   "metadata": {},
   "outputs": [
    {
     "name": "stderr",
     "output_type": "stream",
     "text": [
      "[nltk_data] Downloading package stopwords to\n",
      "[nltk_data]     /home/aiffel0042/nltk_data...\n",
      "[nltk_data]   Package stopwords is already up-to-date!\n"
     ]
    }
   ],
   "source": [
    "import nltk\n",
    "nltk.download('stopwords')\n",
    "\n",
    "import numpy as np\n",
    "import pandas as pd\n",
    "import os\n",
    "import re\n",
    "import matplotlib.pyplot as plt\n",
    "from nltk.corpus import stopwords\n",
    "from bs4 import BeautifulSoup \n",
    "from tensorflow.keras.preprocessing.text import Tokenizer \n",
    "from tensorflow.keras.preprocessing.sequence import pad_sequences\n",
    "import urllib.request"
   ]
  },
  {
   "cell_type": "code",
   "execution_count": 2,
   "metadata": {},
   "outputs": [
    {
     "name": "stdout",
     "output_type": "stream",
     "text": [
      "전체 샘플수 : 100000\n"
     ]
    }
   ],
   "source": [
    "# Reviews.csv: 568,454개의 샘플\n",
    "\n",
    "data = pd.read_csv(os.getenv(\"HOME\")+\"/aiffel/news_summarization/data/Reviews.csv\", nrows = 100000)\n",
    "print('전체 샘플수 :',(len(data)))"
   ]
  },
  {
   "cell_type": "code",
   "execution_count": 3,
   "metadata": {},
   "outputs": [
    {
     "data": {
      "text/html": [
       "<div>\n",
       "<style scoped>\n",
       "    .dataframe tbody tr th:only-of-type {\n",
       "        vertical-align: middle;\n",
       "    }\n",
       "\n",
       "    .dataframe tbody tr th {\n",
       "        vertical-align: top;\n",
       "    }\n",
       "\n",
       "    .dataframe thead th {\n",
       "        text-align: right;\n",
       "    }\n",
       "</style>\n",
       "<table border=\"1\" class=\"dataframe\">\n",
       "  <thead>\n",
       "    <tr style=\"text-align: right;\">\n",
       "      <th></th>\n",
       "      <th>Id</th>\n",
       "      <th>ProductId</th>\n",
       "      <th>UserId</th>\n",
       "      <th>ProfileName</th>\n",
       "      <th>HelpfulnessNumerator</th>\n",
       "      <th>HelpfulnessDenominator</th>\n",
       "      <th>Score</th>\n",
       "      <th>Time</th>\n",
       "      <th>Summary</th>\n",
       "      <th>Text</th>\n",
       "    </tr>\n",
       "  </thead>\n",
       "  <tbody>\n",
       "    <tr>\n",
       "      <th>0</th>\n",
       "      <td>1</td>\n",
       "      <td>B001E4KFG0</td>\n",
       "      <td>A3SGXH7AUHU8GW</td>\n",
       "      <td>delmartian</td>\n",
       "      <td>1</td>\n",
       "      <td>1</td>\n",
       "      <td>5</td>\n",
       "      <td>1303862400</td>\n",
       "      <td>Good Quality Dog Food</td>\n",
       "      <td>I have bought several of the Vitality canned d...</td>\n",
       "    </tr>\n",
       "    <tr>\n",
       "      <th>1</th>\n",
       "      <td>2</td>\n",
       "      <td>B00813GRG4</td>\n",
       "      <td>A1D87F6ZCVE5NK</td>\n",
       "      <td>dll pa</td>\n",
       "      <td>0</td>\n",
       "      <td>0</td>\n",
       "      <td>1</td>\n",
       "      <td>1346976000</td>\n",
       "      <td>Not as Advertised</td>\n",
       "      <td>Product arrived labeled as Jumbo Salted Peanut...</td>\n",
       "    </tr>\n",
       "    <tr>\n",
       "      <th>2</th>\n",
       "      <td>3</td>\n",
       "      <td>B000LQOCH0</td>\n",
       "      <td>ABXLMWJIXXAIN</td>\n",
       "      <td>Natalia Corres \"Natalia Corres\"</td>\n",
       "      <td>1</td>\n",
       "      <td>1</td>\n",
       "      <td>4</td>\n",
       "      <td>1219017600</td>\n",
       "      <td>\"Delight\" says it all</td>\n",
       "      <td>This is a confection that has been around a fe...</td>\n",
       "    </tr>\n",
       "    <tr>\n",
       "      <th>3</th>\n",
       "      <td>4</td>\n",
       "      <td>B000UA0QIQ</td>\n",
       "      <td>A395BORC6FGVXV</td>\n",
       "      <td>Karl</td>\n",
       "      <td>3</td>\n",
       "      <td>3</td>\n",
       "      <td>2</td>\n",
       "      <td>1307923200</td>\n",
       "      <td>Cough Medicine</td>\n",
       "      <td>If you are looking for the secret ingredient i...</td>\n",
       "    </tr>\n",
       "    <tr>\n",
       "      <th>4</th>\n",
       "      <td>5</td>\n",
       "      <td>B006K2ZZ7K</td>\n",
       "      <td>A1UQRSCLF8GW1T</td>\n",
       "      <td>Michael D. Bigham \"M. Wassir\"</td>\n",
       "      <td>0</td>\n",
       "      <td>0</td>\n",
       "      <td>5</td>\n",
       "      <td>1350777600</td>\n",
       "      <td>Great taffy</td>\n",
       "      <td>Great taffy at a great price.  There was a wid...</td>\n",
       "    </tr>\n",
       "  </tbody>\n",
       "</table>\n",
       "</div>"
      ],
      "text/plain": [
       "   Id   ProductId          UserId                      ProfileName  \\\n",
       "0   1  B001E4KFG0  A3SGXH7AUHU8GW                       delmartian   \n",
       "1   2  B00813GRG4  A1D87F6ZCVE5NK                           dll pa   \n",
       "2   3  B000LQOCH0   ABXLMWJIXXAIN  Natalia Corres \"Natalia Corres\"   \n",
       "3   4  B000UA0QIQ  A395BORC6FGVXV                             Karl   \n",
       "4   5  B006K2ZZ7K  A1UQRSCLF8GW1T    Michael D. Bigham \"M. Wassir\"   \n",
       "\n",
       "   HelpfulnessNumerator  HelpfulnessDenominator  Score        Time  \\\n",
       "0                     1                       1      5  1303862400   \n",
       "1                     0                       0      1  1346976000   \n",
       "2                     1                       1      4  1219017600   \n",
       "3                     3                       3      2  1307923200   \n",
       "4                     0                       0      5  1350777600   \n",
       "\n",
       "                 Summary                                               Text  \n",
       "0  Good Quality Dog Food  I have bought several of the Vitality canned d...  \n",
       "1      Not as Advertised  Product arrived labeled as Jumbo Salted Peanut...  \n",
       "2  \"Delight\" says it all  This is a confection that has been around a fe...  \n",
       "3         Cough Medicine  If you are looking for the secret ingredient i...  \n",
       "4            Great taffy  Great taffy at a great price.  There was a wid...  "
      ]
     },
     "execution_count": 3,
     "metadata": {},
     "output_type": "execute_result"
    }
   ],
   "source": [
    "data.head()"
   ]
  },
  {
   "cell_type": "code",
   "execution_count": 4,
   "metadata": {},
   "outputs": [
    {
     "data": {
      "text/html": [
       "<div>\n",
       "<style scoped>\n",
       "    .dataframe tbody tr th:only-of-type {\n",
       "        vertical-align: middle;\n",
       "    }\n",
       "\n",
       "    .dataframe tbody tr th {\n",
       "        vertical-align: top;\n",
       "    }\n",
       "\n",
       "    .dataframe thead th {\n",
       "        text-align: right;\n",
       "    }\n",
       "</style>\n",
       "<table border=\"1\" class=\"dataframe\">\n",
       "  <thead>\n",
       "    <tr style=\"text-align: right;\">\n",
       "      <th></th>\n",
       "      <th>Text</th>\n",
       "      <th>Summary</th>\n",
       "    </tr>\n",
       "  </thead>\n",
       "  <tbody>\n",
       "    <tr>\n",
       "      <th>41619</th>\n",
       "      <td>BIG DISAPPOINTMENT !!!!! I'm so glad that Amaz...</td>\n",
       "      <td>Tastes Very Strong and Harsh</td>\n",
       "    </tr>\n",
       "    <tr>\n",
       "      <th>37492</th>\n",
       "      <td>These bars are amazing when you look at the st...</td>\n",
       "      <td>Delicious flavor</td>\n",
       "    </tr>\n",
       "    <tr>\n",
       "      <th>17249</th>\n",
       "      <td>I used to drink Crystal Light over 10 years ag...</td>\n",
       "      <td>They have definitely changed things!</td>\n",
       "    </tr>\n",
       "    <tr>\n",
       "      <th>9120</th>\n",
       "      <td>this product is great tasting and you don't ev...</td>\n",
       "      <td>great taste</td>\n",
       "    </tr>\n",
       "    <tr>\n",
       "      <th>23907</th>\n",
       "      <td>I have a bag of Popchips everyday with lunch. ...</td>\n",
       "      <td>Popchips 5 Stars, Chili Lime Flavor 3 Stars</td>\n",
       "    </tr>\n",
       "    <tr>\n",
       "      <th>10655</th>\n",
       "      <td>All I can say is that our two dogs love these ...</td>\n",
       "      <td>Canine Testimonial</td>\n",
       "    </tr>\n",
       "    <tr>\n",
       "      <th>53905</th>\n",
       "      <td>I don't see how anyone can go wrong with any o...</td>\n",
       "      <td>May Ploy Curry Sauce - Get Sum</td>\n",
       "    </tr>\n",
       "    <tr>\n",
       "      <th>20627</th>\n",
       "      <td>Makes my dog's poo smell like roses!  No just ...</td>\n",
       "      <td>Super Dooooo per</td>\n",
       "    </tr>\n",
       "    <tr>\n",
       "      <th>30273</th>\n",
       "      <td>We have tried numerous recipes, but this makes...</td>\n",
       "      <td>Best GF bread we've found yet!</td>\n",
       "    </tr>\n",
       "    <tr>\n",
       "      <th>87557</th>\n",
       "      <td>This is by far the best cheese popcorn I have ...</td>\n",
       "      <td>Unbelievably Cheesy!</td>\n",
       "    </tr>\n",
       "    <tr>\n",
       "      <th>84171</th>\n",
       "      <td>It does not seem to be as strong a seasoning e...</td>\n",
       "      <td>MSG</td>\n",
       "    </tr>\n",
       "    <tr>\n",
       "      <th>95307</th>\n",
       "      <td>I love this water.  It's the only water I drin...</td>\n",
       "      <td>great product, but beware of seller!</td>\n",
       "    </tr>\n",
       "    <tr>\n",
       "      <th>73409</th>\n",
       "      <td>These are the only graham crackers I've found ...</td>\n",
       "      <td>Real Graham Crackers</td>\n",
       "    </tr>\n",
       "    <tr>\n",
       "      <th>52426</th>\n",
       "      <td>Chinese Black Rice is interesting. It reminds ...</td>\n",
       "      <td>Chinese Black Rice</td>\n",
       "    </tr>\n",
       "    <tr>\n",
       "      <th>88584</th>\n",
       "      <td>This is our favorite chip and the single servi...</td>\n",
       "      <td>Taste fresh</td>\n",
       "    </tr>\n",
       "  </tbody>\n",
       "</table>\n",
       "</div>"
      ],
      "text/plain": [
       "                                                    Text  \\\n",
       "41619  BIG DISAPPOINTMENT !!!!! I'm so glad that Amaz...   \n",
       "37492  These bars are amazing when you look at the st...   \n",
       "17249  I used to drink Crystal Light over 10 years ag...   \n",
       "9120   this product is great tasting and you don't ev...   \n",
       "23907  I have a bag of Popchips everyday with lunch. ...   \n",
       "10655  All I can say is that our two dogs love these ...   \n",
       "53905  I don't see how anyone can go wrong with any o...   \n",
       "20627  Makes my dog's poo smell like roses!  No just ...   \n",
       "30273  We have tried numerous recipes, but this makes...   \n",
       "87557  This is by far the best cheese popcorn I have ...   \n",
       "84171  It does not seem to be as strong a seasoning e...   \n",
       "95307  I love this water.  It's the only water I drin...   \n",
       "73409  These are the only graham crackers I've found ...   \n",
       "52426  Chinese Black Rice is interesting. It reminds ...   \n",
       "88584  This is our favorite chip and the single servi...   \n",
       "\n",
       "                                           Summary  \n",
       "41619                 Tastes Very Strong and Harsh  \n",
       "37492                             Delicious flavor  \n",
       "17249         They have definitely changed things!  \n",
       "9120                                   great taste  \n",
       "23907  Popchips 5 Stars, Chili Lime Flavor 3 Stars  \n",
       "10655                           Canine Testimonial  \n",
       "53905               May Ploy Curry Sauce - Get Sum  \n",
       "20627                             Super Dooooo per  \n",
       "30273               Best GF bread we've found yet!  \n",
       "87557                         Unbelievably Cheesy!  \n",
       "84171                                          MSG  \n",
       "95307         great product, but beware of seller!  \n",
       "73409                         Real Graham Crackers  \n",
       "52426                           Chinese Black Rice  \n",
       "88584                                  Taste fresh  "
      ]
     },
     "execution_count": 4,
     "metadata": {},
     "output_type": "execute_result"
    }
   ],
   "source": [
    "# 훈련할 summary, text열만 분리하여 저장하기\n",
    "\n",
    "data = data[['Text','Summary']]\n",
    "data.head()\n",
    "\n",
    "#랜덤한 15개 샘플 출력\n",
    "data.sample(15)"
   ]
  },
  {
   "cell_type": "code",
   "execution_count": 5,
   "metadata": {},
   "outputs": [
    {
     "name": "stdout",
     "output_type": "stream",
     "text": [
      "Text 열에서 중복을 배제한 유일한 샘플의 수 : 88426\n",
      "Summary 열에서 중복을 배제한 유일한 샘플의 수 : 72348\n"
     ]
    }
   ],
   "source": [
    "# 데이터 전처리하기\n",
    "# 1. 중복 샘플과 Null값인 샘플 제거하기\n",
    "\n",
    "print('Text 열에서 중복을 배제한 유일한 샘플의 수 :', data['Text'].nunique())\n",
    "print('Summary 열에서 중복을 배제한 유일한 샘플의 수 :', data['Summary'].nunique())"
   ]
  },
  {
   "cell_type": "code",
   "execution_count": 6,
   "metadata": {},
   "outputs": [
    {
     "name": "stdout",
     "output_type": "stream",
     "text": [
      "전체 샘플수 : 88426\n"
     ]
    }
   ],
   "source": [
    "data.drop_duplicates(subset = ['Text'], inplace = True)\n",
    "print('전체 샘플수 :',(len(data)))"
   ]
  },
  {
   "cell_type": "code",
   "execution_count": 7,
   "metadata": {},
   "outputs": [
    {
     "name": "stdout",
     "output_type": "stream",
     "text": [
      "Text       0\n",
      "Summary    1\n",
      "dtype: int64\n"
     ]
    }
   ],
   "source": [
    "# Null값 확인하기\n",
    "\n",
    "print(data.isnull().sum())"
   ]
  },
  {
   "cell_type": "code",
   "execution_count": 8,
   "metadata": {},
   "outputs": [
    {
     "name": "stdout",
     "output_type": "stream",
     "text": [
      "전체 샘플수 : 88425\n"
     ]
    }
   ],
   "source": [
    "# dropna(): null값인 행 제거\n",
    "\n",
    "data.dropna(axis = 0, inplace = True)\n",
    "print('전체 샘플수 :',(len(data)))"
   ]
  },
  {
   "cell_type": "code",
   "execution_count": 9,
   "metadata": {},
   "outputs": [
    {
     "name": "stdout",
     "output_type": "stream",
     "text": [
      "정규화 사전의 수:  120\n"
     ]
    }
   ],
   "source": [
    "# 텍스트 정규화\n",
    "# it'll == it will, mustn't == must not 이런 표현은 같은 의미이므로 같은 표현으로 통일시켜주는\n",
    "# 텍스트 정규화가 필요하다.\n",
    "# https://stackoverflow.com/questions/19790188/expanding-english-language-contractions-in-python\n",
    "\n",
    "contractions = {\"ain't\": \"is not\", \"aren't\": \"are not\",\"can't\": \"cannot\", \"'cause\": \"because\", \"could've\": \"could have\", \"couldn't\": \"could not\",\n",
    "                        \"didn't\": \"did not\",  \"doesn't\": \"does not\", \"don't\": \"do not\", \"hadn't\": \"had not\", \"hasn't\": \"has not\", \"haven't\": \"have not\",\n",
    "                        \"he'd\": \"he would\",\"he'll\": \"he will\", \"he's\": \"he is\", \"how'd\": \"how did\", \"how'd'y\": \"how do you\", \"how'll\": \"how will\", \"how's\": \"how is\",\n",
    "                        \"I'd\": \"I would\", \"I'd've\": \"I would have\", \"I'll\": \"I will\", \"I'll've\": \"I will have\",\"I'm\": \"I am\", \"I've\": \"I have\", \"i'd\": \"i would\",\n",
    "                        \"i'd've\": \"i would have\", \"i'll\": \"i will\",  \"i'll've\": \"i will have\",\"i'm\": \"i am\", \"i've\": \"i have\", \"isn't\": \"is not\", \"it'd\": \"it would\",\n",
    "                        \"it'd've\": \"it would have\", \"it'll\": \"it will\", \"it'll've\": \"it will have\",\"it's\": \"it is\", \"let's\": \"let us\", \"ma'am\": \"madam\",\n",
    "                        \"mayn't\": \"may not\", \"might've\": \"might have\",\"mightn't\": \"might not\",\"mightn't've\": \"might not have\", \"must've\": \"must have\",\n",
    "                        \"mustn't\": \"must not\", \"mustn't've\": \"must not have\", \"needn't\": \"need not\", \"needn't've\": \"need not have\",\"o'clock\": \"of the clock\",\n",
    "                        \"oughtn't\": \"ought not\", \"oughtn't've\": \"ought not have\", \"shan't\": \"shall not\", \"sha'n't\": \"shall not\", \"shan't've\": \"shall not have\",\n",
    "                        \"she'd\": \"she would\", \"she'd've\": \"she would have\", \"she'll\": \"she will\", \"she'll've\": \"she will have\", \"she's\": \"she is\",\n",
    "                        \"should've\": \"should have\", \"shouldn't\": \"should not\", \"shouldn't've\": \"should not have\", \"so've\": \"so have\",\"so's\": \"so as\",\n",
    "                        \"this's\": \"this is\",\"that'd\": \"that would\", \"that'd've\": \"that would have\", \"that's\": \"that is\", \"there'd\": \"there would\",\n",
    "                        \"there'd've\": \"there would have\", \"there's\": \"there is\", \"here's\": \"here is\",\"they'd\": \"they would\", \"they'd've\": \"they would have\",\n",
    "                        \"they'll\": \"they will\", \"they'll've\": \"they will have\", \"they're\": \"they are\", \"they've\": \"they have\", \"to've\": \"to have\",\n",
    "                        \"wasn't\": \"was not\", \"we'd\": \"we would\", \"we'd've\": \"we would have\", \"we'll\": \"we will\", \"we'll've\": \"we will have\", \"we're\": \"we are\",\n",
    "                        \"we've\": \"we have\", \"weren't\": \"were not\", \"what'll\": \"what will\", \"what'll've\": \"what will have\", \"what're\": \"what are\",\n",
    "                        \"what's\": \"what is\", \"what've\": \"what have\", \"when's\": \"when is\", \"when've\": \"when have\", \"where'd\": \"where did\", \"where's\": \"where is\",\n",
    "                        \"where've\": \"where have\", \"who'll\": \"who will\", \"who'll've\": \"who will have\", \"who's\": \"who is\", \"who've\": \"who have\",\n",
    "                        \"why's\": \"why is\", \"why've\": \"why have\", \"will've\": \"will have\", \"won't\": \"will not\", \"won't've\": \"will not have\",\n",
    "                        \"would've\": \"would have\", \"wouldn't\": \"would not\", \"wouldn't've\": \"would not have\", \"y'all\": \"you all\",\n",
    "                        \"y'all'd\": \"you all would\",\"y'all'd've\": \"you all would have\",\"y'all're\": \"you all are\",\"y'all've\": \"you all have\",\n",
    "                        \"you'd\": \"you would\", \"you'd've\": \"you would have\", \"you'll\": \"you will\", \"you'll've\": \"you will have\",\n",
    "                        \"you're\": \"you are\", \"you've\": \"you have\"}\n",
    "\n",
    "print(\"정규화 사전의 수: \",len(contractions))"
   ]
  },
  {
   "cell_type": "code",
   "execution_count": 10,
   "metadata": {},
   "outputs": [
    {
     "name": "stdout",
     "output_type": "stream",
     "text": [
      "불용어 개수 : 179\n",
      "['i', 'me', 'my', 'myself', 'we', 'our', 'ours', 'ourselves', 'you', \"you're\", \"you've\", \"you'll\", \"you'd\", 'your', 'yours', 'yourself', 'yourselves', 'he', 'him', 'his', 'himself', 'she', \"she's\", 'her', 'hers', 'herself', 'it', \"it's\", 'its', 'itself', 'they', 'them', 'their', 'theirs', 'themselves', 'what', 'which', 'who', 'whom', 'this', 'that', \"that'll\", 'these', 'those', 'am', 'is', 'are', 'was', 'were', 'be', 'been', 'being', 'have', 'has', 'had', 'having', 'do', 'does', 'did', 'doing', 'a', 'an', 'the', 'and', 'but', 'if', 'or', 'because', 'as', 'until', 'while', 'of', 'at', 'by', 'for', 'with', 'about', 'against', 'between', 'into', 'through', 'during', 'before', 'after', 'above', 'below', 'to', 'from', 'up', 'down', 'in', 'out', 'on', 'off', 'over', 'under', 'again', 'further', 'then', 'once', 'here', 'there', 'when', 'where', 'why', 'how', 'all', 'any', 'both', 'each', 'few', 'more', 'most', 'other', 'some', 'such', 'no', 'nor', 'not', 'only', 'own', 'same', 'so', 'than', 'too', 'very', 's', 't', 'can', 'will', 'just', 'don', \"don't\", 'should', \"should've\", 'now', 'd', 'll', 'm', 'o', 're', 've', 'y', 'ain', 'aren', \"aren't\", 'couldn', \"couldn't\", 'didn', \"didn't\", 'doesn', \"doesn't\", 'hadn', \"hadn't\", 'hasn', \"hasn't\", 'haven', \"haven't\", 'isn', \"isn't\", 'ma', 'mightn', \"mightn't\", 'mustn', \"mustn't\", 'needn', \"needn't\", 'shan', \"shan't\", 'shouldn', \"shouldn't\", 'wasn', \"wasn't\", 'weren', \"weren't\", 'won', \"won't\", 'wouldn', \"wouldn't\"]\n"
     ]
    }
   ],
   "source": [
    "# 불용어 제거하기\n",
    "\n",
    "print('불용어 개수 :', len(stopwords.words('english') ))\n",
    "print(stopwords.words('english'))"
   ]
  },
  {
   "cell_type": "code",
   "execution_count": 11,
   "metadata": {},
   "outputs": [],
   "source": [
    "#데이터 전처리 함수\n",
    "\n",
    "# text 전처리시에만 사용하고 summary에는 사용하지 않음.\n",
    "# summary는 이미 요약된 단어들로 이루어졌기 때문에 그대로 둠으로써 의미가 잘 나타나도록 한다.\n",
    "\n",
    "def preprocess_sentence(sentence, remove_stopwords=True):\n",
    "    sentence = sentence.lower() # 텍스트 소문자화\n",
    "    sentence = BeautifulSoup(sentence, \"lxml\").text # <br />, <a href = ...> 등의 html 태그 제거\n",
    "    sentence = re.sub(r'\\([^)]*\\)', '', sentence) # 괄호로 닫힌 문자열 (...) 제거 Ex) my husband (and myself!) for => my husband for\n",
    "    sentence = re.sub('\"', '', sentence) # 쌍따옴표 \" 제거\n",
    "    sentence = ' '.join([contractions[t] if t in contractions else t for t in sentence.split(\" \")]) # 약어 정규화\n",
    "    sentence = re.sub(r\"'s\\b\", \"\",sentence) # 소유격 제거. Ex) roland's -> roland\n",
    "    sentence = re.sub(\"[^a-zA-Z]\", \" \", sentence) # 영어 외 문자(숫자, 특수문자 등) 공백으로 변환\n",
    "    sentence = re.sub('[m]{2,}', 'mm', sentence) # m이 3개 이상이면 2개로 변경. Ex) ummmmmmm yeah -> umm yeah\n",
    "    \n",
    "    # 불용어 제거 (Text)\n",
    "    if remove_stopwords:\n",
    "        tokens = ' '.join(word for word in sentence.split() if not word in stopwords.words('english') if len(word) > 1)\n",
    "    # 불용어 미제거 (Summary)\n",
    "    else:\n",
    "        tokens = ' '.join(word for word in sentence.split() if len(word) > 1)\n",
    "    return tokens"
   ]
  },
  {
   "cell_type": "code",
   "execution_count": 12,
   "metadata": {},
   "outputs": [
    {
     "name": "stdout",
     "output_type": "stream",
     "text": [
      "everything bought great infact ordered twice third ordered wasfor mother father\n",
      "great way to start the day\n"
     ]
    }
   ],
   "source": [
    "# 전처리가 제대로 되는지 확인하기\n",
    "\n",
    "temp_text = 'Everything I bought was great, infact I ordered twice and the third ordered was<br />for my mother and father.'\n",
    "temp_summary = 'Great way to start (or finish) the day!!!'\n",
    "\n",
    "print(preprocess_sentence(temp_text))\n",
    "print(preprocess_sentence(temp_summary, False))  # 불용어를 제거하지 않습니다."
   ]
  },
  {
   "cell_type": "code",
   "execution_count": 13,
   "metadata": {},
   "outputs": [
    {
     "data": {
      "text/plain": [
       "['bought several vitality canned dog food products found good quality product looks like stew processed meat smells better labrador finicky appreciates product better',\n",
       " 'product arrived labeled jumbo salted peanuts peanuts actually small sized unsalted sure error vendor intended represent product jumbo',\n",
       " 'confection around centuries light pillowy citrus gelatin nuts case filberts cut tiny squares liberally coated powdered sugar tiny mouthful heaven chewy flavorful highly recommend yummy treat familiar story lewis lion witch wardrobe treat seduces edmund selling brother sisters witch',\n",
       " 'looking secret ingredient robitussin believe found got addition root beer extract ordered made cherry soda flavor medicinal',\n",
       " 'great taffy great price wide assortment yummy taffy delivery quick taffy lover deal']"
      ]
     },
     "execution_count": 13,
     "metadata": {},
     "output_type": "execute_result"
    }
   ],
   "source": [
    "clean_text = []\n",
    "\n",
    "# 전체 Text 데이터에 대한 전처리 : 10분 이상 시간이 걸릴 수 있습니다. \n",
    "for s in data['Text']:\n",
    "    clean_text.append(preprocess_sentence(s))\n",
    "\n",
    "# 전처리 후 출력\n",
    "clean_text[:5]"
   ]
  },
  {
   "cell_type": "code",
   "execution_count": 15,
   "metadata": {},
   "outputs": [
    {
     "data": {
      "text/plain": [
       "['good quality dog food',\n",
       " 'not as advertised',\n",
       " 'delight says it all',\n",
       " 'cough medicine',\n",
       " 'great taffy']"
      ]
     },
     "execution_count": 15,
     "metadata": {},
     "output_type": "execute_result"
    }
   ],
   "source": [
    "clean_summary = []\n",
    "\n",
    "# 전체 Summary 데이터에 대한 전처리 : 5분 이상 시간이 걸릴 수 있습니다. \n",
    "for s in data['Summary']:\n",
    "    clean_summary.append(preprocess_sentence(s, False))\n",
    "\n",
    "clean_summary[:5]"
   ]
  },
  {
   "cell_type": "code",
   "execution_count": 16,
   "metadata": {},
   "outputs": [],
   "source": [
    "# 전처리 과정에서 문장의 단어가 모두 제거될 수도 있으므로 빈 샘플 확인하기\n",
    "# 만약 있다면 null값을 대체하기\n",
    "\n",
    "data['Text'] = clean_text\n",
    "data['Summary'] = clean_summary\n",
    "\n",
    "# 빈 값을 Null 값으로 변환\n",
    "data.replace('', np.nan, inplace=True)"
   ]
  },
  {
   "cell_type": "code",
   "execution_count": 17,
   "metadata": {},
   "outputs": [
    {
     "data": {
      "text/plain": [
       "Text        0\n",
       "Summary    70\n",
       "dtype: int64"
      ]
     },
     "execution_count": 17,
     "metadata": {},
     "output_type": "execute_result"
    }
   ],
   "source": [
    "data.isnull().sum()"
   ]
  },
  {
   "cell_type": "code",
   "execution_count": 18,
   "metadata": {},
   "outputs": [
    {
     "name": "stdout",
     "output_type": "stream",
     "text": [
      "전체 샘플수 : 88355\n"
     ]
    }
   ],
   "source": [
    "# 전처리 과정에 모든 단어가 제거된 샘플은 제거하기\n",
    "\n",
    "data.dropna(axis=0, inplace=True)\n",
    "print('전체 샘플수 :',(len(data)))#데이터 전처리 함수"
   ]
  },
  {
   "cell_type": "code",
   "execution_count": 19,
   "metadata": {},
   "outputs": [
    {
     "name": "stdout",
     "output_type": "stream",
     "text": [
      "텍스트의 최소 길이 : 2\n",
      "텍스트의 최대 길이 : 1235\n",
      "텍스트의 평균 길이 : 38.792428272310566\n",
      "요약의 최소 길이 : 1\n",
      "요약의 최대 길이 : 28\n",
      "요약의 평균 길이 : 4.010729443721352\n"
     ]
    },
    {
     "data": {
      "image/png": "[encoded data removed]",
      "text/plain": [
       "<Figure size 432x288 with 2 Axes>"
      ]
     },
     "metadata": {
      "needs_background": "light"
     },
     "output_type": "display_data"
    },
    {
     "data": {
      "image/png": "[encoded data removed]",
      "text/plain": [
       "<Figure size 432x288 with 1 Axes>"
      ]
     },
     "metadata": {
      "needs_background": "light"
     },
     "output_type": "display_data"
    },
    {
     "data": {
      "image/png": "[encoded data removed]",
      "text/plain": [
       "<Figure size 432x288 with 1 Axes>"
      ]
     },
     "metadata": {
      "needs_background": "light"
     },
     "output_type": "display_data"
    }
   ],
   "source": [
    "# 샘플의 최소, 최대, 평균을 구하고 길이 분포 시각화하기\n",
    "\n",
    "# 길이 분포 출력\n",
    "import matplotlib.pyplot as plt\n",
    "\n",
    "text_len = [len(s.split()) for s in data['Text']]\n",
    "summary_len = [len(s.split()) for s in data['Summary']]\n",
    "\n",
    "print('텍스트의 최소 길이 : {}'.format(np.min(text_len)))\n",
    "print('텍스트의 최대 길이 : {}'.format(np.max(text_len)))\n",
    "print('텍스트의 평균 길이 : {}'.format(np.mean(text_len)))\n",
    "print('요약의 최소 길이 : {}'.format(np.min(summary_len)))\n",
    "print('요약의 최대 길이 : {}'.format(np.max(summary_len)))\n",
    "print('요약의 평균 길이 : {}'.format(np.mean(summary_len)))\n",
    "\n",
    "plt.subplot(1,2,1)\n",
    "plt.boxplot(summary_len)\n",
    "plt.title('Summary')\n",
    "plt.subplot(1,2,2)\n",
    "plt.boxplot(text_len)\n",
    "plt.title('Text')\n",
    "plt.tight_layout()\n",
    "plt.show()\n",
    "\n",
    "plt.title('Summary')\n",
    "plt.hist(summary_len, bins = 40)\n",
    "plt.xlabel('length of samples')\n",
    "plt.ylabel('number of samples')\n",
    "plt.show()\n",
    "\n",
    "plt.title('Text')\n",
    "plt.hist(text_len, bins = 40)\n",
    "plt.xlabel('length of samples')\n",
    "plt.ylabel('number of samples')\n",
    "plt.show()"
   ]
  },
  {
   "cell_type": "code",
   "execution_count": 20,
   "metadata": {},
   "outputs": [],
   "source": [
    "# 적절한 최대 길이 정하기\n",
    "\n",
    "text_max_len = 50\n",
    "summary_max_len = 8"
   ]
  },
  {
   "cell_type": "code",
   "execution_count": 21,
   "metadata": {},
   "outputs": [],
   "source": [
    "# 최대 길이에 속한 데이터를 전체 데이터의 몇%에 해당할까?\n",
    "\n",
    "def below_threshold_len(max_len, nested_list):\n",
    "    cnt = 0\n",
    "    for s in nested_list:\n",
    "        if(len(s.split()) <= max_len):\n",
    "            cnt = cnt + 1\n",
    "    print('전체 샘플 중 길이가 %s 이하인 샘플의 비율: %s'%(max_len, (cnt / len(nested_list))))"
   ]
  },
  {
   "cell_type": "code",
   "execution_count": 22,
   "metadata": {},
   "outputs": [
    {
     "name": "stdout",
     "output_type": "stream",
     "text": [
      "전체 샘플 중 길이가 50 이하인 샘플의 비율: 0.7745119121724859\n",
      "전체 샘플 중 길이가 8 이하인 샘플의 비율: 0.9424593967517402\n"
     ]
    }
   ],
   "source": [
    "below_threshold_len(text_max_len, data['Text'])\n",
    "below_threshold_len(summary_max_len,  data['Summary'])"
   ]
  },
  {
   "cell_type": "code",
   "execution_count": 23,
   "metadata": {},
   "outputs": [
    {
     "name": "stdout",
     "output_type": "stream",
     "text": [
      "전체 샘플수 : 65818\n"
     ]
    }
   ],
   "source": [
    "# 최대 길이보다 긴 데이터는 자르지 않고 제외시키는 방법으로 전처리 하기\n",
    "\n",
    "data = data[data['Text'].apply(lambda x: len(x.split()) <= text_max_len)]\n",
    "data = data[data['Summary'].apply(lambda x: len(x.split()) <= summary_max_len)]\n",
    "print('전체 샘플수 :',(len(data)))"
   ]
  },
  {
   "cell_type": "code",
   "execution_count": 24,
   "metadata": {},
   "outputs": [
    {
     "data": {
      "text/html": [
       "<div>\n",
       "<style scoped>\n",
       "    .dataframe tbody tr th:only-of-type {\n",
       "        vertical-align: middle;\n",
       "    }\n",
       "\n",
       "    .dataframe tbody tr th {\n",
       "        vertical-align: top;\n",
       "    }\n",
       "\n",
       "    .dataframe thead th {\n",
       "        text-align: right;\n",
       "    }\n",
       "</style>\n",
       "<table border=\"1\" class=\"dataframe\">\n",
       "  <thead>\n",
       "    <tr style=\"text-align: right;\">\n",
       "      <th></th>\n",
       "      <th>Text</th>\n",
       "      <th>Summary</th>\n",
       "      <th>decoder_input</th>\n",
       "      <th>decoder_target</th>\n",
       "    </tr>\n",
       "  </thead>\n",
       "  <tbody>\n",
       "    <tr>\n",
       "      <th>0</th>\n",
       "      <td>bought several vitality canned dog food produc...</td>\n",
       "      <td>good quality dog food</td>\n",
       "      <td>sostoken good quality dog food</td>\n",
       "      <td>good quality dog food eostoken</td>\n",
       "    </tr>\n",
       "    <tr>\n",
       "      <th>1</th>\n",
       "      <td>product arrived labeled jumbo salted peanuts p...</td>\n",
       "      <td>not as advertised</td>\n",
       "      <td>sostoken not as advertised</td>\n",
       "      <td>not as advertised eostoken</td>\n",
       "    </tr>\n",
       "    <tr>\n",
       "      <th>2</th>\n",
       "      <td>confection around centuries light pillowy citr...</td>\n",
       "      <td>delight says it all</td>\n",
       "      <td>sostoken delight says it all</td>\n",
       "      <td>delight says it all eostoken</td>\n",
       "    </tr>\n",
       "    <tr>\n",
       "      <th>3</th>\n",
       "      <td>looking secret ingredient robitussin believe f...</td>\n",
       "      <td>cough medicine</td>\n",
       "      <td>sostoken cough medicine</td>\n",
       "      <td>cough medicine eostoken</td>\n",
       "    </tr>\n",
       "    <tr>\n",
       "      <th>4</th>\n",
       "      <td>great taffy great price wide assortment yummy ...</td>\n",
       "      <td>great taffy</td>\n",
       "      <td>sostoken great taffy</td>\n",
       "      <td>great taffy eostoken</td>\n",
       "    </tr>\n",
       "  </tbody>\n",
       "</table>\n",
       "</div>"
      ],
      "text/plain": [
       "                                                Text                Summary  \\\n",
       "0  bought several vitality canned dog food produc...  good quality dog food   \n",
       "1  product arrived labeled jumbo salted peanuts p...      not as advertised   \n",
       "2  confection around centuries light pillowy citr...    delight says it all   \n",
       "3  looking secret ingredient robitussin believe f...         cough medicine   \n",
       "4  great taffy great price wide assortment yummy ...            great taffy   \n",
       "\n",
       "                    decoder_input                  decoder_target  \n",
       "0  sostoken good quality dog food  good quality dog food eostoken  \n",
       "1      sostoken not as advertised      not as advertised eostoken  \n",
       "2    sostoken delight says it all    delight says it all eostoken  \n",
       "3         sostoken cough medicine         cough medicine eostoken  \n",
       "4            sostoken great taffy            great taffy eostoken  "
      ]
     },
     "execution_count": 24,
     "metadata": {},
     "output_type": "execute_result"
    }
   ],
   "source": [
    "# 디코더의 입력과 레이블에 시작토큰과 종료토큰 추가하기\n",
    "# 디코더 입력에 해당하면서 시작토큰이 있으면 decoder_input\n",
    "# 디코더 출력에 해당하면서 종료토큰이 있으면 decoder_target\n",
    "\n",
    "# summary 데이터에는 시작 토큰과 종료 토큰을 추가한다.\n",
    "data['decoder_input'] = data['Summary'].apply(lambda x : 'sostoken '+ x)\n",
    "data['decoder_target'] = data['Summary'].apply(lambda x : x + ' eostoken')\n",
    "data.head()"
   ]
  },
  {
   "cell_type": "code",
   "execution_count": 25,
   "metadata": {},
   "outputs": [],
   "source": [
    "# 인코더의 입력, 디코더의 입력과 레이블을 numpy 타입으로 변경 저장\n",
    "\n",
    "encoder_input = np.array(data['Text']) # 인코더의 입력\n",
    "decoder_input = np.array(data['decoder_input']) # 디코더의 입력\n",
    "decoder_target = np.array(data['decoder_target']) # 디코더의 레이블"
   ]
  },
  {
   "cell_type": "code",
   "execution_count": 26,
   "metadata": {},
   "outputs": [
    {
     "name": "stdout",
     "output_type": "stream",
     "text": [
      "[65047 54193 36829 ... 16006 38865 14736]\n"
     ]
    }
   ],
   "source": [
    "# 데이터 섞기\n",
    "\n",
    "indices = np.arange(encoder_input.shape[0])\n",
    "np.random.shuffle(indices)\n",
    "print(indices)"
   ]
  },
  {
   "cell_type": "code",
   "execution_count": 27,
   "metadata": {},
   "outputs": [],
   "source": [
    "encoder_input = encoder_input[indices]\n",
    "decoder_input = decoder_input[indices]\n",
    "decoder_target = decoder_target[indices]"
   ]
  },
  {
   "cell_type": "code",
   "execution_count": 28,
   "metadata": {},
   "outputs": [
    {
     "name": "stdout",
     "output_type": "stream",
     "text": [
      "테스트 데이터의 수 : 13163\n"
     ]
    }
   ],
   "source": [
    "# 훈련 데이터와 테스트 데이터 분리하기 8:2\n",
    "\n",
    "n_of_val = int(len(encoder_input)*0.2)\n",
    "print('테스트 데이터의 수 :',n_of_val)"
   ]
  },
  {
   "cell_type": "code",
   "execution_count": 29,
   "metadata": {},
   "outputs": [
    {
     "name": "stdout",
     "output_type": "stream",
     "text": [
      "훈련 데이터의 개수 : 52655\n",
      "훈련 레이블의 개수 : 52655\n",
      "테스트 데이터의 개수 : 13163\n",
      "테스트 레이블의 개수 : 13163\n"
     ]
    }
   ],
   "source": [
    "encoder_input_train = encoder_input[:-n_of_val]\n",
    "decoder_input_train = decoder_input[:-n_of_val]\n",
    "decoder_target_train = decoder_target[:-n_of_val]\n",
    "\n",
    "encoder_input_test = encoder_input[-n_of_val:]\n",
    "decoder_input_test = decoder_input[-n_of_val:]\n",
    "decoder_target_test = decoder_target[-n_of_val:]\n",
    "\n",
    "print('훈련 데이터의 개수 :', len(encoder_input_train))\n",
    "print('훈련 레이블의 개수 :',len(decoder_input_train))\n",
    "print('테스트 데이터의 개수 :',len(encoder_input_test))\n",
    "print('테스트 레이블의 개수 :',len(decoder_input_test))"
   ]
  },
  {
   "cell_type": "markdown",
   "metadata": {},
   "source": [
    "##### 단어 집합(vocaburary) 만들기"
   ]
  },
  {
   "cell_type": "code",
   "execution_count": 30,
   "metadata": {},
   "outputs": [],
   "source": [
    "# 텍스트를 연산이 가능하도록 정수로 바꾸기\n",
    "# 각 단어에 고유한 정수를 부여하기(맵핑하기), 단어 집합 만들기\n",
    "\n",
    "src_tokenizer = Tokenizer() # 토크나이저 정의\n",
    "src_tokenizer.fit_on_texts(encoder_input_train) # 입력된 데이터로부터 단어 집합 생성"
   ]
  },
  {
   "cell_type": "code",
   "execution_count": 31,
   "metadata": {},
   "outputs": [
    {
     "name": "stdout",
     "output_type": "stream",
     "text": [
      "단어 집합(vocabulary)의 크기 : 31988\n",
      "등장 빈도가 6번 이하인 희귀 단어의 수: 23746\n",
      "단어 집합에서 희귀 단어를 제외시킬 경우의 단어 집합의 크기 8242\n",
      "단어 집합에서 희귀 단어의 비율: 74.23408778291859\n",
      "전체 등장 빈도에서 희귀 단어 등장 빈도 비율: 3.381203202872192\n"
     ]
    }
   ],
   "source": [
    "# 단어 집합은 src_tokenizer.word_index에 저장된다.\n",
    "# 등장 빈도수가 7회 미만인 단어는 제외하기\n",
    "# src_tokenizer.word_counts.items()에 단어와 빈도 수가 저장되어 있다.\n",
    "\n",
    "threshold = 7\n",
    "total_cnt = len(src_tokenizer.word_index) # 단어의 수\n",
    "rare_cnt = 0 # 등장 빈도수가 threshold보다 작은 단어의 개수를 카운트\n",
    "total_freq = 0 # 훈련 데이터의 전체 단어 빈도수 총 합\n",
    "rare_freq = 0 # 등장 빈도수가 threshold보다 작은 단어의 등장 빈도수의 총 합\n",
    "\n",
    "# 단어와 빈도수의 쌍(pair)을 key와 value로 받는다.\n",
    "for key, value in src_tokenizer.word_counts.items():\n",
    "    total_freq = total_freq + value\n",
    "\n",
    "    # 단어의 등장 빈도수가 threshold보다 작으면\n",
    "    if(value < threshold):\n",
    "        rare_cnt = rare_cnt + 1\n",
    "        rare_freq = rare_freq + value\n",
    "\n",
    "print('단어 집합(vocabulary)의 크기 :',total_cnt)\n",
    "print('등장 빈도가 %s번 이하인 희귀 단어의 수: %s'%(threshold - 1, rare_cnt))\n",
    "print('단어 집합에서 희귀 단어를 제외시킬 경우의 단어 집합의 크기 %s'%(total_cnt - rare_cnt))\n",
    "print(\"단어 집합에서 희귀 단어의 비율:\", (rare_cnt / total_cnt)*100)\n",
    "print(\"전체 등장 빈도에서 희귀 단어 등장 빈도 비율:\", (rare_freq / total_freq)*100)"
   ]
  },
  {
   "cell_type": "code",
   "execution_count": 32,
   "metadata": {},
   "outputs": [],
   "source": [
    "# 빈도수가 6회 이하인 단어는 제외하고 단어 집합 크기를 8000으로 제한\n",
    "# 토크나이저 정의 시 크기를 지정하면 된다.\n",
    "\n",
    "src_vocab = 8000\n",
    "src_tokenizer = Tokenizer(num_words = src_vocab) # 단어 집합의 크기를 8,000으로 제한\n",
    "src_tokenizer.fit_on_texts(encoder_input_train) # 단어 집합 재생성."
   ]
  },
  {
   "cell_type": "code",
   "execution_count": 33,
   "metadata": {},
   "outputs": [
    {
     "name": "stdout",
     "output_type": "stream",
     "text": [
      "[[1452, 155, 90, 2, 543, 7672, 2459, 2968, 44, 190, 7673, 1132, 3402, 1197, 2184, 946, 7213, 279, 245, 44, 322, 381, 1, 42, 35, 361, 6476, 1205, 420, 7, 540, 54, 517, 4081, 318, 1274, 137, 1117, 4654, 344, 3989, 311, 2208, 10, 22], [1211, 9, 3358, 3254, 5651, 156, 587, 137, 3599, 111, 4399, 502, 486, 9, 486, 7, 743, 335], [654, 296, 7674, 246, 2626, 348, 2093, 1278, 2626, 155, 157, 3671, 463, 202, 1259, 18, 3600, 13, 824, 2480, 2626, 124, 287, 337, 568, 7, 246, 1613, 348, 5, 1, 165, 129, 755, 881, 713, 476, 730]]\n"
     ]
    }
   ],
   "source": [
    "# texts_to_sequences(): 생성된 단어 집합에 기반하여 입력된 텍스트의 단어들을 모두 정수로 변환시킨다.\n",
    "\n",
    "# 텍스트 시퀀스를 정수 시퀀스로 변환\n",
    "encoder_input_train = src_tokenizer.texts_to_sequences(encoder_input_train) \n",
    "encoder_input_test = src_tokenizer.texts_to_sequences(encoder_input_test)\n",
    "\n",
    "#잘 진행되었는지 샘플 출력\n",
    "print(encoder_input_train[:3])"
   ]
  },
  {
   "cell_type": "code",
   "execution_count": 34,
   "metadata": {},
   "outputs": [],
   "source": [
    "# summary 데이터도 동일하게 진행\n",
    "\n",
    "tar_tokenizer = Tokenizer()\n",
    "tar_tokenizer.fit_on_texts(decoder_input_train)"
   ]
  },
  {
   "cell_type": "code",
   "execution_count": 35,
   "metadata": {},
   "outputs": [
    {
     "name": "stdout",
     "output_type": "stream",
     "text": [
      "단어 집합(vocabulary)의 크기 : 10475\n",
      "등장 빈도가 5번 이하인 희귀 단어의 수: 8105\n",
      "단어 집합에서 희귀 단어를 제외시킬 경우의 단어 집합의 크기 2370\n",
      "단어 집합에서 희귀 단어의 비율: 77.3747016706444\n",
      "전체 등장 빈도에서 희귀 단어 등장 빈도 비율: 5.89089561436396\n"
     ]
    }
   ],
   "source": [
    "threshold = 6\n",
    "total_cnt = len(tar_tokenizer.word_index) # 단어의 수\n",
    "rare_cnt = 0 # 등장 빈도수가 threshold보다 작은 단어의 개수를 카운트\n",
    "total_freq = 0 # 훈련 데이터의 전체 단어 빈도수 총 합\n",
    "rare_freq = 0 # 등장 빈도수가 threshold보다 작은 단어의 등장 빈도수의 총 합\n",
    "\n",
    "# 단어와 빈도수의 쌍(pair)을 key와 value로 받는다.\n",
    "for key, value in tar_tokenizer.word_counts.items():\n",
    "    total_freq = total_freq + value\n",
    "\n",
    "    # 단어의 등장 빈도수가 threshold보다 작으면\n",
    "    if(value < threshold):\n",
    "        rare_cnt = rare_cnt + 1\n",
    "        rare_freq = rare_freq + value\n",
    "\n",
    "print('단어 집합(vocabulary)의 크기 :',total_cnt)\n",
    "print('등장 빈도가 %s번 이하인 희귀 단어의 수: %s'%(threshold - 1, rare_cnt))\n",
    "print('단어 집합에서 희귀 단어를 제외시킬 경우의 단어 집합의 크기 %s'%(total_cnt - rare_cnt))\n",
    "print(\"단어 집합에서 희귀 단어의 비율:\", (rare_cnt / total_cnt)*100)\n",
    "print(\"전체 등장 빈도에서 희귀 단어 등장 빈도 비율:\", (rare_freq / total_freq)*100)"
   ]
  },
  {
   "cell_type": "code",
   "execution_count": 36,
   "metadata": {},
   "outputs": [
    {
     "name": "stdout",
     "output_type": "stream",
     "text": [
      "input\n",
      "input  [[1, 3, 16, 388, 131], [1, 157, 27, 19, 384], [1, 69, 402], [1, 75, 23, 5, 8, 528], [1, 385, 215, 497, 9, 85]]\n",
      "target\n",
      "decoder  [[3, 16, 388, 131, 2], [157, 27, 19, 384, 2], [69, 402, 2], [75, 23, 5, 8, 528, 2], [385, 215, 497, 9, 85, 2]]\n"
     ]
    }
   ],
   "source": [
    "tar_vocab = 2000\n",
    "tar_tokenizer = Tokenizer(num_words = tar_vocab) \n",
    "tar_tokenizer.fit_on_texts(decoder_input_train)\n",
    "tar_tokenizer.fit_on_texts(decoder_target_train)\n",
    "\n",
    "# 텍스트 시퀀스를 정수 시퀀스로 변환\n",
    "decoder_input_train = tar_tokenizer.texts_to_sequences(decoder_input_train) \n",
    "decoder_target_train = tar_tokenizer.texts_to_sequences(decoder_target_train)\n",
    "decoder_input_test = tar_tokenizer.texts_to_sequences(decoder_input_test)\n",
    "decoder_target_test = tar_tokenizer.texts_to_sequences(decoder_target_test)\n",
    "\n",
    "#잘 변환되었는지 확인\n",
    "print('input')\n",
    "print('input ',decoder_input_train[:5])\n",
    "print('target')\n",
    "print('decoder ',decoder_target_train[:5])"
   ]
  },
  {
   "cell_type": "code",
   "execution_count": 37,
   "metadata": {},
   "outputs": [
    {
     "name": "stdout",
     "output_type": "stream",
     "text": [
      "삭제할 훈련 데이터의 개수 : 1294\n",
      "삭제할 테스트 데이터의 개수 : 325\n",
      "훈련 데이터의 개수 : 51361\n",
      "훈련 레이블의 개수 : 51361\n",
      "테스트 데이터의 개수 : 12838\n",
      "테스트 레이블의 개수 : 12838\n"
     ]
    }
   ],
   "source": [
    "# 패딩을 추가하기 전에 단어 집합을 각각 8000개, 2000개로 제한하면서 빈 데이터가 나올 수 있다.\n",
    "# text 데이터 보다는 summary 데이터에서 많이 나올 것이다.\n",
    "# decoder는 이전에 토큰을 추가했으므로 빈 데이터는 길이가 1이 나올 것이다.\n",
    "\n",
    "drop_train = [index for index, sentence in enumerate(decoder_input_train) if len(sentence) == 1]\n",
    "drop_test = [index for index, sentence in enumerate(decoder_input_test) if len(sentence) == 1]\n",
    "\n",
    "print('삭제할 훈련 데이터의 개수 :',len(drop_train))\n",
    "print('삭제할 테스트 데이터의 개수 :',len(drop_test))\n",
    "\n",
    "encoder_input_train = np.delete(encoder_input_train, drop_train, axis=0)\n",
    "decoder_input_train = np.delete(decoder_input_train, drop_train, axis=0)\n",
    "decoder_target_train = np.delete(decoder_target_train, drop_train, axis=0)\n",
    "\n",
    "encoder_input_test = np.delete(encoder_input_test, drop_test, axis=0)\n",
    "decoder_input_test = np.delete(decoder_input_test, drop_test, axis=0)\n",
    "decoder_target_test = np.delete(decoder_target_test, drop_test, axis=0)\n",
    "\n",
    "print('훈련 데이터의 개수 :', len(encoder_input_train))\n",
    "print('훈련 레이블의 개수 :',len(decoder_input_train))\n",
    "print('테스트 데이터의 개수 :',len(encoder_input_test))\n",
    "print('테스트 레이블의 개수 :',len(decoder_input_test))"
   ]
  },
  {
   "cell_type": "code",
   "execution_count": 38,
   "metadata": {},
   "outputs": [],
   "source": [
    "# 서로 다른 길이를 가진 샘플들의 길이는 맞추기 위해 패딩 처리를 한다.\n",
    "\n",
    "encoder_input_train = pad_sequences(encoder_input_train, maxlen = text_max_len, padding='post')\n",
    "encoder_input_test = pad_sequences(encoder_input_test, maxlen = text_max_len, padding='post')\n",
    "decoder_input_train = pad_sequences(decoder_input_train, maxlen = summary_max_len, padding='post')\n",
    "decoder_target_train = pad_sequences(decoder_target_train, maxlen = summary_max_len, padding='post')\n",
    "decoder_input_test = pad_sequences(decoder_input_test, maxlen = summary_max_len, padding='post')\n",
    "decoder_target_test = pad_sequences(decoder_target_test, maxlen = summary_max_len, padding='post')"
   ]
  },
  {
   "cell_type": "markdown",
   "metadata": {},
   "source": [
    "##### 모델 설계하기"
   ]
  },
  {
   "cell_type": "code",
   "execution_count": 39,
   "metadata": {},
   "outputs": [],
   "source": [
    "from tensorflow.keras.layers import Input, LSTM, Embedding, Dense, Concatenate\n",
    "from tensorflow.keras.models import Model\n",
    "from tensorflow.keras.callbacks import EarlyStopping, ModelCheckpoint\n",
    "\n",
    "\n",
    "# 인코더 설계 시작\n",
    "embedding_dim = 128\n",
    "hidden_size = 256\n",
    "\n",
    "# 인코더\n",
    "encoder_inputs = Input(shape=(text_max_len,))\n",
    "\n",
    "# 인코더의 임베딩 층\n",
    "enc_emb = Embedding(src_vocab, embedding_dim)(encoder_inputs)\n",
    "\n",
    "# 인코더의 LSTM 1\n",
    "encoder_lstm1 = LSTM(hidden_size, return_sequences=True, return_state=True ,dropout = 0.4, recurrent_dropout = 0.4)\n",
    "encoder_output1, state_h1, state_c1 = encoder_lstm1(enc_emb)\n",
    "\n",
    "# 인코더의 LSTM 2\n",
    "encoder_lstm2 = LSTM(hidden_size, return_sequences=True, return_state=True, dropout=0.4, recurrent_dropout=0.4)\n",
    "encoder_output2, state_h2, state_c2 = encoder_lstm2(encoder_output1)\n",
    "\n",
    "# 인코더의 LSTM 3\n",
    "encoder_lstm3 = LSTM(hidden_size, return_state=True, return_sequences=True, dropout=0.4, recurrent_dropout=0.4)\n",
    "encoder_outputs, state_h, state_c= encoder_lstm3(encoder_output2)\n",
    "\n",
    "# hidden_size는 LSTM의 뉴론 갯수\n",
    "# 3개의 LSTM층은 모델의 복잡도를 높여서 모델의 용량을 높인 것이다.\n",
    "# 인코더에서 나온 출력 벡터를 디코더로 보낸다."
   ]
  },
  {
   "cell_type": "code",
   "execution_count": 40,
   "metadata": {},
   "outputs": [],
   "source": [
    "# 디코더 설계\n",
    "\n",
    "decoder_inputs = Input(shape=(None,))\n",
    "\n",
    "# 디코더의 임베딩 층\n",
    "dec_emb_layer = Embedding(tar_vocab, embedding_dim)\n",
    "dec_emb = dec_emb_layer(decoder_inputs)\n",
    "\n",
    "# 디코더의 LSTM\n",
    "decoder_lstm = LSTM(hidden_size, return_sequences = True, return_state = True, dropout = 0.4, recurrent_dropout=0.2)\n",
    "decoder_outputs, _, _ = decoder_lstm(dec_emb, initial_state = [state_h, state_c])\n",
    "\n",
    "# initial_state는 인코더의 hidden state와 cell state 값이다."
   ]
  },
  {
   "cell_type": "code",
   "execution_count": 41,
   "metadata": {},
   "outputs": [
    {
     "name": "stdout",
     "output_type": "stream",
     "text": [
      "Model: \"model\"\n",
      "__________________________________________________________________________________________________\n",
      "Layer (type)                    Output Shape         Param #     Connected to                     \n",
      "==================================================================================================\n",
      "input_1 (InputLayer)            [(None, 50)]         0                                            \n",
      "__________________________________________________________________________________________________\n",
      "embedding (Embedding)           (None, 50, 128)      1024000     input_1[0][0]                    \n",
      "__________________________________________________________________________________________________\n",
      "lstm (LSTM)                     [(None, 50, 256), (N 394240      embedding[0][0]                  \n",
      "__________________________________________________________________________________________________\n",
      "input_2 (InputLayer)            [(None, None)]       0                                            \n",
      "__________________________________________________________________________________________________\n",
      "lstm_1 (LSTM)                   [(None, 50, 256), (N 525312      lstm[0][0]                       \n",
      "__________________________________________________________________________________________________\n",
      "embedding_1 (Embedding)         (None, None, 128)    256000      input_2[0][0]                    \n",
      "__________________________________________________________________________________________________\n",
      "lstm_2 (LSTM)                   [(None, 50, 256), (N 525312      lstm_1[0][0]                     \n",
      "__________________________________________________________________________________________________\n",
      "lstm_3 (LSTM)                   [(None, None, 256),  394240      embedding_1[0][0]                \n",
      "                                                                 lstm_2[0][1]                     \n",
      "                                                                 lstm_2[0][2]                     \n",
      "__________________________________________________________________________________________________\n",
      "dense (Dense)                   (None, None, 2000)   514000      lstm_3[0][0]                     \n",
      "==================================================================================================\n",
      "Total params: 3,633,104\n",
      "Trainable params: 3,633,104\n",
      "Non-trainable params: 0\n",
      "__________________________________________________________________________________________________\n"
     ]
    }
   ],
   "source": [
    "# 디코더의 출력층\n",
    "decoder_softmax_layer = Dense(tar_vocab, activation = 'softmax')\n",
    "decoder_softmax_outputs = decoder_softmax_layer(decoder_outputs) \n",
    "\n",
    "# 디코더의 출력은 tar_vocab에서 하나를 선택하는 분류의 문제이므로 소프트맥스를 사용한다.\n",
    "\n",
    "# 모델 정의\n",
    "model = Model([encoder_inputs, decoder_inputs], decoder_softmax_outputs)\n",
    "model.summary()"
   ]
  },
  {
   "cell_type": "code",
   "execution_count": 42,
   "metadata": {},
   "outputs": [],
   "source": [
    "# 어텐션 매커니즘 적용하기\n",
    "# 이미 구현된 어텐션 함수를 가져와서 디코더 출력층에 겹할하기\n",
    "# 깃허브에서 어텐션 함수 다운로드 하기\n",
    "\n",
    "urllib.request.urlretrieve(\"https://raw.githubusercontent.com/thushv89/attention_keras/master/src/layers/attention.py\", filename=\"attention.py\")\n",
    "from attention import AttentionLayer\n"
   ]
  },
  {
   "cell_type": "code",
   "execution_count": 43,
   "metadata": {},
   "outputs": [
    {
     "name": "stdout",
     "output_type": "stream",
     "text": [
      "Model: \"model_1\"\n",
      "__________________________________________________________________________________________________\n",
      "Layer (type)                    Output Shape         Param #     Connected to                     \n",
      "==================================================================================================\n",
      "input_1 (InputLayer)            [(None, 50)]         0                                            \n",
      "__________________________________________________________________________________________________\n",
      "embedding (Embedding)           (None, 50, 128)      1024000     input_1[0][0]                    \n",
      "__________________________________________________________________________________________________\n",
      "lstm (LSTM)                     [(None, 50, 256), (N 394240      embedding[0][0]                  \n",
      "__________________________________________________________________________________________________\n",
      "input_2 (InputLayer)            [(None, None)]       0                                            \n",
      "__________________________________________________________________________________________________\n",
      "lstm_1 (LSTM)                   [(None, 50, 256), (N 525312      lstm[0][0]                       \n",
      "__________________________________________________________________________________________________\n",
      "embedding_1 (Embedding)         (None, None, 128)    256000      input_2[0][0]                    \n",
      "__________________________________________________________________________________________________\n",
      "lstm_2 (LSTM)                   [(None, 50, 256), (N 525312      lstm_1[0][0]                     \n",
      "__________________________________________________________________________________________________\n",
      "lstm_3 (LSTM)                   [(None, None, 256),  394240      embedding_1[0][0]                \n",
      "                                                                 lstm_2[0][1]                     \n",
      "                                                                 lstm_2[0][2]                     \n",
      "__________________________________________________________________________________________________\n",
      "attention_layer (AttentionLayer ((None, None, 256),  131328      lstm_2[0][0]                     \n",
      "                                                                 lstm_3[0][0]                     \n",
      "__________________________________________________________________________________________________\n",
      "concat_layer (Concatenate)      (None, None, 512)    0           lstm_3[0][0]                     \n",
      "                                                                 attention_layer[0][0]            \n",
      "__________________________________________________________________________________________________\n",
      "dense_1 (Dense)                 (None, None, 2000)   1026000     concat_layer[0][0]               \n",
      "==================================================================================================\n",
      "Total params: 4,276,432\n",
      "Trainable params: 4,276,432\n",
      "Non-trainable params: 0\n",
      "__________________________________________________________________________________________________\n"
     ]
    }
   ],
   "source": [
    "# 디코더의 출력층 수정하기\n",
    "\n",
    "# 어텐션 층(어텐션 함수)\n",
    "attn_layer = AttentionLayer(name='attention_layer')\n",
    "# 인코더와 디코더의 모든 time step의 hidden state를 어텐션 층에 전달하고 결과를 리턴\n",
    "attn_out, attn_states = attn_layer([encoder_outputs, decoder_outputs])\n",
    "\n",
    "# 어텐션의 결과와 디코더의 hidden state들을 연결\n",
    "decoder_concat_input = Concatenate(axis = -1, name='concat_layer')([decoder_outputs, attn_out])\n",
    "\n",
    "# 디코더의 출력층\n",
    "decoder_softmax_layer = Dense(tar_vocab, activation='softmax')\n",
    "decoder_softmax_outputs = decoder_softmax_layer(decoder_concat_input)\n",
    "\n",
    "# 모델 정의\n",
    "model = Model([encoder_inputs, decoder_inputs], decoder_softmax_outputs)\n",
    "model.summary()"
   ]
  },
  {
   "cell_type": "code",
   "execution_count": 44,
   "metadata": {},
   "outputs": [
    {
     "name": "stdout",
     "output_type": "stream",
     "text": [
      "Epoch 1/50\n",
      "201/201 [==============================] - 201s 998ms/step - loss: 2.7071 - val_loss: 2.4194\n",
      "Epoch 2/50\n",
      "201/201 [==============================] - 203s 1s/step - loss: 2.3707 - val_loss: 2.2756\n",
      "Epoch 3/50\n",
      "201/201 [==============================] - 202s 1s/step - loss: 2.2276 - val_loss: 2.1509\n",
      "Epoch 4/50\n",
      "201/201 [==============================] - 203s 1s/step - loss: 2.1136 - val_loss: 2.0760\n",
      "Epoch 5/50\n",
      "201/201 [==============================] - 207s 1s/step - loss: 2.0322 - val_loss: 2.0239\n",
      "Epoch 6/50\n",
      "201/201 [==============================] - 196s 977ms/step - loss: 1.9691 - val_loss: 1.9876\n",
      "Epoch 7/50\n",
      "201/201 [==============================] - 195s 968ms/step - loss: 1.9190 - val_loss: 1.9555\n",
      "Epoch 8/50\n",
      "201/201 [==============================] - 201s 1000ms/step - loss: 1.8741 - val_loss: 1.9296\n",
      "Epoch 9/50\n",
      "201/201 [==============================] - 197s 982ms/step - loss: 1.8316 - val_loss: 1.9113\n",
      "Epoch 10/50\n",
      "201/201 [==============================] - 196s 976ms/step - loss: 1.7948 - val_loss: 1.8930\n",
      "Epoch 11/50\n",
      "201/201 [==============================] - 195s 969ms/step - loss: 1.7603 - val_loss: 1.8839\n",
      "Epoch 12/50\n",
      "201/201 [==============================] - 194s 964ms/step - loss: 1.7285 - val_loss: 1.8768\n",
      "Epoch 13/50\n",
      "201/201 [==============================] - 194s 963ms/step - loss: 1.6988 - val_loss: 1.8661\n",
      "Epoch 14/50\n",
      "201/201 [==============================] - 198s 984ms/step - loss: 1.6723 - val_loss: 1.8621\n",
      "Epoch 15/50\n",
      "201/201 [==============================] - 193s 960ms/step - loss: 1.6457 - val_loss: 1.8595\n",
      "Epoch 16/50\n",
      "201/201 [==============================] - 193s 958ms/step - loss: 1.6212 - val_loss: 1.8564\n",
      "Epoch 17/50\n",
      "201/201 [==============================] - 193s 959ms/step - loss: 1.5975 - val_loss: 1.8558\n",
      "Epoch 18/50\n",
      "201/201 [==============================] - 193s 959ms/step - loss: 1.5753 - val_loss: 1.8549\n",
      "Epoch 19/50\n",
      "201/201 [==============================] - 193s 959ms/step - loss: 1.5533 - val_loss: 1.8560\n",
      "Epoch 20/50\n",
      "201/201 [==============================] - 194s 963ms/step - loss: 1.5326 - val_loss: 1.8545\n",
      "Epoch 21/50\n",
      "201/201 [==============================] - 194s 964ms/step - loss: 1.5121 - val_loss: 1.8612\n",
      "Epoch 22/50\n",
      "201/201 [==============================] - 191s 951ms/step - loss: 1.4928 - val_loss: 1.8597\n",
      "Epoch 00022: early stopping\n"
     ]
    }
   ],
   "source": [
    "# 모델 훈련하기\n",
    "\n",
    "model.compile(optimizer='rmsprop', loss='sparse_categorical_crossentropy')\n",
    "es = EarlyStopping(monitor='val_loss', mode='min', verbose=1, patience = 2)\n",
    "history = model.fit(x = [encoder_input_train, decoder_input_train], y = decoder_target_train, \\\n",
    "          validation_data = ([encoder_input_test, decoder_input_test], decoder_target_test),\n",
    "          batch_size = 256, callbacks=[es], epochs = 50)\n",
    "\n",
    "# EarlyStopping: 특정 조건이 충족되면 모델의 훈련을 멈추는 역할\n",
    "# val_loss를 모니터링하다가 val_loss가 줄어들지 않고 증가하는 현상이 2회(patience=2) 관측되면 학습이 종료된다.\n"
   ]
  },
  {
   "cell_type": "code",
   "execution_count": 45,
   "metadata": {},
   "outputs": [
    {
     "data": {
      "image/png": "[encoded data removed]",
      "text/plain": [
       "<Figure size 432x288 with 1 Axes>"
      ]
     },
     "metadata": {
      "needs_background": "light"
     },
     "output_type": "display_data"
    }
   ],
   "source": [
    "# 손실 과정을 시각화하기\n",
    "\n",
    "plt.plot(history.history['loss'], label='train')\n",
    "plt.plot(history.history['val_loss'], label='test')\n",
    "plt.legend()\n",
    "plt.show()"
   ]
  },
  {
   "cell_type": "code",
   "execution_count": 46,
   "metadata": {},
   "outputs": [],
   "source": [
    "# 인퍼런스 모델 구현하기\n",
    "# 정수 데이터를 실제 데이터로 복원하기 위해\n",
    "\n",
    "src_index_to_word = src_tokenizer.index_word # 원문 단어 집합에서 정수 -> 단어를 얻음\n",
    "tar_word_to_index = tar_tokenizer.word_index # 요약 단어 집합에서 단어 -> 정수를 얻음\n",
    "tar_index_to_word = tar_tokenizer.index_word # 요약 단어 집합에서 정수 -> 단어를 얻음"
   ]
  },
  {
   "cell_type": "code",
   "execution_count": 47,
   "metadata": {},
   "outputs": [],
   "source": [
    "# 훈련 단계:\n",
    "# 정답 문장을 디코더에 입력하면 디코더에서 출력하는 문장과 한꺼번에 비교 가능, 인코더와 디코더 통합 설계\n",
    "# 인퍼런스 단계(생성 단계):\n",
    "# 생성될 문장 길이만큼 디코더가 반복 수행, 인코더와 디코더 분리 설계\n",
    "\n",
    "# 인코더 설계\n",
    "encoder_model = Model(inputs=encoder_inputs, outputs=[encoder_outputs, state_h, state_c])\n",
    "\n",
    "# 이전 시점의 상태들을 저장하는 텐서\n",
    "decoder_state_input_h = Input(shape=(hidden_size,))\n",
    "decoder_state_input_c = Input(shape=(hidden_size,))\n",
    "\n",
    "dec_emb2 = dec_emb_layer(decoder_inputs)\n",
    "# 문장의 다음 단어를 예측하기 위해서 초기 상태(initial_state)를 이전 시점의 상태로 사용. 이는 뒤의 함수 decode_sequence()에 구현\n",
    "# 훈련 과정에서와 달리 LSTM의 리턴하는 은닉 상태와 셀 상태인 state_h와 state_c를 버리지 않음.\n",
    "decoder_outputs2, state_h2, state_c2 = decoder_lstm(dec_emb2, initial_state=[decoder_state_input_h, decoder_state_input_c])"
   ]
  },
  {
   "cell_type": "code",
   "execution_count": 48,
   "metadata": {},
   "outputs": [],
   "source": [
    "# 어텐션 매커니즘을 사용한 출력층 설계\n",
    "\n",
    "# 어텐션 함수\n",
    "decoder_hidden_state_input = Input(shape=(text_max_len, hidden_size))\n",
    "attn_out_inf, attn_states_inf = attn_layer([decoder_hidden_state_input, decoder_outputs2])\n",
    "decoder_inf_concat = Concatenate(axis=-1, name='concat')([decoder_outputs2, attn_out_inf])\n",
    "\n",
    "# 디코더의 출력층\n",
    "decoder_outputs2 = decoder_softmax_layer(decoder_inf_concat) \n",
    "\n",
    "# 최종 디코더 모델\n",
    "decoder_model = Model(\n",
    "    [decoder_inputs] + [decoder_hidden_state_input,decoder_state_input_h, decoder_state_input_c],\n",
    "    [decoder_outputs2] + [state_h2, state_c2])"
   ]
  },
  {
   "cell_type": "code",
   "execution_count": 49,
   "metadata": {},
   "outputs": [],
   "source": [
    "# 단어 시퀀스를 생성하는 함수\n",
    "\n",
    "def decode_sequence(input_seq):\n",
    "    # 입력으로부터 인코더의 상태를 얻음\n",
    "    e_out, e_h, e_c = encoder_model.predict(input_seq)\n",
    "\n",
    "     # <SOS>에 해당하는 토큰 생성\n",
    "    target_seq = np.zeros((1,1))\n",
    "    target_seq[0, 0] = tar_word_to_index['sostoken']\n",
    "\n",
    "    stop_condition = False\n",
    "    decoded_sentence = ''\n",
    "    while not stop_condition: # stop_condition이 True가 될 때까지 루프 반복\n",
    "\n",
    "        output_tokens, h, c = decoder_model.predict([target_seq] + [e_out, e_h, e_c])\n",
    "        sampled_token_index = np.argmax(output_tokens[0, -1, :])\n",
    "        sampled_token = tar_index_to_word[sampled_token_index]\n",
    "\n",
    "        if(sampled_token!='eostoken'):\n",
    "            decoded_sentence += ' '+sampled_token\n",
    "\n",
    "        #  <eos>에 도달하거나 최대 길이를 넘으면 중단.\n",
    "        if (sampled_token == 'eostoken'  or len(decoded_sentence.split()) >= (summary_max_len-1)):\n",
    "            stop_condition = True\n",
    "\n",
    "        # 길이가 1인 타겟 시퀀스를 업데이트\n",
    "        target_seq = np.zeros((1,1))\n",
    "        target_seq[0, 0] = sampled_token_index\n",
    "\n",
    "        # 상태를 업데이트 합니다.\n",
    "        e_h, e_c = h, c\n",
    "\n",
    "    return decoded_sentence"
   ]
  },
  {
   "cell_type": "code",
   "execution_count": 50,
   "metadata": {},
   "outputs": [],
   "source": [
    "# 원문의 정수 시퀀스를 텍스트 시퀀스로 변환\n",
    "def seq2text(input_seq):\n",
    "    temp=''\n",
    "    for i in input_seq:\n",
    "        if(i!=0):\n",
    "            temp = temp + src_index_to_word[i]+' '\n",
    "    return temp\n",
    "\n",
    "# 요약문의 정수 시퀀스를 텍스트 시퀀스로 변환\n",
    "def seq2summary(input_seq):\n",
    "    temp=''\n",
    "    for i in input_seq:\n",
    "        if((i!=0 and i!=tar_word_to_index['sostoken']) and i!=tar_word_to_index['eostoken']):\n",
    "            temp = temp + tar_index_to_word[i] + ' '\n",
    "    return temp"
   ]
  },
  {
   "cell_type": "code",
   "execution_count": 51,
   "metadata": {
    "scrolled": false
   },
   "outputs": [
    {
     "name": "stdout",
     "output_type": "stream",
     "text": [
      "원문 : let us say five us really enjoy swedish fish usually gone matter days however bought pack christmas still half pack left \n",
      "실제 요약 : these actually last in this house \n",
      "예측 요약 :  great product\n",
      "\n",
      "\n",
      "원문 : chill switch kiwi berry pour pretty wine glass relax enjoy repeat switch kiwi berry pleasing color fruity taste enough carbonation experience \n",
      "실제 요약 : my throat \n",
      "예측 요약 :  good\n",
      "\n",
      "\n",
      "원문 : gotten flavor larabar grocery store loved fact reason purchased amazon cost per unit much lower peanut butter cookie bar grocery store moist delicious bars received amazon taste stale dry crumbly expiration date understand would way reordering larabars amazon \n",
      "실제 요약 : amazon larabars taste stale and dry \n",
      "예측 요약 :  good but\n",
      "\n",
      "\n",
      "원문 : really loved baking put cookies lot replace chopped nuts also rolled cookies almond flour baking use place flour called quick breads good plan using pie crusts bear filling \n",
      "실제 요약 : loved it \n",
      "예측 요약 :  great cookies\n",
      "\n",
      "\n",
      "원문 : picky eater loves eat gerber organic mac cheese gerber organic green beans yes bit runny makes perfect month olds gives thicken whatever want older babies mommy loves great taste \n",
      "실제 요약 : excellent \n",
      "예측 요약 :  love it\n",
      "\n",
      "\n",
      "원문 : used choice avoderm many years excellent results coat digestion problems ect natural low protein large breeds like mountain dog \n",
      "실제 요약 : adult canned \n",
      "예측 요약 :  great product\n",
      "\n",
      "\n",
      "원문 : got tea supposed help supposedly helps prepare figured cannot hurt think tea light flavored usually put honey goes great rest using past days gone full cycle yet know really work yet \n",
      "실제 요약 : light flavored tea \n",
      "예측 요약 :  great tea\n",
      "\n",
      "\n",
      "원문 : looking value unopened box cereal cannot find information send info thanks email net \n",
      "실제 요약 : cereal box \n",
      "예측 요약 :  misleading\n",
      "\n",
      "\n",
      "원문 : buy husband cannot find stores live find like enjoys greatly \n",
      "실제 요약 : great product \n",
      "예측 요약 :  great product\n",
      "\n",
      "\n",
      "원문 : love nut bars would consider granola bars really nuts granola great travel get smashed \n",
      "실제 요약 : better than candy bar \n",
      "예측 요약 :  great snack\n",
      "\n",
      "\n",
      "원문 : best dark chocolate covered orange peel ever tasted keep ordering run cannot find good anywhere else \n",
      "실제 요약 : amazing \n",
      "예측 요약 :  best chocolate ever\n",
      "\n",
      "\n",
      "원문 : nice coffee exceptional body flavor bitter tastes great continue purchase long available \n",
      "실제 요약 : great coffee \n",
      "예측 요약 :  great coffee\n",
      "\n",
      "\n",
      "원문 : california grew best wheat cereal holds day moved texas could find anywhere say time always find looking amazon searched buying unit pack ever since try disappointed \n",
      "실제 요약 : good stuff \n",
      "예측 요약 :  love this stuff\n",
      "\n",
      "\n",
      "원문 : like licorice menthol cannot go wrong semi soft sugar free candies vaguely reminiscent \n",
      "실제 요약 : love these \n",
      "예측 요약 :  licorice\n",
      "\n",
      "\n",
      "원문 : trying mean anything cookies dry tasted unpleasant \n",
      "실제 요약 : really did not like these cookies \n",
      "예측 요약 :  not as good as the original\n",
      "\n",
      "\n",
      "원문 : like tea wish could find store bad price either \n",
      "실제 요약 : good stuff \n",
      "예측 요약 :  tea\n",
      "\n",
      "\n",
      "원문 : leash gives poop bag needed success fits common refill bags find major stores \n",
      "실제 요약 : it does two things \n",
      "예측 요약 :  great product\n",
      "\n",
      "\n",
      "원문 : love product different flavors fantastic family likes grain best corn tortilla chips house \n",
      "실제 요약 : best kept secret \n",
      "예측 요약 :  great chips\n",
      "\n",
      "\n",
      "원문 : favorite dressing stays mixed dijon spicy enough spicy flavor delicous try \n",
      "실제 요약 : best dressing ever \n",
      "예측 요약 :  great stuff\n",
      "\n",
      "\n",
      "원문 : health issues taking gluten diet good way start may source problem case using pamela products helped get right track feeling better \n",
      "실제 요약 : gluten free and feel good \n",
      "예측 요약 :  great product\n",
      "\n",
      "\n",
      "원문 : problem bar try cannot seem without tastes good dr oz mentioned bars show thought would try one wow love particular one read ingredients find one thing bad finally treat harm unless eat six day checked quite places handle product amazon far best price \n",
      "실제 요약 : kind bars \n",
      "예측 요약 :  not bad\n",
      "\n",
      "\n",
      "원문 : purchased coffee high anticipation heard raved morning disappointed received tried really taste like chocolate doughnut anything tastes like hardened glaze covers doughnut also somewhat chemically aftertaste \n",
      "실제 요약 : chemical aftertaste \n",
      "예측 요약 :  not so good\n",
      "\n",
      "\n",
      "원문 : tell tasting salad dressing uk addicted delicious well sandwich spread tuna egg salad hint mustard sugar vinegar gives great tangy taste try want amazon buy half dozen better uk highly recommended product wish made usa \n",
      "실제 요약 : simply delicious \n",
      "예측 요약 :  love it\n",
      "\n",
      "\n",
      "원문 : revolution teas superb smooth delicate one pleasant comforting pure delight tried one pomegranate well ginger peach eye oolong white pear \n",
      "실제 요약 : teas are smooth and delicate \n",
      "예측 요약 :  great tea\n",
      "\n",
      "\n",
      "원문 : sure needed buy specific butter flavored popcorn salt could use regular salt thrilled bought makes huge difference oil important salt critical well great tasting popcorn \n",
      "실제 요약 : great addition \n",
      "예측 요약 :  great popcorn\n",
      "\n",
      "\n",
      "원문 : solved pups dog food allergy problems started purchasing several months ago itching started color size kibble even noticeably changed wrote letter newman batch numbers bags received answer since purchased solid gold wolf king royal canine german shepherd dogs okay \n",
      "실제 요약 : not as good as it used to be \n",
      "예측 요약 :  great food\n",
      "\n",
      "\n",
      "원문 : really tasty make great high protein snack order regularly keep desk drawer really filling taste great \n",
      "실제 요약 : really tasty \n",
      "예측 요약 :  great product\n",
      "\n",
      "\n",
      "원문 : ounce pro treat beef liver treats great value dog loves need reach tub sit put paw even cut tiny pieces sometimes sprinkle onto food gobbles food size last \n",
      "실제 요약 : my dog loves these \n",
      "예측 요약 :  great for small dogs\n",
      "\n",
      "\n",
      "원문 : find amazon offer high priced get local health food store vs living harvest hemp milk great tasting even unsweetened sugar low carbs type diabetic fits nutrition plan \n",
      "실제 요약 : great stuff but overpriced in amazon \n",
      "예측 요약 :  great product\n",
      "\n",
      "\n",
      "원문 : purely chance dr oz show guest tried different holistic weight loss products particularly intrigued product quickly ordered couple bags would forget hooked since great anything would normally use sugar avid coffee drinker particularly enjoy aroma hint nutty flavor adds beverage bye bye regular sugar \n",
      "실제 요약 : life is just bit \n",
      "예측 요약 :  great product\n",
      "\n",
      "\n",
      "원문 : review quality product understand anyone pays much gingerbread house unless sized candy buy halloween craft store even grocery store things family eat house buy post holiday house sale save next year lasts buy halloween house holiday decorate christmas cost bucks saying \n",
      "실제 요약 : how do you buy gingerbread house \n",
      "예측 요약 :  misleading\n",
      "\n",
      "\n",
      "원문 : bought chocolates mother birthday little scared quality since significantly cheaper godiva etc mom said best chocolates ever considering chocolates go save great value \n",
      "실제 요약 : great \n",
      "예측 요약 :  love these\n",
      "\n",
      "\n",
      "원문 : tastes like pine earl never thought drinking pine needle tea bought wife cannot caffeinated varieties say big fan english breakfast decaf excellent prefer tea black hot cold earl grey tolerable unless drank splash milk sugar undrinkable iced tea would return could avoid costs young \n",
      "실제 요약 : yuck buy another variety \n",
      "예측 요약 :  not bad\n",
      "\n",
      "\n",
      "원문 : great adults kids healthy taste great buy kids eat \n",
      "실제 요약 : wholesome goodness \n",
      "예측 요약 :  great snack\n",
      "\n",
      "\n",
      "원문 : used product quite time easy use drink cup bed results morning beneficial times life gets \n",
      "실제 요약 : it works \n",
      "예측 요약 :  great product\n",
      "\n",
      "\n",
      "원문 : like find lot earl grey teas bit weak delicious enticing bergamot aroma definitely one powerful right tea strong like strong tea means add bag regular black tea brew along stash absolutely delicious bring exotic land pure \n",
      "실제 요약 : must for lovers \n",
      "예측 요약 :  great tea\n",
      "\n",
      "\n",
      "원문 : dogs less finicky would eat two prefer chunks instead ground smelled really good best part wet food produced perfectly formed stools \n",
      "실제 요약 : best wet food \n",
      "예측 요약 :  my dog loves these\n",
      "\n",
      "\n",
      "원문 : pit bull loves chews rawhide digest properly also help keep teeth clean great product \n",
      "실제 요약 : dog chews \n",
      "예측 요약 :  great product\n",
      "\n",
      "\n",
      "원문 : loved item wish could find stores walmart carried item louisiana time travel louisiana sometime find item fred found item houston area easy prepare great conversation piece one seen purchased item amazon \n",
      "실제 요약 : ms mac review \n",
      "예측 요약 :  great product\n",
      "\n",
      "\n",
      "원문 : one best gf bread mixes available use bake sorts breads use baking since girlfriend gluten intolerant also dairy intolerant made great banana blueberry muffins last week got rave reviews \n",
      "실제 요약 : great gf mix \n"
     ]
    },
    {
     "name": "stdout",
     "output_type": "stream",
     "text": [
      "예측 요약 :  amazing\n",
      "\n",
      "\n",
      "원문 : best cup coffee ever use dunkin donuts fan since tried blend brew take road instead paying cup dd like strong bold coffee flavor without bitter taste one \n",
      "실제 요약 : green mountain dark magic extra bold \n",
      "예측 요약 :  great coffee\n",
      "\n",
      "\n",
      "원문 : title says butter biscuits divine everyone loves parents students course love \n",
      "실제 요약 : the aroma the taste \n",
      "예측 요약 :  great for kids\n",
      "\n",
      "\n",
      "원문 : great price amount got cheaper discount stores continue get amazon \n",
      "실제 요약 : great price \n",
      "예측 요약 :  great deal\n",
      "\n",
      "\n",
      "원문 : would recommend coffee anyone like smooth medium roast find flavor rich bitter satisfying \n",
      "실제 요약 : green mountain nantucket is the best \n",
      "예측 요약 :  good coffee\n",
      "\n",
      "\n",
      "원문 : looking dutch process cocoa want ice cream considering one saw lightly problem regular cocoa assume well oils cocoa remain powder try make ice cream oils cause cocoa pill leaving chocolate ice cream tastes ok present well search continues \n",
      "실제 요약 : not for ice cream \n",
      "예측 요약 :  not as good as the\n",
      "\n",
      "\n",
      "원문 : still looking natural soda like curb occasional craving sorry gross tasting nothing like dr pepper maybe flavors bad cola one \n",
      "실제 요약 : good thought but gross \n",
      "예측 요약 :  not bad\n",
      "\n",
      "\n",
      "원문 : like ahead much ginger taste product making drink smell overwhelming horrible taste pleasant ginger lemon taste could detect lemon making aroma none taste imagine using sick open sinuses help clear nose head everyday drink way \n",
      "실제 요약 : very \n",
      "예측 요약 :  not the best\n",
      "\n",
      "\n",
      "원문 : found sugar taste blended drink well tasted like someone put table sugar terrible tasting cold coffee good expensive \n",
      "실제 요약 : cold coffee with sugar \n",
      "예측 요약 :  not good\n",
      "\n",
      "\n",
      "원문 : excited get whole wheat pizza dough ordering got two days later directions easy follow taste crust phenomenal toppings added pizza shrimp chicken cherry tomatoes mexican cheese blend turkey canadian bacon pizza turned great weight watcher point plus value per slice better alternative leading pizzas \n",
      "실제 요약 : the best pizza have ever had \n",
      "예측 요약 :  best gf pasta ever\n",
      "\n",
      "\n",
      "원문 : love machine makes perfectly delicious espresso pretty bulky beware counter space requires complaint sturdy looks move around big deal feels looks works great though \n",
      "실제 요약 : love it \n",
      "예측 요약 :  great coffee\n",
      "\n",
      "\n"
     ]
    }
   ],
   "source": [
    "# 테스트 데이터 50개 샘플에 대해 실제 데이터와 예측된 데이터를 비교하기\n",
    "\n",
    "for i in range(50, 100):\n",
    "    print(\"원문 :\", seq2text(encoder_input_test[i]))\n",
    "    print(\"실제 요약 :\", seq2summary(decoder_input_test[i]))\n",
    "    print(\"예측 요약 :\", decode_sequence(encoder_input_test[i].reshape(1, text_max_len)))\n",
    "    print(\"\\n\")"
   ]
  },
  {
   "cell_type": "markdown",
   "metadata": {},
   "source": [
    "#### 추출적 요약 해보기"
   ]
  },
  {
   "cell_type": "code",
   "execution_count": 59,
   "metadata": {},
   "outputs": [],
   "source": [
    "# Summa 패키지에 추출적 요약을 위한 모듈인 summarize를 제공해준다.\n",
    "# pip install summa\n",
    "\n",
    "import requests\n",
    "from summa.summarizer import summarize"
   ]
  },
  {
   "cell_type": "code",
   "execution_count": 60,
   "metadata": {},
   "outputs": [],
   "source": [
    "# 매트릭스 시놉시스 다운로드 하기\n",
    "\n",
    "text = requests.get('http://rare-technologies.com/the_matrix_synopsis.txt').text"
   ]
  },
  {
   "cell_type": "code",
   "execution_count": 61,
   "metadata": {},
   "outputs": [
    {
     "name": "stdout",
     "output_type": "stream",
     "text": [
      "The screen is filled with green, cascading code which gives way to the title, The Matrix.\r\n",
      "\r\n",
      "A phone rings and text appears on the screen: \"Call trans opt: received. 2-19-98 13:24:18 REC: Log>\" As a conversation takes place between Trinity (Carrie-Anne Moss) and Cypher (Joe Pantoliano), two free humans, a table of random green numbers are being scanned and individual numbers selected, creating a series of digits not unlike an ordinary phone number, as if a code is being deciphered or a call is being traced.\r\n",
      "\r\n",
      "Trinity discusses some unknown person. Cypher taunts Trinity, suggesting she enjoys watching him. Trinity counters that \"Morpheus (Laurence Fishburne) says he may be 'the One',\" just as the sound of a number being selected alerts Trinity that someone may be tracing their call. She ends the call.\r\n",
      "\r\n",
      "Armed policemen move down a darkened, decrepit hallway in the Heart O' the City Hotel, their flashlight beam bouncing just ahead of them. They come to room 303, kick down the door and find a woman dressed in black, facing away from them. It's Trinity. She brings her hands up from the laptop she's working on at their command.\r\n",
      "\r\n",
      "Outside the hotel a car drives up and three agents appear in neatly pressed black suits. They are Agent Smith (Hugo Weaving), Agent Brown (Paul Goddard), and Agent Jones (Robert Taylor). Agent Smith and the presiding police lieutenant argue. Agent Smith admonishes the policeman that they were given specific orders to contact the agents first, for their\n"
     ]
    }
   ],
   "source": [
    "print(text[:1500])"
   ]
  },
  {
   "cell_type": "code",
   "execution_count": 62,
   "metadata": {},
   "outputs": [
    {
     "name": "stdout",
     "output_type": "stream",
     "text": [
      "Summary:\n",
      "Morpheus, Trinity, Neo, Apoc, Switch, Mouse and Cypher are jacked into the Matrix.\n",
      "Trinity brings the helicopter down to the floor that Morpheus is on and Neo opens fire on the three Agents.\n"
     ]
    }
   ],
   "source": [
    "# summarize()는 문장 토큰화를 별도 하지 않아도 내부적으로 수행한다. 그래서 원문을 바로 입력이 가능하다.\n",
    "\n",
    "print('Summary:')\n",
    "print(summarize(text, ratio=0.005))  # 0.005: 원문에서 요약문으로 선택하는 비율"
   ]
  },
  {
   "cell_type": "code",
   "execution_count": 63,
   "metadata": {},
   "outputs": [
    {
     "name": "stdout",
     "output_type": "stream",
     "text": [
      "Summary:\n",
      "['Morpheus, Trinity, Neo, Apoc, Switch, Mouse and Cypher are jacked into the Matrix.', 'Trinity brings the helicopter down to the floor that Morpheus is on and Neo opens fire on the three Agents.']\n"
     ]
    }
   ],
   "source": [
    "# 리스트로 요약문 출력하기\n",
    "\n",
    "print('Summary:')\n",
    "print(summarize(text, ratio=0.005, split=True))  # split 옵션 사용"
   ]
  },
  {
   "cell_type": "code",
   "execution_count": 64,
   "metadata": {},
   "outputs": [
    {
     "name": "stdout",
     "output_type": "stream",
     "text": [
      "Summary:\n",
      "Trinity takes Neo to Morpheus.\n",
      "Morpheus, Trinity, Neo, Apoc, Switch, Mouse and Cypher are jacked into the Matrix.\n",
      "Trinity brings the helicopter down to the floor that Morpheus is on and Neo opens fire on the three Agents.\n"
     ]
    }
   ],
   "source": [
    "# 단어 갯수로 조절하기\n",
    "\n",
    "print('Summary:')\n",
    "print(summarize(text, words=50))"
   ]
  },
  {
   "cell_type": "code",
   "execution_count": 88,
   "metadata": {},
   "outputs": [
    {
     "name": "stdout",
     "output_type": "stream",
     "text": [
      "\n"
     ]
    }
   ],
   "source": [
    "text = \"IN THE LONG and complicated history of the interpretation of the theology of John Calvin, one recurring question is that of the continuity and discontinuity between Calvin’s views and those of later Calvinism. In a formal sense, this question necessarily belongs to the interpretation of any influential theologian that takes seriously the historical development of his particular theological tradition. Historical interpretation of a particular theological figure or tradition demands that careful attention be given to continuities and discontinuities in the course of its development. The theology of Calvin can hardly be understood without paying careful attention to his sixteenth-century context. Furthermore, the theology of later Calvinism can scarcely be understood without regard to the influence of Calvin, who is undoubtedly a leading theologian of the Reformed tradition. However, the question of continuity and discontinuity between Calvin’s views and later Calvinism takes on special significance, when viewed within the framework of the history of interpretation of Calvin’s thought. Though it is not possible in an article such as this to review the history of the interpretation of Calvin’s theology, it is instructive to note that the initial occasion for vigorous debate regarding Calvin and the Calvinists was the emergence of a neo-orthodox approach in the early twentieth century. Contrary to older, nineteenth-century approaches to Calvin’s thought, which either identified the doctrine of predestination as the “central dogma” of Calvin’s theology or found the key to interpretation in its peculiar dialectical form, the trajectory of neo-orthodox interpretation emphasized that Calvin’s theology was characterized by a Christocentric doctrine of the revelation of God’s grace in Christ.1 In the.\"\n",
    "\n",
    "print(summarize(text, words=15))"
   ]
  },
  {
   "cell_type": "code",
   "execution_count": null,
   "metadata": {},
   "outputs": [],
   "source": []
  }
 ],
 "metadata": {
  "kernelspec": {
   "display_name": "aiffel",
   "language": "python",
   "name": "aiffel"
  },
  "language_info": {
   "codemirror_mode": {
    "name": "ipython",
    "version": 3
   },
   "file_extension": ".py",
   "mimetype": "text/x-python",
   "name": "python",
   "nbconvert_exporter": "python",
   "pygments_lexer": "ipython3",
   "version": "3.7.6"
  }
 },
 "nbformat": 4,
 "nbformat_minor": 4
}
