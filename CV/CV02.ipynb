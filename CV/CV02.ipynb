{
 "cells": [
  {
   "cell_type": "markdown",
   "metadata": {},
   "source": [
    "## CV02 - ResNet Ablation Study"
   ]
  },
  {
   "cell_type": "code",
   "execution_count": 1,
   "metadata": {},
   "outputs": [],
   "source": [
    "import tensorflow as tf\n",
    "from tensorflow import keras\n",
    "from tensorflow.keras.layers import *\n",
    "import numpy as np\n",
    "import matplotlib.pyplot as plt\n",
    "\n",
    "import tensorflow_datasets as tfds"
   ]
  },
  {
   "cell_type": "code",
   "execution_count": 2,
   "metadata": {},
   "outputs": [
    {
     "data": {
      "text/plain": [
       "[PhysicalDevice(name='/physical_device:GPU:0', device_type='GPU')]"
      ]
     },
     "execution_count": 2,
     "metadata": {},
     "output_type": "execute_result"
    }
   ],
   "source": [
    "tf.config.list_physical_devices('GPU')"
   ]
  },
  {
   "cell_type": "code",
   "execution_count": 3,
   "metadata": {},
   "outputs": [],
   "source": [
    "import urllib3\n",
    "urllib3.disable_warnings()\n",
    "\n",
    "(ds_train, ds_test), ds_info = tfds.load(\n",
    "    'cifar10',\n",
    "    split=['train', 'test'],\n",
    "    shuffle_files=True,\n",
    "    with_info=True,\n",
    ")"
   ]
  },
  {
   "cell_type": "code",
   "execution_count": 4,
   "metadata": {},
   "outputs": [
    {
     "name": "stdout",
     "output_type": "stream",
     "text": [
      "FeaturesDict({\n",
      "    'id': Text(shape=(), dtype=tf.string),\n",
      "    'image': Image(shape=(32, 32, 3), dtype=tf.uint8),\n",
      "    'label': ClassLabel(shape=(), dtype=tf.int64, num_classes=10),\n",
      "})\n"
     ]
    }
   ],
   "source": [
    "print(ds_info.features)"
   ]
  },
  {
   "cell_type": "code",
   "execution_count": 5,
   "metadata": {},
   "outputs": [
    {
     "name": "stdout",
     "output_type": "stream",
     "text": [
      "tf.Tensor(50000, shape=(), dtype=int64)\n",
      "tf.Tensor(10000, shape=(), dtype=int64)\n"
     ]
    }
   ],
   "source": [
    "print(tf.data.experimental.cardinality(ds_train))\n",
    "print(tf.data.experimental.cardinality(ds_test))"
   ]
  },
  {
   "cell_type": "code",
   "execution_count": 6,
   "metadata": {},
   "outputs": [],
   "source": [
    "def normalize_and_resize_img(image, label):\n",
    "    \"\"\"Normalizes images: `uint8` -> `float32`.\"\"\"\n",
    "    # image = tf.image.resize(image, [32, 32])\n",
    "    return tf.cast(image, tf.float32) / 255., label"
   ]
  },
  {
   "cell_type": "code",
   "execution_count": 15,
   "metadata": {},
   "outputs": [],
   "source": [
    "# Residual 블록 구현\n",
    "\n",
    "def residual_block(input_layer, channel):\n",
    "    \n",
    "    # shoutcuts을 하면 입력 레이어와 출력 레이어의 채널 수가 달라지므로 맞춰준다.\n",
    "    if input_layer.shape[-1] != channel:\n",
    "        inchange_layer = Conv2D(channel, (1, 1), padding='valid', activation='relu',\n",
    "                             kernel_initializer='he_normal')(input_layer)\n",
    "    BatchNormalization()    \n",
    "    conv1 = Conv2D(channel, (3, 3), padding='same', activation='relu',\n",
    "                   kernel_initializer='he_normal')(input_layer)\n",
    "    conv2 = Conv2D(channel, (3, 3), padding='same', activation='linear',\n",
    "                   kernel_initializer='he_normal')(conv1)\n",
    "    \n",
    "    output = add([conv2, inchange_layer])\n",
    "    output = Activation('relu')(output)\n",
    "    return output"
   ]
  },
  {
   "cell_type": "code",
   "execution_count": 16,
   "metadata": {},
   "outputs": [
    {
     "name": "stdout",
     "output_type": "stream",
     "text": [
      "Model: \"model_2\"\n",
      "__________________________________________________________________________________________________\n",
      "Layer (type)                    Output Shape         Param #     Connected to                     \n",
      "==================================================================================================\n",
      "input_6 (InputLayer)            [(None, 32, 32, 3)]  0                                            \n",
      "__________________________________________________________________________________________________\n",
      "conv2d_9 (Conv2D)               (None, 32, 32, 64)   1792        input_6[0][0]                    \n",
      "__________________________________________________________________________________________________\n",
      "conv2d_10 (Conv2D)              (None, 32, 32, 64)   36928       conv2d_9[0][0]                   \n",
      "__________________________________________________________________________________________________\n",
      "conv2d_8 (Conv2D)               (None, 32, 32, 64)   256         input_6[0][0]                    \n",
      "__________________________________________________________________________________________________\n",
      "add_3 (Add)                     (None, 32, 32, 64)   0           conv2d_10[0][0]                  \n",
      "                                                                 conv2d_8[0][0]                   \n",
      "__________________________________________________________________________________________________\n",
      "activation_2 (Activation)       (None, 32, 32, 64)   0           add_3[0][0]                      \n",
      "==================================================================================================\n",
      "Total params: 38,976\n",
      "Trainable params: 38,976\n",
      "Non-trainable params: 0\n",
      "__________________________________________________________________________________________________\n"
     ]
    }
   ],
   "source": [
    "resnet_input_layer = Input(shape=(32, 32, 3))\n",
    "resnet_block_output = residual_block(resnet_input_layer, 64)\n",
    "\n",
    "model = keras.Model(inputs=resnet_input_layer, outputs=resnet_block_output)  \n",
    "\n",
    "model.summary()"
   ]
  },
  {
   "cell_type": "code",
   "execution_count": 15,
   "metadata": {},
   "outputs": [],
   "source": [
    "# ResNet 기본 블록 구현\n",
    "\n",
    "def resnet_block(input_layer, channel, is_50, is_plain, repetition, stage):\n",
    "    \n",
    "    x = input_layer\n",
    "    \n",
    "    if is_50 is False:\n",
    "        for i in range(repetition):\n",
    "            init_strides=(1, 1)\n",
    "            if stage > 0 and i == 0:\n",
    "                init_strides=(2, 2)\n",
    "            x = Conv2D(filters=channel, kernel_size=(3, 3), strides=init_strides,\n",
    "                       padding='same', kernel_initialzer='he_normal'),\n",
    "            \n",
    "                        \n",
    "                        \n",
    "            \n",
    "\n",
    "    if num_cnn == 2:\n",
    "        for cnn_num in range(num_cnn):\n",
    "            x = Conv2D(filters=channel, kernel_size=(3, 3), activation='relu',\n",
    "                            kernel_initializer='he_normal', padding='same',\n",
    "                            name=f'block{block_num}_conv{cnn_num}')(x)\n",
    "    else:\n",
    "        x = Conv2D(filters=channel, kernel_size=(1, 1), activation='relu',\n",
    "                        kernel_initializer='he_normal', padding='same',\n",
    "                        name=f'block{block_num}_conv1')(x)\n",
    "        x = Conv2D(filters=channel, kernel_size=(3, 3), activation='relu',\n",
    "                        kernel_initializer='he_normal', padding='same',\n",
    "                        name=f'block{block_num}_conv2')(x)\n",
    "        x = Conv2D(filters=channel*2, kernel_size=(1, 1), activation='relu',\n",
    "                        kernel_initializer='he_normal', padding='same',\n",
    "                        name=f'block{block_num}_conv3')(x)\n",
    "        \n",
    "    x = MaxPooling2D(pool_size=(2, 2), strides=2,\n",
    "                     name=f'block{block_num}_pooling')(x)\n",
    "    \n",
    "    return x"
   ]
  },
  {
   "cell_type": "code",
   "execution_count": 16,
   "metadata": {},
   "outputs": [],
   "source": [
    "resnet_input_layer = Input(shape=(32, 32, 3))\n",
    "resnet_block_output = build_resnet_block(resnet_input_layer)"
   ]
  },
  {
   "cell_type": "code",
   "execution_count": 17,
   "metadata": {},
   "outputs": [
    {
     "name": "stdout",
     "output_type": "stream",
     "text": [
      "Model: \"model_2\"\n",
      "_________________________________________________________________\n",
      "Layer (type)                 Output Shape              Param #   \n",
      "=================================================================\n",
      "input_4 (InputLayer)         [(None, 32, 32, 3)]       0         \n",
      "_________________________________________________________________\n",
      "block1_conv0 (Conv2D)        (None, 32, 32, 64)        1792      \n",
      "_________________________________________________________________\n",
      "block1_conv1 (Conv2D)        (None, 32, 32, 64)        36928     \n",
      "_________________________________________________________________\n",
      "block1_pooling (MaxPooling2D (None, 16, 16, 64)        0         \n",
      "=================================================================\n",
      "Total params: 38,720\n",
      "Trainable params: 38,720\n",
      "Non-trainable params: 0\n",
      "_________________________________________________________________\n"
     ]
    }
   ],
   "source": [
    "# 블록 1개짜리 model 생성\n",
    "model = keras.Model(inputs=resnet_input_layer, outputs=resnet_block_output)  \n",
    "\n",
    "model.summary()"
   ]
  },
  {
   "cell_type": "code",
   "execution_count": null,
   "metadata": {},
   "outputs": [],
   "source": [
    "# 블록을 조합하여 resnet-34 모델 만들기\n",
    "\n",
    "def build_resnet(input_shape=(32, 32, 3),\n",
    "                num_cnn=2,\n",
    "                channel_list=[64, 128, 256, 512],\n",
    "                num_classes=10):\n",
    "    \n",
    "    input_layer = Input(shape=input_shape)\n",
    "    output = input_layer\n",
    "    \n",
    "    for i, channel in enumerate(channel_list):\n",
    "        output = build_resnet_block(output, num_cnn=num_cnn, channel=channel, block_num=i)\n",
    "        \n",
    "    output = keras.layers.Flatten(name='flatten')(output)\n",
    "    output = keras.layers.Dense(4096, activation='relu', name='fc1')(output)\n",
    "    output = keras.layers.Dense(4096, activation='relu', name='fc2')(output)\n",
    "    output = keras.layers.Dense(num_classes, activation='softmax', name='predictions')(output)"
   ]
  },
  {
   "cell_type": "code",
   "execution_count": null,
   "metadata": {},
   "outputs": [],
   "source": []
  }
 ],
 "metadata": {
  "kernelspec": {
   "display_name": "aiffel",
   "language": "python",
   "name": "aiffel"
  },
  "language_info": {
   "codemirror_mode": {
    "name": "ipython",
    "version": 3
   },
   "file_extension": ".py",
   "mimetype": "text/x-python",
   "name": "python",
   "nbconvert_exporter": "python",
   "pygments_lexer": "ipython3",
   "version": "3.7.6"
  }
 },
 "nbformat": 4,
 "nbformat_minor": 4
}
