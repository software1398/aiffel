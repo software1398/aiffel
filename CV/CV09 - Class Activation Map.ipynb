{
 "cells": [
  {
   "cell_type": "markdown",
   "metadata": {},
   "source": [
    "## CV09 - 너의 속이 궁금해 (Class Activation Map)\n",
    "XAI(Explainable Artificial Intelligence,  설명 가능한 인공지능)에 대해 알아보자.  \n",
    "### Explainable AI\n",
    "모델이 잘못된 답변을 내놓을 때 어떻게 개선할 수 있는지, 잘 동작한다면 왜 이런 선택을 했는지 알고자 하는 것을 말한다.  \n",
    "\n",
    "이미지 분류 문제(Image classification): 일반적으로 이미지를 입력받으면 CNN을 통해 이미지의 특성을 추출하여 feature map을 생성하고  \n",
    "fully connected layer을 통과시켜 logit을 얻은 후에 소프트맥스 활성화 함수을 적용하면 이미지가 속할 각 클래스의 확률을 얻을 수 있다.  \n",
    "logit, sigmoid, softmax의 관계: https://opentutorials.org/module/3653/22995"
   ]
  },
  {
   "cell_type": "code",
   "execution_count": null,
   "metadata": {},
   "outputs": [],
   "source": []
  }
 ],
 "metadata": {
  "kernelspec": {
   "display_name": "aiffel",
   "language": "python",
   "name": "aiffel"
  },
  "language_info": {
   "codemirror_mode": {
    "name": "ipython",
    "version": 3
   },
   "file_extension": ".py",
   "mimetype": "text/x-python",
   "name": "python",
   "nbconvert_exporter": "python",
   "pygments_lexer": "ipython3",
   "version": "3.7.6"
  }
 },
 "nbformat": 4,
 "nbformat_minor": 4
}
