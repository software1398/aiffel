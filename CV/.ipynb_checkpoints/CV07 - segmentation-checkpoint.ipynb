{
 "cells": [
  {
   "cell_type": "markdown",
   "metadata": {},
   "source": [
    "# CV07 - 세그멘테이션 살펴보기\n",
    "\n",
    "세그멘테이션: 픽셀 단위에서 이미지의 각 부분이 어떤 의미를 갖는 영역인지 분리하는 방법  \n",
    "이미지에서 영역을 분리하는 방식은 인스턴스 세그멘테이션과 시맨틱 세그멘테이션이 있다.  \n",
    "시맨틱은 동일한 개체를 같이 묶어서 분리하는 반면 인스턴스는 동일한 개체도 각각 분류한다.  \n",
    "#### 시맨틱 세그멘테이션(Semantic Segmentation)\n",
    "U-Net구조: 대표적인 모델이며, 572x572 크기의 이미지를 입력하면 388x388 크기에 두 가지의  \n",
    "클래스를 가진 세그멘테이션 맵이 나온다.  \n",
    "https://mi.eng.cam.ac.uk/projects/segnet/#demo\n",
    "\n",
    "#### 인스턴스 세그멘테이션(Instance Segmentation)\n",
    "Mask R-CNN: 대표적인 모델이며, Faster R-CNN을 계승하였고 ROI Pooling layer  \n",
    "개념을 개선하여 RolAlign, 클래스별 마스크 분리을 통해 클래스별 object detection,  \n",
    "semantic segmentation을 하나의 task로 엮어냈다.\n",
    "\n",
    "ROIPool의 한계점: 다양한 크기의 ROI영역을 같은 크기로 맞추려다보니 정보가 손실되거나  \n",
    "왜곡되는 현상이 발생한다.\n",
    "RoIAlign은 이런 한계점을 해결한다.  \n",
    "https://towardsdatascience.com/understanding-region-of-interest-part-2-roi-align-and-roi-warp-f795196fc193"
   ]
  },
  {
   "cell_type": "code",
   "execution_count": null,
   "metadata": {},
   "outputs": [],
   "source": []
  }
 ],
 "metadata": {
  "kernelspec": {
   "display_name": "aiffel",
   "language": "python",
   "name": "aiffel"
  },
  "language_info": {
   "codemirror_mode": {
    "name": "ipython",
    "version": 3
   },
   "file_extension": ".py",
   "mimetype": "text/x-python",
   "name": "python",
   "nbconvert_exporter": "python",
   "pygments_lexer": "ipython3",
   "version": "3.7.6"
  }
 },
 "nbformat": 4,
 "nbformat_minor": 4
}
