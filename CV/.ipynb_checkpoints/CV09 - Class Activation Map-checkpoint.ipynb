{
 "cells": [
  {
   "cell_type": "markdown",
   "metadata": {},
   "source": [
    "## CV09 - 너의 속이 궁금해 (Class Activation Map)\n",
    "XAI(Explainable Artificial Intelligence,  설명 가능한 인공지능)에 대해 알아보자.  \n",
    "### Explainable AI\n",
    "모델이 잘못된 답변을 내놓을 때 어떻게 개선할 수 있는지, 잘 동작한다면 왜 이런 선택을 했는지 알고자 하는 것을 말한다.  \n",
    "\n",
    "이미지 분류 문제(Image classification): 일반적으로 이미지를 입력받으면 CNN을 통해 이미지의 특성을 추출하여 feature map을 생성하고  \n",
    "fully connected layer을 통과시켜 logit을 얻은 후에 소프트맥스 활성화 함수을 적용하면 이미지가 속할 각 클래스의 확률을 얻을 수 있다.  \n",
    "logit, sigmoid, softmax의 관계: https://opentutorials.org/module/3653/22995  \n",
    "만약 딥러닝 모델이 어떤 클래스로 정답을 냈다면 그 이유를 모델 안에서 찾을 수 있을까?  \n",
    "### CAM: Class Activation Map\n",
    "모델이 어떤 곳을 보고 각 클래스임을 짐작하고 있는지 확인할 수 있는 지도  \n",
    "http://cnnlocalization.csail.mit.edu/Zhou_Learning_Deep_Features_CVPR_2016_paper.pdf  \n",
    "\n",
    "GAP(Global Average Pooling)  \n",
    "어떤 클래스가 어느 영역에 의해서 활성화되었는지 알 수 있다.  \n",
    "Network in Network https://arxiv.org/abs/1312.4400  \n",
    "http://www.navisphere.net/5493/network-in-network/  \n",
    "https://youtu.be/8oOgPUO-TBY  \n",
    "Network in Network 논문에서 CNN이후 fully connected layer을 사용하는 대신 GAP 연산을 한 후  \n",
    "이에 대해 소프트맥스 활성화 함수를 적용한다.  \n",
    "이 때 CNN의 마지막 레이어의 채널 수는 class 수에 맞추면 각 클래스에 따른 확률을 얻을 수 있다.  \n",
    "이러면 특성 맵의 각 채널이 클래스별 신뢰도를 나타내며 최적화할 파라미터가 존재하지 않으므로 과적합을 방지할 수 있다.\n",
    "\n",
    "CAM(Class Activation Map)\n",
    "http://cnnlocalization.csail.mit.edu/Zhou_Learning_Deep_Features_CVPR_2016_paper.pdf  \n",
    "https://poddeeplearning.readthedocs.io/ko/latest/CNN/CAM%20-%20Class%20Activation%20Map/  \n",
    "CNN은 특성을 추출하며 그 특성 맵에는 위치정보도 유지된다. 이미지 검출이나 세그멘테이션에 이용\n",
    "CAM은 GAP을 적용한 후 여기에 소프트맥스 레이어를 적용한다.  \n",
    "여기 얻은 특성 맵은 CNN의 출력값 크기와 같고 이를 보간을 통해 적절히 원본 이미지 크기로 확대해 주면 CAM를 얻을 수 있다.\n",
    "\n",
    "### Grad-CAM  \n",
    "https://arxiv.org/abs/1610.02391\n",
    "모델이 바라는 클래스가 있는 채널을 더 활성화시키기 위해 가중치 부여  \n",
    "채널별로 어떤 클래스를 활성화시키는지 다르다\n",
    "\n",
    "### ACoL(Adversarial Complementary Learning)  \n",
    "http://openaccess.thecvf.com/content_cvpr_2018/papers/Zhang_Adversarial_Complementary_Learning_CVPR_2018_paper.pdf  \n",
    "약지도학습: 간접적인 정보를 활용하여 학습을 하고 원하는 정보를 얻어내는 모델 학습 방법  \n",
    "CAM, Grad-CAM, ACoL은 약지도학습을 활용하여 물체 검출을 수행할 수 있다.  \n",
    "1) 약지도학습(weakly supervised learning)\n",
    "   * incomplete supervision: 학습데이터(1000) 중에 일부(100)만 라벨이 있는 경우\n",
    "   * inexact supervision: 학습데이터의 라벨이 충분히 정확하게 달려있지 않은 경우\n",
    "   * inaccurate supervision: 학습데이터에 Noise가 있는 경우(라벨이 잘못 된 경우)\n",
    "object detection이나 semantic segmentation의 경우 bounding box정보까지 필요하므로 학습데이터 제작비용이 많이 든다.  \n",
    "https://www.naverlabs.com/storyDetail/16  \n",
    "2) Adversarial Complementary Learning\n",
    "http://openaccess.thecvf.com/content_cvpr_2018/papers/Zhang_Adversarial_Complementary_Learning_CVPR_2018_paper.pdf  \n",
    " CAM을 통해 본 활성화 맵을 보면 가장자리보다는 특징이 주로 나타나는 위치에 중점적으로 활성화된다.  \n",
    " 이는 물체 검출에서 물체의 부분적인 특성이 아닌 물체 전체적인 형태와 윤곽을 정확하게 구분해내는 것이 필요하다.  \n",
    " ACoL은 브랜치를 두 가지로 나누어 너무 높은 점수를 지워 주변의 특성도 반영되도록 한다.\n",
    " 첫번째로 특성 맵 -> GAP -> 소프트맥스 레이어 -> loss학습  \n",
    "3) 1x1 Conv\n",
    "CAM을 얻기 위해서 대상이 되는 네트워크에 feed forward를 하고 활성화 맵과 가중치 계산을 다시 해줘야 한다.  \n",
    "이 과정은 관찰하고자 하는 분류 모델의 feed forward와 별개의 작업이므로, 물체 검출을 위한 모델로 사용하기 위해서는  \n",
    "별도의 연산을 해줘야하는 단점이 있다.  \n",
    "https://jsideas.net/class_activation_map/  \n",
    "\n",
    "어떤 분류문제를 풀 수 있는가?\n",
    "데이터를 어떻게 모을 수 있을까?\n",
    "어떤 모델을 기반으로 사용할까?\n",
    "Class Activation Map을 활용해서 보여준다면 어떤 점이 좋을까?"
   ]
  },
  {
   "cell_type": "code",
   "execution_count": null,
   "metadata": {},
   "outputs": [],
   "source": []
  }
 ],
 "metadata": {
  "kernelspec": {
   "display_name": "aiffel",
   "language": "python",
   "name": "aiffel"
  },
  "language_info": {
   "codemirror_mode": {
    "name": "ipython",
    "version": 3
   },
   "file_extension": ".py",
   "mimetype": "text/x-python",
   "name": "python",
   "nbconvert_exporter": "python",
   "pygments_lexer": "ipython3",
   "version": "3.7.6"
  }
 },
 "nbformat": 4,
 "nbformat_minor": 4
}
