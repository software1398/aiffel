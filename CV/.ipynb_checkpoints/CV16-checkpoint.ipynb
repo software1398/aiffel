{
 "cells": [
  {
   "cell_type": "markdown",
   "metadata": {},
   "source": [
    "## CV16 - 카메라 앱에 당황한 표정 효과를 적용하기\n",
    "### 데이터셋 추가하기"
   ]
  },
  {
   "cell_type": "code",
   "execution_count": 1,
   "metadata": {},
   "outputs": [],
   "source": [
    "import tensorflow as tf\n",
    "import tensorflow_hub as hub\n",
    "from tensorflow.keras import layers, models\n",
    "from tensorflow.keras.callbacks import LearningRateScheduler\n",
    "from glob import glob\n",
    "import numpy as np\n",
    "import math"
   ]
  },
  {
   "cell_type": "code",
   "execution_count": 2,
   "metadata": {},
   "outputs": [
    {
     "name": "stdout",
     "output_type": "stream",
     "text": [
      "23720 23720\n",
      "Found 20160 images belonging to 1 classes.\n",
      "Found 20160 images belonging to 1 classes.\n"
     ]
    }
   ],
   "source": [
    "list_image = sorted(glob('./data/train/input/img/*.png'))\n",
    "list_label = sorted(glob('./data/train/label/mask/*.png'))\n",
    "print (len(list_image), len(list_label))\n",
    "\n",
    "IMAGE_SHAPE = (80, 120)\n",
    "data_root = './data/train/input'\n",
    "label_root = './data/train/label'\n",
    "\n",
    "image_generator = tf.keras.preprocessing.image.ImageDataGenerator(validation_split=0.150084318)\n",
    "label_generator = tf.keras.preprocessing.image.ImageDataGenerator(validation_split=0.150084318)\n",
    "image_data = image_generator.flow_from_directory(str(data_root),\n",
    "                                                 class_mode=None,\n",
    "                                                 target_size=IMAGE_SHAPE,\n",
    "                                                 subset='training',\n",
    "                                                 batch_size=32)\n",
    "label_data = label_generator.flow_from_directory(str(label_root),\n",
    "                                                 class_mode=None,\n",
    "                                                 target_size=IMAGE_SHAPE,\n",
    "                                                 subset='training',\n",
    "                                                 batch_size=32)"
   ]
  },
  {
   "cell_type": "code",
   "execution_count": 3,
   "metadata": {},
   "outputs": [],
   "source": [
    "def user_generation(train_generator, label_generator):\n",
    "    h, w = train_generator.target_size\n",
    "    for images, labels in zip(train_generator, label_generator):\n",
    "        images /= 255.\n",
    "        images = images[..., ::-1] # rgb to bgr\n",
    "\n",
    "        list_point_labels = []\n",
    "        for img, label in zip(images, labels):\n",
    "\n",
    "            eye_ls = np.where(label==1) # leftside\n",
    "            eye_rs = np.where(label==2) # rightside\n",
    "            eye_center = np.where(label==3)\n",
    "\n",
    "            lx, ly = [eye_ls[1].mean(), eye_ls[0].mean()]\n",
    "            rx, ry = [eye_rs[1].mean(), eye_rs[0].mean()]\n",
    "            cx, cy = [eye_center[1].mean(), eye_center[0].mean()]\n",
    "\n",
    "            if len(eye_ls[0])==0 or len(eye_ls[1])==0:\n",
    "                lx, ly = [0, 0]\n",
    "            if len(eye_rs[0])==0 or len(eye_rs[1])==0:\n",
    "                rx, ry = [w, h]\n",
    "            if len(eye_center[0])==0 or len(eye_center[1])==0:\n",
    "                cx, cy = [0, 0]\n",
    "\n",
    "            np_point_label = np.array([lx/w,ly/h,rx/w,ry/h,cx/w,cy/h], dtype=np.float32)\n",
    "\n",
    "            list_point_labels.append(np_point_label)\n",
    "        np_point_labels = np.array(list_point_labels)\n",
    "        yield (images, np_point_labels)"
   ]
  },
  {
   "cell_type": "code",
   "execution_count": 4,
   "metadata": {},
   "outputs": [
    {
     "name": "stdout",
     "output_type": "stream",
     "text": [
      "(80, 120, 3) [0.         0.         1.         1.         0.6128692  0.13536392]\n",
      "(80, 120, 3) [0.         0.         1.         1.         0.06388889 0.4798611 ]\n"
     ]
    },
    {
     "name": "stderr",
     "output_type": "stream",
     "text": [
      "<ipython-input-3-2841512545d5>:14: RuntimeWarning: Mean of empty slice.\n",
      "  lx, ly = [eye_ls[1].mean(), eye_ls[0].mean()]\n",
      "/home/ubuntu/anaconda3/envs/aiffel/lib/python3.8/site-packages/numpy/core/_methods.py:170: RuntimeWarning: invalid value encountered in double_scalars\n",
      "  ret = ret.dtype.type(ret / rcount)\n",
      "<ipython-input-3-2841512545d5>:15: RuntimeWarning: Mean of empty slice.\n",
      "  rx, ry = [eye_rs[1].mean(), eye_rs[0].mean()]\n"
     ]
    }
   ],
   "source": [
    "user_train_generator = user_generation(image_data, label_data)\n",
    "for i in range(2):\n",
    "    dd = next(user_train_generator)\n",
    "    print (dd[0][0].shape, dd[1][0])"
   ]
  },
  {
   "cell_type": "markdown",
   "metadata": {},
   "source": [
    "### 모델 설계"
   ]
  },
  {
   "cell_type": "code",
   "execution_count": 5,
   "metadata": {
    "scrolled": false
   },
   "outputs": [
    {
     "name": "stdout",
     "output_type": "stream",
     "text": [
      "(32, 2048)\n",
      "Model: \"sequential\"\n",
      "_________________________________________________________________\n",
      "Layer (type)                 Output Shape              Param #   \n",
      "=================================================================\n",
      "keras_layer (KerasLayer)     (None, 2048)              23564800  \n",
      "_________________________________________________________________\n",
      "dense (Dense)                (None, 6)                 12294     \n",
      "=================================================================\n",
      "Total params: 23,577,094\n",
      "Trainable params: 12,294\n",
      "Non-trainable params: 23,564,800\n",
      "_________________________________________________________________\n"
     ]
    }
   ],
   "source": [
    "''' tf hub feature_extractor '''\n",
    "feature_extractor_url = \"https://tfhub.dev/google/imagenet/resnet_v2_50/feature_vector/4\"\n",
    "feature_extractor_layer = hub.KerasLayer(feature_extractor_url,\n",
    "                                            input_shape=(80,120,3))\n",
    "\n",
    "image_batch = next(image_data)\n",
    "feature_batch = feature_extractor_layer(image_batch)\n",
    "print(feature_batch.shape)\n",
    "\n",
    "num_classes = 6\n",
    "\n",
    "feature_extractor_layer.trainable = False\n",
    "model = tf.keras.Sequential([\n",
    "    feature_extractor_layer,\n",
    "    #layers.Dense(1024, activation='relu'),\n",
    "    #layers.Dropout(0.5),\n",
    "    layers.Dense(num_classes, activation='sigmoid'),\n",
    "])\n",
    "\n",
    "model.summary()"
   ]
  },
  {
   "cell_type": "code",
   "execution_count": 6,
   "metadata": {},
   "outputs": [],
   "source": [
    "model.compile(\n",
    "  optimizer=tf.keras.optimizers.Adam(),\n",
    "  loss='mse',\n",
    "  metrics=['mae']\n",
    "  )"
   ]
  },
  {
   "cell_type": "code",
   "execution_count": 7,
   "metadata": {},
   "outputs": [],
   "source": [
    "def lr_step_decay(epoch):\n",
    "        init_lr = 0.0005    #self.flag.initial_learning_rate\n",
    "        lr_decay = 0.5      #self.flag.learning_rate_decay_factor\n",
    "        epoch_per_decay = 2 #self.flag.epoch_per_decay\n",
    "        lrate = init_lr * math.pow(lr_decay, math.floor((1+epoch)/epoch_per_decay))\n",
    "        return lrate"
   ]
  },
  {
   "cell_type": "code",
   "execution_count": 8,
   "metadata": {},
   "outputs": [
    {
     "name": "stdout",
     "output_type": "stream",
     "text": [
      "20160 32 630\n"
     ]
    },
    {
     "name": "stderr",
     "output_type": "stream",
     "text": [
      "<ipython-input-3-2841512545d5>:14: RuntimeWarning: Mean of empty slice.\n",
      "  lx, ly = [eye_ls[1].mean(), eye_ls[0].mean()]\n",
      "<ipython-input-3-2841512545d5>:15: RuntimeWarning: Mean of empty slice.\n",
      "  rx, ry = [eye_rs[1].mean(), eye_rs[0].mean()]\n"
     ]
    },
    {
     "name": "stdout",
     "output_type": "stream",
     "text": [
      "Epoch 1/10\n",
      "630/630 [==============================] - 24s 38ms/step - loss: 0.0224 - mae: 0.0735 - lr: 5.0000e-04\n",
      "Epoch 2/10\n",
      "630/630 [==============================] - 22s 35ms/step - loss: 0.0145 - mae: 0.0567 - lr: 2.5000e-04\n",
      "Epoch 3/10\n",
      "630/630 [==============================] - 22s 35ms/step - loss: 0.0140 - mae: 0.0554 - lr: 2.5000e-04\n",
      "Epoch 4/10\n",
      "630/630 [==============================] - 22s 35ms/step - loss: 0.0135 - mae: 0.0540 - lr: 1.2500e-04\n",
      "Epoch 5/10\n",
      "630/630 [==============================] - 22s 36ms/step - loss: 0.0133 - mae: 0.0535 - lr: 1.2500e-04\n",
      "Epoch 6/10\n",
      "630/630 [==============================] - 22s 35ms/step - loss: 0.0131 - mae: 0.0529 - lr: 6.2500e-05\n",
      "Epoch 7/10\n",
      "630/630 [==============================] - 22s 35ms/step - loss: 0.0131 - mae: 0.0529 - lr: 6.2500e-05\n",
      "Epoch 8/10\n",
      "630/630 [==============================] - 23s 36ms/step - loss: 0.0130 - mae: 0.0525 - lr: 3.1250e-05\n",
      "Epoch 9/10\n",
      "630/630 [==============================] - 22s 35ms/step - loss: 0.0130 - mae: 0.0525 - lr: 3.1250e-05\n",
      "Epoch 10/10\n",
      "630/630 [==============================] - 22s 35ms/step - loss: 0.0129 - mae: 0.0523 - lr: 1.5625e-05\n"
     ]
    }
   ],
   "source": [
    "steps_per_epoch = image_data.samples//image_data.batch_size\n",
    "print (image_data.samples, image_data.batch_size, steps_per_epoch)\n",
    "# 20160 32 630 -> 데이터를 batch_size 의 배수로 준비해 주세요.\n",
    "\n",
    "learning_rate = LearningRateScheduler(lr_step_decay)\n",
    "\n",
    "history = model.fit(user_train_generator, epochs=10,\n",
    "                    steps_per_epoch=steps_per_epoch,\n",
    "                    callbacks = [learning_rate]\n",
    "                    )"
   ]
  },
  {
   "cell_type": "code",
   "execution_count": 9,
   "metadata": {},
   "outputs": [
    {
     "data": {
      "image/png": "[encoded data removed]",
      "text/plain": [
       "<Figure size 1080x576 with 1 Axes>"
      ]
     },
     "metadata": {
      "needs_background": "light"
     },
     "output_type": "display_data"
    }
   ],
   "source": [
    "import matplotlib.pyplot as plt\n",
    "\n",
    "plt.figure(figsize=(15, 8))\n",
    "plt.plot(history.history['loss'], label='loss')\n",
    "plt.title('loss')\n",
    "plt.show()"
   ]
  },
  {
   "cell_type": "code",
   "execution_count": 10,
   "metadata": {},
   "outputs": [],
   "source": [
    "import dlib\n",
    "import cv2\n",
    "\n",
    "detector_hog = dlib.get_frontal_face_detector()\n",
    "landmark_predictor = dlib.shape_predictor('./models/shape_predictor_68_face_landmarks.dat')\n",
    "\n",
    "img = cv2.imread('./images/image.png')\n",
    "img_bgr = img.copy()\n",
    "\n",
    "dlib_rects = detector_hog(img_bgr, 1)\n",
    "\n",
    "list_landmarks = []\n",
    "for dlib_rect in dlib_rects:\n",
    "    points = landmark_predictor(img_bgr, dlib_rect)\n",
    "    list_points = list(map(lambda p: (p.x, p.y), points.parts()))\n",
    "    list_landmarks.append(list_points)\n",
    "\n",
    "landmark = list_landmarks[0]"
   ]
  },
  {
   "cell_type": "code",
   "execution_count": 11,
   "metadata": {},
   "outputs": [],
   "source": [
    "def eye_crop(bgr_img, landmark):\n",
    "    # dlib eye landmark: 36~41 (6), 42~47 (6)\n",
    "    np_left_eye_points = np.array(landmark[36:42])\n",
    "    np_right_eye_points = np.array(landmark[42:48])\n",
    "\n",
    "    np_left_tl = np_left_eye_points.min(axis=0)\n",
    "    np_left_br = np_left_eye_points.max(axis=0)\n",
    "    np_right_tl = np_right_eye_points.min(axis=0)\n",
    "    np_right_br = np_right_eye_points.max(axis=0)\n",
    "\n",
    "    list_left_tl = np_left_tl.tolist()\n",
    "    list_left_br = np_left_br.tolist()\n",
    "    list_right_tl = np_right_tl.tolist()\n",
    "    list_right_br = np_right_br.tolist()\n",
    "\n",
    "    left_eye_size = np_left_br - np_left_tl\n",
    "    right_eye_size = np_right_br - np_right_tl\n",
    "\n",
    "    ### if eye size is small\n",
    "    if left_eye_size[1] < 5:\n",
    "        margin = 1\n",
    "    else:\n",
    "        margin = 6\n",
    "\n",
    "    img_left_eye = bgr_img[np_left_tl[1] - margin:np_left_br[1] + margin,\n",
    "                   np_left_tl[0] - margin // 2:np_left_br[0] + margin // 2]\n",
    "    img_right_eye = bgr_img[np_right_tl[1] - margin:np_right_br[1] + margin,\n",
    "                    np_right_tl[0] - margin // 2:np_right_br[0] + margin // 2]\n",
    "\n",
    "    return [img_left_eye, img_right_eye]"
   ]
  },
  {
   "cell_type": "code",
   "execution_count": 24,
   "metadata": {},
   "outputs": [
    {
     "name": "stdout",
     "output_type": "stream",
     "text": [
      "[[[1.320919e-06 9.444626e-06]\n",
      "  [1.200000e+02 8.000000e+01]\n",
      "  [6.017279e+01 2.411657e+01]]]\n",
      "[0. 0.]\n",
      "[120.  80.]\n",
      "[60. 24.]\n"
     ]
    },
    {
     "data": {
      "image/png": "[encoded data removed]",
      "text/plain": [
       "<Figure size 432x288 with 1 Axes>"
      ]
     },
     "metadata": {
      "needs_background": "light"
     },
     "output_type": "display_data"
    }
   ],
   "source": [
    "img_left_eye, img_right_eye = eye_crop(img_bgr, landmark)\n",
    "\n",
    "plt.imshow(cv2.cvtColor(img_left_eye, cv2.COLOR_BGR2RGB))\n",
    "\n",
    "np_inputs = np.expand_dims(cv2.resize(img_left_eye, (120, 80)), axis=0)\n",
    "preds = model.predict(np_inputs / 255., 1)\n",
    "\n",
    "repred = preds.reshape((1, 3, 2))\n",
    "repred[:, :, 0] *= 120\n",
    "repred[:, :, 1] *= 80\n",
    "print(repred)\n",
    "\n",
    "show = img_left_eye.copy()\n",
    "for pt in repred[0]:\n",
    "    print(pt.round())\n",
    "    show = cv2.circle(show, tuple((pt * 0.37).astype(int)), 3, (0, 255, 255), -1)\n",
    "\n",
    "plt.imshow(cv2.cvtColor(show, cv2.COLOR_BGR2RGB))\n",
    "plt.show()"
   ]
  },
  {
   "cell_type": "code",
   "execution_count": null,
   "metadata": {},
   "outputs": [],
   "source": []
  }
 ],
 "metadata": {
  "kernelspec": {
   "display_name": "aiffel",
   "language": "python",
   "name": "aiffel"
  },
  "language_info": {
   "codemirror_mode": {
    "name": "ipython",
    "version": 3
   },
   "file_extension": ".py",
   "mimetype": "text/x-python",
   "name": "python",
   "nbconvert_exporter": "python",
   "pygments_lexer": "ipython3",
   "version": "3.7.9"
  }
 },
 "nbformat": 4,
 "nbformat_minor": 2
}
