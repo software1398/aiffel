{
 "cells": [
  {
   "cell_type": "code",
   "execution_count": null,
   "metadata": {},
   "outputs": [],
   "source": [
    "import os\n",
    "\n",
    "datasets = [\n",
    "    ('WIDER_train.zip', '0B6eKvaijfFUDQUUwd21EckhUbWs'),\n",
    "    ('WIDER_val.zip', '0B6eKvaijfFUDd3dIRmpvSk8tLUk'),\n",
    "    ('WIDER_test.zip', '0B6eKvaijfFUDbW4tdGpaYjgzZkU'),\n",
    "]\n",
    "\n",
    "os.system('cd ~/aiffel/face_detector && mkdir widerface && cd widerface')\n",
    "\n",
    "for FILENAME, FILEID in datasets:\n",
    "    command = f\"wget --load-cookies /tmp/cookies.txt \\\"https://docs.google.com/uc?export=download&confirm=$(wget --quiet --save-cookies /tmp/cookies.txt --keep-session-cookies --no-check-certificate 'https://docs.google.com/uc?export=download&id={FILEID}' -O- | sed -rn 's/.*confirm=([0-9A-Za-z_]+).*/\\\\1\\\\n/p')&id={FILEID}\\\" -O widerface/{FILENAME} && rm -rf /tmp/cookies.txt\"\n",
    "    os.system(command)"
   ]
  },
  {
   "cell_type": "code",
   "execution_count": 1,
   "metadata": {},
   "outputs": [
    {
     "data": {
      "text/plain": [
       "256"
      ]
     },
     "execution_count": 1,
     "metadata": {},
     "output_type": "execute_result"
    }
   ],
   "source": [
    "import os\n",
    "os.system('wget http://mmlab.ie.cuhk.edu.hk/projects/WIDERFace/support/bbx_annotation/wider_face_split.zip -O widerface/wider_face_split.zip')"
   ]
  }
 ],
 "metadata": {
  "kernelspec": {
   "display_name": "aiffel",
   "language": "python",
   "name": "aiffel"
  },
  "language_info": {
   "codemirror_mode": {
    "name": "ipython",
    "version": 3
   },
   "file_extension": ".py",
   "mimetype": "text/x-python",
   "name": "python",
   "nbconvert_exporter": "python",
   "pygments_lexer": "ipython3",
   "version": "3.7.9"
  }
 },
 "nbformat": 4,
 "nbformat_minor": 4
}
